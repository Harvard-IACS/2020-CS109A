{
 "cells": [
  {
   "cell_type": "markdown",
   "metadata": {},
   "source": [
    "# Title\n",
    "\n",
    "**Exercise: A.1 - Linear and Polynomial Regression with Residual Analysis**\n",
    "\n",
    "# Description\n",
    "\n",
    "The goal of this exercise is to fit linear regression and polynomial regression to the given data. Plot the fit curves of both the models along with the data and observe what the residuals tell us about the two fits. "
   ]
  },
  {
   "cell_type": "markdown",
   "metadata": {},
   "source": [
    "<img src=\"../img/image.png\" style=\"width: 500px;\">"
   ]
  },
  {
   "cell_type": "markdown",
   "metadata": {},
   "source": [
    "# Instructions\n",
    "- Read the poly.csv file into a dataframe\n",
    "- Fit a linear regression model on the entire data, using LinearRegression() object from sklearn library\n",
    "- Guesstimate the degree of the polynomial which would best fit the data\n",
    "- Fit a polynomial regression model on the computed PolynomialFeatures using LinearRegression() object from sklearn library\n",
    "- Plot the linear and polynomial model predictions along with the data\n",
    "- Compute the polynomial and linear model residuals using the formula below $\\epsilon = y_i - \\hat{y}$\n",
    "- Plot the histogram of the residuals and comment on your choice of the polynomial degree. \n",
    "\n",
    "# Hints:\n",
    "\n",
    "<a href=\"https://pandas.pydata.org/pandas-docs/stable/reference/api/pandas.DataFrame.head.html\" target=\"_blank\">df.head()</a> : Returns a pandas dataframe containing the data and labels from the file data.\n",
    "\n",
    "\n",
    "<a href=\"https://matplotlib.org/3.2.1/api/_as_gen/matplotlib.pyplot.subplots.html\" target=\"_blank\">plt.subplots()</a> : Create a figure and a set of subplots.\n",
    "\n",
    "\n",
    "<a href=\"https://scikit-learn.org/stable/modules/generated/sklearn.preprocessing.PolynomialFeatures.html\" target=\"_blank\">sklearn.PolynomialFeatures()</a> : Generates a new feature matrix consisting of all polynomial combinations of the features with degree less than or equal to the specified degree.\n",
    "\n",
    "\n",
    "<a href=\"https://scikit-learn.org/stable/modules/generated/sklearn.preprocessing.StandardScaler.html\" target=\"_blank\">sklearn.fit_transform()</a> : Fits transformer to X and y with optional parameters fit_params and returns a transformed version of X.\n",
    "\n",
    "\n",
    "<a href=\"https://scikit-learn.org/stable/modules/generated/sklearn.linear_model.LinearRegression.html\" target=\"_blank\">sklearn.LinearRegression()</a> : LinearRegression fits a linear model.\n",
    "\n",
    "\n",
    "<a href=\"https://scikit-learn.org/stable/modules/generated/sklearn.linear_model.LinearRegression.html#sklearn.linear_model.LinearRegression.fit\" target=\"_blank\">sklearn.fit()</a> : Fits the linear model to the training data.\n",
    "\n",
    "\n",
    "<a href=\"https://scikit-learn.org/stable/modules/generated/sklearn.linear_model.LinearRegression.html#sklearn.linear_model.LinearRegression.predict\" target=\"_blank\">sklearn.predict()</a> : Predict using the linear model.\n",
    "\n",
    "\n",
    "<a href=\"https://matplotlib.org/3.2.2/api/_as_gen/matplotlib.pyplot.plot.html\" target=\"_blank\">plt.plot()</a> : Plots x versus y as lines and/or markers.\n",
    "\n",
    "\n",
    "<a href=\"https://matplotlib.org/api/_as_gen/matplotlib.pyplot.axvline.html\" target=\"_blank\">plt.axvline()</a> : Add a vertical line across the axes.\n",
    "\n",
    "\n",
    "<a href=\"https://matplotlib.org/api/_as_gen/matplotlib.axes.Axes.hist.html\" target=\"_blank\">ax.hist()</a> : Plots a histogram.\n",
    "\n",
    "**Note: This exercise is auto-graded and you can try multiple attempts.**"
   ]
  },
  {
   "cell_type": "code",
   "execution_count": 1,
   "metadata": {},
   "outputs": [],
   "source": [
    "#import the required libraries\n",
    "import numpy as np\n",
    "import pandas as pd\n",
    "import matplotlib.pyplot as plt\n",
    "from sklearn.linear_model import LinearRegression\n",
    "from sklearn.preprocessing import PolynomialFeatures\n",
    "%matplotlib inline"
   ]
  },
  {
   "cell_type": "code",
   "execution_count": 2,
   "metadata": {},
   "outputs": [
    {
     "ename": "AttributeError",
     "evalue": "'DataFrame' object has no attribute '___'",
     "output_type": "error",
     "traceback": [
      "\u001b[0;31m---------------------------------------------------------------------------\u001b[0m",
      "\u001b[0;31mAttributeError\u001b[0m                            Traceback (most recent call last)",
      "\u001b[0;32m<ipython-input-1-d947f44fceb0>\u001b[0m in \u001b[0;36m<module>\u001b[0;34m\u001b[0m\n\u001b[1;32m      2\u001b[0m \u001b[0mdf\u001b[0m \u001b[0;34m=\u001b[0m \u001b[0mpd\u001b[0m\u001b[0;34m.\u001b[0m\u001b[0mread_csv\u001b[0m\u001b[0;34m(\u001b[0m\u001b[0;34m'poly.csv'\u001b[0m\u001b[0;34m)\u001b[0m\u001b[0;34m\u001b[0m\u001b[0;34m\u001b[0m\u001b[0m\n\u001b[1;32m      3\u001b[0m \u001b[0;31m# Get the column values for x & y\u001b[0m\u001b[0;34m\u001b[0m\u001b[0;34m\u001b[0m\u001b[0;34m\u001b[0m\u001b[0m\n\u001b[0;32m----> 4\u001b[0;31m \u001b[0mx\u001b[0m \u001b[0;34m=\u001b[0m \u001b[0mdf\u001b[0m\u001b[0;34m[\u001b[0m\u001b[0;34m[\u001b[0m\u001b[0;34m'x'\u001b[0m\u001b[0;34m]\u001b[0m\u001b[0;34m]\u001b[0m\u001b[0;34m.\u001b[0m\u001b[0m___\u001b[0m\u001b[0;34m\u001b[0m\u001b[0;34m\u001b[0m\u001b[0m\n\u001b[0m\u001b[1;32m      5\u001b[0m \u001b[0my\u001b[0m \u001b[0;34m=\u001b[0m \u001b[0mdf\u001b[0m\u001b[0;34m[\u001b[0m\u001b[0;34m'y'\u001b[0m\u001b[0;34m]\u001b[0m\u001b[0;34m.\u001b[0m\u001b[0m___\u001b[0m\u001b[0;34m\u001b[0m\u001b[0;34m\u001b[0m\u001b[0m\n",
      "\u001b[0;32m/usr/lib/python3.8/site-packages/pandas/core/generic.py\u001b[0m in \u001b[0;36m__getattr__\u001b[0;34m(self, name)\u001b[0m\n\u001b[1;32m   5128\u001b[0m             \u001b[0;32mif\u001b[0m \u001b[0mself\u001b[0m\u001b[0;34m.\u001b[0m\u001b[0m_info_axis\u001b[0m\u001b[0;34m.\u001b[0m\u001b[0m_can_hold_identifiers_and_holds_name\u001b[0m\u001b[0;34m(\u001b[0m\u001b[0mname\u001b[0m\u001b[0;34m)\u001b[0m\u001b[0;34m:\u001b[0m\u001b[0;34m\u001b[0m\u001b[0;34m\u001b[0m\u001b[0m\n\u001b[1;32m   5129\u001b[0m                 \u001b[0;32mreturn\u001b[0m \u001b[0mself\u001b[0m\u001b[0;34m[\u001b[0m\u001b[0mname\u001b[0m\u001b[0;34m]\u001b[0m\u001b[0;34m\u001b[0m\u001b[0;34m\u001b[0m\u001b[0m\n\u001b[0;32m-> 5130\u001b[0;31m             \u001b[0;32mreturn\u001b[0m \u001b[0mobject\u001b[0m\u001b[0;34m.\u001b[0m\u001b[0m__getattribute__\u001b[0m\u001b[0;34m(\u001b[0m\u001b[0mself\u001b[0m\u001b[0;34m,\u001b[0m \u001b[0mname\u001b[0m\u001b[0;34m)\u001b[0m\u001b[0;34m\u001b[0m\u001b[0;34m\u001b[0m\u001b[0m\n\u001b[0m\u001b[1;32m   5131\u001b[0m \u001b[0;34m\u001b[0m\u001b[0m\n\u001b[1;32m   5132\u001b[0m     \u001b[0;32mdef\u001b[0m \u001b[0m__setattr__\u001b[0m\u001b[0;34m(\u001b[0m\u001b[0mself\u001b[0m\u001b[0;34m,\u001b[0m \u001b[0mname\u001b[0m\u001b[0;34m:\u001b[0m \u001b[0mstr\u001b[0m\u001b[0;34m,\u001b[0m \u001b[0mvalue\u001b[0m\u001b[0;34m)\u001b[0m \u001b[0;34m->\u001b[0m \u001b[0;32mNone\u001b[0m\u001b[0;34m:\u001b[0m\u001b[0;34m\u001b[0m\u001b[0;34m\u001b[0m\u001b[0m\n",
      "\u001b[0;31mAttributeError\u001b[0m: 'DataFrame' object has no attribute '___'"
     ]
    }
   ],
   "source": [
    "# Read the data from 'poly.csv' to a dataframe\n",
    "df = pd.read_csv('poly.csv')\n",
    "# Get the column values for x & y in numpy arrays\n",
    "x = df[['x']].___\n",
    "y = df['y'].___"
   ]
  },
  {
   "cell_type": "code",
   "execution_count": null,
   "metadata": {},
   "outputs": [],
   "source": [
    "# Take a quick look at the dataframe\n",
    "df.head()"
   ]
  },
  {
   "cell_type": "code",
   "execution_count": null,
   "metadata": {},
   "outputs": [],
   "source": [
    "# Plot x & y to visually inspect the data\n",
    "\n",
    "fig, ax = plt.subplots()\n",
    "ax.plot(x,y,'x')\n",
    "ax.set_xlabel('$x$ values')\n",
    "ax.set_ylabel('$y$ values')\n",
    "ax.set_title('$y$ vs $x$');"
   ]
  },
  {
   "cell_type": "code",
   "execution_count": 16,
   "metadata": {},
   "outputs": [],
   "source": [
    "# Fit a linear model on the data\n",
    "model = ____\n",
    "model.___(___)\n",
    "\n",
    "# Get the predictions on the entire data using the .predict() function\n",
    "y_lin_pred = model.predict(___)"
   ]
  },
  {
   "cell_type": "code",
   "execution_count": 18,
   "metadata": {},
   "outputs": [],
   "source": [
    "### edTest(test_deg) ###\n",
    "# Now, we try polynomial regression\n",
    "# GUESS the correct polynomial degree based on the above graph\n",
    "\n",
    "guess_degree = ___\n",
    "\n",
    "# Generate polynomial features on the entire data\n",
    "x_poly= PolynomialFeatures(degree=guess_degree).fit_transform(___)\n"
   ]
  },
  {
   "cell_type": "code",
   "execution_count": 19,
   "metadata": {},
   "outputs": [],
   "source": [
    "#Fit a polynomial model on the data, using x_poly as features\n",
    "polymodel = LinearRegression()\n",
    "polymodel.fit(_,_)\n",
    "\n",
    "y_poly_pred = polymodel.predict(___)"
   ]
  },
  {
   "cell_type": "code",
   "execution_count": 20,
   "metadata": {},
   "outputs": [],
   "source": [
    "# To visualise the results, sort the x values using the helper code below\n",
    "# Worth examining and understand the code \n",
    "\n",
    "idx = np.argsort(x[:,0])\n",
    "x = x[idx]\n",
    "\n",
    "# Use the above index to get the appropriate predicted values for y\n",
    "# y values corresponding to sorted x\n",
    "y = y[idx]\n",
    "\n",
    "#Linear predicted values  \n",
    "y_lin_pred = y_lin_pred[idx]\n",
    "\n",
    "#Non-linear predicted values\n",
    "y_poly_pred= y_poly_pred[idx]"
   ]
  },
  {
   "cell_type": "code",
   "execution_count": null,
   "metadata": {},
   "outputs": [],
   "source": [
    "# First plot x & y values using plt.scatter\n",
    "plt.scatter(_, _, s=10, label=\"Data\")\n",
    "\n",
    "# Now, plot the linear regression fit curve\n",
    "plt.plot(_,_,label=\"Linear fit\")\n",
    "\n",
    "# Also plot the polynomial regression fit curve\n",
    "plt.plot(_, _, label=\"Polynomial fit\")\n",
    "\n",
    "#Assigning labels to the axes\n",
    "plt.xlabel(\"x values\")\n",
    "plt.ylabel(\"y values\")\n",
    "plt.legend()\n",
    "plt.show()"
   ]
  },
  {
   "cell_type": "code",
   "execution_count": 10,
   "metadata": {},
   "outputs": [],
   "source": [
    "### edTest(test_poly_predictions) ###\n",
    "#Calculate the residual values for the polynomial model\n",
    "poly_residuals = ___\n"
   ]
  },
  {
   "cell_type": "code",
   "execution_count": null,
   "metadata": {},
   "outputs": [],
   "source": [
    "### edTest(test_linear_predictions) ###\n",
    "#Calculate the residual values for the linear model\n",
    "lin_residuals = ___"
   ]
  },
  {
   "cell_type": "code",
   "execution_count": null,
   "metadata": {},
   "outputs": [],
   "source": [
    "#Use the below helper code to plot residual values\n",
    "#Plot the histograms of the residuals for the two cases\n",
    "\n",
    "#Distribution of residuals\n",
    "fig, ax = plt.subplots(1,2, figsize = (10,4))\n",
    "bins = np.linspace(-20,20,20)\n",
    "ax[0].set_xlabel('Residuals')\n",
    "ax[0].set_ylabel('Frequency')\n",
    "\n",
    "#Plot the histograms for the polynomial regression\n",
    "ax[0].hist(___, bins,label = ___)\n",
    "\n",
    "#Plot the histograms for the linear regression\n",
    "ax[0].hist(___, bins, label = ___)\n",
    "\n",
    "ax[0].legend(loc = 'upper left')\n",
    "\n",
    "# Distribution of predicted values with the residuals\n",
    "ax[1].scatter(y_poly_pred, poly_residuals, s=10)\n",
    "ax[1].scatter(y_lin_pred, lin_residuals, s = 10 )\n",
    "ax[1].set_xlim(-75,75)\n",
    "ax[1].set_xlabel('Predicted values')\n",
    "ax[1].set_ylabel('Residuals')\n",
    "\n",
    "fig.suptitle('Residual Analysis (Linear vs Polynomial)');"
   ]
  },
  {
   "cell_type": "markdown",
   "metadata": {},
   "source": [
    "## Question: \n",
    "Do you think that polynomial degree is appropriate. Experiment with a degree of polynomial =2 and comment on what you observe for the residuals."
   ]
  }
 ],
 "metadata": {
  "kernelspec": {
   "display_name": "Python 3",
   "language": "python",
   "name": "python3"
  },
  "language_info": {
   "codemirror_mode": {
    "name": "ipython",
    "version": 3
   },
   "file_extension": ".py",
   "mimetype": "text/x-python",
   "name": "python",
   "nbconvert_exporter": "python",
   "pygments_lexer": "ipython3",
   "version": "3.8.5"
  }
 },
 "nbformat": 4,
 "nbformat_minor": 4
}
