{
    "metadata": {
        "kernelspec": {
            "name": "python3",
            "display_name": "Python 3",
            "language": "python"
        }
    },
    "nbformat": 4,
    "nbformat_minor": 4,
    "cells": [
        {
            "cell_type": "code",
            "execution_count": 0,
            "metadata": {},
            "outputs": [],
            "source": [
                "# import libraries\n",
                "import pandas as pd\n",
                "import numpy as np\n",
                "import matplotlib.pyplot as plt\n",
                "%matplotlib inline"
            ]
        },
        {
            "cell_type": "code",
            "execution_count": 0,
            "metadata": {},
            "outputs": [],
            "source": [
                "# Read the data from 'movies.csv' to a dataframe\n",
                "movies = pd.read_csv('movies.csv')"
            ]
        },
        {
            "cell_type": "code",
            "execution_count": 0,
            "metadata": {},
            "outputs": [],
            "source": [
                "#Take a peak at the dataset\n",
                "movies.head()"
            ]
        },
        {
            "attachments": {},
            "cell_type": "markdown",
            "metadata": {},
            "source": [
                "(a) Plot the scatterplot to predict 'domestic' revenue from the 'budget' cost of the movie."
            ]
        },
        {
            "cell_type": "code",
            "execution_count": 0,
            "metadata": {},
            "outputs": [],
            "source": [
                "# create the scatterplot to predict 'domestic'\n",
                "# from 'budget'\n",
                "plt.scatter(___,___,marker='.')\n",
                "plt.xlabel('Budget (millions $)')\n",
                "plt.ylabel('Domestic Gross (millions $)')\n",
                "plt.title('Revenue vs. Budget for Major Domestic Movies since 1980')\n",
                "plt.show()"
            ]
        },
        {
            "attachments": {},
            "cell_type": "markdown",
            "metadata": {},
            "source": [
                "**Question:** What stands out in the plots above?Does linear regression seems appropriate based on this scatterplot?  \n",
                "\n",
                "(b) Use sklearn to get linear regression estimates."
            ]
        },
        {
            "cell_type": "code",
            "execution_count": 0,
            "metadata": {},
            "outputs": [],
            "source": [
                "### edTest(test_sklearn_regress) ###\n",
                "\n",
                "from sklearn.linear_model import LinearRegression\n",
                "regress = LinearRegression().fit(\n",
                "    ___,___)\n",
                "print(regress.coef_,regress.intercept_)"
            ]
        },
        {
            "attachments": {},
            "cell_type": "markdown",
            "metadata": {},
            "source": [
                "(c) Fit a linear regression model using `OLS` from `statsmodels` instead, and compare."
            ]
        },
        {
            "cell_type": "code",
            "execution_count": 0,
            "metadata": {},
            "outputs": [],
            "source": [
                "import statsmodels.api as sm\n",
                "\n",
                "# you have to first create the X matrix with the \n",
                "# intercept included, then fit the model\n",
                "X = sm.add_constant(movies['budget'])\n",
                "ols1 = sm.OLS(movies['domestic'],X).fit()\n",
                "\n",
                "ols1.summary()"
            ]
        },
        {
            "attachments": {},
            "cell_type": "markdown",
            "metadata": {},
            "source": [
                "**Question:** When would it be prefered to fit a regression model without an intercept?\n",
                "\n",
                "(d) Fit a second OLS model (`OLS2`) with 'budget' and 'year' as predictors and compare to `OLS1`."
            ]
        },
        {
            "cell_type": "code",
            "execution_count": 0,
            "metadata": {},
            "outputs": [],
            "source": [
                "### edTest(test_ols2) ###\n",
                "\n",
                "\n",
                "X = sm.add_constant(___)\n",
                "ols2 = sm.OLS(movies['domestic'],X).fit()\n",
                "\n",
                "ols2.summary()"
            ]
        },
        {
            "attachments": {},
            "cell_type": "markdown",
            "metadata": {},
            "source": [
                "**Question:** How does the coefficient estimate for budget compare in this multiple regression to the corresponding estimate in the simple regression model?  Why is that the case? \n",
                "\n",
                "(e) Fit a model with the interaction term between budget and year (first need to define it) and the 'main effects' of the 2 predictors, and interpret the results."
            ]
        },
        {
            "cell_type": "code",
            "execution_count": 0,
            "metadata": {},
            "outputs": [],
            "source": [
                "### edTest(test_interaction) ###\n",
                "\n",
                "#create the interaction term\n",
                "interaction =___*___\n",
                "movies['interaction'] = interaction\n",
                "\n",
                "# define the X matrix\n",
                "X = ___\n",
                "\n",
                "#fit the model \n",
                "ols3 = sm.OLS(___,___).fit()\n",
                "\n",
                "ols3.summary()"
            ]
        },
        {
            "attachments": {},
            "cell_type": "markdown",
            "metadata": {},
            "source": [
                "**Question:** How have the estimates changed in this model compared to the earlier ones (especially for budget)?  Why is this the case?\n",
                "\n",
                "(e) Investigate the assumptions to this linear regression model (`OLS3`) using the plots below."
            ]
        },
        {
            "cell_type": "code",
            "execution_count": 0,
            "metadata": {},
            "outputs": [],
            "source": [
                "# define predicted values (yhat) and residuals\n",
                "yhat = ols3.predict()\n",
                "resid = ___ - ___\n",
                "\n",
                "#plot the histogram of the residuals\n",
                "plt.___(resid,bins=20)\n",
                "plt.show()"
            ]
        },
        {
            "cell_type": "code",
            "execution_count": 0,
            "metadata": {},
            "outputs": [],
            "source": [
                "# residual scatterplot \n",
                "plt.scatter(___,___,marker='.')\n",
                "plt.hlines(0,xmin=0,xmax=500,color='red')\n",
                "plt.show()"
            ]
        },
        {
            "attachments": {},
            "cell_type": "markdown",
            "metadata": {},
            "source": [
                "**Question:** What stands out in the plots above?"
            ]
        },
        {
            "attachments": {},
            "cell_type": "markdown",
            "metadata": {},
            "source": [
                "**Bonus Question:** Confirm the log-likelihood evaluation for `OLS1` (just plug in your estimates)."
            ]
        },
        {
            "cell_type": "code",
            "execution_count": 0,
            "metadata": {},
            "outputs": [],
            "source": [
                "### use ols1.params,ols1.mse_resid, and norm.logpdf as your basis\n",
                "from scipy.stats import norm"
            ]
        }
    ]
}
