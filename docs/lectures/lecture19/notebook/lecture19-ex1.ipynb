{
    "metadata": {
        "kernelspec": {
            "name": "python3",
            "display_name": "Python 3",
            "language": "python"
        }
    },
    "nbformat": 4,
    "nbformat_minor": 4,
    "cells": [
        {
            "cell_type": "code",
            "execution_count": 0,
            "metadata": {},
            "outputs": [],
            "source": [
                "%matplotlib inline\n",
                "from sklearn import datasets\n",
                "import matplotlib.pyplot as plt\n",
                "import seaborn as sns\n",
                "import pandas as pd\n",
                "import numpy as np\n",
                "import scipy "
            ]
        },
        {
            "cell_type": "code",
            "execution_count": 0,
            "metadata": {},
            "outputs": [],
            "source": [
                "from sklearn.linear_model import LinearRegression\n",
                "from sklearn.neighbors import KNeighborsClassifier \n",
                "\n",
                "from sklearn.experimental import enable_iterative_imputer\n",
                "from sklearn.impute import SimpleImputer, KNNImputer, IterativeImputer, MissingIndicator"
            ]
        },
        {
            "attachments": {},
            "cell_type": "markdown",
            "metadata": {},
            "source": [
                "# Dealing with Missingness"
            ]
        },
        {
            "attachments": {},
            "cell_type": "markdown",
            "metadata": {},
            "source": [
                "## Missing Data\n",
                "Create data in which the true theoretical regression line is:\n",
                "$$ Y = 3X_1 + 2X_2 + \\varepsilon,\\hspace{0.1in} \\varepsilon \\sim N(0,1)$$\n",
                "\n",
                "Note: $\\rho_{X1,X2} = 0.5$\n",
                "\n",
                "We will be inserting missingness into `x1` in various ways, and analyzing the results."
            ]
        },
        {
            "cell_type": "code",
            "execution_count": 0,
            "metadata": {},
            "outputs": [],
            "source": [
                "n = 500\n",
                "np.random.seed(109)\n",
                "\n",
                "x1 = np.random.normal(0,1,size=n)\n",
                "x2 = 0.5*x1+np.random.normal(0,np.sqrt(0.75),size=n)\n",
                "X = pd.DataFrame(data=np.transpose([x1,x2]),columns=[\"x1\",\"x2\"])\n",
                "\n",
                "y = 3*x1 - 2*x2 + np.random.normal(0,1,size=n)\n",
                "y = pd.Series(y)\n",
                "\n",
                "\n",
                "df = pd.DataFrame(data=np.transpose([x1,x2,y]),columns=[\"x1\",\"x2\",\"y\"])\n",
                "\n",
                "# Checking the correlation\n",
                "scipy.stats.pearsonr(x1,x2) "
            ]
        },
        {
            "cell_type": "code",
            "execution_count": 0,
            "metadata": {},
            "outputs": [],
            "source": [
                "fig,(ax1,ax2,ax3) =  plt.subplots(1, 3, figsize = (18,5))\n",
                "ax1.scatter(x1,y)\n",
                "ax2.scatter(x2,y)\n",
                "ax3.scatter(x2,x1,color=\"orange\")\n",
                "ax1.set_title(\"y vs. x1\")\n",
                "ax2.set_title(\"y vs. x2\")\n",
                "ax3.set_title(\"x1 vs. x2\")\n",
                "plt.show()"
            ]
        },
        {
            "attachments": {},
            "cell_type": "markdown",
            "metadata": {},
            "source": [
                "### Poke holes in $X_1$ in 3 different ways (all roughly 20% of data are removed): \n",
                "\n",
                "- MCAR: just take out a random sample of 20% of observations in $X_1$\n",
                "- MAR: missingness in  $X_1$ depends on $X_2$, and thus can be recovered in some way\n",
                "- MNAR: missingness in  $X_1$ depends on $X_1$, and thus can be recovered in some way\n",
                ""
            ]
        },
        {
            "cell_type": "code",
            "execution_count": 0,
            "metadata": {},
            "outputs": [],
            "source": [
                "x1_mcar = x1.copy()\n",
                "x1_mar = x1.copy()\n",
                "x1_mnar = x1.copy()\n",
                "\n",
                "#missing completely at random\n",
                "miss_mcar = np.random.choice(n,int(0.2*n),replace=False)\n",
                "x1_mcar[miss_mcar] = np.nan\n",
                "\n",
                "#missing at random: one way to do it\n",
                "miss_mar = np.random.binomial(1,0.05+0.85*(x2\u003e(x2.mean()+x2.std())),n)\n",
                "x1_mar[miss_mar==1] = np.nan\n",
                "\n",
                "#missing not at random: one way to do it\n",
                "miss_mnar = np.random.binomial(1,0.05+0.85*(y\u003e(y.mean()+y.std())),n)\n",
                "x1_mnar[miss_mnar==1] = np.nan"
            ]
        },
        {
            "cell_type": "code",
            "execution_count": 0,
            "metadata": {},
            "outputs": [],
            "source": [
                "# Create the 3 datasets with missingness\n",
                "df_mcar = df.copy()\n",
                "df_mar = df.copy()\n",
                "df_mnar = df.copy()\n",
                "\n",
                "# plug in the appropriate x1 with missingness\n",
                "df_mcar['x1'] = x1_mcar\n",
                "df_mar['x1'] = x1_mar\n",
                "df_mnar['x1'] = x1_mnar"
            ]
        },
        {
            "cell_type": "code",
            "execution_count": 0,
            "metadata": {},
            "outputs": [],
            "source": [
                "# no missingness: on the full dataset\n",
                "ols = LinearRegression().fit(df[['x1','x2']],df['y'])\n",
                "print(ols.intercept_,ols.coef_)"
            ]
        },
        {
            "cell_type": "code",
            "execution_count": 0,
            "metadata": {},
            "outputs": [],
            "source": [
                "# Fit the linear regression blindly on the dataset with MCAR missingness, see what happens\n",
                "LinearRegression().fit(df_mcar[['x1','x2']],df_mcar['y'])"
            ]
        },
        {
            "attachments": {},
            "cell_type": "markdown",
            "metadata": {},
            "source": [
                "**Q1** Why aren't the estimates exactly $\\hat{\\beta}_1 = 3$ and $\\hat{\\beta}_2 = -2$ ?  How does sklearn handle missingness?  What would be a first naive approach to handling missingness?"
            ]
        },
        {
            "attachments": {},
            "cell_type": "markdown",
            "metadata": {},
            "source": [
                "*your answer here*"
            ]
        },
        {
            "attachments": {},
            "cell_type": "markdown",
            "metadata": {},
            "source": [
                "### What happens when you just drop rows?"
            ]
        },
        {
            "cell_type": "code",
            "execution_count": 0,
            "metadata": {},
            "outputs": [],
            "source": [
                "# no missingness for comparison sake\n",
                "ols = LinearRegression().fit(df[['x1','x2']],df['y'])\n",
                "print(ols.intercept_,ols.coef_)"
            ]
        },
        {
            "cell_type": "code",
            "execution_count": 0,
            "metadata": {
                "scrolled": true
            },
            "outputs": [],
            "source": [
                "# MCAR: drop the rows that have any missingness\n",
                "ols_mcar = LinearRegression().fit(df_mcar.dropna()[['x1','x2']],df_mcar.dropna()['y'])\n",
                "print(ols_mcar.intercept_,ols_mcar.coef_)"
            ]
        },
        {
            "cell_type": "code",
            "execution_count": 0,
            "metadata": {},
            "outputs": [],
            "source": [
                "### edTest(test_mar) ###\n",
                "\n",
                "# MAR: drop the rows that have any missingness\n",
                "ols_mar = LinearRegression().fit(___,___)\n",
                "print(ols_mar.intercept_,ols_mar.coef_)"
            ]
        },
        {
            "cell_type": "code",
            "execution_count": 0,
            "metadata": {},
            "outputs": [],
            "source": [
                "# MNAR: drop the rows that have any missingness\n",
                "\n",
                "ols_mnar = ___\n",
                "print(___,___)"
            ]
        },
        {
            "attachments": {},
            "cell_type": "markdown",
            "metadata": {},
            "source": [
                "**Q2** How do the estimates compare when just dropping rows?  Are they able to recover the values of $\\beta_1$ that they should?  In which form of missingness is the result the worst?"
            ]
        },
        {
            "attachments": {},
            "cell_type": "markdown",
            "metadata": {},
            "source": [
                "*your answer here*"
            ]
        },
        {
            "attachments": {},
            "cell_type": "markdown",
            "metadata": {},
            "source": [
                "## Let's Start Imputing"
            ]
        },
        {
            "cell_type": "code",
            "execution_count": 0,
            "metadata": {},
            "outputs": [],
            "source": [
                "#Make back-=up copies for later since we'll have lots of imputation approaches.\n",
                "df_mcar_raw = df_mcar.copy()\n",
                "df_mar_raw = df_mar.copy()\n",
                "df_mnar_raw = df_mnar.copy()"
            ]
        },
        {
            "attachments": {},
            "cell_type": "markdown",
            "metadata": {},
            "source": [
                "### Mean Imputation:\n",
                "\n",
                "Perform mean imputation using the `fillna`, `dropna`, and `mean` functions."
            ]
        },
        {
            "cell_type": "code",
            "execution_count": 0,
            "metadata": {},
            "outputs": [],
            "source": [
                "df_mcar = df_mcar_raw.copy()\n",
                "df_mcar['x1'] = df_mcar['x1'].fillna(df_mcar['x1'].dropna().mean())\n",
                "\n",
                "ols_mcar_mean = LinearRegression().fit(df_mcar[['x1','x2']],df_mcar['y'])\n",
                "print(ols_mcar_mean.intercept_,ols_mcar_mean.coef_)"
            ]
        },
        {
            "cell_type": "code",
            "execution_count": 0,
            "metadata": {},
            "outputs": [],
            "source": [
                "### edTest(test_mar_mean) ###\n",
                "\n",
                "df_mar = df_mar_raw.copy()\n",
                "\n",
                "df_mar['x1'] = df_mar['x1'].fillna(___)\n",
                "\n",
                "ols_mar_mean = LinearRegression().fit(___,___)\n",
                "print(ols_mar_mean.intercept_,ols_mar_mean.coef_)"
            ]
        },
        {
            "cell_type": "code",
            "execution_count": 0,
            "metadata": {},
            "outputs": [],
            "source": [
                "df_mnar = df_mnar_raw.copy()\n",
                "\n",
                "df_mnar['x1'] = ___\n",
                "\n",
                "ols_mnar_mean = ___\n",
                "print(___,___)"
            ]
        },
        {
            "attachments": {},
            "cell_type": "markdown",
            "metadata": {},
            "source": [
                "**Q3** How do the estimates compare when performing mean imputation vs. just dropping rows?  Have things gotten better or worse (for what types of missingness)?"
            ]
        },
        {
            "attachments": {},
            "cell_type": "markdown",
            "metadata": {},
            "source": [
                "*your answer here*"
            ]
        },
        {
            "attachments": {},
            "cell_type": "markdown",
            "metadata": {},
            "source": [
                "### Linear Regression Imputation \n",
                "\n",
                "This is difficult to keep straight.  There are two models here: \n",
                "\n",
                "1. an imputation model based on OLS concerning just the predictors (to predict $X_1$ from $X_2$) and \n",
                "2. the model we really care about to predict $Y$ from the 'improved' $X_1$ (now with imputed values) and $X_2$."
            ]
        },
        {
            "cell_type": "code",
            "execution_count": 0,
            "metadata": {},
            "outputs": [],
            "source": [
                "df_mcar = df_mcar_raw.copy()\n",
                "\n",
                "# fit the imputation model\n",
                "ols_imputer_mcar = LinearRegression().fit(df_mcar.dropna()[['x2']],df_mcar.dropna()['x1'])\n",
                "\n",
                "# perform some imputations\n",
                "x1hat_impute = pd.Series(ols_imputer_mcar.predict(df_mcar[['x2']]))\n",
                "df_mcar['x1'] = df_mcar['x1'].fillna(x1hat_impute)\n",
                "\n",
                "# fit the model we care about\n",
                "ols_mcar_ols = LinearRegression().fit(df_mcar[['x1','x2']],df_mcar['y'])\n",
                "print(ols_mcar_ols.intercept_,ols_mcar_ols.coef_)"
            ]
        },
        {
            "cell_type": "code",
            "execution_count": 0,
            "metadata": {},
            "outputs": [],
            "source": [
                "df_mar = df_mar_raw.copy()\n",
                "ols_imputer_mar = LinearRegression().fit(__,__)\n",
                "\n",
                "x1hat_impute = pd.Series(ols_imputer_mar.predict(___))\n",
                "df_mar['x1'] = df_mar['x1'].fillna(___)\n",
                "\n",
                "ols_mar_ols = LinearRegression().fit(___,___)\n",
                "print(ols_mar_ols.intercept_,ols_mar_ols.coef_)"
            ]
        },
        {
            "cell_type": "code",
            "execution_count": 0,
            "metadata": {},
            "outputs": [],
            "source": [
                "### edTest(test_mnar_ols) ###\n",
                "\n",
                "df_mnar = df_mnar_raw.copy()\n",
                "\n",
                "ols_imputer_mnar = ___\n",
                "\n",
                "x1hat_impute = ___\n",
                "df_mnar['x1'] = ___\n",
                "\n",
                "ols_mnar_ols = ___\n",
                "print(___,___)"
            ]
        },
        {
            "attachments": {},
            "cell_type": "markdown",
            "metadata": {},
            "source": [
                "**Q4**: How do the estimates compare when performing model-based imputation vs. mean imputation?  Have things gotten better or worse (for what types of missingness)?"
            ]
        },
        {
            "attachments": {},
            "cell_type": "markdown",
            "metadata": {},
            "source": [
                "*your answer here*"
            ]
        },
        {
            "attachments": {},
            "cell_type": "markdown",
            "metadata": {},
            "source": [
                "### $k$-NN Imputation ($k$=3)"
            ]
        },
        {
            "cell_type": "code",
            "execution_count": 0,
            "metadata": {},
            "outputs": [],
            "source": [
                "df_mcar = df_mcar_raw.copy()\n",
                "X_mcar = KNNImputer(n_neighbors=3).fit_transform(df_mcar[['x1','x2']])\n",
                "\n",
                "ols_mcar_knn = LinearRegression().fit(X_mcar,df_mcar['y'])\n",
                "print(ols_mcar_knn.intercept_,ols_mcar_knn.coef_)"
            ]
        },
        {
            "cell_type": "code",
            "execution_count": 0,
            "metadata": {},
            "outputs": [],
            "source": [
                "df_mar = df_mar_raw.copy()\n",
                "X_mar = KNNImputer(n_neighbors=3).fit_transform(___)\n",
                "\n",
                "ols_mar_knn = LinearRegression().fit(___,___)\n",
                "print(ols_mar_knn.intercept_,ols_mar_knn.coef_)"
            ]
        },
        {
            "cell_type": "code",
            "execution_count": 0,
            "metadata": {},
            "outputs": [],
            "source": [
                "df_mnar = df_mnar_raw.copy()\n",
                "X_mnar = ___\n",
                "\n",
                "ols_mnar_knn = ___\n",
                "print(ols_mnar_knn.intercept_,ols_mnar_knn.coef_)"
            ]
        },
        {
            "attachments": {},
            "cell_type": "markdown",
            "metadata": {},
            "source": [
                "**Q5**: Which of the 4 methods for handling missingness worked best?  Which worked the worst?  Were the estimates improved or worsened in each of the 3 types of missingness?"
            ]
        },
        {
            "attachments": {},
            "cell_type": "markdown",
            "metadata": {},
            "source": [
                "*your answer here*"
            ]
        },
        {
            "attachments": {},
            "cell_type": "markdown",
            "metadata": {},
            "source": [
                "**Q6**: This exercise focused on 'inference' (considering just the estimates of coefficients, not the uncertainty of these estimates, which would be even worse).  What are the ramifications on prediction?  Is the situation more or less concerning?  "
            ]
        },
        {
            "attachments": {},
            "cell_type": "markdown",
            "metadata": {},
            "source": [
                "*your answer here*"
            ]
        },
        {
            "cell_type": "code",
            "execution_count": 0,
            "metadata": {},
            "outputs": [],
            "source": [
                ""
            ]
        }
    ]
}
