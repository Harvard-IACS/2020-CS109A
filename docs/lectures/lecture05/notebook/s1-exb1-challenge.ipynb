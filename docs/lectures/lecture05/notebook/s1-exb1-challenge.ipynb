{
    "metadata": {
        "kernelspec": {
            "name": "python3",
            "display_name": "Python 3",
            "language": "python"
        }
    },
    "nbformat": 4,
    "nbformat_minor": 4,
    "cells": [
        {
            "cell_type": "code",
            "execution_count": 1,
            "metadata": {},
            "outputs": [],
            "source": [
                "import pandas as pd \n",
                "import numpy as np\n",
                "from sklearn.model_selection import train_test_split\n",
                "from sklearn.utils import shuffle\n",
                "from sklearn.neighbors import KNeighborsRegressor\n",
                "from sklearn.metrics import mean_squared_error\n",
                "import matplotlib.pyplot as plt\n",
                "from sklearn.metrics import r2_score\n",
                "\n",
                "%matplotlib inline"
            ]
        },
        {
            "attachments": {},
            "cell_type": "markdown",
            "metadata": {},
            "source": [
                "### Reading the standard Advertising dataset"
            ]
        },
        {
            "cell_type": "code",
            "execution_count": 0,
            "metadata": {},
            "outputs": [],
            "source": [
                "# Data set used in this exercise\n",
                "\n",
                "data_filename = 'Advertising.csv'\n",
                "\n",
                "# Read advertising.csv file using the pandas library (using pandas.read_csv)\n",
                "df = pd.read_csv(data_filename)"
            ]
        },
        {
            "cell_type": "code",
            "execution_count": 0,
            "metadata": {},
            "outputs": [],
            "source": [
                "# again, take a quick look at the data\n",
                "\n",
                "df.head()"
            ]
        },
        {
            "cell_type": "code",
            "execution_count": 3,
            "metadata": {},
            "outputs": [],
            "source": [
                "# Select the 'TV' column as predictor variable and 'Sales' column as response variable \n",
                "\n",
                "x = df[[___]]\n",
                "y = df[___]"
            ]
        },
        {
            "attachments": {},
            "cell_type": "markdown",
            "metadata": {},
            "source": [
                "### Train-Test split"
            ]
        },
        {
            "cell_type": "code",
            "execution_count": 21,
            "metadata": {},
            "outputs": [],
            "source": [
                "### edTest(test_shape) ###\n",
                "# Split the dataset in training and testing with 60% training set and 40% testing set \n",
                "\n",
                "x_train, x_test, y_train, y_test = train_test_split(___,___,train_size=___,random_state=66)"
            ]
        },
        {
            "cell_type": "code",
            "execution_count": 28,
            "metadata": {},
            "outputs": [],
            "source": [
                "### edTest(test_nums) ###\n",
                "# Choosing k range from 1 to 70\n",
                "k_value_min = 1\n",
                "k_value_max = 70\n",
                "\n",
                "# creating list of integer k values betwwen k_value_min and k_value_max using linspace\n",
                "k_list = np.linspace(k_value_min,k_value_max,num=70,dtype=int)"
            ]
        },
        {
            "attachments": {},
            "cell_type": "markdown",
            "metadata": {},
            "source": [
                "### Model fit"
            ]
        },
        {
            "cell_type": "code",
            "execution_count": 29,
            "metadata": {},
            "outputs": [],
            "source": [
                "# hint mean_squared_error"
            ]
        },
        {
            "cell_type": "code",
            "execution_count": 0,
            "metadata": {},
            "outputs": [],
            "source": [
                "fig, ax = plt.subplots(figsize=(10,6))\n",
                "\n",
                "# creating a dictionary for storing k value against MSE fit {k: MSE@k} \n",
                "\n",
                "knn_dict = {}\n",
                "j=0\n",
                "# Looping over k values\n",
                "for k_value in k_list:   \n",
                "    \n",
                "    # creating KNN Regression model \n",
                "    model = KNeighborsRegressor(n_neighbors=int(___))\n",
                "    \n",
                "    # fitting model \n",
                "    model.fit(x_train,y_train)\n",
                "    \n",
                "    # predictions\n",
                "    y_pred = model.predict(___)\n",
                "    \n",
                "    # Calculating MSE \n",
                "    MSE = ____\n",
                "\n",
                "    \n",
                "    #Storing the MSE values of each k value in a dictionary\n",
                "    knn_dict[k_value] = ___\n",
                "    \n",
                "    \n",
                "    ## Plotting\n",
                "    colors = ['grey','r','b']\n",
                "    if k_value in [1,10,70]:\n",
                "        xvals = np.linspace(x.min(),x.max(),100)\n",
                "        ypreds = model.predict(xvals)\n",
                "        ax.plot(xvals, ypreds,'-',label = f'k = {int(k_value)}',linewidth=j+2,color = colors[j])\n",
                "        j+=1\n",
                "        \n",
                "ax.legend(loc='lower right',fontsize=20)\n",
                "ax.plot(x_train, y_train,'x',label='test',color='k')\n",
                "ax.set_xlabel('TV budget in $1000',fontsize=20)\n",
                "ax.set_ylabel('Sales in $1000',fontsize=20)\n",
                "plt.tight_layout()"
            ]
        },
        {
            "attachments": {},
            "cell_type": "markdown",
            "metadata": {},
            "source": [
                "### Graph plot"
            ]
        },
        {
            "cell_type": "code",
            "execution_count": 0,
            "metadata": {},
            "outputs": [],
            "source": [
                "# Plot k against MSE\n",
                "\n",
                "plt.figure(figsize=(8,6))\n",
                "plt.plot(___, ___,'k.-',alpha=0.5,linewidth=2)\n",
                "\n",
                "plt.xlabel('k',fontsize=20)\n",
                "plt.ylabel('MSE',fontsize = 20)\n",
                "plt.title('Test $MSE$ values for different k values - KNN regression',fontsize=20)\n",
                "plt.tight_layout()"
            ]
        },
        {
            "attachments": {},
            "cell_type": "markdown",
            "metadata": {},
            "source": [
                "### Find the best knn model"
            ]
        },
        {
            "cell_type": "code",
            "execution_count": 0,
            "metadata": {},
            "outputs": [],
            "source": [
                "### edTest(test_mse) ###\n",
                "\n",
                "# Looking for k with minimum MSE\n",
                "\n",
                "min_mse = min(___)\n",
                "best_model = ___       # HINT YOU MAY USE LIST COMPREHENSION \n",
                "print (\"The best k value is \",best_model,\"with a MSE of \", min_mse)"
            ]
        },
        {
            "attachments": {},
            "cell_type": "markdown",
            "metadata": {},
            "source": [
                "## How good is your model?\n",
                "\n",
                "### From the options below, how would you classify your model?\n",
                "\n",
                "1. Good\n",
                "2. Satisfactory\n",
                "3. Bad"
            ]
        },
        {
            "cell_type": "code",
            "execution_count": 0,
            "metadata": {},
            "outputs": [],
            "source": [
                "# Your answer here "
            ]
        },
        {
            "cell_type": "code",
            "execution_count": 0,
            "metadata": {},
            "outputs": [],
            "source": [
                "# Run this cell to calculate the R2_score of your best model\n",
                "model = KNeighborsRegressor(n_neighbors=best_model[0])\n",
                "model.fit(x_train,y_train)\n",
                "y_pred_test = model.predict(x_test)\n",
                "\n",
                "print(f\"The R2 score for your model is {r2_score(y_test, y_pred_test)}\")"
            ]
        },
        {
            "attachments": {},
            "cell_type": "markdown",
            "metadata": {},
            "source": [
                "### After observing the $R^2$ value, how would you now classify your model?\n",
                "\n",
                "1. Good\n",
                "2. Satisfactory\n",
                "3. Bad"
            ]
        },
        {
            "cell_type": "code",
            "execution_count": 1,
            "metadata": {},
            "outputs": [],
            "source": [
                "# your answer here"
            ]
        }
    ]
}
