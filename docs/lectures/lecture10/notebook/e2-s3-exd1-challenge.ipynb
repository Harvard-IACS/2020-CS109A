{
 "cells": [
  {
   "cell_type": "markdown",
   "metadata": {},
   "source": [
    "# Title\n",
    "\n",
    "**Exercise: 2 - Prediction CI**\n",
    "\n",
    "# Description\n",
    "\n",
    "You are the manager of the Advertising division of your company, and your boss asks you the question, **\"How much more sales will we have if we invest $1000 dollars in TV advertising?\"**"
   ]
  },
  {
   "cell_type": "markdown",
   "metadata": {},
   "source": [
    "<img src=\"../img/image2.jpeg\" style=\"width: 500px;\">"
   ]
  },
  {
   "cell_type": "markdown",
   "metadata": {},
   "source": [
    "The goal of this exercise is to estimate the **Sales** with a 95% confidence interval using the Advertising.csv dataset.\n",
    "\n",
    "# Instructions:\n",
    "- Read the file Advertising.csv as a dataframe.\n",
    "- Fix a budget amount of 1000 dollars for TV advertising as variable called Budget\n",
    "- Select the number of bootstraps.\n",
    "- For each bootstrap:\n",
    "    - Select a new dataframe with the predictor as TV and the response as Sales.\n",
    "    - Fit a simple linear regression on the data.\n",
    "    - Predict on the budget and compute the error estimate using the helper function `error_func()`\n",
    "    - Store the `sales` as a sum of the prediction and the error estimate and append to `sales_dist`\n",
    "- Sort the `sales_dist which is a distribution of predicted sales over `numboot` bootstraps.\n",
    "- Compute the 95% confidence interval of sales_dist\n",
    "- Use the helper function `plot_simulation` to visualize the distribution and print the estimated sales.\n",
    "\n",
    "# Hints\n",
    "\n",
    "<a href=\"https://docs.scipy.org/doc/numpy-1.15.0/reference/generated/numpy.random.randint.html\" target=\"_blank\">np.random.randint()</a> : Returns list of integers as per mentioned size \n",
    "\n",
    "<a href=\"https://pandas.pydata.org/pandas-docs/stable/reference/api/pandas.DataFrame.sample.html\" target=\"_blank\">df.sample()</a> : Get a new sample from a dataframe\n",
    "\n",
    "<a href=\"https://matplotlib.org/3.2.2/api/_as_gen/matplotlib.pyplot.hist.html\" target=\"_blank\">plt.hist()</a> : Plots a histogram\n",
    "\n",
    "<a href=\"https://matplotlib.org/api/_as_gen/matplotlib.pyplot.axvline.html\" target=\"_blank\">plt.axvline()</a> : Adds a vertical line across the axes\n",
    "\n",
    "<a href=\"https://matplotlib.org/api/_as_gen/matplotlib.pyplot.axhline.html\" target=\"_blank\">plt.axhline()</a> : Add a horizontal line across the axes\n",
    "\n",
    "<a href=\"https://matplotlib.org/api/_as_gen/matplotlib.pyplot.legend.html\" target=\"_blank\">plt.legend()</a> : Place a legend on the axes\n",
    "\n",
    "<a href=\"https://numpy.org/doc/stable/reference/generated/numpy.ndarray.sort.html#numpy.ndarray.sort\" target=\"_blank\">ndarray.sort()</a> : Returns the sorted ndarray.\n",
    "\n",
    "<a href=\"https://numpy.org/doc/stable/reference/generated/numpy.percentile.html\" target=\"_blank\">np.percentile(list, q)</a> : Returns the q-th percentile value based on the provided ascending list of values.\n",
    "\n",
    "Note: This exercise is **auto-graded and you can try multiple attempts.**"
   ]
  },
  {
   "cell_type": "code",
   "execution_count": 1,
   "metadata": {},
   "outputs": [],
   "source": [
    "# Import libraries\n",
    "%matplotlib inline\n",
    "import pandas as pd\n",
    "import numpy as np\n",
    "import matplotlib.pyplot as plt\n",
    "from sklearn import preprocessing\n",
    "from sklearn.metrics import mean_squared_error\n",
    "from sklearn.linear_model import LinearRegression\n",
    "from sklearn.model_selection import train_test_split\n",
    "from sklearn.preprocessing import PolynomialFeatures\n",
    "from scipy import stats"
   ]
  },
  {
   "cell_type": "code",
   "execution_count": 2,
   "metadata": {},
   "outputs": [],
   "source": [
    "# Read the `Advertising.csv` dataframe\n",
    "\n",
    "df = pd.read_csv('Advertising.csv')"
   ]
  },
  {
   "cell_type": "code",
   "execution_count": 3,
   "metadata": {},
   "outputs": [
    {
     "data": {
      "text/html": [
       "<div>\n",
       "<style scoped>\n",
       "    .dataframe tbody tr th:only-of-type {\n",
       "        vertical-align: middle;\n",
       "    }\n",
       "\n",
       "    .dataframe tbody tr th {\n",
       "        vertical-align: top;\n",
       "    }\n",
       "\n",
       "    .dataframe thead th {\n",
       "        text-align: right;\n",
       "    }\n",
       "</style>\n",
       "<table border=\"1\" class=\"dataframe\">\n",
       "  <thead>\n",
       "    <tr style=\"text-align: right;\">\n",
       "      <th></th>\n",
       "      <th>TV</th>\n",
       "      <th>Radio</th>\n",
       "      <th>Newspaper</th>\n",
       "      <th>Sales</th>\n",
       "    </tr>\n",
       "  </thead>\n",
       "  <tbody>\n",
       "    <tr>\n",
       "      <th>0</th>\n",
       "      <td>230.1</td>\n",
       "      <td>37.8</td>\n",
       "      <td>69.2</td>\n",
       "      <td>22.1</td>\n",
       "    </tr>\n",
       "    <tr>\n",
       "      <th>1</th>\n",
       "      <td>44.5</td>\n",
       "      <td>39.3</td>\n",
       "      <td>45.1</td>\n",
       "      <td>10.4</td>\n",
       "    </tr>\n",
       "    <tr>\n",
       "      <th>2</th>\n",
       "      <td>17.2</td>\n",
       "      <td>45.9</td>\n",
       "      <td>69.3</td>\n",
       "      <td>9.3</td>\n",
       "    </tr>\n",
       "    <tr>\n",
       "      <th>3</th>\n",
       "      <td>151.5</td>\n",
       "      <td>41.3</td>\n",
       "      <td>58.5</td>\n",
       "      <td>18.5</td>\n",
       "    </tr>\n",
       "    <tr>\n",
       "      <th>4</th>\n",
       "      <td>180.8</td>\n",
       "      <td>10.8</td>\n",
       "      <td>58.4</td>\n",
       "      <td>12.9</td>\n",
       "    </tr>\n",
       "  </tbody>\n",
       "</table>\n",
       "</div>"
      ],
      "text/plain": [
       "      TV  Radio  Newspaper  Sales\n",
       "0  230.1   37.8       69.2   22.1\n",
       "1   44.5   39.3       45.1   10.4\n",
       "2   17.2   45.9       69.3    9.3\n",
       "3  151.5   41.3       58.5   18.5\n",
       "4  180.8   10.8       58.4   12.9"
      ]
     },
     "execution_count": 3,
     "metadata": {},
     "output_type": "execute_result"
    }
   ],
   "source": [
    "# Take a quick look at the data\n",
    "\n",
    "df.head()"
   ]
  },
  {
   "cell_type": "code",
   "execution_count": 134,
   "metadata": {},
   "outputs": [],
   "source": [
    "# This helper function computes the variance of the error term \n",
    "\n",
    "def error_func(y,y_p):\n",
    "    n = len(y)\n",
    "    return np.sqrt(np.sum((y-y_p)**2/(n-2)))"
   ]
  },
  {
   "cell_type": "code",
   "execution_count": 147,
   "metadata": {},
   "outputs": [],
   "source": [
    "# select the number of bootstraps \n",
    "\n",
    "numboot = 1000\n",
    "\n",
    "# Select the budget. We have used a 2d list to facilitate model prediction (sklearn.LinearRegression requires input as a 2d array)\n",
    "budget = [[___]]\n",
    "\n",
    "# Define an empty list that will store sales predictions for each bootstrap\n",
    "sales_dist = []"
   ]
  },
  {
   "cell_type": "code",
   "execution_count": 148,
   "metadata": {},
   "outputs": [],
   "source": [
    "# Running through each bootstrap, we fit a model, make predictions and compute sales which is appended to the list defined above\n",
    "\n",
    "for i in range(___):\n",
    "    # Bootstrap using df.sample method.\n",
    "    df_new = df.sample(frac=___, replace=___)\n",
    "    x = df_new[[___]]\n",
    "    y = df_new[___]\n",
    "    linreg = LinearRegression()\n",
    "    linreg.fit(_,_)\n",
    "    prediction = linreg.predict(budget)\n",
    "    y_pred = linreg.predict(x) \n",
    "    error = np.random.normal(0,error_func(y,y_pred))\n",
    "    # The final sales prediction is the sum of the model prediction and the error term\n",
    "    sales = ___\n",
    "    sales_dist.append(np.float(___))"
   ]
  },
  {
   "cell_type": "code",
   "execution_count": 137,
   "metadata": {},
   "outputs": [],
   "source": [
    "### edTest(test_sales) ###\n",
    "# We sort the list containing sales predictions in ascending values \n",
    "\n",
    "sales_dist.sort()\n",
    "\n",
    "# find the 95% confidence interval using np.percentile function at 2.5% and 97.5%\n",
    "\n",
    "sales_CI = (np.percentile(___,___),np.percentile(___, ___))"
   ]
  },
  {
   "cell_type": "code",
   "execution_count": 138,
   "metadata": {},
   "outputs": [],
   "source": [
    "# Use this helper function to plot the histogram of beta values along with the 95% confidence interval\n",
    "\n",
    "def plot_simulation(simulation,confidence):\n",
    "    plt.hist(simulation, bins = 30, label = 'beta distribution', align = 'left', density = True,edgecolor='k')\n",
    "    plt.axvline(confidence[1], 0, 1, color = 'r', label = 'Right Interval')\n",
    "    plt.axvline(confidence[0], 0, 1, color = 'red', label = 'Left Interval')\n",
    "    plt.xlabel('Beta value')\n",
    "    plt.ylabel('Frequency')\n",
    "    plt.legend(frameon = False, loc = 'upper right')"
   ]
  },
  {
   "cell_type": "code",
   "execution_count": 2,
   "metadata": {},
   "outputs": [],
   "source": [
    "# call the function above with the computed sales distribution and the confidence intervals from earlier\n",
    "\n",
    "plot_simulation(sales_dist,sales_CI)"
   ]
  },
  {
   "cell_type": "code",
   "execution_count": 3,
   "metadata": {},
   "outputs": [],
   "source": [
    "# Print the computed values\n",
    "\n",
    "print(f\"With a TV advertising budget of ${budget[0][0]},\")\n",
    "print(f\"we can expect an increase of sales anywhere between {sales_CI[0]:0.2f} to {sales_CI[1]:.2f}\\\n",
    " with a 95% confidence interval\")"
   ]
  },
  {
   "cell_type": "markdown",
   "metadata": {},
   "source": [
    "## Post-exercise question\n",
    "\n",
    "Your sales prediction is based on the Simple-Linear regression model between `TV` and `Sales`.\n",
    "Now, re-run the above exercise but this time fit the model considering all variables in `Advertising.csv`.\n",
    "\n",
    "Keep the budget the same, i.e $1000 for 'TV' advertising. \n",
    "You may have to change the `budget` variable to something like `[[1000,0,0]]` for proper computation.\n",
    "\n",
    "Does your predicted sales interval change?\n",
    "Why, or why not?"
   ]
  },
  {
   "cell_type": "code",
   "execution_count": 149,
   "metadata": {},
   "outputs": [],
   "source": [
    "# Your answer here"
   ]
  }
 ],
 "metadata": {
  "kernelspec": {
   "display_name": "Python 3",
   "language": "python",
   "name": "python3"
  },
  "language_info": {
   "codemirror_mode": {
    "name": "ipython",
    "version": 3
   },
   "file_extension": ".py",
   "mimetype": "text/x-python",
   "name": "python",
   "nbconvert_exporter": "python",
   "pygments_lexer": "ipython3",
   "version": "3.8.5"
  }
 },
 "nbformat": 4,
 "nbformat_minor": 4
}
