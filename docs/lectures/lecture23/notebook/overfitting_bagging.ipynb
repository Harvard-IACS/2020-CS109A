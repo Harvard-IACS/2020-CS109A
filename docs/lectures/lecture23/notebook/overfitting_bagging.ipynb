{
    "metadata": {
        "kernelspec": {
            "name": "python3",
            "display_name": "Python 3",
            "language": "python"
        }
    },
    "nbformat": 4,
    "nbformat_minor": 4,
    "cells": [
        {
            "cell_type": "code",
            "execution_count": 2,
            "metadata": {},
            "outputs": [],
            "source": [
                "# Import necessary libraries\n",
                "\n",
                "import numpy as np\n",
                "from numpy import mean\n",
                "from numpy import std\n",
                "from sklearn.datasets import make_regression\n",
                "from sklearn.ensemble import BaggingRegressor\n",
                "import matplotlib.pyplot as plt\n",
                "import pandas as pd \n",
                "import itertools\n",
                "from sklearn.tree import DecisionTreeRegressor\n",
                "from sklearn.metrics import mean_squared_error\n",
                "from sklearn.model_selection import train_test_split\n",
                "%matplotlib inline"
            ]
        },
        {
            "cell_type": "code",
            "execution_count": 3,
            "metadata": {},
            "outputs": [],
            "source": [
                "# Read the dataset\n",
                "df = pd.read_csv(\"airquality.csv\",index_col=0)"
            ]
        },
        {
            "cell_type": "code",
            "execution_count": 10,
            "metadata": {},
            "outputs": [],
            "source": [
                "# Take a quick look at the data\n",
                "df.head(10)\n",
                "\n",
                ""
            ]
        },
        {
            "cell_type": "code",
            "execution_count": 12,
            "metadata": {},
            "outputs": [],
            "source": [
                "# We will only use Ozone for this exerice. Drop any notnas\n",
                "df = df[df.Ozone.notna()]"
            ]
        },
        {
            "cell_type": "code",
            "execution_count": 17,
            "metadata": {},
            "outputs": [],
            "source": [
                "# Assign \"x\" column as the predictor variable, only use Ozone, and \"y\" as the\n",
                "x = df[['Ozone']].values\n",
                "y = df['Temp']"
            ]
        },
        {
            "cell_type": "code",
            "execution_count": 20,
            "metadata": {},
            "outputs": [],
            "source": [
                "# Split the data into train and test sets with train size as 0.8 and random_state as 102\n",
                "x_train, x_test, y_train, y_test = train_test_split(x, y, train_size=0.8, random_state=102)"
            ]
        },
        {
            "attachments": {},
            "cell_type": "markdown",
            "metadata": {},
            "source": [
                "### Bagging Regressor"
            ]
        },
        {
            "cell_type": "code",
            "execution_count": 21,
            "metadata": {},
            "outputs": [
                {
                    "data": {
                        "text/html": "\u003cdiv\u003e\n\u003cstyle scoped\u003e\n    .dataframe tbody tr th:only-of-type {\n        vertical-align: middle;\n    }\n\n    .dataframe tbody tr th {\n        vertical-align: top;\n    }\n\n    .dataframe thead th {\n        text-align: right;\n    }\n\u003c/style\u003e\n\u003ctable border=\"1\" class=\"dataframe\"\u003e\n  \u003cthead\u003e\n    \u003ctr style=\"text-align: right;\"\u003e\n      \u003cth\u003e\u003c/th\u003e\n      \u003cth\u003eOzone\u003c/th\u003e\n      \u003cth\u003eSolar.R\u003c/th\u003e\n      \u003cth\u003eWind\u003c/th\u003e\n      \u003cth\u003eTemp\u003c/th\u003e\n      \u003cth\u003eMonth\u003c/th\u003e\n      \u003cth\u003eDay\u003c/th\u003e\n    \u003c/tr\u003e\n  \u003c/thead\u003e\n  \u003ctbody\u003e\n    \u003ctr\u003e\n      \u003cth\u003e1\u003c/th\u003e\n      \u003ctd\u003e41.0\u003c/td\u003e\n      \u003ctd\u003e190.0\u003c/td\u003e\n      \u003ctd\u003e7.4\u003c/td\u003e\n      \u003ctd\u003e67\u003c/td\u003e\n      \u003ctd\u003e5\u003c/td\u003e\n      \u003ctd\u003e1\u003c/td\u003e\n    \u003c/tr\u003e\n    \u003ctr\u003e\n      \u003cth\u003e2\u003c/th\u003e\n      \u003ctd\u003e36.0\u003c/td\u003e\n      \u003ctd\u003e118.0\u003c/td\u003e\n      \u003ctd\u003e8.0\u003c/td\u003e\n      \u003ctd\u003e72\u003c/td\u003e\n      \u003ctd\u003e5\u003c/td\u003e\n      \u003ctd\u003e2\u003c/td\u003e\n    \u003c/tr\u003e\n    \u003ctr\u003e\n      \u003cth\u003e3\u003c/th\u003e\n      \u003ctd\u003e12.0\u003c/td\u003e\n      \u003ctd\u003e149.0\u003c/td\u003e\n      \u003ctd\u003e12.6\u003c/td\u003e\n      \u003ctd\u003e74\u003c/td\u003e\n      \u003ctd\u003e5\u003c/td\u003e\n      \u003ctd\u003e3\u003c/td\u003e\n    \u003c/tr\u003e\n    \u003ctr\u003e\n      \u003cth\u003e4\u003c/th\u003e\n      \u003ctd\u003e18.0\u003c/td\u003e\n      \u003ctd\u003e313.0\u003c/td\u003e\n      \u003ctd\u003e11.5\u003c/td\u003e\n      \u003ctd\u003e62\u003c/td\u003e\n      \u003ctd\u003e5\u003c/td\u003e\n      \u003ctd\u003e4\u003c/td\u003e\n    \u003c/tr\u003e\n    \u003ctr\u003e\n      \u003cth\u003e6\u003c/th\u003e\n      \u003ctd\u003e28.0\u003c/td\u003e\n      \u003ctd\u003eNaN\u003c/td\u003e\n      \u003ctd\u003e14.9\u003c/td\u003e\n      \u003ctd\u003e66\u003c/td\u003e\n      \u003ctd\u003e5\u003c/td\u003e\n      \u003ctd\u003e6\u003c/td\u003e\n    \u003c/tr\u003e\n    \u003ctr\u003e\n      \u003cth\u003e7\u003c/th\u003e\n      \u003ctd\u003e23.0\u003c/td\u003e\n      \u003ctd\u003e299.0\u003c/td\u003e\n      \u003ctd\u003e8.6\u003c/td\u003e\n      \u003ctd\u003e65\u003c/td\u003e\n      \u003ctd\u003e5\u003c/td\u003e\n      \u003ctd\u003e7\u003c/td\u003e\n    \u003c/tr\u003e\n    \u003ctr\u003e\n      \u003cth\u003e8\u003c/th\u003e\n      \u003ctd\u003e19.0\u003c/td\u003e\n      \u003ctd\u003e99.0\u003c/td\u003e\n      \u003ctd\u003e13.8\u003c/td\u003e\n      \u003ctd\u003e59\u003c/td\u003e\n      \u003ctd\u003e5\u003c/td\u003e\n      \u003ctd\u003e8\u003c/td\u003e\n    \u003c/tr\u003e\n    \u003ctr\u003e\n      \u003cth\u003e9\u003c/th\u003e\n      \u003ctd\u003e8.0\u003c/td\u003e\n      \u003ctd\u003e19.0\u003c/td\u003e\n      \u003ctd\u003e20.1\u003c/td\u003e\n      \u003ctd\u003e61\u003c/td\u003e\n      \u003ctd\u003e5\u003c/td\u003e\n      \u003ctd\u003e9\u003c/td\u003e\n    \u003c/tr\u003e\n    \u003ctr\u003e\n      \u003cth\u003e11\u003c/th\u003e\n      \u003ctd\u003e7.0\u003c/td\u003e\n      \u003ctd\u003eNaN\u003c/td\u003e\n      \u003ctd\u003e6.9\u003c/td\u003e\n      \u003ctd\u003e74\u003c/td\u003e\n      \u003ctd\u003e5\u003c/td\u003e\n      \u003ctd\u003e11\u003c/td\u003e\n    \u003c/tr\u003e\n    \u003ctr\u003e\n      \u003cth\u003e12\u003c/th\u003e\n      \u003ctd\u003e16.0\u003c/td\u003e\n      \u003ctd\u003e256.0\u003c/td\u003e\n      \u003ctd\u003e9.7\u003c/td\u003e\n      \u003ctd\u003e69\u003c/td\u003e\n      \u003ctd\u003e5\u003c/td\u003e\n      \u003ctd\u003e12\u003c/td\u003e\n    \u003c/tr\u003e\n    \u003ctr\u003e\n      \u003cth\u003e13\u003c/th\u003e\n      \u003ctd\u003e11.0\u003c/td\u003e\n      \u003ctd\u003e290.0\u003c/td\u003e\n      \u003ctd\u003e9.2\u003c/td\u003e\n      \u003ctd\u003e66\u003c/td\u003e\n      \u003ctd\u003e5\u003c/td\u003e\n      \u003ctd\u003e13\u003c/td\u003e\n    \u003c/tr\u003e\n    \u003ctr\u003e\n      \u003cth\u003e14\u003c/th\u003e\n      \u003ctd\u003e14.0\u003c/td\u003e\n      \u003ctd\u003e274.0\u003c/td\u003e\n      \u003ctd\u003e10.9\u003c/td\u003e\n      \u003ctd\u003e68\u003c/td\u003e\n      \u003ctd\u003e5\u003c/td\u003e\n      \u003ctd\u003e14\u003c/td\u003e\n    \u003c/tr\u003e\n    \u003ctr\u003e\n      \u003cth\u003e15\u003c/th\u003e\n      \u003ctd\u003e18.0\u003c/td\u003e\n      \u003ctd\u003e65.0\u003c/td\u003e\n      \u003ctd\u003e13.2\u003c/td\u003e\n      \u003ctd\u003e58\u003c/td\u003e\n      \u003ctd\u003e5\u003c/td\u003e\n      \u003ctd\u003e15\u003c/td\u003e\n    \u003c/tr\u003e\n    \u003ctr\u003e\n      \u003cth\u003e16\u003c/th\u003e\n      \u003ctd\u003e14.0\u003c/td\u003e\n      \u003ctd\u003e334.0\u003c/td\u003e\n      \u003ctd\u003e11.5\u003c/td\u003e\n      \u003ctd\u003e64\u003c/td\u003e\n      \u003ctd\u003e5\u003c/td\u003e\n      \u003ctd\u003e16\u003c/td\u003e\n    \u003c/tr\u003e\n    \u003ctr\u003e\n      \u003cth\u003e17\u003c/th\u003e\n      \u003ctd\u003e34.0\u003c/td\u003e\n      \u003ctd\u003e307.0\u003c/td\u003e\n      \u003ctd\u003e12.0\u003c/td\u003e\n      \u003ctd\u003e66\u003c/td\u003e\n      \u003ctd\u003e5\u003c/td\u003e\n      \u003ctd\u003e17\u003c/td\u003e\n    \u003c/tr\u003e\n    \u003ctr\u003e\n      \u003cth\u003e18\u003c/th\u003e\n      \u003ctd\u003e6.0\u003c/td\u003e\n      \u003ctd\u003e78.0\u003c/td\u003e\n      \u003ctd\u003e18.4\u003c/td\u003e\n      \u003ctd\u003e57\u003c/td\u003e\n      \u003ctd\u003e5\u003c/td\u003e\n      \u003ctd\u003e18\u003c/td\u003e\n    \u003c/tr\u003e\n    \u003ctr\u003e\n      \u003cth\u003e19\u003c/th\u003e\n      \u003ctd\u003e30.0\u003c/td\u003e\n      \u003ctd\u003e322.0\u003c/td\u003e\n      \u003ctd\u003e11.5\u003c/td\u003e\n      \u003ctd\u003e68\u003c/td\u003e\n      \u003ctd\u003e5\u003c/td\u003e\n      \u003ctd\u003e19\u003c/td\u003e\n    \u003c/tr\u003e\n    \u003ctr\u003e\n      \u003cth\u003e20\u003c/th\u003e\n      \u003ctd\u003e11.0\u003c/td\u003e\n      \u003ctd\u003e44.0\u003c/td\u003e\n      \u003ctd\u003e9.7\u003c/td\u003e\n      \u003ctd\u003e62\u003c/td\u003e\n      \u003ctd\u003e5\u003c/td\u003e\n      \u003ctd\u003e20\u003c/td\u003e\n    \u003c/tr\u003e\n    \u003ctr\u003e\n      \u003cth\u003e21\u003c/th\u003e\n      \u003ctd\u003e1.0\u003c/td\u003e\n      \u003ctd\u003e8.0\u003c/td\u003e\n      \u003ctd\u003e9.7\u003c/td\u003e\n      \u003ctd\u003e59\u003c/td\u003e\n      \u003ctd\u003e5\u003c/td\u003e\n      \u003ctd\u003e21\u003c/td\u003e\n    \u003c/tr\u003e\n    \u003ctr\u003e\n      \u003cth\u003e22\u003c/th\u003e\n      \u003ctd\u003e11.0\u003c/td\u003e\n      \u003ctd\u003e320.0\u003c/td\u003e\n      \u003ctd\u003e16.6\u003c/td\u003e\n      \u003ctd\u003e73\u003c/td\u003e\n      \u003ctd\u003e5\u003c/td\u003e\n      \u003ctd\u003e22\u003c/td\u003e\n    \u003c/tr\u003e\n    \u003ctr\u003e\n      \u003cth\u003e23\u003c/th\u003e\n      \u003ctd\u003e4.0\u003c/td\u003e\n      \u003ctd\u003e25.0\u003c/td\u003e\n      \u003ctd\u003e9.7\u003c/td\u003e\n      \u003ctd\u003e61\u003c/td\u003e\n      \u003ctd\u003e5\u003c/td\u003e\n      \u003ctd\u003e23\u003c/td\u003e\n    \u003c/tr\u003e\n    \u003ctr\u003e\n      \u003cth\u003e24\u003c/th\u003e\n      \u003ctd\u003e32.0\u003c/td\u003e\n      \u003ctd\u003e92.0\u003c/td\u003e\n      \u003ctd\u003e12.0\u003c/td\u003e\n      \u003ctd\u003e61\u003c/td\u003e\n      \u003ctd\u003e5\u003c/td\u003e\n      \u003ctd\u003e24\u003c/td\u003e\n    \u003c/tr\u003e\n    \u003ctr\u003e\n      \u003cth\u003e28\u003c/th\u003e\n      \u003ctd\u003e23.0\u003c/td\u003e\n      \u003ctd\u003e13.0\u003c/td\u003e\n      \u003ctd\u003e12.0\u003c/td\u003e\n      \u003ctd\u003e67\u003c/td\u003e\n      \u003ctd\u003e5\u003c/td\u003e\n      \u003ctd\u003e28\u003c/td\u003e\n    \u003c/tr\u003e\n  \u003c/tbody\u003e\n\u003c/table\u003e\n\u003c/div\u003e",
                        "text/plain": "    Ozone  Solar.R  Wind  Temp  Month  Day\n1    41.0    190.0   7.4    67      5    1\n2    36.0    118.0   8.0    72      5    2\n3    12.0    149.0  12.6    74      5    3\n4    18.0    313.0  11.5    62      5    4\n6    28.0      NaN  14.9    66      5    6\n7    23.0    299.0   8.6    65      5    7\n8    19.0     99.0  13.8    59      5    8\n9     8.0     19.0  20.1    61      5    9\n11    7.0      NaN   6.9    74      5   11\n12   16.0    256.0   9.7    69      5   12\n13   11.0    290.0   9.2    66      5   13\n14   14.0    274.0  10.9    68      5   14\n15   18.0     65.0  13.2    58      5   15\n16   14.0    334.0  11.5    64      5   16\n17   34.0    307.0  12.0    66      5   17\n18    6.0     78.0  18.4    57      5   18\n19   30.0    322.0  11.5    68      5   19\n20   11.0     44.0   9.7    62      5   20\n21    1.0      8.0   9.7    59      5   21\n22   11.0    320.0  16.6    73      5   22\n23    4.0     25.0   9.7    61      5   23\n24   32.0     92.0  12.0    61      5   24\n28   23.0     13.0  12.0    67      5   28"
                    },
                    "execution_count": 21,
                    "metadata": {},
                    "output_type": "execute_result"
                }
            ],
            "source": [
                "\n",
                "# Specify the number of bootstraps as 30\n",
                "num_bootstraps = 30\n",
                "\n",
                "# Specify the maximum depth of the decision tree as 3\n",
                "max_depth = 3\n",
                "\n",
                "# Define the Bagging Regressor Model\n",
                "# Use Decision Tree as your base estimator with depth as mentioned in max_depth\n",
                "# Initialise number of estimators using the num_bootstraps value\n",
                "model = ___\n",
                "                        \n",
                "\n",
                "# Fit the model on the train data\n",
                "___\n",
                ""
            ]
        },
        {
            "cell_type": "code",
            "execution_count": 24,
            "metadata": {},
            "outputs": [],
            "source": [
                "# Helper code to plot the predictions of individual estimators and \n",
                "plt.figure(figsize=(10,8))\n",
                "\n",
                "xrange = np.linspace(x.min(),x.max(),80).reshape(-1,1)\n",
                "plt.plot(x_train,y_train,'o',color='#EFAEA4', markersize=6, label=\"Train Data\")\n",
                "plt.plot(x_test,y_test,'o',color='#F6345E', markersize=6, label=\"Test Data\")\n",
                "\n",
                "plt.xlim()\n",
                "for i in model.estimators_:\n",
                "    y_pred1 = i.predict(xrange)\n",
                "    plt.plot(xrange,y_pred1,alpha=0.5,linewidth=0.5,color = '#ABCCE3')\n",
                "plt.plot(xrange,y_pred1,alpha=0.6,linewidth=1,color = '#ABCCE3',label=\"Prediction of Individual Estimators\")\n",
                "\n",
                "\n",
                "y_pred = model.predict(xrange)\n",
                "plt.plot(xrange,y_pred,alpha=0.7,linewidth=3,color='#50AEA4', label='Model Prediction')\n",
                "plt.xlabel(\"Ozone\", fontsize=16)\n",
                "plt.ylabel(\"Temperature\", fontsize=16)\n",
                "plt.xticks(fontsize=12)\n",
                "plt.yticks(fontsize=12)\n",
                "plt.legend(loc='best',fontsize=12)\n",
                "plt.show()"
            ]
        },
        {
            "cell_type": "code",
            "execution_count": 25,
            "metadata": {},
            "outputs": [],
            "source": [
                "# Compute the test MSE of the prediction of individual estimator\n",
                "y_pred1 = ___\n",
                "print(\"The test MSE of one estimator in the model is\", round(mean_squared_error(y_test,y_pred1),2))"
            ]
        },
        {
            "cell_type": "code",
            "execution_count": 0,
            "metadata": {},
            "outputs": [],
            "source": [
                "### edTest(test_mse) ###\n",
                "# Compute the test MSE of the model prediction\n",
                "y_pred = ___\n",
                "print(\"The test MSE of the model is\",round(mean_squared_error(y_test,y_pred),2))"
            ]
        },
        {
            "attachments": {},
            "cell_type": "markdown",
            "metadata": {},
            "source": [
                "## Mindchow 🍲\n",
                "\n",
                "After marking, go back and change the number of bootstraps and the maximum depth of the tree. \n",
                "\n",
                "\n",
                "- Do you see any relation between them? \n",
                "\n",
                "- How does the variance change with change in maximum depth?\n",
                "\n",
                "- How does the variance change with change in number of bootstraps?"
            ]
        },
        {
            "attachments": {},
            "cell_type": "markdown",
            "metadata": {},
            "source": [
                "*Your answer here*"
            ]
        },
        {
            "cell_type": "code",
            "execution_count": 0,
            "metadata": {},
            "outputs": [],
            "source": [
                ""
            ]
        }
    ]
}
