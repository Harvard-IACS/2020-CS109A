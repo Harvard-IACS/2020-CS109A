{
    "metadata": {
        "kernelspec": {
            "name": "python3",
            "display_name": "Python 3",
            "language": "python"
        }
    },
    "nbformat": 4,
    "nbformat_minor": 2,
    "cells": [
        {
            "cell_type": "code",
            "execution_count": 13,
            "metadata": {},
            "outputs": [],
            "source": [
                "import numpy as np\n",
                "import pandas as pd\n",
                "import matplotlib.pyplot as plt\n",
                "%matplotlib inline"
            ]
        },
        {
            "attachments": {},
            "cell_type": "markdown",
            "metadata": {},
            "source": [
                "### Reading the dataset"
            ]
        },
        {
            "cell_type": "code",
            "execution_count": 14,
            "metadata": {},
            "outputs": [],
            "source": [
                "# Data set used in this exercise \n",
                "data_filename = 'Advertising.csv'\n",
                "\n",
                "# Read data file using pandas libraries\n",
                "df = pd.read_csv(data_filename)"
            ]
        },
        {
            "cell_type": "code",
            "execution_count": 16,
            "metadata": {},
            "outputs": [
                {
                    "data": {
                        "text/html": [
                            "\u003cdiv\u003e\n",
                            "\u003cstyle scoped\u003e\n",
                            "    .dataframe tbody tr th:only-of-type {\n",
                            "        vertical-align: middle;\n",
                            "    }\n",
                            "\n",
                            "    .dataframe tbody tr th {\n",
                            "        vertical-align: top;\n",
                            "    }\n",
                            "\n",
                            "    .dataframe thead th {\n",
                            "        text-align: right;\n",
                            "    }\n",
                            "\u003c/style\u003e\n",
                            "\u003ctable border=\"1\" class=\"dataframe\"\u003e\n",
                            "  \u003cthead\u003e\n",
                            "    \u003ctr style=\"text-align: right;\"\u003e\n",
                            "      \u003cth\u003e\u003c/th\u003e\n",
                            "      \u003cth\u003eTV\u003c/th\u003e\n",
                            "      \u003cth\u003eRadio\u003c/th\u003e\n",
                            "      \u003cth\u003eNewspaper\u003c/th\u003e\n",
                            "      \u003cth\u003esales\u003c/th\u003e\n",
                            "    \u003c/tr\u003e\n",
                            "  \u003c/thead\u003e\n",
                            "  \u003ctbody\u003e\n",
                            "    \u003ctr\u003e\n",
                            "      \u003cth\u003e0\u003c/th\u003e\n",
                            "      \u003ctd\u003e230.1\u003c/td\u003e\n",
                            "      \u003ctd\u003e37.8\u003c/td\u003e\n",
                            "      \u003ctd\u003e69.2\u003c/td\u003e\n",
                            "      \u003ctd\u003e22.1\u003c/td\u003e\n",
                            "    \u003c/tr\u003e\n",
                            "    \u003ctr\u003e\n",
                            "      \u003cth\u003e1\u003c/th\u003e\n",
                            "      \u003ctd\u003e44.5\u003c/td\u003e\n",
                            "      \u003ctd\u003e39.3\u003c/td\u003e\n",
                            "      \u003ctd\u003e45.1\u003c/td\u003e\n",
                            "      \u003ctd\u003e10.4\u003c/td\u003e\n",
                            "    \u003c/tr\u003e\n",
                            "    \u003ctr\u003e\n",
                            "      \u003cth\u003e2\u003c/th\u003e\n",
                            "      \u003ctd\u003e17.2\u003c/td\u003e\n",
                            "      \u003ctd\u003e45.9\u003c/td\u003e\n",
                            "      \u003ctd\u003e69.3\u003c/td\u003e\n",
                            "      \u003ctd\u003e9.3\u003c/td\u003e\n",
                            "    \u003c/tr\u003e\n",
                            "    \u003ctr\u003e\n",
                            "      \u003cth\u003e3\u003c/th\u003e\n",
                            "      \u003ctd\u003e151.5\u003c/td\u003e\n",
                            "      \u003ctd\u003e41.3\u003c/td\u003e\n",
                            "      \u003ctd\u003e58.5\u003c/td\u003e\n",
                            "      \u003ctd\u003e18.5\u003c/td\u003e\n",
                            "    \u003c/tr\u003e\n",
                            "    \u003ctr\u003e\n",
                            "      \u003cth\u003e4\u003c/th\u003e\n",
                            "      \u003ctd\u003e180.8\u003c/td\u003e\n",
                            "      \u003ctd\u003e10.8\u003c/td\u003e\n",
                            "      \u003ctd\u003e58.4\u003c/td\u003e\n",
                            "      \u003ctd\u003e12.9\u003c/td\u003e\n",
                            "    \u003c/tr\u003e\n",
                            "  \u003c/tbody\u003e\n",
                            "\u003c/table\u003e\n",
                            "\u003c/div\u003e"
                        ],
                        "text/plain": [
                            "      TV  Radio  Newspaper  sales\n",
                            "0  230.1   37.8       69.2   22.1\n",
                            "1   44.5   39.3       45.1   10.4\n",
                            "2   17.2   45.9       69.3    9.3\n",
                            "3  151.5   41.3       58.5   18.5\n",
                            "4  180.8   10.8       58.4   12.9"
                        ]
                    },
                    "execution_count": 16,
                    "metadata": {},
                    "output_type": "execute_result"
                }
            ],
            "source": [
                "# Take a quick look at the data\n",
                "df.head()"
            ]
        },
        {
            "cell_type": "code",
            "execution_count": 17,
            "metadata": {},
            "outputs": [],
            "source": [
                "# Create a new dataframe called `df_new`. witch the columns ['TV' and 'sales'].\n",
                "df_new = df[['TV', 'sales']]"
            ]
        },
        {
            "attachments": {},
            "cell_type": "markdown",
            "metadata": {},
            "source": [
                "### Beta and MSE Computation"
            ]
        },
        {
            "cell_type": "code",
            "execution_count": 6,
            "metadata": {},
            "outputs": [],
            "source": [
                "# Set beta0 \n",
                "beta0 = 2.2"
            ]
        },
        {
            "cell_type": "code",
            "execution_count": 12,
            "metadata": {},
            "outputs": [],
            "source": [
                "# Create lists to store the MSE and beta1\n",
                "mse_list = ___\n",
                "beta1_list = ___"
            ]
        },
        {
            "cell_type": "code",
            "execution_count": 0,
            "metadata": {},
            "outputs": [],
            "source": [
                "### edTest(test_beta) ###\n",
                "\n",
                "# This loops runs from -2 to 3.0 with an increment of 0.1 i.e a total of 51 steps\n",
                "for beta1 in ___:\n",
                "    \n",
                "    # Calculate prediction of x using beta0 and beta1\n",
                "    y_predict = ___ \n",
                "    \n",
                "    # Calculate Mean Squared Error\n",
                "    mean_squared_error = ___\n",
                "\n",
                "    # Append the new MSE in the list that you created above\n",
                "    mse_list.___ \n",
                "    \n",
                "    # Also append beta1 values in the list\n",
                "    beta1_list.___"
            ]
        },
        {
            "attachments": {},
            "cell_type": "markdown",
            "metadata": {},
            "source": [
                "### Plotting the graph"
            ]
        },
        {
            "cell_type": "code",
            "execution_count": 0,
            "metadata": {},
            "outputs": [],
            "source": [
                "### edTest(test_mse) ###\n",
                "# Plot MSE as a function of beta1\n",
                "plt.plot(beta1_list, mse_list)\n",
                "plt.xlabel('Beta1')\n",
                "plt.ylabel('MSE')"
            ]
        },
        {
            "attachments": {},
            "cell_type": "markdown",
            "metadata": {},
            "source": [
                "### Go back and change your $\\beta_0$ value and report your new optimal $\\beta_1$ value and new lowest $MSE$\n",
                "\n",
                "Is the MSE lower than before, or more?"
            ]
        },
        {
            "cell_type": "code",
            "execution_count": 0,
            "metadata": {},
            "outputs": [],
            "source": [
                "# Your answer here"
            ]
        }
    ]
}
