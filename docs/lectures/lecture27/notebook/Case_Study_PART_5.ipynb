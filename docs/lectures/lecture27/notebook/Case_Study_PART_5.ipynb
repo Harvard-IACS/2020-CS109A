{
 "cells": [
  {
   "cell_type": "markdown",
   "metadata": {},
   "source": [
    "<h1 style=\"padding-top: 25px;padding-bottom: 25px;text-align: left; padding-left: 10px; background-color: #DDDDDD; \n",
    "    color: black;\"> <img style=\"float: left; padding-right: 10px; width: 45px\" src=\"https://raw.githubusercontent.com/Harvard-IACS/2018-CS109A/master/content/styles/iacs.png\"> CS109A Introduction to Data Science </h1>\n",
    "\n",
    "## Case Study: Hunting for Flavors\n",
    "## PART 5: Are there certain attributes of bourbons that are predictive of good bourbons?\n",
    "\n",
    "**Harvard University**<br/>\n",
    "**Fall 2020**<br/>\n",
    "**Instructors**: Pavlos Protopapas, Kevin Rader, and Chris Tanner<br/>\n",
    "<hr style='height:2px'>"
   ]
  },
  {
   "cell_type": "code",
   "execution_count": 1,
   "metadata": {},
   "outputs": [
    {
     "data": {
      "text/html": [
       "<style>\n",
       "blockquote { background: #AEDE94; }\n",
       "h1 { \n",
       "    padding-top: 25px;\n",
       "    padding-bottom: 25px;\n",
       "    text-align: left; \n",
       "    padding-left: 10px;\n",
       "    background-color: #DDDDDD; \n",
       "    color: black;\n",
       "}\n",
       "h2 { \n",
       "    padding-top: 10px;\n",
       "    padding-bottom: 10px;\n",
       "    text-align: left; \n",
       "    padding-left: 5px;\n",
       "    background-color: #EEEEEE; \n",
       "    color: black;\n",
       "}\n",
       "\n",
       "div.exercise {\n",
       "\tbackground-color: #ffcccc;\n",
       "\tborder-color: #E9967A; \t\n",
       "\tborder-left: 5px solid #800080; \n",
       "\tpadding: 0.5em;\n",
       "}\n",
       "\n",
       "div.exercise-r {\n",
       "\tbackground-color: #ffd0d0;\n",
       "\tborder-color: #E9967A; \t\n",
       "\tborder-left: 5px solid #800080; \n",
       "\tpadding: 0.5em;\n",
       "}\n",
       "\n",
       "\n",
       "span.sub-q {\n",
       "\tfont-weight: bold;\n",
       "}\n",
       "div.theme {\n",
       "\tbackground-color: #DDDDDD;\n",
       "\tborder-color: #E9967A; \t\n",
       "\tborder-left: 5px solid #800080; \n",
       "\tpadding: 0.5em;\n",
       "\tfont-size: 18pt;\n",
       "}\n",
       "div.gc { \n",
       "\tbackground-color: #AEDE94;\n",
       "\tborder-color: #E9967A; \t \n",
       "\tborder-left: 5px solid #800080; \n",
       "\tpadding: 0.5em;\n",
       "\tfont-size: 12pt;\n",
       "}\n",
       "p.q1 { \n",
       "    padding-top: 5px;\n",
       "    padding-bottom: 5px;\n",
       "    text-align: left; \n",
       "    padding-left: 5px;\n",
       "    background-color: #EEEEEE; \n",
       "    color: black;\n",
       "}\n",
       "header {\n",
       "   padding-top: 35px;\n",
       "    padding-bottom: 35px;\n",
       "    text-align: left; \n",
       "    padding-left: 10px;\n",
       "    background-color: #DDDDDD; \n",
       "    color: black;\n",
       "}\n",
       "</style>\n",
       "\n"
      ],
      "text/plain": [
       "<IPython.core.display.HTML object>"
      ]
     },
     "execution_count": 1,
     "metadata": {},
     "output_type": "execute_result"
    }
   ],
   "source": [
    "## RUN THIS CELL TO GET THE RIGHT FORMATTING \n",
    "import requests\n",
    "from IPython.core.display import HTML\n",
    "styles = requests.get(\"https://raw.githubusercontent.com/Harvard-IACS/2020-CS109A/master/themes/static/css/cs109.css\").text\n",
    "HTML(styles)"
   ]
  },
  {
   "cell_type": "code",
   "execution_count": 2,
   "metadata": {},
   "outputs": [],
   "source": [
    "# import the necessary libraries\n",
    "import re\n",
    "import requests\n",
    "import random\n",
    "import pandas as pd\n",
    "import math\n",
    "import matplotlib\n",
    "import matplotlib.pyplot as plt\n",
    "from matplotlib.ticker import PercentFormatter\n",
    "from sklearn.neighbors import KNeighborsRegressor\n",
    "from matplotlib import gridspec\n",
    "from sklearn.model_selection import KFold\n",
    "import numpy as np\n",
    "import seaborn as sns\n",
    "from time import sleep\n",
    "from bs4 import BeautifulSoup\n",
    "from sklearn.linear_model import LinearRegression\n",
    "from sklearn.metrics import mean_squared_error\n",
    "from sklearn.model_selection import train_test_split\n",
    "from sklearn import preprocessing\n",
    "\n",
    "# global properties\n",
    "data_dir = \"data/\" # where to save data\n",
    "num_search_pages = 50 # how many search pages to cull through\n",
    "\n",
    "# NOTE:\n",
    "# if you haven't yet downloaded the data, this should be set to True\n",
    "download_data = False"
   ]
  },
  {
   "attachments": {},
   "cell_type": "markdown",
   "metadata": {},
   "source": [
    "## Disclaimer\n",
    "\n",
    "Alcohol is drug. There are state and federal laws that govern the sale, distribution, and consumption of such. In the United States, those who consume alcohol must be at least 21 years of age. In no way am I, or anyone else at IACS or Harvard at large, promoting or encouraging the usage of alcohol. My intention is not to celebrate it. Anyone who chooses to consume alcohol should be of legal age and should do so responsibly. Abusing alcohol has serious, grave effects.\n",
    "\n",
    "The point of this exercise is purely pedagogical, and it illustrates the wide range of tasks to which one can apply data science and machine learning. That is, I am focusing on a particular interest and demonstrating how it can be used to answer questions that one may be interested in for one's own personal life. You could easily imagine this being used in professional settings, too.\n",
    "\n",
    "### Learning Objectives\n",
    "Help see the big picture process of conducting a project, and to illustrate some of the nuanced details and common pitfalls."
   ]
  },
  {
   "cell_type": "markdown",
   "metadata": {},
   "source": [
    "### Predicting good bourbons\n",
    "\n",
    "The point of this notebook is to address the first question that we posed in the beginning:\n",
    "1. Are there certain attributes of bourbons that are predictive of good (i.e., highly rated by users) bourbons?\n",
    "    - Find hidden gems (i.e., should be good but current reviews are absent or unsupportive of such)\n",
    "\t- Find over-hyped whiskeys (i.e., the reviews seem high but the attributes aren't indicative)\n",
    "\t- Are there significant results if we target experts' ratings instead of average customer ratings?\n",
    "\n",
    "To this effect, let's first load and clean the data, **identically to what we did in the previous notebook.** NOTE: The only reason this notebook exists as a separate notebook, instead of one long notebook, is for readability and organization."
   ]
  },
  {
   "cell_type": "markdown",
   "metadata": {},
   "source": [
    "## Load and clean the data"
   ]
  },
  {
   "cell_type": "markdown",
   "metadata": {},
   "source": [
    "<div class='exercise'><b>Fetching a list of webpages via Requests</b></div>"
   ]
  },
  {
   "cell_type": "code",
   "execution_count": 3,
   "metadata": {},
   "outputs": [],
   "source": [
    "whiskey_urls = set()\n",
    "\n",
    "if download_data:\n",
    "\n",
    "    # we define this for convenience, as every state's url begins with this prefix\n",
    "    base_url = 'https://distiller.com/search?term=bourbon'\n",
    "    \n",
    "    # visits each search result page\n",
    "    for page_num in range(1, num_search_pages):\n",
    "        cur_page = requests.get('https://distiller.com/search?page=' + str(page_num) + '&term=bourbon')\n",
    "\n",
    "        # uses BeautifulSoup to extract all links to whiskeys\n",
    "        bs_page = BeautifulSoup(cur_page.content, \"html.parser\")\n",
    "        for link in bs_page.findAll('a', attrs={'href': re.compile(\"^/spirits/\")}):\n",
    "            whiskey_urls.add(link.get('href'))\n",
    "\n",
    "        sleep(1)\n",
    "    \n",
    "    # saves each URL to disk, so that we don't have to crawl the search results again\n",
    "    f = open(\"whiskey_urls.txt\", \"w\")\n",
    "    for url in whiskey_urls:\n",
    "        f.write(url + \"\\n\")\n",
    "    f.close()\n",
    "    \n",
    "    # fetches each page and saves it to the hard drive\n",
    "    for url in whiskey_urls:\n",
    "        cur_page = requests.get('https://distiller.com' + url).content\n",
    "\n",
    "        # writes file\n",
    "        f = open(data_dir + url[9:], 'wb')\n",
    "        f.write(cur_page)\n",
    "        f.close()\n",
    "\n",
    "        # sleeps between 1-3 seconds, in case the site tries to detect crawling\n",
    "        sleep(random.randint(1,3))\n",
    "else: \n",
    "    \n",
    "    # if the files have already been saved to disk\n",
    "    # then you can just load them here, instead of crawling again\n",
    "    with open('whiskey_urls.txt') as f:\n",
    "        whiskey_urls = set(line.strip() for line in f)"
   ]
  },
  {
   "cell_type": "code",
   "execution_count": 4,
   "metadata": {},
   "outputs": [],
   "source": [
    "whiskeys = {}\n",
    "\n",
    "# loads whiskey webpage\n",
    "for i, url in enumerate(whiskey_urls):\n",
    "\n",
    "    filename = data_dir + url[9:]\n",
    "    file_contents = open(filename, 'r').read()\n",
    "    \n",
    "    # instantiates a new BeautifulSoup object\n",
    "    soup = BeautifulSoup(file_contents, \"html.parser\")\n",
    "    \n",
    "    # extracts details about the whiskey\n",
    "    name = soup.find('h1', attrs={'class': re.compile(\"secondary-headline name\")}).text.strip()\n",
    "    location = soup.find('h2', attrs={'class': \"ultra-mini-headline location middleweight\"}).text.strip()\n",
    "\n",
    "    soup.find('div', attrs={'class': \"spirit-badge\"})\n",
    "\n",
    "    badge = \"\"\n",
    "    if soup.find('div', attrs={'class': \"spirit-badge\"}) != None:\n",
    "        badge = soup.find('div', attrs={'class': \"spirit-badge\"}).text.strip()\n",
    "        \n",
    "    num_ratings = 0\n",
    "    rating = \"N/A\"\n",
    "    if soup.find('span', attrs={'itemprop': \"ratingCount\"}) != None:\n",
    "        num_ratings = int(soup.find('span', attrs={'itemprop': \"ratingCount\"}).text.strip())\n",
    "        rating = float(soup.find('span', attrs={'itemprop': \"ratingValue\"}).text.strip())\n",
    "    \n",
    "    age = soup.find('li', attrs={'class': \"detail age\"}).find('div', attrs='value').text.strip()\n",
    "    price = int(re.findall(\"cost-(\\d)\", str(soup.find('div', attrs={'class': re.compile(\"spirit-cost\")})))[0])\n",
    "    abv = \"\"\n",
    "    \n",
    "    if soup.find('li', attrs={'class': \"detail abv\"}).find('div', attrs='value').text != \"\":\n",
    "        abv = float(soup.find('li', attrs={'class': \"detail abv\"}).find('div', attrs='value').text)\n",
    "    \n",
    "    whiskey_type = soup.find('li', attrs={'class': \"detail whiskey-style\"}).div.text\n",
    "    cask_type = \"\"\n",
    "    if soup.find('li', attrs={'class': \"detail cask-type\"}) != None:\n",
    "        cask_type = soup.find('li', attrs={'class': \"detail cask-type\"}).find('div', attrs='value').text.strip()\n",
    "    \n",
    "    review = \"\"\n",
    "    expert = \"\"\n",
    "    score = \"\"\n",
    "    flavor_summary = \"\"\n",
    "    flavor_profile = []\n",
    "    \n",
    "    # check if an expert reviewed it\n",
    "    if soup.find('p', attrs={'itemprop': \"reviewBody\"}) != None:\n",
    "        review = soup.find('p', attrs={'itemprop': \"reviewBody\"}).text.replace(\"\\\"\",\"\").strip()\n",
    "    \n",
    "        expert = soup.find('div', attrs={'class': 'meet-experts'}).a.text.strip()\n",
    "        score = int(soup.find('div', attrs={'class': \"distiller-score\"}).span.text.strip())\n",
    "        flavor_summary = soup.find('h3', attrs={'class': \"secondary-headline flavors middleweight\"}).text.strip()\n",
    "    \n",
    "        # extracts flavor profile\n",
    "        flavor_profile = eval(soup.find('canvas').attrs['data-flavors'])\n",
    "    \n",
    "    cur_whiskey = [name, whiskey_type, cask_type, location, age, abv, price, badge, num_ratings, \\\n",
    "        rating, flavor_summary, expert, score]\n",
    "\n",
    "    if flavor_profile:\n",
    "        cur_whiskey.extend(list(flavor_profile.values()))\n",
    "    else:\n",
    "        cur_whiskey.extend(np.zeros(14))\n",
    "        \n",
    "    cur_whiskey.append(review)\n",
    "    whiskeys[i] = cur_whiskey\n",
    "\n",
    "    df = pd.DataFrame.from_dict(whiskeys, orient='index', \\\n",
    "        columns=['Name', 'Type', 'Cask', 'Location', 'Age', 'ABV %', 'Price', 'Badge',\\\n",
    "                 '# Ratings', \"Customers' Rating\", 'Flavor Summary', 'Expert', 'Expert Score',\\\n",
    "                 'Smoky', 'Peaty', 'Spicy', 'Herbal', 'Oily', 'Full-bodied', 'Rich',\\\n",
    "                 'Sweet', 'Briny', 'Salty', 'Vanilla', 'Tart', 'Fruity', 'Floral', 'Review'])"
   ]
  },
  {
   "cell_type": "markdown",
   "metadata": {},
   "source": [
    "<div class='exercise'><b>Clean the data</b>\n",
    "</div>"
   ]
  },
  {
   "cell_type": "code",
   "execution_count": 5,
   "metadata": {},
   "outputs": [],
   "source": [
    "pd.set_option('display.max_columns', None)\n",
    "pd.set_option('display.max_rows', None)\n",
    "\n",
    "# filter by only those that are bourbons and reviewed by an expert\n",
    "df2 = df.loc[(df['Expert'] != \"\")]\n",
    "df2 = df2.loc[(df['Type'] == \"Bourbon\")]\n",
    "\n",
    "# remove the single bourbon that was not rated by customers\n",
    "df2 = df2.loc[df2['Customers\\' Rating'] != \"N/A\"]\n",
    "df2 = df2.astype({'Customers\\' Rating' : 'float64'})\n",
    "\n",
    "# let's fix the 'Age' feature\n",
    "df2['Age'] = df2['Age'].replace(['NAS', 'nas', 'N/A',''],'0')\n",
    "df2['Age'].replace(to_replace =' [yY]ear[sS]*', value = '', regex = True)\n",
    "df2['Age'] = df2['Age'].replace(to_replace ='6.*', value = '6', regex = True)\n",
    "df2['Age'] = df2['Age'].replace(to_replace ='(\\d+) [Yy].*', value = '\\\\1', regex = True)\n",
    "df2['Age'] = df2['Age'].replace(to_replace ='4 [Mm]onths', value = '4', regex = True)\n",
    "df2['Age'] = df2['Age'].replace(to_replace ='9 [Mm]onths', value = '9', regex = True)\n",
    "df2['Age'] = df2['Age'].replace(to_replace ='18 - 20 [Mm]onths', value = '1.5', regex = True)\n",
    "df2['Age'] = df2['Age'].replace(to_replace ='32 [Mm]onths', value = '2.67', regex = True)\n",
    "df2['Age'] = df2['Age'].replace(to_replace ='9 [Mm]onths', value = '9', regex = True)\n",
    "df2['Age'] = df2['Age'].replace(to_replace ='9 to 11', value = '0.75', regex = True)\n",
    "df2 = df2.astype({'Age': 'float64'})\n",
    "df2['Age'] = df2['Age'].replace(0,7)\n",
    "\n",
    "# fix the 'Badge' feature by making a new 'Rare' feature\n",
    "df2['Rare'] = [True if x == 'RARE' else False for x in df2['Badge']] #df['Badge'] #.map({\"RARE\": True})\n",
    "del df2['Badge']\n",
    "\n",
    "# convert to appropriate data types \n",
    "df2 = df2.astype({'Expert Score': 'int32', 'Customers\\' Rating' : 'float64', 'ABV %': 'float64'})"
   ]
  },
  {
   "cell_type": "code",
   "execution_count": 6,
   "metadata": {},
   "outputs": [
    {
     "data": {
      "text/html": [
       "<div>\n",
       "<style scoped>\n",
       "    .dataframe tbody tr th:only-of-type {\n",
       "        vertical-align: middle;\n",
       "    }\n",
       "\n",
       "    .dataframe tbody tr th {\n",
       "        vertical-align: top;\n",
       "    }\n",
       "\n",
       "    .dataframe thead th {\n",
       "        text-align: right;\n",
       "    }\n",
       "</style>\n",
       "<table border=\"1\" class=\"dataframe\">\n",
       "  <thead>\n",
       "    <tr style=\"text-align: right;\">\n",
       "      <th></th>\n",
       "      <th>Age</th>\n",
       "      <th>ABV %</th>\n",
       "      <th>Price</th>\n",
       "      <th># Ratings</th>\n",
       "      <th>Customers' Rating</th>\n",
       "      <th>Expert Score</th>\n",
       "      <th>Smoky</th>\n",
       "      <th>Peaty</th>\n",
       "      <th>Spicy</th>\n",
       "      <th>Herbal</th>\n",
       "      <th>Oily</th>\n",
       "      <th>Full-bodied</th>\n",
       "      <th>Rich</th>\n",
       "      <th>Sweet</th>\n",
       "      <th>Briny</th>\n",
       "      <th>Salty</th>\n",
       "      <th>Vanilla</th>\n",
       "      <th>Tart</th>\n",
       "      <th>Fruity</th>\n",
       "      <th>Floral</th>\n",
       "    </tr>\n",
       "  </thead>\n",
       "  <tbody>\n",
       "    <tr>\n",
       "      <th>count</th>\n",
       "      <td>585.000000</td>\n",
       "      <td>585.000000</td>\n",
       "      <td>585.000000</td>\n",
       "      <td>585.000000</td>\n",
       "      <td>585.000000</td>\n",
       "      <td>585.000000</td>\n",
       "      <td>585.000000</td>\n",
       "      <td>585.000000</td>\n",
       "      <td>585.000000</td>\n",
       "      <td>585.000000</td>\n",
       "      <td>585.000000</td>\n",
       "      <td>585.000000</td>\n",
       "      <td>585.000000</td>\n",
       "      <td>585.000000</td>\n",
       "      <td>585.000000</td>\n",
       "      <td>585.000000</td>\n",
       "      <td>585.000000</td>\n",
       "      <td>585.000000</td>\n",
       "      <td>585.000000</td>\n",
       "      <td>585.000000</td>\n",
       "    </tr>\n",
       "    <tr>\n",
       "      <th>mean</th>\n",
       "      <td>8.311316</td>\n",
       "      <td>49.899838</td>\n",
       "      <td>2.803419</td>\n",
       "      <td>416.352137</td>\n",
       "      <td>3.756325</td>\n",
       "      <td>86.447863</td>\n",
       "      <td>21.485470</td>\n",
       "      <td>0.230769</td>\n",
       "      <td>53.726496</td>\n",
       "      <td>25.714530</td>\n",
       "      <td>30.695726</td>\n",
       "      <td>58.447863</td>\n",
       "      <td>57.798291</td>\n",
       "      <td>58.381197</td>\n",
       "      <td>4.018803</td>\n",
       "      <td>5.476923</td>\n",
       "      <td>50.340171</td>\n",
       "      <td>21.548718</td>\n",
       "      <td>37.066667</td>\n",
       "      <td>17.835897</td>\n",
       "    </tr>\n",
       "    <tr>\n",
       "      <th>std</th>\n",
       "      <td>3.607727</td>\n",
       "      <td>7.170325</td>\n",
       "      <td>1.055314</td>\n",
       "      <td>1097.906235</td>\n",
       "      <td>0.521737</td>\n",
       "      <td>5.737503</td>\n",
       "      <td>18.322834</td>\n",
       "      <td>2.187232</td>\n",
       "      <td>19.560069</td>\n",
       "      <td>19.547419</td>\n",
       "      <td>22.712536</td>\n",
       "      <td>18.317344</td>\n",
       "      <td>18.361300</td>\n",
       "      <td>16.824334</td>\n",
       "      <td>8.589855</td>\n",
       "      <td>9.603433</td>\n",
       "      <td>20.526266</td>\n",
       "      <td>17.517548</td>\n",
       "      <td>21.334758</td>\n",
       "      <td>20.336899</td>\n",
       "    </tr>\n",
       "    <tr>\n",
       "      <th>min</th>\n",
       "      <td>0.750000</td>\n",
       "      <td>40.000000</td>\n",
       "      <td>1.000000</td>\n",
       "      <td>1.000000</td>\n",
       "      <td>1.000000</td>\n",
       "      <td>65.000000</td>\n",
       "      <td>0.000000</td>\n",
       "      <td>0.000000</td>\n",
       "      <td>0.000000</td>\n",
       "      <td>0.000000</td>\n",
       "      <td>0.000000</td>\n",
       "      <td>5.000000</td>\n",
       "      <td>0.000000</td>\n",
       "      <td>10.000000</td>\n",
       "      <td>0.000000</td>\n",
       "      <td>0.000000</td>\n",
       "      <td>0.000000</td>\n",
       "      <td>0.000000</td>\n",
       "      <td>0.000000</td>\n",
       "      <td>0.000000</td>\n",
       "    </tr>\n",
       "    <tr>\n",
       "      <th>25%</th>\n",
       "      <td>7.000000</td>\n",
       "      <td>45.000000</td>\n",
       "      <td>2.000000</td>\n",
       "      <td>22.000000</td>\n",
       "      <td>3.460000</td>\n",
       "      <td>83.000000</td>\n",
       "      <td>10.000000</td>\n",
       "      <td>0.000000</td>\n",
       "      <td>40.000000</td>\n",
       "      <td>10.000000</td>\n",
       "      <td>10.000000</td>\n",
       "      <td>45.000000</td>\n",
       "      <td>45.000000</td>\n",
       "      <td>50.000000</td>\n",
       "      <td>0.000000</td>\n",
       "      <td>0.000000</td>\n",
       "      <td>35.000000</td>\n",
       "      <td>10.000000</td>\n",
       "      <td>20.000000</td>\n",
       "      <td>0.000000</td>\n",
       "    </tr>\n",
       "    <tr>\n",
       "      <th>50%</th>\n",
       "      <td>7.000000</td>\n",
       "      <td>47.500000</td>\n",
       "      <td>3.000000</td>\n",
       "      <td>83.000000</td>\n",
       "      <td>3.780000</td>\n",
       "      <td>87.000000</td>\n",
       "      <td>20.000000</td>\n",
       "      <td>0.000000</td>\n",
       "      <td>55.000000</td>\n",
       "      <td>25.000000</td>\n",
       "      <td>30.000000</td>\n",
       "      <td>60.000000</td>\n",
       "      <td>60.000000</td>\n",
       "      <td>60.000000</td>\n",
       "      <td>0.000000</td>\n",
       "      <td>0.000000</td>\n",
       "      <td>50.000000</td>\n",
       "      <td>20.000000</td>\n",
       "      <td>35.000000</td>\n",
       "      <td>10.000000</td>\n",
       "    </tr>\n",
       "    <tr>\n",
       "      <th>75%</th>\n",
       "      <td>7.000000</td>\n",
       "      <td>53.500000</td>\n",
       "      <td>4.000000</td>\n",
       "      <td>238.000000</td>\n",
       "      <td>4.170000</td>\n",
       "      <td>91.000000</td>\n",
       "      <td>30.000000</td>\n",
       "      <td>0.000000</td>\n",
       "      <td>70.000000</td>\n",
       "      <td>40.000000</td>\n",
       "      <td>45.000000</td>\n",
       "      <td>70.000000</td>\n",
       "      <td>70.000000</td>\n",
       "      <td>70.000000</td>\n",
       "      <td>5.000000</td>\n",
       "      <td>10.000000</td>\n",
       "      <td>70.000000</td>\n",
       "      <td>30.000000</td>\n",
       "      <td>50.000000</td>\n",
       "      <td>30.000000</td>\n",
       "    </tr>\n",
       "    <tr>\n",
       "      <th>max</th>\n",
       "      <td>28.000000</td>\n",
       "      <td>72.050000</td>\n",
       "      <td>5.000000</td>\n",
       "      <td>9072.000000</td>\n",
       "      <td>4.880000</td>\n",
       "      <td>98.000000</td>\n",
       "      <td>90.000000</td>\n",
       "      <td>40.000000</td>\n",
       "      <td>100.000000</td>\n",
       "      <td>90.000000</td>\n",
       "      <td>100.000000</td>\n",
       "      <td>100.000000</td>\n",
       "      <td>100.000000</td>\n",
       "      <td>99.000000</td>\n",
       "      <td>80.000000</td>\n",
       "      <td>80.000000</td>\n",
       "      <td>100.000000</td>\n",
       "      <td>75.000000</td>\n",
       "      <td>100.000000</td>\n",
       "      <td>95.000000</td>\n",
       "    </tr>\n",
       "  </tbody>\n",
       "</table>\n",
       "</div>"
      ],
      "text/plain": [
       "              Age       ABV %       Price    # Ratings  Customers' Rating  \\\n",
       "count  585.000000  585.000000  585.000000   585.000000         585.000000   \n",
       "mean     8.311316   49.899838    2.803419   416.352137           3.756325   \n",
       "std      3.607727    7.170325    1.055314  1097.906235           0.521737   \n",
       "min      0.750000   40.000000    1.000000     1.000000           1.000000   \n",
       "25%      7.000000   45.000000    2.000000    22.000000           3.460000   \n",
       "50%      7.000000   47.500000    3.000000    83.000000           3.780000   \n",
       "75%      7.000000   53.500000    4.000000   238.000000           4.170000   \n",
       "max     28.000000   72.050000    5.000000  9072.000000           4.880000   \n",
       "\n",
       "       Expert Score       Smoky       Peaty       Spicy      Herbal  \\\n",
       "count    585.000000  585.000000  585.000000  585.000000  585.000000   \n",
       "mean      86.447863   21.485470    0.230769   53.726496   25.714530   \n",
       "std        5.737503   18.322834    2.187232   19.560069   19.547419   \n",
       "min       65.000000    0.000000    0.000000    0.000000    0.000000   \n",
       "25%       83.000000   10.000000    0.000000   40.000000   10.000000   \n",
       "50%       87.000000   20.000000    0.000000   55.000000   25.000000   \n",
       "75%       91.000000   30.000000    0.000000   70.000000   40.000000   \n",
       "max       98.000000   90.000000   40.000000  100.000000   90.000000   \n",
       "\n",
       "             Oily  Full-bodied        Rich       Sweet       Briny  \\\n",
       "count  585.000000   585.000000  585.000000  585.000000  585.000000   \n",
       "mean    30.695726    58.447863   57.798291   58.381197    4.018803   \n",
       "std     22.712536    18.317344   18.361300   16.824334    8.589855   \n",
       "min      0.000000     5.000000    0.000000   10.000000    0.000000   \n",
       "25%     10.000000    45.000000   45.000000   50.000000    0.000000   \n",
       "50%     30.000000    60.000000   60.000000   60.000000    0.000000   \n",
       "75%     45.000000    70.000000   70.000000   70.000000    5.000000   \n",
       "max    100.000000   100.000000  100.000000   99.000000   80.000000   \n",
       "\n",
       "            Salty     Vanilla        Tart      Fruity      Floral  \n",
       "count  585.000000  585.000000  585.000000  585.000000  585.000000  \n",
       "mean     5.476923   50.340171   21.548718   37.066667   17.835897  \n",
       "std      9.603433   20.526266   17.517548   21.334758   20.336899  \n",
       "min      0.000000    0.000000    0.000000    0.000000    0.000000  \n",
       "25%      0.000000   35.000000   10.000000   20.000000    0.000000  \n",
       "50%      0.000000   50.000000   20.000000   35.000000   10.000000  \n",
       "75%     10.000000   70.000000   30.000000   50.000000   30.000000  \n",
       "max     80.000000  100.000000   75.000000  100.000000   95.000000  "
      ]
     },
     "execution_count": 6,
     "metadata": {},
     "output_type": "execute_result"
    }
   ],
   "source": [
    "df2.describe()"
   ]
  },
  {
   "cell_type": "markdown",
   "metadata": {},
   "source": [
    "## Solving the Problem: Predicting good bourbons\n",
    "\n",
    "### Goal: \n",
    "\n",
    "Predict `Customers' Rating` using flavors and other features\n",
    "\n",
    "### Data:\n",
    "\n",
    "All of our 585 bourbons, but split into train/dev/test\n",
    "\n",
    "### Features:\n",
    "\n",
    "From our EDA, it appears safe to use most of our features. There's a chance that some of the features are collinear, and if the results demonstrate such, then we can always remove them. For now, we will focus on using the following features:\n",
    "\n",
    "- all 14 flavors\n",
    "- Age\n",
    "- ABV %\n",
    "- Price\n",
    "- Rare\n",
    "- Expert score\n",
    "\n",
    "NOTE: we will also keep track of the Names, just for manually inspecting our errors, but this will not be used as a feature to any model we use.\n",
    "\n",
    "### Accuracy Metric:\n",
    "\n",
    "Mean Squared Error"
   ]
  },
  {
   "cell_type": "markdown",
   "metadata": {},
   "source": [
    "## 1. Prepare the data for all experiments\n",
    "\n",
    "We have 585 bourbons. I think it's reasonable to:\n",
    "- train on 400\n",
    "- develop on 100\n",
    "- test on 85"
   ]
  },
  {
   "cell_type": "code",
   "execution_count": 7,
   "metadata": {},
   "outputs": [],
   "source": [
    "features =['Name', 'Age', 'ABV %', 'Price', 'Rare', 'Expert Score',\\\n",
    "         'Smoky', 'Peaty', 'Spicy', 'Herbal', 'Oily', 'Full-bodied', 'Rich',\\\n",
    "         'Sweet', 'Briny', 'Salty', 'Vanilla', 'Tart', 'Fruity', 'Floral']"
   ]
  },
  {
   "cell_type": "code",
   "execution_count": 32,
   "metadata": {},
   "outputs": [
    {
     "name": "stdout",
     "output_type": "stream",
     "text": [
      "400 100 85\n"
     ]
    }
   ],
   "source": [
    "# splitting the data into \"train\" and test sets\n",
    "x_, xtest, y_, ytest = train_test_split(df2[features], df2[\"Customers\\' Rating\"], test_size=85, random_state=538)\n",
    "\n",
    "# this further divides our 'train' into proper 'train' and 'dev' splits\n",
    "xtrain, xdev, ytrain, ydev = train_test_split(x_, y_, test_size=100, random_state=22)\n",
    "\n",
    "print(len(xtrain), len(xdev), len(xtest))"
   ]
  },
  {
   "cell_type": "markdown",
   "metadata": {},
   "source": [
    "### NOTE: We will never look at or access the `xtest` or `ytest` data until our final prediction\n",
    "\n",
    "## 2. Linear Regression"
   ]
  },
  {
   "cell_type": "markdown",
   "metadata": {},
   "source": [
    "<div class='exercise'><b>(Baseline model) Simple Multi-linear Regression</b></div>\n",
    "\n",
    "### Model choices:\n",
    "- Scale data: no\n",
    "- Polynomial features: no"
   ]
  },
  {
   "cell_type": "markdown",
   "metadata": {},
   "source": [
    "Before we do anything fancy, let's start simple by throwing all of our features at it and dissecting the results from one linear model."
   ]
  },
  {
   "cell_type": "code",
   "execution_count": 9,
   "metadata": {},
   "outputs": [
    {
     "data": {
      "text/plain": [
       "LinearRegression(copy_X=True, fit_intercept=True, n_jobs=None, normalize=False)"
      ]
     },
     "execution_count": 9,
     "metadata": {},
     "output_type": "execute_result"
    }
   ],
   "source": [
    "# fit a linear regression\n",
    "lreg = LinearRegression()\n",
    "lreg.fit(xtrain.drop(['Name'], axis=1), ytrain)"
   ]
  },
  {
   "cell_type": "markdown",
   "metadata": {},
   "source": [
    "Let's evaluate on the train and dev sets."
   ]
  },
  {
   "cell_type": "code",
   "execution_count": 10,
   "metadata": {},
   "outputs": [
    {
     "name": "stdout",
     "output_type": "stream",
     "text": [
      "train_MSE: 0.09467981675773907\n",
      "dev_MSE: 0.08281208809296803\n"
     ]
    }
   ],
   "source": [
    "# evaluate on the training set\n",
    "y_train_pred = lreg.predict(xtrain.drop(['Name'], axis=1))\n",
    "train_MSE = mean_squared_error(ytrain, y_train_pred)\n",
    "round(train_MSE, 5)\n",
    "print(\"train_MSE:\", train_MSE)\n",
    "\n",
    "# evaluate on the dev set\n",
    "y_dev_pred = lreg.predict(xdev.drop(['Name'], axis=1))\n",
    "dev_MSE = mean_squared_error(ydev, y_dev_pred)\n",
    "round(dev_MSE, 5)\n",
    "print(\"dev_MSE:\", dev_MSE)"
   ]
  },
  {
   "cell_type": "markdown",
   "metadata": {},
   "source": [
    "Is this value of 0.083 for `dev_MSE` good? I have no idea, but seems really low (we will soon discuss the fact that it's lower than the `train_MSE`)!\n",
    "\n",
    "Since we have 19 features, we cannot easily plot the regression line to inspect how well it fits the target labels. Instead, let's look at the residuals to see:\n",
    "- if they are normally distributed\n",
    "- if there are any trends with respect to the predict y-value"
   ]
  },
  {
   "cell_type": "code",
   "execution_count": 11,
   "metadata": {},
   "outputs": [
    {
     "data": {
      "image/png": "[encoded data removed]",
      "text/plain": [
       "<Figure size 864x288 with 2 Axes>"
      ]
     },
     "metadata": {
      "needs_background": "light"
     },
     "output_type": "display_data"
    }
   ],
   "source": [
    "# sort the values of x before line plot\n",
    "residuals = ydev - y_dev_pred\n",
    "\n",
    "# plot the histograms of residuals\n",
    "fig, ax = plt.subplots(1,2, figsize = (12, 4))\n",
    "gs = gridspec.GridSpec(1, 2, width_ratios=[3, 5]) \n",
    "ax[0] = plt.subplot(gs[0])\n",
    "ax[0].set_xlabel('Residuals')\n",
    "ax[0].set_ylabel('Frequency')\n",
    "ax[0].hist(residuals, alpha = 0.5, bins=8)\n",
    "\n",
    "# plot the predictions vs residuals\n",
    "ax[1] = plt.subplot(gs[1])\n",
    "ax[1].plot(y_dev_pred, y_dev_pred - ydev,'o',color='#2ea2db',alpha=0.7,label = 'Residual')\n",
    "ax[1].plot([y_dev_pred.min(),y_dev_pred.max()],[0,0],'k--',label = 'Line $y=0$')\n",
    "ax[1].set_xlabel('Predicted income values',fontsize=10)\n",
    "ax[1].set_ylabel('Residuals',fontsize=10)\n",
    "ax[1].legend(loc='upper right',fontsize=10)\n",
    "fig.suptitle('Analysis of Residuals (Dev set)',fontsize=14);"
   ]
  },
  {
   "cell_type": "markdown",
   "metadata": {},
   "source": [
    "Oh, that's good. That's really good! If it didn't look like it were normally distributed (left graph), then it would indicate that our features aren't linearly independent, and that we'd need to carefully remove some. Notwithstanding, it still might be the case that some features aren't too helpful. On the right, we see that there seems very little pattern as to how far off our predictions are. That is, when we make extreme predictions (very low or very high scores), our predictions tend to be inaccurate. When we make average score predictions, our residuals are kind of uniformly spread.\n",
    "\n",
    "Let's look at the *coefficients*, to gain insights:"
   ]
  },
  {
   "cell_type": "code",
   "execution_count": 12,
   "metadata": {},
   "outputs": [
    {
     "data": {
      "text/html": [
       "<div>\n",
       "<style scoped>\n",
       "    .dataframe tbody tr th:only-of-type {\n",
       "        vertical-align: middle;\n",
       "    }\n",
       "\n",
       "    .dataframe tbody tr th {\n",
       "        vertical-align: top;\n",
       "    }\n",
       "\n",
       "    .dataframe thead th {\n",
       "        text-align: right;\n",
       "    }\n",
       "</style>\n",
       "<table border=\"1\" class=\"dataframe\">\n",
       "  <thead>\n",
       "    <tr style=\"text-align: right;\">\n",
       "      <th></th>\n",
       "      <th>Coefficients</th>\n",
       "    </tr>\n",
       "  </thead>\n",
       "  <tbody>\n",
       "    <tr>\n",
       "      <th>Age</th>\n",
       "      <td>0.011533</td>\n",
       "    </tr>\n",
       "    <tr>\n",
       "      <th>ABV %</th>\n",
       "      <td>0.020882</td>\n",
       "    </tr>\n",
       "    <tr>\n",
       "      <th>Price</th>\n",
       "      <td>0.126616</td>\n",
       "    </tr>\n",
       "    <tr>\n",
       "      <th>Rare</th>\n",
       "      <td>-0.060881</td>\n",
       "    </tr>\n",
       "    <tr>\n",
       "      <th>Expert Score</th>\n",
       "      <td>0.038997</td>\n",
       "    </tr>\n",
       "    <tr>\n",
       "      <th>Smoky</th>\n",
       "      <td>0.002060</td>\n",
       "    </tr>\n",
       "    <tr>\n",
       "      <th>Peaty</th>\n",
       "      <td>-0.003457</td>\n",
       "    </tr>\n",
       "    <tr>\n",
       "      <th>Spicy</th>\n",
       "      <td>-0.001789</td>\n",
       "    </tr>\n",
       "    <tr>\n",
       "      <th>Herbal</th>\n",
       "      <td>-0.001086</td>\n",
       "    </tr>\n",
       "    <tr>\n",
       "      <th>Oily</th>\n",
       "      <td>-0.000878</td>\n",
       "    </tr>\n",
       "    <tr>\n",
       "      <th>Full-bodied</th>\n",
       "      <td>0.002990</td>\n",
       "    </tr>\n",
       "    <tr>\n",
       "      <th>Rich</th>\n",
       "      <td>-0.000871</td>\n",
       "    </tr>\n",
       "    <tr>\n",
       "      <th>Sweet</th>\n",
       "      <td>-0.000399</td>\n",
       "    </tr>\n",
       "    <tr>\n",
       "      <th>Briny</th>\n",
       "      <td>0.001004</td>\n",
       "    </tr>\n",
       "    <tr>\n",
       "      <th>Salty</th>\n",
       "      <td>0.000766</td>\n",
       "    </tr>\n",
       "    <tr>\n",
       "      <th>Vanilla</th>\n",
       "      <td>-0.000305</td>\n",
       "    </tr>\n",
       "    <tr>\n",
       "      <th>Tart</th>\n",
       "      <td>0.003016</td>\n",
       "    </tr>\n",
       "    <tr>\n",
       "      <th>Fruity</th>\n",
       "      <td>-0.000137</td>\n",
       "    </tr>\n",
       "    <tr>\n",
       "      <th>Floral</th>\n",
       "      <td>0.000110</td>\n",
       "    </tr>\n",
       "  </tbody>\n",
       "</table>\n",
       "</div>"
      ],
      "text/plain": [
       "              Coefficients\n",
       "Age               0.011533\n",
       "ABV %             0.020882\n",
       "Price             0.126616\n",
       "Rare             -0.060881\n",
       "Expert Score      0.038997\n",
       "Smoky             0.002060\n",
       "Peaty            -0.003457\n",
       "Spicy            -0.001789\n",
       "Herbal           -0.001086\n",
       "Oily             -0.000878\n",
       "Full-bodied       0.002990\n",
       "Rich             -0.000871\n",
       "Sweet            -0.000399\n",
       "Briny             0.001004\n",
       "Salty             0.000766\n",
       "Vanilla          -0.000305\n",
       "Tart              0.003016\n",
       "Fruity           -0.000137\n",
       "Floral            0.000110"
      ]
     },
     "execution_count": 12,
     "metadata": {},
     "output_type": "execute_result"
    }
   ],
   "source": [
    "coefs = pd.DataFrame(lreg.coef_, columns=['Coefficients'], index=features[1:])\n",
    "coefs"
   ]
  },
  {
   "cell_type": "markdown",
   "metadata": {},
   "source": [
    "It can be difficult to interpret the meaning of these coefficients because:\n",
    "- some features have different scales (e.g., the 14 flavors each is from 1-100 but price is from 1-5)\n",
    "- one feature is categorical (Rare).\n",
    "\n",
    "It makes sense that the flavors all have low values, and that some are _slightly_ negative. For example, most bourbons have low flavor values for *Herbal*. So, if a bourbon has an Herbal value of 50, this feature alone will contribute a **0.0543 decrease** in the overall prediction of the customer rating. Keep in mind, this rating should be between 0 and 5. Speaking of which, linear regression is entirely capable of making predictions beyond 5, which is an unfortunate artifact. If we print `y_dev_pred.max()` and `y_dev_pred.min()`, we see that all predictions were between 2.72 and 4.88, which is perfectly reasonable!\n",
    "\n",
    "Regarding the other coefficients, they all seem justifiable to me and nothing has caused concern for me yet. For example, the **Expert Score** is out of 100 and has one of the largest coefficients. As an example, if an Expert Score is 50, it alone will contribute 1.94. But, if it has a score of 100, it'll contribute twice as much (3.8897). Clearly, such a high-rated bourbon ought to receive higher than a 3.7098 from customers, and this is what we rely on the other features to contribute. So, a higher **ABV %**, **Price**, and **Age** all contribute toward a higher score.\n",
    "\n",
    "The *Rare* feature is possibly just noise. It has a low value (-0.06). So, if a bourbon is denoted as being rare, it only contribute 0.02. Possible explanations are the training/dev data and that the tag itself seems a bit unreliable. Within the EDA, I detailed that several very hard-to-find whiskeys didn't have the rarity tag. Moreover, if a whiskey truly is rare, it can be rare because it's highly desired and in limited supply, or because it's from a very small distillery and produces very basic, low-quality whiskey.\n",
    "\n",
    "### QUESTION: how do we know if we're suffering from not having enough data?"
   ]
  },
  {
   "cell_type": "markdown",
   "metadata": {},
   "source": [
    "<div class='exercise'><b>(Baseline model) Simple Multi-linear Regression + Boostrapping</b></div>\n",
    "\n",
    "Using just 1 run, as we did above, is short-sighted, and we can't place too much stock into the performance or features' coefficients. Let's perform bootstrapping with 100 samples (using 100% of the training data each time), while keeping track of (a) the coefficients so that we can see a distribution of them; and (2) the MSE performance on the dev set."
   ]
  },
  {
   "cell_type": "code",
   "execution_count": 13,
   "metadata": {},
   "outputs": [],
   "source": [
    "num_bootstraps = 100\n",
    "bootstrap_coefs = []\n",
    "train_MSEs = []\n",
    "dev_MSEs = []\n",
    "\n",
    "# bootstrapping will shuffle the rows, so we need to ensure\n",
    "# that the y's maintain the same order as the x's\n",
    "merged = pd.concat([xtrain, ytrain], axis=1, sort=False)\n",
    "\n",
    "for i in range(num_bootstraps):\n",
    "\n",
    "    boot_df = merged.sample(frac=1, replace=True)\n",
    "\n",
    "    xtrain_boot = boot_df.drop([\"Name\", \"Customers\\' Rating\"], axis=1)\n",
    "    ytrain_boot = boot_df[\"Customers\\' Rating\"]\n",
    "    \n",
    "    boot_lr = LinearRegression()\n",
    "    boot_lr.fit(xtrain_boot, ytrain_boot)\n",
    "    \n",
    "    # evaluate on the train set\n",
    "    y_train_pred_boot = boot_lr.predict(xtrain_boot)\n",
    "    train_MSE_boot = mean_squared_error(ytrain_boot, y_train_pred_boot)\n",
    "    round(train_MSE_boot, 5)\n",
    "    train_MSEs.append(train_MSE_boot)\n",
    "\n",
    "    # evaluate on the dev set\n",
    "    y_dev_pred_boot = boot_lr.predict(xdev.drop(['Name'], axis=1))\n",
    "    dev_MSE_boot = mean_squared_error(ydev, y_dev_pred_boot)\n",
    "    round(dev_MSE_boot, 5)\n",
    "    dev_MSEs.append(dev_MSE_boot)\n",
    "    \n",
    "    bootstrap_coefs.append(boot_lr.coef_)\n",
    "\n",
    "bootstrap_coefs = np.array(bootstrap_coefs)"
   ]
  },
  {
   "cell_type": "code",
   "execution_count": 14,
   "metadata": {},
   "outputs": [
    {
     "data": {
      "image/png": "[encoded data removed]",
      "text/plain": [
       "<Figure size 1440x1440 with 21 Axes>"
      ]
     },
     "metadata": {},
     "output_type": "display_data"
    }
   ],
   "source": [
    "## PLOTS THE HISTOGRAMS OF BETA COEFFICIENTS\n",
    "fig, ax = plt.subplots(nrows=7, ncols=3, figsize=(20, 20), facecolor='w', edgecolor='k')\n",
    "fig.subplots_adjust(hspace = .5, wspace=.2)\n",
    "ax = ax.ravel()\n",
    "fontsize = 10\n",
    "\n",
    "for i in range(1, len(features)):\n",
    "    \n",
    "    betavals = bootstrap_coefs[:,i-1]\n",
    "    betavals.sort()\n",
    "    \n",
    "    x1 = np.percentile(betavals,2.5)\n",
    "    x2 = np.percentile(betavals,97.5)\n",
    "    x = np.linspace(x1,x2,500)\n",
    "    counts, bins = np.histogram(betavals)\n",
    "    y = counts.max()\n",
    "    \n",
    "    ax[i-1].hist(bootstrap_coefs[:,i-1],bins=10, color=\"#FF7E79\",alpha=0.3,edgecolor='black', linewidth=1)\n",
    "    ax[i-1].fill_between(x,y, color = '#007D66',alpha=0.2)\n",
    "    \n",
    "    # prettify\n",
    "    ax[i-1].set_ylabel(f'Count',fontsize=10)\n",
    "    ax[i-1].set_xlabel(r'$\\beta$ for ' + features[i],fontsize=10)\n",
    "\n",
    "ax[19].set_axis_off()\n",
    "ax[20].set_axis_off()\n",
    "\n",
    "plt.xticks(fontsize=20)\n",
    "fig.suptitle(f'95 % confidence interval for feature coefficients', fontsize=16)\n",
    "fig.subplots_adjust(top=0.95)\n",
    "sns.despine()"
   ]
  },
  {
   "cell_type": "markdown",
   "metadata": {},
   "source": [
    "Hey, this looks pretty good! Each beta coefficient looks pretty normally distributed, and the range of values isn't too large. Part of this narrow range can be explained by the small data size.\n",
    "\n",
    "To see the variation of the actual predictions, let's plot the MSE that came from each dev split."
   ]
  },
  {
   "cell_type": "code",
   "execution_count": 15,
   "metadata": {},
   "outputs": [
    {
     "data": {
      "text/plain": [
       "<matplotlib.legend.Legend at 0x1272eab50>"
      ]
     },
     "execution_count": 15,
     "metadata": {},
     "output_type": "execute_result"
    },
    {
     "data": {
      "image/png": "[encoded data removed]",
      "text/plain": [
       "<Figure size 432x288 with 1 Axes>"
      ]
     },
     "metadata": {
      "needs_background": "light"
     },
     "output_type": "display_data"
    }
   ],
   "source": [
    "plt.figure(figsize=(6,4))\n",
    "plt.hist(train_MSEs, bins=10, alpha=0.5, label=\"Train split\")\n",
    "plt.hist(dev_MSEs, bins=10, alpha=0.5, label=\"Dev split\")\n",
    "\n",
    "plt.xlabel(\"MSE Values\", size=10)\n",
    "plt.ylabel(\"Count\", size=10)\n",
    "plt.title(\"Performance differences\")\n",
    "plt.legend(loc='upper right')"
   ]
  },
  {
   "cell_type": "markdown",
   "metadata": {},
   "source": [
    "Ah, shucks, that's completely unexpected. The training accuracy should be better (lower) than the dev accuracy.\n",
    "\n",
    "### QUESTION: what could be causes?"
   ]
  },
  {
   "cell_type": "markdown",
   "metadata": {},
   "source": [
    "### ANSWER:\n",
    "\n",
    "In general, this could mean at least one of several things likely occurred:\n",
    "- our training and dev splits aren't *too* similar to one another\n",
    "- our training and/or dev splits are too small\n",
    "- there isn't enough of a signal to properly learn (e.g., bad features, or too many features)\n",
    "- we didn't train our model long enough (not applicable for simple linear regression)\n",
    "\n",
    "Our data is really small (400 training samples). So, let's try cross-validation in addition to bootstrapping!"
   ]
  },
  {
   "cell_type": "markdown",
   "metadata": {},
   "source": [
    "<div class='exercise'><b>Simple Multi-linear Regression + Bootstrapping + Cross-validation</b></div>\n",
    "\n",
    "Using just 1 split, as we did above, is short-sighted, and we can't place too much stock into the coefficients and results. So, let's use 10-fold cross-validation for each of 100 bootstrapped samples!"
   ]
  },
  {
   "cell_type": "code",
   "execution_count": 16,
   "metadata": {},
   "outputs": [
    {
     "name": "stdout",
     "output_type": "stream",
     "text": [
      "train_MSEs: 0.08578783379420153\n",
      "dev_MSEs: 0.09414415195967932\n"
     ]
    }
   ],
   "source": [
    "num_bootstraps = 100\n",
    "bootstrap_coefs = []\n",
    "# i want things to be random, but consistent for everyone who runs this.\n",
    "# we need to generate 100 bootstraps, each of which should\n",
    "# be a random sample of the data. if a single bootstrap\n",
    "# sample has a `random_state` defined, then the sample will be\n",
    "# the same every time. well, i want 100 of these unique ones,\n",
    "# so i generate a list of 100 random seeds. this list of seeds\n",
    "# needs to be fixed, which is what i do in the following 2 lines:\n",
    "random.seed(a=21)\n",
    "bootstrap_seeds = random.sample(range(100000), num_bootstraps)\n",
    "\n",
    "# now we include all of the original 'train'\n",
    "# which encompasses the original 'dev' but excludes the 'test'\n",
    "merged = pd.concat([x_, y_], axis=1, sort=False)\n",
    "\n",
    "train_MSEs = []\n",
    "dev_MSEs = []\n",
    "for i in range(num_bootstraps):\n",
    "    \n",
    "    boot_df = merged.sample(frac=1, replace=True, random_state=bootstrap_seeds[i])\n",
    "    \n",
    "    kf = KFold(n_splits=10, random_state=270)\n",
    "    #kf.get_n_splits(boot_df.drop([\"Customers\\' Rating\"], axis=1))\n",
    "    for train_index, dev_index in kf.split(boot_df):\n",
    "\n",
    "        xtrain_cv = boot_df.iloc[train_index].drop([\"Name\", \"Customers\\' Rating\"], axis=1)\n",
    "        ytrain_cv = boot_df.iloc[train_index][\"Customers\\' Rating\"]\n",
    "        \n",
    "        xdev_cv = boot_df.iloc[dev_index].drop([\"Name\", \"Customers\\' Rating\"], axis=1)\n",
    "        ydev_cv = boot_df.iloc[dev_index][\"Customers\\' Rating\"]\n",
    "        \n",
    "        cv_lr = LinearRegression()\n",
    "        cv_lr.fit(xtrain_cv, ytrain_cv)\n",
    "        \n",
    "        # evaluate on the train set\n",
    "        y_train_pred_cv = cv_lr.predict(xtrain_cv)\n",
    "        train_MSE_cv = mean_squared_error(ytrain_cv, y_train_pred_cv)\n",
    "        round(train_MSE_cv, 5)\n",
    "        train_MSEs.append(train_MSE_cv)\n",
    "\n",
    "        # evaluate on the dev set\n",
    "        y_dev_pred_cv = cv_lr.predict(xdev_cv)\n",
    "        dev_MSE_cv = mean_squared_error(ydev_cv, y_dev_pred_cv)\n",
    "        round(dev_MSE_cv, 5)\n",
    "        dev_MSEs.append(dev_MSE_cv)\n",
    "\n",
    "        bootstrap_coefs.append(cv_lr.coef_)\n",
    "    \n",
    "print(\"train_MSEs:\", np.mean(train_MSEs))\n",
    "print(\"dev_MSEs:\", np.mean(dev_MSEs))\n",
    "bootstrap_coefs = np.array(bootstrap_coefs)"
   ]
  },
  {
   "cell_type": "markdown",
   "metadata": {},
   "source": [
    "We now see the property that we'd expect: the dev accuracy is worse than the training accuracy, although only by a little. We could probably benefit from having:\n",
    "- more data observations (i.e., whiskeys)\n",
    "- possibly different features\n",
    "- possibly better modelling\n",
    "\n",
    "We can't make **more** data observations (whiskeys), and we've done a lot to sample our data so as to make our results more robust and meaningful. So, let's focus on trying **different features**, and then we can move on to other modelling choices!"
   ]
  },
  {
   "cell_type": "code",
   "execution_count": 17,
   "metadata": {},
   "outputs": [
    {
     "data": {
      "image/png": "[encoded data removed]",
      "text/plain": [
       "<Figure size 1440x1440 with 21 Axes>"
      ]
     },
     "metadata": {},
     "output_type": "display_data"
    }
   ],
   "source": [
    "## PLOTS THE HISTOGRAMS OF BETA COEFFICIENTS\n",
    "fig, ax = plt.subplots(nrows=7, ncols=3, figsize=(20, 20), facecolor='w', edgecolor='k')\n",
    "fig.subplots_adjust(hspace = .5, wspace=.2)\n",
    "ax = ax.ravel()\n",
    "fontsize = 10\n",
    "\n",
    "for i in range(1, len(features)):\n",
    "    \n",
    "    betavals = bootstrap_coefs[:,i-1]\n",
    "    betavals.sort()\n",
    "    \n",
    "    x1 = np.percentile(betavals,2.5)\n",
    "    x2 = np.percentile(betavals,97.5)\n",
    "    x = np.linspace(x1,x2,500)\n",
    "    counts, bins = np.histogram(betavals)\n",
    "    y = counts.max()\n",
    "    \n",
    "    ax[i-1].hist(bootstrap_coefs[:,i-1],bins=10, color=\"#FF7E79\",alpha=0.3,edgecolor='black', linewidth=1)\n",
    "    ax[i-1].fill_between(x,y, color = '#007D66',alpha=0.2)\n",
    "    \n",
    "    # prettify\n",
    "    ax[i-1].set_ylabel(f'Count',fontsize=10)\n",
    "    ax[i-1].set_xlabel(r'$\\beta$ for ' + features[i],fontsize=10)\n",
    "\n",
    "ax[19].set_axis_off()\n",
    "ax[20].set_axis_off()\n",
    "\n",
    "plt.xticks(fontsize=20)\n",
    "fig.suptitle(f'95 % confidence interval for feature coefficients', fontsize=16)\n",
    "fig.subplots_adjust(top=0.95)\n",
    "sns.despine()"
   ]
  },
  {
   "cell_type": "code",
   "execution_count": 18,
   "metadata": {},
   "outputs": [
    {
     "data": {
      "text/plain": [
       "<matplotlib.legend.Legend at 0x12803da90>"
      ]
     },
     "execution_count": 18,
     "metadata": {},
     "output_type": "execute_result"
    },
    {
     "data": {
      "image/png": "[encoded data removed]",
      "text/plain": [
       "<Figure size 432x288 with 1 Axes>"
      ]
     },
     "metadata": {
      "needs_background": "light"
     },
     "output_type": "display_data"
    }
   ],
   "source": [
    "plt.figure(figsize=(6,4))\n",
    "plt.hist(train_MSEs, bins=10, alpha=0.5, label=\"Train split\")\n",
    "plt.hist(dev_MSEs, bins=10, alpha=0.5, label=\"Dev split\")\n",
    "\n",
    "plt.xlabel(\"MSE Values\", size=10)\n",
    "plt.ylabel(\"Count\", size=10)\n",
    "plt.title(\"Performance differences\")\n",
    "plt.legend(loc='upper right')"
   ]
  },
  {
   "cell_type": "markdown",
   "metadata": {},
   "source": [
    "We see that the coefficients look even more normally distributed, and the MSE values for the training are more reasonable now -- compared to the dev set. The dev set performance has quite a span, which makes sense because we tried *many* splits (1,000 tests), and the data is small."
   ]
  },
  {
   "cell_type": "markdown",
   "metadata": {},
   "source": [
    "<div class='exercise'><b>Feature Selection with Simple Multi-linear Regression + Bootstrapping + Cross-validation</b></div>\n",
    "\n",
    "Above, we threw the entire kitchen sink at the problem (aka, all features). Let's do forward passes to iteratively determine, in a greedy fashion, which combination of features yields the best results, on average. Keep in mind that the data is small, so there will be some noise. Specifically, let's start with just 1 feature (which performs best by itself), then keep adding 1 more feature, while keeping track of the performances."
   ]
  },
  {
   "cell_type": "code",
   "execution_count": 19,
   "metadata": {},
   "outputs": [
    {
     "name": "stdout",
     "output_type": "stream",
     "text": [
      "best feature: Expert Score\n",
      "best feature: Price\n",
      "best feature: ABV %\n",
      "best feature: Age\n",
      "best feature: Tart\n",
      "best feature: Herbal\n",
      "best feature: Smoky\n",
      "best feature: Full-bodied\n",
      "best feature: Spicy\n",
      "best feature: Fruity\n",
      "best feature: Vanilla\n",
      "best feature: Sweet\n",
      "best feature: Rich\n",
      "best feature: Floral\n",
      "best feature: Oily\n",
      "best feature: Salty\n",
      "best feature: Briny\n",
      "best feature: Peaty\n",
      "best feature: Rare\n"
     ]
    }
   ],
   "source": [
    "num_bootstraps = 50\n",
    "bootstrap_coefs = []\n",
    "\n",
    "random.seed(a=21)\n",
    "bootstrap_seeds = random.sample(range(100000), num_bootstraps)\n",
    "\n",
    "# now we include all of the original 'train'\n",
    "# which encompasses the original 'dev' but excludes the 'test'\n",
    "merged = pd.concat([x_, y_], axis=1, sort=False)\n",
    "\n",
    "selected_features = []\n",
    "candidate_features = features[1:]\n",
    "mse_across_features = []\n",
    "\n",
    "while len(candidate_features) > 0:\n",
    "\n",
    "    best_mse = 9999\n",
    "    best_feature = \"\"\n",
    "\n",
    "    for i, feature in enumerate(candidate_features):\n",
    "        \n",
    "        dev_MSEs = []\n",
    "        for i in range(num_bootstraps):\n",
    "\n",
    "            boot_df = merged.sample(frac=1, replace=True, random_state=bootstrap_seeds[i])\n",
    "\n",
    "            kf = KFold(n_splits=10, random_state=270)\n",
    "            #kf.get_n_splits(boot_df.drop([\"Customers\\' Rating\"], axis=1))\n",
    "            for train_index, dev_index in kf.split(boot_df):\n",
    "\n",
    "                xtrain_cv = boot_df.iloc[train_index][selected_features + [feature]]\n",
    "                ytrain_cv = boot_df.iloc[train_index][\"Customers\\' Rating\"]\n",
    "\n",
    "                xdev_cv = boot_df.iloc[dev_index][selected_features + [feature]]\n",
    "                ydev_cv = boot_df.iloc[dev_index][\"Customers\\' Rating\"]\n",
    "\n",
    "                cv_lr = LinearRegression()\n",
    "                cv_lr.fit(xtrain_cv, ytrain_cv)\n",
    "\n",
    "                # evaluate on the dev set\n",
    "                y_dev_pred_cv = cv_lr.predict(xdev_cv)\n",
    "                dev_MSE_cv = mean_squared_error(ydev_cv, y_dev_pred_cv)\n",
    "                round(dev_MSE_cv, 5)\n",
    "                dev_MSEs.append(dev_MSE_cv)\n",
    "\n",
    "        cur_mse = np.mean(dev_MSEs)\n",
    "        if cur_mse < best_mse:\n",
    "            best_mse = cur_mse\n",
    "            best_feature = feature\n",
    "\n",
    "    mse_across_features.append(best_mse)\n",
    "    print(\"best feature:\", best_feature)\n",
    "    selected_features.append(best_feature)\n",
    "    candidate_features.remove(best_feature)"
   ]
  },
  {
   "cell_type": "markdown",
   "metadata": {},
   "source": [
    "Let's plot the performance as we increased the # of features."
   ]
  },
  {
   "cell_type": "code",
   "execution_count": 20,
   "metadata": {},
   "outputs": [
    {
     "data": {
      "image/png": "[encoded data removed]",
      "text/plain": [
       "<Figure size 432x360 with 1 Axes>"
      ]
     },
     "metadata": {
      "needs_background": "light"
     },
     "output_type": "display_data"
    }
   ],
   "source": [
    "ind = [_ + 1 for _ in range(len(features)-1)]\n",
    "\n",
    "fig, ax = plt.subplots(figsize=(6,5))\n",
    "ax.bar(ind, mse_across_features, color = '#007D66',alpha=0.3,edgecolor='k')\n",
    "ax.set_xticks(sorted(ind));\n",
    "ax.set_xlabel(r'# features used', fontsize=10)\n",
    "ax.set_ylabel('Average MSE', fontsize=10)\n",
    "ax.set_title(f'Feature Selection Performance (Dev set)',fontsize=14)\n",
    "sns.despine()\n",
    "plt.tight_layout()"
   ]
  },
  {
   "cell_type": "code",
   "execution_count": 21,
   "metadata": {},
   "outputs": [
    {
     "name": "stdout",
     "output_type": "stream",
     "text": [
      "best_num_features: 6\n",
      "features: ['Expert Score', 'Price', 'ABV %', 'Age', 'Tart', 'Herbal']\n",
      "mse_across_features: 0.08898992695054489\n"
     ]
    }
   ],
   "source": [
    "best_num_features = np.argmin(mse_across_features)\n",
    "print(\"best_num_features:\", best_num_features)\n",
    "print(\"features:\", selected_features[0:best_num_features])\n",
    "print(\"mse_across_features:\", np.min(mse_across_features))"
   ]
  },
  {
   "cell_type": "markdown",
   "metadata": {},
   "source": [
    "The results plateau, and adding more features doesn't offer any significant change."
   ]
  },
  {
   "cell_type": "code",
   "execution_count": 22,
   "metadata": {},
   "outputs": [
    {
     "name": "stdout",
     "output_type": "stream",
     "text": [
      "0.12909522321420297 []\n",
      "0.1044492865665544 ['Expert Score']\n",
      "0.09129133372424443 ['Expert Score', 'Price']\n",
      "0.08965466716306167 ['Expert Score', 'Price', 'ABV %']\n",
      "0.08923430250733025 ['Expert Score', 'Price', 'ABV %', 'Age']\n",
      "0.08899175542814948 ['Expert Score', 'Price', 'ABV %', 'Age', 'Tart']\n",
      "0.08898992695054489 ['Expert Score', 'Price', 'ABV %', 'Age', 'Tart', 'Herbal']\n",
      "0.08907203953495638 ['Expert Score', 'Price', 'ABV %', 'Age', 'Tart', 'Herbal', 'Smoky']\n",
      "0.08904955558657023 ['Expert Score', 'Price', 'ABV %', 'Age', 'Tart', 'Herbal', 'Smoky', 'Full-bodied']\n",
      "0.08912186240983001 ['Expert Score', 'Price', 'ABV %', 'Age', 'Tart', 'Herbal', 'Smoky', 'Full-bodied', 'Spicy']\n",
      "0.08922281913220305 ['Expert Score', 'Price', 'ABV %', 'Age', 'Tart', 'Herbal', 'Smoky', 'Full-bodied', 'Spicy', 'Fruity']\n",
      "0.08939031344729367 ['Expert Score', 'Price', 'ABV %', 'Age', 'Tart', 'Herbal', 'Smoky', 'Full-bodied', 'Spicy', 'Fruity', 'Vanilla']\n",
      "0.0895770795888184 ['Expert Score', 'Price', 'ABV %', 'Age', 'Tart', 'Herbal', 'Smoky', 'Full-bodied', 'Spicy', 'Fruity', 'Vanilla', 'Sweet']\n",
      "0.089789108846626 ['Expert Score', 'Price', 'ABV %', 'Age', 'Tart', 'Herbal', 'Smoky', 'Full-bodied', 'Spicy', 'Fruity', 'Vanilla', 'Sweet', 'Rich']\n",
      "0.08998644005302465 ['Expert Score', 'Price', 'ABV %', 'Age', 'Tart', 'Herbal', 'Smoky', 'Full-bodied', 'Spicy', 'Fruity', 'Vanilla', 'Sweet', 'Rich', 'Floral']\n",
      "0.0902279116950343 ['Expert Score', 'Price', 'ABV %', 'Age', 'Tart', 'Herbal', 'Smoky', 'Full-bodied', 'Spicy', 'Fruity', 'Vanilla', 'Sweet', 'Rich', 'Floral', 'Oily']\n",
      "0.09046982227650237 ['Expert Score', 'Price', 'ABV %', 'Age', 'Tart', 'Herbal', 'Smoky', 'Full-bodied', 'Spicy', 'Fruity', 'Vanilla', 'Sweet', 'Rich', 'Floral', 'Oily', 'Salty']\n",
      "0.09078497439811871 ['Expert Score', 'Price', 'ABV %', 'Age', 'Tart', 'Herbal', 'Smoky', 'Full-bodied', 'Spicy', 'Fruity', 'Vanilla', 'Sweet', 'Rich', 'Floral', 'Oily', 'Salty', 'Briny']\n",
      "0.09121076986135675 ['Expert Score', 'Price', 'ABV %', 'Age', 'Tart', 'Herbal', 'Smoky', 'Full-bodied', 'Spicy', 'Fruity', 'Vanilla', 'Sweet', 'Rich', 'Floral', 'Oily', 'Salty', 'Briny', 'Peaty']\n"
     ]
    }
   ],
   "source": [
    "for i in range(len(selected_features)):\n",
    "    print(mse_across_features[i], selected_features[0:i])"
   ]
  },
  {
   "cell_type": "markdown",
   "metadata": {},
   "source": [
    "An MSE of 0.09 seems pretty good to me! Let's compare it to other models."
   ]
  },
  {
   "cell_type": "markdown",
   "metadata": {},
   "source": [
    "## 3. kNN"
   ]
  },
  {
   "cell_type": "markdown",
   "metadata": {},
   "source": [
    "Let's start simple, as we did with Linear Regression. We begin by fitting a kNN regressor on 1 particular split (the original one). The purpose of starting small is to ensure we're doing it correctly and that the results make sense."
   ]
  },
  {
   "cell_type": "code",
   "execution_count": 33,
   "metadata": {},
   "outputs": [
    {
     "name": "stdout",
     "output_type": "stream",
     "text": [
      "mse_train: 0.14111582000000003 mse_dev: 0.1996808\n"
     ]
    }
   ],
   "source": [
    "# create and fit a kNN regressor\n",
    "k = 5\n",
    "knn_model = KNeighborsRegressor(n_neighbors=k)\n",
    "knn_model.fit(xtrain.drop(['Name'], axis=1), ytrain)\n",
    "\n",
    "# evaluate on the training set\n",
    "y_train_pred = knn_model.predict(xtrain.drop(['Name'], axis=1))\n",
    "mse_train = mean_squared_error(ytrain, y_train_pred)\n",
    "\n",
    "# evaluate on the dev set\n",
    "y_dev_pred = knn_model.predict(xdev.drop(['Name'], axis=1))\n",
    "mse_dev = mean_squared_error(ydev, y_dev_pred)\n",
    "mse_dev\n",
    "\n",
    "print(\"mse_train:\", mse_train, \"mse_dev:\", mse_dev)"
   ]
  },
  {
   "cell_type": "markdown",
   "metadata": {},
   "source": [
    "Ok, it runs! However, those scores look much worse than what we started with when using linear regression. Hmm, hopefully it can improve. Let's vary our **k** value and see if we can do better for this original data split."
   ]
  },
  {
   "cell_type": "code",
   "execution_count": 34,
   "metadata": {},
   "outputs": [
    {
     "name": "stdout",
     "output_type": "stream",
     "text": [
      "k: 1 train_MSE: 0.00012 dev_MSE: 0.28597\n",
      "k: 2 train_MSE: 0.08047 dev_MSE: 0.23643\n",
      "k: 3 train_MSE: 0.11501 dev_MSE: 0.22813\n",
      "k: 4 train_MSE: 0.13051 dev_MSE: 0.21735\n",
      "k: 5 train_MSE: 0.14112 dev_MSE: 0.19968\n",
      "k: 6 train_MSE: 0.14608 dev_MSE: 0.19611\n",
      "k: 7 train_MSE: 0.15572 dev_MSE: 0.19327\n",
      "k: 8 train_MSE: 0.16047 dev_MSE: 0.189\n",
      "k: 9 train_MSE: 0.16409 dev_MSE: 0.19695\n",
      "k: 10 train_MSE: 0.16373 dev_MSE: 0.19697\n",
      "k: 11 train_MSE: 0.16789 dev_MSE: 0.19521\n",
      "k: 12 train_MSE: 0.17082 dev_MSE: 0.19363\n",
      "k: 13 train_MSE: 0.17434 dev_MSE: 0.19383\n",
      "k: 14 train_MSE: 0.17493 dev_MSE: 0.19486\n",
      "k: 15 train_MSE: 0.17601 dev_MSE: 0.19033\n",
      "k: 16 train_MSE: 0.17767 dev_MSE: 0.18629\n",
      "k: 17 train_MSE: 0.17972 dev_MSE: 0.18922\n",
      "k: 18 train_MSE: 0.18203 dev_MSE: 0.18567\n",
      "k: 19 train_MSE: 0.18227 dev_MSE: 0.18446\n",
      "*** best result was k = 18 : 0.18446\n"
     ]
    }
   ],
   "source": [
    "max_k = 20\n",
    "train_MSEs = []\n",
    "dev_MSEs = []\n",
    "\n",
    "for k in range(1, max_k):\n",
    "\n",
    "    knn_model = KNeighborsRegressor(n_neighbors=k)\n",
    "    knn_model.fit(xtrain.drop(['Name'], axis=1), ytrain)\n",
    "\n",
    "    # evaluate on the training set\n",
    "    y_train_pred = knn_model.predict(xtrain.drop(['Name'], axis=1))\n",
    "    train_MSE = round(mean_squared_error(ytrain, y_train_pred), 5)\n",
    "    train_MSEs.append(train_MSE)\n",
    "    \n",
    "    # evaluate on the dev set\n",
    "    y_dev_pred = knn_model.predict(xdev.drop(['Name'], axis=1))\n",
    "    dev_MSE = round(mean_squared_error(ydev, y_dev_pred), 5)\n",
    "    dev_MSEs.append(dev_MSE)\n",
    "    \n",
    "    print(\"k:\", k, \"train_MSE:\", train_MSE, \"dev_MSE:\", dev_MSE)\n",
    "print(\"*** best result was k =\", np.argmin(dev_MSEs), \":\", np.min(dev_MSEs))"
   ]
  },
  {
   "cell_type": "code",
   "execution_count": 35,
   "metadata": {},
   "outputs": [
    {
     "data": {
      "image/png": "[encoded data removed]",
      "text/plain": [
       "<Figure size 288x288 with 1 Axes>"
      ]
     },
     "metadata": {
      "needs_background": "light"
     },
     "output_type": "display_data"
    }
   ],
   "source": [
    "# let's visualize the trend\n",
    "ind = [_ + 1 for _ in range(max_k-1)]\n",
    "fig, ax = plt.subplots(1,1, figsize=(4,4))\n",
    "ax.plot(ind, train_MSEs, 's-', label='Train split',color='#02afed',linewidth=2)\n",
    "ax.plot(ind, dev_MSEs, 's--', label='Dev split',color='#355561',linewidth=2)\n",
    "ax.set_xlabel(r'$K$ values', fontsize=10)\n",
    "ax.set_ylabel('MSE', fontsize=10)\n",
    "ax.set_title(r'kNN Performance')\n",
    "ax.legend(fontsize=14)\n",
    "fig.tight_layout()"
   ]
  },
  {
   "cell_type": "markdown",
   "metadata": {},
   "source": [
    "Ah, that's not as good as linear regression! This is only over 1 split. Let's do the same procedure we did with linear regression, so that it's a fair comparison: feature selection + boostrapping + cross-validation. "
   ]
  },
  {
   "cell_type": "code",
   "execution_count": 26,
   "metadata": {},
   "outputs": [
    {
     "name": "stdout",
     "output_type": "stream",
     "text": [
      "best_num_features: 6\n",
      "features: ['Expert Score', 'Price', 'ABV %', 'Age', 'Tart', 'Herbal']\n",
      "mse_across_features: 0.08898992695054489\n"
     ]
    }
   ],
   "source": [
    "best_num_features = np.argmin(mse_across_features)\n",
    "print(\"best_num_features:\", best_num_features)\n",
    "print(\"features:\", selected_features[0:best_num_features])\n",
    "print(\"mse_across_features:\", np.min(mse_across_features))"
   ]
  },
  {
   "cell_type": "code",
   "execution_count": 27,
   "metadata": {},
   "outputs": [
    {
     "name": "stdout",
     "output_type": "stream",
     "text": [
      "k: 12 best_mse: 0.1869475999999999\n",
      "k: 13 best_mse: 0.18727519999999998\n",
      "k: 14 best_mse: 0.1882234\n",
      "k: 15 best_mse: 0.1890631\n",
      "k: 16 best_mse: 0.18984310000000001\n",
      "k: 17 best_mse: 0.1905571\n"
     ]
    }
   ],
   "source": [
    "min_k = 12\n",
    "max_k = 18\n",
    "\n",
    "num_bootstraps = 10\n",
    "bootstrap_coefs = []\n",
    "\n",
    "random.seed(a=21)\n",
    "bootstrap_seeds = random.sample(range(100000), num_bootstraps)\n",
    "\n",
    "# now we include all of the original 'train'\n",
    "# which encompasses the original 'dev' but excludes the 'test'\n",
    "merged = pd.concat([x_, y_], axis=1, sort=False)\n",
    "\n",
    "k_to_num_features = {}\n",
    "k_to_best_features = {}\n",
    "for k in range(min_k, max_k):\n",
    "    selected_features = []\n",
    "    candidate_features = features[1:]\n",
    "    mse_across_features = []\n",
    "\n",
    "    while len(candidate_features) > 0:\n",
    "\n",
    "        best_mse = 9999\n",
    "        best_feature = \"\"\n",
    "\n",
    "        for i, feature in enumerate(candidate_features):\n",
    "\n",
    "            dev_MSEs = []\n",
    "            for i in range(num_bootstraps):\n",
    "\n",
    "                boot_df = merged.sample(frac=1, replace=True, random_state=bootstrap_seeds[i])\n",
    "\n",
    "                kf = KFold(n_splits=10, random_state=270)\n",
    "                for train_index, dev_index in kf.split(boot_df):\n",
    "\n",
    "                    xtrain_cv = boot_df.iloc[train_index][selected_features + [feature]]\n",
    "                    ytrain_cv = boot_df.iloc[train_index][\"Customers\\' Rating\"]\n",
    "\n",
    "                    xdev_cv = boot_df.iloc[dev_index][selected_features + [feature]]\n",
    "                    ydev_cv = boot_df.iloc[dev_index][\"Customers\\' Rating\"]\n",
    "\n",
    "                    knn_model = KNeighborsRegressor(n_neighbors=k)\n",
    "                    knn_model.fit(xtrain_cv, ytrain_cv)\n",
    "\n",
    "                    # evaluate on the training set\n",
    "                    y_train_pred = knn_model.predict(xtrain_cv)\n",
    "                    train_MSE = round(mean_squared_error(ytrain_cv, y_train_pred), 5)\n",
    "                    train_MSEs.append(train_MSE)\n",
    "\n",
    "                    # evaluate on the dev set\n",
    "                    y_dev_pred = knn_model.predict(xdev_cv)\n",
    "                    dev_MSE = round(mean_squared_error(ydev_cv, y_dev_pred), 5)\n",
    "                    dev_MSEs.append(dev_MSE)\n",
    "\n",
    "            cur_mse = np.mean(dev_MSEs)\n",
    "            if cur_mse < best_mse:\n",
    "                best_mse = cur_mse\n",
    "                best_feature = feature\n",
    "\n",
    "        mse_across_features.append(np.min(best_mse))\n",
    "        selected_features.append(best_feature)\n",
    "        candidate_features.remove(best_feature)\n",
    "        \n",
    "    print(\"k:\", k, \"best_mse:\", best_mse)\n",
    "    k_to_num_features[k] = mse_across_features\n",
    "    k_to_best_features[k] = selected_features[0:np.argmin(mse_across_features)+1]"
   ]
  },
  {
   "cell_type": "code",
   "execution_count": 28,
   "metadata": {},
   "outputs": [
    {
     "data": {
      "image/png": "[encoded data removed]",
      "text/plain": [
       "<Figure size 576x432 with 1 Axes>"
      ]
     },
     "metadata": {
      "needs_background": "light"
     },
     "output_type": "display_data"
    }
   ],
   "source": [
    "# let's visualize the trend\n",
    "ind = [_ + 1 for _ in range(len(features)-1)]\n",
    "fig, ax = plt.subplots(1,1, figsize=(8,6))\n",
    "len(k_to_num_features[12])\n",
    "for k in range(min_k, max_k):\n",
    "    ax.plot(ind, k_to_num_features[k], 's-', label='k='+str(k),linewidth=2)\n",
    "\n",
    "ax.set_xlabel(r'# features', fontsize=10)\n",
    "ax.set_ylabel('Avg MSE', fontsize=10)\n",
    "ax.set_title(r'Performance on the Dev Set')\n",
    "ax.legend(fontsize=10)\n",
    "xint = range(min(ind), math.ceil(max(ind))+1)\n",
    "matplotlib.pyplot.xticks(xint)\n",
    "fig.tight_layout()"
   ]
  },
  {
   "cell_type": "code",
   "execution_count": 29,
   "metadata": {},
   "outputs": [
    {
     "data": {
      "text/plain": [
       "{12: [0.13591640000000002,\n",
       "  0.10494430000000002,\n",
       "  0.09913929999999997,\n",
       "  0.09723290000000001,\n",
       "  0.09672829999999999,\n",
       "  0.09702670000000001,\n",
       "  0.10447569999999999,\n",
       "  0.11420819999999997,\n",
       "  0.12387369999999999,\n",
       "  0.1330116,\n",
       "  0.1400715,\n",
       "  0.14785450000000003,\n",
       "  0.15514190000000003,\n",
       "  0.1601279,\n",
       "  0.1669202,\n",
       "  0.17356739999999998,\n",
       "  0.1792516,\n",
       "  0.1819095,\n",
       "  0.1869475999999999],\n",
       " 13: [0.1343208,\n",
       "  0.10509180000000003,\n",
       "  0.09929230000000003,\n",
       "  0.09763709999999999,\n",
       "  0.097058,\n",
       "  0.09737620000000001,\n",
       "  0.10464460000000003,\n",
       "  0.11440120000000001,\n",
       "  0.12499389999999998,\n",
       "  0.13398030000000002,\n",
       "  0.1409857,\n",
       "  0.1484114,\n",
       "  0.1564101,\n",
       "  0.16226759999999998,\n",
       "  0.16834949999999996,\n",
       "  0.17425569999999996,\n",
       "  0.17974549999999997,\n",
       "  0.1829839,\n",
       "  0.18727519999999998],\n",
       " 14: [0.13382,\n",
       "  0.10542790000000002,\n",
       "  0.09966219999999999,\n",
       "  0.09805530000000001,\n",
       "  0.09768320000000003,\n",
       "  0.09808360000000002,\n",
       "  0.10480590000000004,\n",
       "  0.1145414,\n",
       "  0.1258255,\n",
       "  0.13452319999999998,\n",
       "  0.1418784,\n",
       "  0.1495025,\n",
       "  0.15825319999999998,\n",
       "  0.16450169999999997,\n",
       "  0.16951850000000004,\n",
       "  0.1748298,\n",
       "  0.1802204,\n",
       "  0.18430219999999997,\n",
       "  0.1882234],\n",
       " 15: [0.132942,\n",
       "  0.10539870000000001,\n",
       "  0.0999611,\n",
       "  0.09818810000000001,\n",
       "  0.09783450000000002,\n",
       "  0.09819739999999999,\n",
       "  0.10545439999999999,\n",
       "  0.11486910000000002,\n",
       "  0.1269057,\n",
       "  0.1350499,\n",
       "  0.142929,\n",
       "  0.1506209,\n",
       "  0.1598054,\n",
       "  0.16627439999999996,\n",
       "  0.1705622,\n",
       "  0.1755045,\n",
       "  0.18098350000000005,\n",
       "  0.1851066,\n",
       "  0.1890631],\n",
       " 16: [0.1323968,\n",
       "  0.10540299999999998,\n",
       "  0.10048880000000004,\n",
       "  0.09844439999999999,\n",
       "  0.0979636,\n",
       "  0.09835619999999999,\n",
       "  0.1058621,\n",
       "  0.1149024,\n",
       "  0.1274662,\n",
       "  0.13572700000000001,\n",
       "  0.1435734,\n",
       "  0.15104499999999998,\n",
       "  0.1613811,\n",
       "  0.1675207,\n",
       "  0.1721749,\n",
       "  0.17640419999999993,\n",
       "  0.18151380000000003,\n",
       "  0.1858502,\n",
       "  0.18984310000000001],\n",
       " 17: [0.13153670000000003,\n",
       "  0.10513460000000002,\n",
       "  0.1001751,\n",
       "  0.0982848,\n",
       "  0.09791950000000002,\n",
       "  0.09836379999999999,\n",
       "  0.10597120000000002,\n",
       "  0.11474799999999999,\n",
       "  0.12852940000000002,\n",
       "  0.1362188,\n",
       "  0.1448668,\n",
       "  0.1521721,\n",
       "  0.16188290000000002,\n",
       "  0.1695368,\n",
       "  0.17364449999999998,\n",
       "  0.1771931,\n",
       "  0.1826963,\n",
       "  0.187382,\n",
       "  0.1905571]}"
      ]
     },
     "execution_count": 29,
     "metadata": {},
     "output_type": "execute_result"
    }
   ],
   "source": [
    "k_to_num_features"
   ]
  },
  {
   "cell_type": "code",
   "execution_count": 30,
   "metadata": {},
   "outputs": [
    {
     "name": "stdout",
     "output_type": "stream",
     "text": [
      "best_k: 12 best_mse: 0.09672829999999999\n",
      "best features: ['Expert Score', 'ABV %', 'Price', 'Age', 'Rare']\n"
     ]
    }
   ],
   "source": [
    "best_k = 0\n",
    "best_mse = 99999\n",
    "\n",
    "for k in k_to_num_features.keys():\n",
    "    cur_num_features = np.argmin(k_to_num_features[k]) + 1\n",
    "    cur_best_mse = np.min(k_to_num_features[k])\n",
    "    if cur_best_mse < best_mse:\n",
    "        best_mse = cur_best_mse\n",
    "        best_k = k\n",
    "    \n",
    "print(\"best_k:\", best_k, \"best_mse:\", best_mse)\n",
    "print(\"best features:\", k_to_best_features[best_k])"
   ]
  },
  {
   "cell_type": "markdown",
   "metadata": {},
   "source": [
    "### QUESTION:\n",
    "\n",
    "The MSE when using kNN seems to come close to Linear Regression. Is there anything we could/should change about this kNN experiment?\n"
   ]
  },
  {
   "cell_type": "markdown",
   "metadata": {},
   "source": [
    "### ANSWER:\n",
    "\n",
    "Scale our data! The features aren't on the same scale, so the distant metric used by kNN (e.g., Euclidean distance) doesn't account for this. The most useful features still include most of what we saw from Linear Regression, so this indicates that our lack of scaling is not a big problem, but it's definitely the proper thing to do. I'm surprised `Price` and `Rare` were able to make it into our list of top features, since their scales are just way smaller than the others that are from 0-100."
   ]
  },
  {
   "cell_type": "code",
   "execution_count": null,
   "metadata": {},
   "outputs": [],
   "source": []
  }
 ],
 "metadata": {
  "anaconda-cloud": {},
  "kernelspec": {
   "display_name": "Python 3",
   "language": "python",
   "name": "python3"
  },
  "language_info": {
   "codemirror_mode": {
    "name": "ipython",
    "version": 3
   },
   "file_extension": ".py",
   "mimetype": "text/x-python",
   "name": "python",
   "nbconvert_exporter": "python",
   "pygments_lexer": "ipython3",
   "version": "3.7.4"
  }
 },
 "nbformat": 4,
 "nbformat_minor": 2
}
