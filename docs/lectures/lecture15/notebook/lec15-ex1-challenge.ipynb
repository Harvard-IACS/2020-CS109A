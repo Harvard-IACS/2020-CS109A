{
 "cells": [
  {
   "cell_type": "markdown",
   "metadata": {},
   "source": [
    "# Title\n",
    "\n",
    "**Exercise 1 - Guesstimating Beta values for Logistic Regression**\n",
    "\n",
    "# Description\n",
    "\n",
    "The goal of the exercise is to produce a plot similar to the one given below, by guesstimating the values of the coefficient estimates for $\\beta_0$ and $\\beta_1$."
   ]
  },
  {
   "cell_type": "markdown",
   "metadata": {},
   "source": [
    "<img src=\"../img/image.png\" style=\"width: 500px;\">"
   ]
  },
  {
   "cell_type": "markdown",
   "metadata": {},
   "source": [
    "# Instructions: \n",
    "We are trying to predict who will claim insurance as a function of age using the data. To do so we need :\n",
    "- Read the `insurance_claim.csv` as a dataframe.\n",
    "- Assign the predictor and response variables.\n",
    "- Guesstimate the values of the coefficients $\\hat{\\beta}_0$ and $\\hat{\\beta}_1$.\n",
    "- Predict the response variable using the formula of a simple logistic regression given below (no package allowed) \n",
    "- Compute the accuracy of the model.\n",
    "- Repeat the above steps by changing the values of the coefficients $\\hat{\\beta}_0$ and $\\hat{\\beta}_1$, until you get \"good\" accuracy.\n",
    "- Plot the `Insurance Claim` vs. `Age` graph with the fit of the model.\n",
    "\n",
    "# Hints: \n",
    "- Logistic Regression equation: \n",
    "\n",
    "$$P\\left(Y=1\\right)=\\frac{1}{1+e^{-\\left(\\beta_{0\\ }+\\beta_1X\\right)}}$$\n",
    "\n",
    "<a href=\"https://matplotlib.org/3.2.2/api/_as_gen/matplotlib.pyplot.plot.html\" target=\"_blank\">plt.plot()</a> : Plots x versus y as lines and/or markers\n",
    "\n",
    "<a href=\"https://scikit-learn.org/stable/modules/generated/sklearn.metrics.accuracy_score.html\" target=\"_blank\">sklearn.accuracy_score()</a> : Accuracy classification score\n",
    "\n",
    "<a href=\"https://matplotlib.org/3.3.0/api/_as_gen/matplotlib.pyplot.xticks.html\" target=\"_blank\">plt.xticks()</a> : Get or set the current tick locations and labels of the x-axis.\n",
    "\n",
    "<a href=\"https://matplotlib.org/3.3.0/api/_as_gen/matplotlib.pyplot.yticks.html\" target=\"_blank\">plt.yticks()</a> : Get or set the current tick locations and labels of the y-axis.\n",
    "\n",
    "<a href=\"https://matplotlib.org/3.1.1/api/_as_gen/matplotlib.pyplot.xlabel.html\" target=\"_blank\">plt.xlabel()</a> : Set the label for the x-axis.\n",
    "\n",
    "<a href=\"https://matplotlib.org/3.1.1/api/_as_gen/matplotlib.pyplot.ylabel.html\" target=\"_blank\">plt.ylabel()</a> : Set the label for the y-axis.\n",
    "\n",
    "**Note: This exercise is auto-graded and you can try multiple attempts.**"
   ]
  },
  {
   "cell_type": "code",
   "execution_count": 1,
   "metadata": {},
   "outputs": [],
   "source": [
    "# import important libraries\n",
    "\n",
    "%matplotlib inline\n",
    "import numpy as np\n",
    "import pandas as pd\n",
    "from math import exp\n",
    "import matplotlib.pyplot as plt\n",
    "from sklearn.preprocessing import normalize\n",
    "from sklearn.metrics import accuracy_score"
   ]
  },
  {
   "cell_type": "code",
   "execution_count": 2,
   "metadata": {},
   "outputs": [],
   "source": [
    "# Make a dataframe of the file \"insurance_claim.csv\"\n",
    "\n",
    "data_filename = 'insurance_claim.csv'\n",
    "df = pd.read_csv(data_filename)"
   ]
  },
  {
   "cell_type": "code",
   "execution_count": null,
   "metadata": {},
   "outputs": [],
   "source": [
    "# Take a quick look of the data, notice that the response variable is binary\n",
    "\n",
    "df.head()"
   ]
  },
  {
   "cell_type": "code",
   "execution_count": 3,
   "metadata": {},
   "outputs": [],
   "source": [
    "# Assign age as the predictor variable using double brackets\n",
    "x = df[[___]]\n",
    "\n",
    "# Assign insuranceclaim as the response variable\n",
    "y = df[___]\n"
   ]
  },
  {
   "cell_type": "code",
   "execution_count": null,
   "metadata": {},
   "outputs": [],
   "source": [
    "# Make a plot of the response (insuranceclaim) vs the predictor (age)\n",
    "plt.plot(___,___,'o', markersize=7,color=\"#011DAD\",label=\"Data\")\n",
    "\n",
    "# Also add the labels for 'x' & 'y' values\n",
    "plt.xlabel(___)\n",
    "plt.ylabel(___)\n",
    "\n",
    "plt.xticks(np.arange(18, 80, 4.0))\n",
    "\n",
    "# Label the value 1 as 'Yes' & 0 as 'No'\n",
    "plt.yticks((0,1), labels=('No', 'Yes'))\n",
    "plt.legend(loc='best')\n",
    "plt.show()"
   ]
  },
  {
   "cell_type": "code",
   "execution_count": 5,
   "metadata": {},
   "outputs": [],
   "source": [
    "### edTest(test_beta_guesstimate) ###\n",
    "# Guesstimate the values of beta0 & beta1\n",
    "\n",
    "beta0 = ___\n",
    "\n",
    "beta1 = ___\n"
   ]
  },
  {
   "cell_type": "code",
   "execution_count": 6,
   "metadata": {},
   "outputs": [],
   "source": [
    "### edTest(test_beta_computation) ###\n",
    "# Use the logistic function below to predict the response based on the input\n",
    "logit = []\n",
    "\n",
    "for i in x:\n",
    "    # Append the P(y=1) values to the logit list\n",
    "    logit.append(___)\n",
    "    \n",
    "    "
   ]
  },
  {
   "cell_type": "code",
   "execution_count": 6,
   "metadata": {},
   "outputs": [],
   "source": [
    "# If the predictions are above a threshold of 0.5, predict as 1, else 0\n",
    "\n",
    "y_pred = []\n",
    "\n",
    "for py in ___:\n",
    "    if py >= 0.5:\n",
    "        ____\n",
    "    else:\n",
    "        ____\n",
    "        \n"
   ]
  },
  {
   "cell_type": "code",
   "execution_count": null,
   "metadata": {},
   "outputs": [],
   "source": [
    "# Use accuracy_score function to find the accuracy \n",
    "\n",
    "accuracy = accuracy_score(___, ___)\n",
    "\n",
    "# Print the accuracy\n",
    "print (___)"
   ]
  },
  {
   "cell_type": "code",
   "execution_count": null,
   "metadata": {},
   "outputs": [],
   "source": [
    "# Make a plot similar to the one above along with the fit curve\n",
    "plt.plot(___, ___,'o', markersize=7,color=\"#011DAD\",label=\"Data\")\n",
    "\n",
    "plt.plot(___,___,linewidth=2,color='black',label=\"Prediction\")\n",
    "\n",
    "plt.xticks(np.arange(18, 80, 4.0))\n",
    "plt.xlabel(\"Age\")\n",
    "plt.ylabel(\"Insurance claim\")\n",
    "plt.yticks((0,1), labels=('No', 'Yes'))\n",
    "plt.legend()\n",
    "plt.show()"
   ]
  },
  {
   "cell_type": "markdown",
   "metadata": {},
   "source": [
    "## Post exercise question:\n",
    "\n",
    "In this exercise, you may have had to stumble around to find the right values of $\\beta_0$ and $\\beta_1$ to get accurate results.\n",
    "\n",
    "Although you may have used visual inspection to find a good fit, in most problems you would need a quantative method to measure the performance of your model. (*Loss function*)\n",
    "\n",
    "Which of the following below are **NOT** possible ways of quantifying the performance of the model.\n",
    "\n",
    "- A. Compute the mean squared error loss of the predicted labels.\n",
    "- B. Evaluate the log-likelihood for this Bernoulli response variable.\n",
    "- C. Go the the temple of Apollo at Delphi, and ask the high priestess Pythia\n",
    "- D. Compute the total number of misclassified labels."
   ]
  },
  {
   "cell_type": "code",
   "execution_count": null,
   "metadata": {},
   "outputs": [],
   "source": [
    "### edTest(test_quiz) ###\n",
    "\n",
    "# Put down your answers in a string format below (using quotes)\n",
    "\n",
    "# for. eg, if you think the options are 'A' & 'B', input below as \"A,B\"\n",
    "\n",
    "answer = ___"
   ]
  }
 ],
 "metadata": {
  "kernelspec": {
   "display_name": "Python 3",
   "language": "python",
   "name": "python3"
  },
  "language_info": {
   "codemirror_mode": {
    "name": "ipython",
    "version": 3
   },
   "file_extension": ".py",
   "mimetype": "text/x-python",
   "name": "python",
   "nbconvert_exporter": "python",
   "pygments_lexer": "ipython3",
   "version": "3.8.5"
  }
 },
 "nbformat": 4,
 "nbformat_minor": 4
}
