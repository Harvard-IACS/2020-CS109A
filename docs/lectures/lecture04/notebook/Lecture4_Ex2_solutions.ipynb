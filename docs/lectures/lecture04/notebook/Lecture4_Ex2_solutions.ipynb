{
 "cells": [
  {
   "cell_type": "markdown",
   "metadata": {},
   "source": [
    "# <img style=\"float: left; padding-right: 10px; width: 45px\" src=\"https://raw.githubusercontent.com/Harvard-IACS/2018-CS109A/master/content/styles/iacs.png\"> CS109A Introduction to Data Science \n",
    "\n",
    "## Lecture 4, Exercise 2: EDA and Advanced PANDAS\n",
    "\n",
    "\n",
    "**Harvard University**<br/>\n",
    "**Fall 2020**<br/>\n",
    "**Instructors**: Pavlos Protopapas, Kevin Rader, and Chris Tanner\n",
    "\n",
    "---"
   ]
  },
  {
   "cell_type": "code",
   "execution_count": 1,
   "metadata": {},
   "outputs": [],
   "source": [
    "import pandas as pd\n",
    "import seaborn as sns\n",
    "pd.set_option('display.width', 500)\n",
    "pd.set_option('display.max_columns', 100)"
   ]
  },
  {
   "cell_type": "markdown",
   "metadata": {},
   "source": [
    "## **NOTE**: After running every cell, be sure to auto-grade your work by clicking 'Mark' in the lower-right corner. Otherwise, no credit will be given."
   ]
  },
  {
   "cell_type": "markdown",
   "metadata": {},
   "source": [
    "## Advanced PANDAS\n",
    "\n",
    "We will use the same `top50.csv` file from Exercise 1."
   ]
  },
  {
   "cell_type": "markdown",
   "metadata": {},
   "source": [
    "Below, fill in the blank to create a new PANDAS DataFrame from the `top50.csv` file."
   ]
  },
  {
   "cell_type": "code",
   "execution_count": 2,
   "metadata": {},
   "outputs": [],
   "source": [
    "### edTest(test_a) ###\n",
    "df = _____"
   ]
  },
  {
   "cell_type": "markdown",
   "metadata": {},
   "source": [
    "Run the cell below to print the summary statistics and display the column names"
   ]
  },
  {
   "cell_type": "code",
   "execution_count": 3,
   "metadata": {},
   "outputs": [],
   "source": [
    "print(df.columns)\n",
    "df.describe()"
   ]
  },
  {
   "cell_type": "markdown",
   "metadata": {},
   "source": [
    "Fill in the blank to set `longest_song` equal to the `TrackName` of the longest song (the song that has the highest `Length` value)"
   ]
  },
  {
   "cell_type": "code",
   "execution_count": 4,
   "metadata": {},
   "outputs": [],
   "source": [
    "### edTest(test_b) ###\n",
    "longest_song = __________\n",
    "longest_song"
   ]
  },
  {
   "cell_type": "markdown",
   "metadata": {},
   "source": [
    "Fill in the blank to set `loud_song` equal to the `TrackName` of the song that has the highest `Loudness` value amongst the 10 most popular songs. To be clear, by highest we mean the least negative. So, we would say that -2 is louder than -10."
   ]
  },
  {
   "cell_type": "code",
   "execution_count": 5,
   "metadata": {},
   "outputs": [],
   "source": [
    "### edTest(test_c) ###\n",
    "loud_song = _______________\n",
    "loud_song"
   ]
  },
  {
   "cell_type": "markdown",
   "metadata": {},
   "source": [
    "Say you are interested in songs that last 3-4 minutes, anything shorter doesn't have time to build up a narrative, and anything longer gets boring. You have a very particular taste but are open to listening to what other people are listening to a lot, but you don't even know what genre that is!\n",
    "\n",
    "Fill in the blank below (or use multiple lines if you prefer) to set `new_genre` to be the genre that is associated with the most songs that are between 3 and 4 minutes in duration (including songs that are exactly 3 minutes and 4 minutes)."
   ]
  },
  {
   "cell_type": "code",
   "execution_count": 6,
   "metadata": {},
   "outputs": [],
   "source": [
    "### edTest(test_d) ###\n",
    "new_genre = ____________________\n",
    "new_genre"
   ]
  },
  {
   "cell_type": "markdown",
   "metadata": {},
   "source": [
    "Below, fill in the blank to make a new DataFrame `genre_counts` that groups all songs by their Genre and aggregates all other columns by their **median value**. Then, sort by their `Popularity` (in ascending order).\n",
    "\n",
    "As an example, if `df` had only 3 \"pop\" songs, and their `Danceability` values were 70,82, and 90, and `df` also contained 5 \"latin\" songs, and their `Danceability` values were 80,82,90,91,99. Then `genre_counts` would have 1 row for the Genre \"pop\", with a Danceability value of 82. `genre_counts` would also have 1 row for the Genre \"latin\", with a Danceability value of 90. Then, we'd sort the DataFrame by the `Popularity` (in ascending order).\n",
    "\n",
    "For example, your DataFrame should look as follows (snippet):\n",
    "<img src=\"https://github.com/Harvard-IACS/2020-CS109A/blob/master/content/lectures/lecture04/images/sorted_pandas.png?raw=true\">"
   ]
  },
  {
   "cell_type": "code",
   "execution_count": 7,
   "metadata": {},
   "outputs": [],
   "source": [
    "### edTest(test_e) ###\n",
    "new_df = _______________\n",
    "new_df"
   ]
  },
  {
   "cell_type": "markdown",
   "metadata": {},
   "source": [
    "Below, fill in the blank to set the variable `speechy_song` to the `TrackName` of the song that has the highest `Speechiness` value"
   ]
  },
  {
   "cell_type": "code",
   "execution_count": 8,
   "metadata": {},
   "outputs": [],
   "source": [
    "### edTest(test_f) ###\n",
    "speechy_song = _______________\n",
    "speechy_song"
   ]
  },
  {
   "cell_type": "markdown",
   "metadata": {},
   "source": [
    "# END OF GRADED SECTION\n",
    "\n",
    "# EXTRA EXAMPLES FOLLOW:\n",
    "\n",
    "### Combining multiple DataFrames\n",
    "\n",
    "As mentioned, often times one dataset doesn't contain all of the information you are interested in -- in which case, you need to combine data from multiple files. This also means you need to verify the accuracy (per above) of each dataset."
   ]
  },
  {
   "cell_type": "markdown",
   "metadata": {},
   "source": [
    "``spotify_aux.csv`` contains the same 50 songs as ``top50.csv``; however, it only contains 3 columns:\n",
    "- Track Name\n",
    "- Artist Name\n",
    "- Explicit Language (boolean valued)\n",
    "\n",
    "Note, that 3rd column is just random Boolean values, but pretend as if it's correct. The point of this section is to demonstrate how to merge columns together.\n",
    "\n",
    "Let's load ``spotify_aux.csv`` into a DataFrame:"
   ]
  },
  {
   "cell_type": "code",
   "execution_count": 9,
   "metadata": {},
   "outputs": [],
   "source": [
    "explicit_lyrics = pd.read_csv(\"spotify_aux.csv\")\n",
    "explicit_lyrics"
   ]
  },
  {
   "cell_type": "markdown",
   "metadata": {},
   "source": [
    "Let's merge it with our ``df`` DataFrame that is storing `top50.csv`.\n",
    "\n",
    "``.merge()`` is a Pandas function that stitches together DataFrames by their columns.\n",
    "\n",
    "``.concat()`` is a Pandas function that stitches together DataFrames by their rows (if you pass axis=1 as a flag, it will be column-based)"
   ]
  },
  {
   "cell_type": "code",
   "execution_count": 10,
   "metadata": {},
   "outputs": [],
   "source": [
    "# 'on='' specifies the column used as the shared key\n",
    "df_combined = pd.merge(explicit_lyrics, df, on='TrackName')\n",
    "df_combined"
   ]
  },
  {
   "cell_type": "markdown",
   "metadata": {},
   "source": [
    "We see that all columns from both DataFrames have been added. That's nice, but having duplicate ArtistName and TrackName is unecessary. Since ``merge()`` uses DataFrames as the passed-in objects, we can simply pass merge() a stripped-down copy of _ExplicitLanguage_, which helps merge() not add any redundant fields. "
   ]
  },
  {
   "cell_type": "code",
   "execution_count": 11,
   "metadata": {},
   "outputs": [],
   "source": [
    "df_combined2 = pd.merge(explicit_lyrics[['TrackName', 'ExplicitLanguage']], df, on='TrackName')\n",
    "df_combined2"
   ]
  },
  {
   "cell_type": "markdown",
   "metadata": {},
   "source": [
    "You'll notice we don't have the same number of rows as our original `df` DataFrame.\n",
    "\n",
    "**Why is that? What happened? How can we quickly identify which rows are missing -- especially if our dataset had thousands of rows. Discuss with your group.**\n",
    "\n",
    "Related to merge, are the useful functions:\n",
    "- ``concat()``\n",
    "- ``aggregate()``\n",
    "- ``append()``"
   ]
  },
  {
   "cell_type": "markdown",
   "metadata": {},
   "source": [
    "### Plotting DataFrames\n",
    "As a very simple example of how one can plot elements of a DataFrame, we turn to Pandas' built-in plotting:"
   ]
  },
  {
   "cell_type": "code",
   "execution_count": 12,
   "metadata": {},
   "outputs": [
    {
     "data": {
      "text/plain": [
       "<matplotlib.axes._subplots.AxesSubplot at 0x133041090>"
      ]
     },
     "execution_count": 12,
     "metadata": {},
     "output_type": "execute_result"
    },
    {
     "data": {
      "image/png": "[encoded data removed]",
      "text/plain": [
       "<Figure size 432x288 with 1 Axes>"
      ]
     },
     "metadata": {
      "needs_background": "light"
     },
     "output_type": "display_data"
    }
   ],
   "source": [
    "scatter_plot = df.plot.scatter(x='Danceability', y='Popularity', c='DarkBlue')\n",
    "scatter_plot"
   ]
  },
  {
   "cell_type": "markdown",
   "metadata": {},
   "source": [
    "This shows the lack of a correlation between the Danceability of a song and its popularity, based on just the top 50 songs, of course.\n",
    "\n",
    "Please feel free to experiment with plotting other items of interest."
   ]
  },
  {
   "cell_type": "markdown",
   "metadata": {},
   "source": [
    "Print the songs that are faster than the average Top 50 and more popular than the average Top 50?"
   ]
  },
  {
   "cell_type": "code",
   "execution_count": 13,
   "metadata": {},
   "outputs": [],
   "source": [
    "avg_speed = df['BeatsPerMinute'].mean()\n",
    "avg_popularity = df['Popularity'].mean()\n",
    "df[(df['BeatsPerMinute'] > avg_speed) & (df['Popularity'] > avg_popularity)]"
   ]
  },
  {
   "cell_type": "code",
   "execution_count": null,
   "metadata": {},
   "outputs": [],
   "source": []
  }
 ],
 "metadata": {
  "kernelspec": {
   "display_name": "Python 3",
   "language": "python",
   "name": "python3"
  },
  "language_info": {
   "codemirror_mode": {
    "name": "ipython",
    "version": 3
   },
   "file_extension": ".py",
   "mimetype": "text/x-python",
   "name": "python",
   "nbconvert_exporter": "python",
   "pygments_lexer": "ipython3",
   "version": "3.8.5"
  }
 },
 "nbformat": 4,
 "nbformat_minor": 4
}
