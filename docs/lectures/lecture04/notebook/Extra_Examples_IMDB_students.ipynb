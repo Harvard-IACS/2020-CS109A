{
    "metadata": {
        "kernelspec": {
            "name": "python3",
            "display_name": "Python 3",
            "language": "python"
        }
    },
    "nbformat": 4,
    "nbformat_minor": 1,
    "cells": [
        {
            "attachments": {},
            "cell_type": "markdown",
            "metadata": {},
            "source": [
                "\u003ch1 style=\"padding-top: 25px;padding-bottom: 25px;text-align: left; padding-left: 10px; background-color: #DDDDDD; \n",
                "    color: black;\"\u003e \u003cimg style=\"float: left; padding-right: 10px; width: 45px\" src=\"https://raw.githubusercontent.com/Harvard-IACS/2018-CS109A/master/content/styles/iacs.png\"\u003e CS109A Introduction to Data Science \u003c/h1\u003e\n",
                "\n",
                "## Detailed Examples: Data Collection, Parsing, and Quick Analyses\n",
                "\n",
                "**Harvard University**\u003cbr/\u003e\n",
                "**Fall 2020**\u003cbr/\u003e\n",
                "**Instructors**: Pavlos Protopapas, Kevin Rader, and Chris Tanner\u003cbr/\u003e\n",
                "\u003chr style='height:2px'\u003e"
            ]
        },
        {
            "cell_type": "code",
            "execution_count": 0,
            "metadata": {},
            "outputs": [],
            "source": [
                "## RUN THIS CELL TO GET THE RIGHT FORMATTING \n",
                "import requests\n",
                "from IPython.core.display import HTML\n",
                "styles = requests.get(\"https://raw.githubusercontent.com/Harvard-IACS/2020-CS109A/master/themes/static/css/cs109.css\").text\n",
                "HTML(styles)"
            ]
        },
        {
            "attachments": {},
            "cell_type": "markdown",
            "metadata": {},
            "source": [
                "\n",
                "## Overview \n",
                "\n",
                "In this notebook, your goal is to gain further practice with acquiring, parsing, cleaning, and analyzing data. Since real-world problems often require gathering information from a variety of sources, including the Internet, web scraping is a highly useful skill to have. To do this, we will scrape IMDb data on the highest-paid actors and actresses, extracting various key data points and using PANDAS to learn how to aggregate the data in useful ways.\n",
                "\n",
                "### Learning Objectives\n",
                "- Get started using Jupyter Notebooks, which are incredibly popular, powerful, and will be our medium of programming for the duration of CS109A and CS109B.\n",
                "- Become familiar with how to scrape and use data from online sources.\n",
                "- Gain experience with data exploration and simple analysis.\n",
                "- Become comfortable with PANDAS as a means of storing and working with data.\n",
                "- Feel well-prepared to complete HW1.\n",
                "\n",
                "### Notes\n",
                "- Exercise **responsible scraping**. Web servers can become slow or unresponsive if they receive too many requests from the same source in a short amount of time. In your code, use a delay of 2 seconds between requests. This helps to not get blocked by the target website -- imagine how frustrating it would be to have this occur. Section 1 of this homework involves saving the scraped web pages to your local machine.\n",
                "\n",
                "- Web scraping requests can take several minutes. Depending on one's project, it could even take hours, days, or last indefinitely (Google crawling the entire Web).\n",
                "- As you run a Jupyter Notebook, it maintains a running state of memory. Thus, the order in which you run cells matters and plays a crucial role; it can be easy to make mistakes based on *when* you run different cells as you develop and test your code. **Before submitting every Jupyter Notebook homework assignment, be sure to restart your Jupyter Notebook and run the entire notebook from scratch, all at once (i.e., \"Kernel -\u003e Restart \u0026 Run All\")**"
            ]
        },
        {
            "cell_type": "code",
            "execution_count": 0,
            "metadata": {},
            "outputs": [],
            "source": [
                "# import the necessary libraries\n",
                "import re\n",
                "import requests\n",
                "import pandas as pd\n",
                "import numpy as np\n",
                "from time import sleep\n",
                "from bs4 import BeautifulSoup"
            ]
        },
        {
            "attachments": {},
            "cell_type": "markdown",
            "metadata": {},
            "source": [
                "# Table of Contents\n",
                "\n",
                "0. Practice with regex\n",
                "1. Obtaining IMDb Data\n",
                "  1. Fetching website data via `requests`\n",
                "  2. BeautifulSoup\n",
                "  3. Obtain actor url + salary\n",
                "  4. Scrape rest of data\n",
                "2. Loading and Exploring Data\n",
                "  1. Saving \u0026 Loading Data with Pandas\n",
                "  2. Cleaning data (rename columns + change types)\n",
                "  3. Slicing \u0026 sorting data\n",
                "  4. Calculating summary statistics (min, max, mean, etc)\n",
                "  5. `pd.cut`, `df.groupby`, and bar plots\n",
                "  6. Exploring age vs salary\n",
                "  7. Exploring salary vs sex\n",
                "  8. Exploring awards vs sex\n",
                "  9. Exploring awards vs sex part II\n",
                "  10. Exploring composer credits"
            ]
        },
        {
            "attachments": {},
            "cell_type": "markdown",
            "metadata": {},
            "source": [
                "## 0. Practice with regex\n",
                "\n",
                "Being able to scrape, parse, and analyze simple website data is very useful in a variety of settings. Here, we look at a U.S. Senate vote on confirming a nominee to be a U.S. District Judge: https://www.senate.gov/legislative/LIS/roll_call_lists/roll_call_vote_cfm.cfm?congress=116\u0026session=2\u0026vote=00157\n",
                "\n",
                "We provide the scraping. Your task is:\n",
                "1. Write the BeautifulSoup to grab the ‘vote by positon' section for both \"Yea\" and \"Nay\".\n",
                "2. Write a regex to extract each senator’s name for the Yeas and Nays.\n",
                ""
            ]
        },
        {
            "cell_type": "code",
            "execution_count": 0,
            "metadata": {},
            "outputs": [],
            "source": [
                "url = \"https://www.senate.gov/legislative/LIS/roll_call_lists/roll_call_vote_cfm.cfm?congress=116\u0026session=2\u0026vote=00157\"\n",
                "s = requests.Session()\n",
                "page = s.get(url)"
            ]
        },
        {
            "cell_type": "code",
            "execution_count": 0,
            "metadata": {},
            "outputs": [],
            "source": [
                "page"
            ]
        },
        {
            "cell_type": "code",
            "execution_count": 0,
            "metadata": {},
            "outputs": [],
            "source": [
                "# YOUR CODE HERE\n",
                "# END OF YOUR CODE HERE"
            ]
        },
        {
            "attachments": {},
            "cell_type": "markdown",
            "metadata": {},
            "source": [
                "**Explanation of regex:** `'\\)(.*?)\\s\\('`\n",
                "\n",
                "I noticed the names were listed between parentheses i.e. `...)Barrasso (R...`. So I decided to match for the text in between parentheses with a space before the open parentheses, i.e. `)abc (`. \n",
                "\n",
                "The regex searches returns a list of all matches to the following condition: match any string of any length that comes after \")\" but before \" (\".\n",
                "\n",
                "![](https://i.imgur.com/5wiR1jn.png)"
            ]
        },
        {
            "attachments": {},
            "cell_type": "markdown",
            "metadata": {},
            "source": [
                "## 1. Obtaining IMDb Data\n",
                "\n",
                "Here, we are interested in analyzing several data points for famous actors and actresses on IMDb. IMDb provides relevant data that includes the names, sexes, and various awards of actors and actresses. Visit https://www.imdb.com/list/ls026028927/ to find a list of the highest-paid actors and actresses. Each actor \n",
                "\n",
                "In this exercise, we will focus on automating the downloading of each actor's data (via ``Requests``). First, as we will do for every Jupyter Notebook, let's import necessary packages that we will use throughout the notebook (i.e., run the cell below). "
            ]
        },
        {
            "cell_type": "code",
            "execution_count": 0,
            "metadata": {},
            "outputs": [],
            "source": [
                "# we define this for convenience, as every actor's url begins with this prefix\n",
                "base_url = 'https://www.imdb.com'\n",
                "extension = '/list/ls026028927/'"
            ]
        },
        {
            "attachments": {},
            "cell_type": "markdown",
            "metadata": {},
            "source": [
                "Here, we fetch the webpage and construct a BeautifulSoup object (HTML parser) from it."
            ]
        },
        {
            "cell_type": "code",
            "execution_count": 0,
            "metadata": {},
            "outputs": [],
            "source": [
                "actors_page = requests.get(base_url + extension)\n",
                "bs_page = BeautifulSoup(actors_page.content, \"html.parser\")\n",
                "bs_page"
            ]
        },
        {
            "attachments": {},
            "cell_type": "markdown",
            "metadata": {},
            "source": [
                "\u003cdiv class='exercise'\u003e\u003cb\u003e Exercise 1.1:\u003c/b\u003e\n",
                "    \n",
                "In the cell below, write code that uses the BeautifulSoup object to parse through the home page in order to extract the **link and salary** for every actor. Specifically, populate the `info` dictionary by setting each key to be the actor name and the value to be **a dictionary of data**, with keys `url` and `salary`. When complete, there will be 30 keys to the `info` dictionary. As an example, within `info`, one of your \u003ckey, value\u003e pairs should be:\n",
                "\n",
                "``'Adam Sandler': {'salary': '$50.5 million',\n",
                "  'url': 'https://www.imdb.com/name/nm0001191'}``\n",
                "\n",
                "**HINT:** There are _many_ solutions, but you may find it easiest to use Regular Expression(s)\n",
                "\u003c/div\u003e"
            ]
        },
        {
            "cell_type": "code",
            "execution_count": 0,
            "metadata": {},
            "outputs": [],
            "source": [
                "# YOUR CODE HERE\n",
                "# END OF YOUR CODE HERE"
            ]
        },
        {
            "attachments": {},
            "cell_type": "markdown",
            "metadata": {},
            "source": [
                "\u003cdiv class='exercise'\u003e\u003cb\u003e Exercise 1.2:\u003c/b\u003e\n",
                "    \n",
                "In the cell below, write code that uses the BeautifulSoup object to parse through each actor's url to extract these additional variables and add them to `info`:\n",
                "- birth date\n",
                "- sex\n",
                "- height\n",
                "- producer credits\n",
                "- actor credits\n",
                "- soundtrack credits\n",
                "- composer credits\n",
                "- award wins\n",
                "- award nominations\n",
                "\n",
                "Save this as a Pandas dataframe called `df` where each row represents a specific actor. Check `df.shape`: you should have 30 rows and 11 columns.\n",
                "\n",
                "**HINT:** To get award wins and nominations, you can append `'/awards'` to your url and request that link. Remember to scrape responsibly!\n",
                "\n",
                "**HINT:** Actor credits are listed under \"Actor\" for males and \"Actress\" for females. Make sure you scrape that correctly.\n",
                "\n",
                "\u003c/div\u003e"
            ]
        },
        {
            "cell_type": "code",
            "execution_count": 0,
            "metadata": {},
            "outputs": [],
            "source": [
                "# YOUR CODE HERE\n",
                "# END OF YOUR CODE HERE"
            ]
        },
        {
            "attachments": {},
            "cell_type": "markdown",
            "metadata": {},
            "source": [
                "## 2. Loading and Exploring Data\n",
                "Now, let's actually use the data! Here, we ask you to perform a few operations using PANDAS on our new dataset."
            ]
        },
        {
            "attachments": {},
            "cell_type": "markdown",
            "metadata": {},
            "source": [
                "\u003cdiv class='exercise'\u003e\u003cb\u003e Exercise 2.1: Saving \u0026 Loading Data\u003c/b\u003e\n",
                "    \n",
                "Save the dataframe as a csv, and then load it back again, saving it under a different name. Compare the number of columns of your new dataframe to `df` above. If it is different, why?\n",
                "\u003c/div\u003e"
            ]
        },
        {
            "cell_type": "code",
            "execution_count": 0,
            "metadata": {},
            "outputs": [],
            "source": [
                "# YOUR CODE HERE\n",
                "# END OF YOUR CODE HERE"
            ]
        },
        {
            "attachments": {},
            "cell_type": "markdown",
            "metadata": {},
            "source": [
                "The newly loaded dataframe turned the index of `df` into a new Unnamed column."
            ]
        },
        {
            "attachments": {},
            "cell_type": "markdown",
            "metadata": {},
            "source": [
                "\u003cdiv class='exercise'\u003e\u003cb\u003e Exercise 2.2: Cleaning Data\u003c/b\u003e\n",
                "\n",
                "First, to clean up the data frame, we will rename column headers that contain a space, i.e. changing \"actor credits\" to \"actor_credits\". This is standard practice and will make references to column names easier in the future.\n",
                "\n",
                "Also, change all numerical columns to be of type `\"int\"` or `\"float\"`, whichever is more appropriate, by using the `astype` function.\n",
                "\u003c/div\u003e"
            ]
        },
        {
            "cell_type": "code",
            "execution_count": 0,
            "metadata": {},
            "outputs": [],
            "source": [
                "# YOUR CODE HERE\n",
                "# END OF YOUR CODE HERE"
            ]
        },
        {
            "attachments": {},
            "cell_type": "markdown",
            "metadata": {},
            "source": [
                "\u003cdiv class='exercise'\u003e\u003cb\u003e Exercise 2.3: Slicing \u0026 Sorting Data\u003c/b\u003e\n",
                "\n",
                "Use `df` for all future exercises. \n",
                "\n",
                "Create a subset of `df` of female actresses with more than 50 wins. Sort it by actor credits, then producer credits. So, if there is a tie in actor credits, the person with more producer credits should come 1st. Sort in decreasing order (most actor credits goes first).\n",
                "\u003c/div\u003e"
            ]
        },
        {
            "cell_type": "code",
            "execution_count": 0,
            "metadata": {},
            "outputs": [],
            "source": [
                "# YOUR CODE HERE\n",
                "# END OF YOUR CODE HERE"
            ]
        },
        {
            "attachments": {},
            "cell_type": "markdown",
            "metadata": {},
            "source": [
                "\u003cdiv class='exercise'\u003e\u003cb\u003e Exercise 2.4: Data Summary Statistics\u003c/b\u003e\n",
                "\n",
                "Calculate summary statistics for the actors' salaries and total credits (actor + producer + composer + soundtrack).\n",
                "\n",
                "\u003c/div\u003e"
            ]
        },
        {
            "cell_type": "code",
            "execution_count": 0,
            "metadata": {},
            "outputs": [],
            "source": [
                "# YOUR CODE HERE\n",
                "# END OF YOUR CODE HERE"
            ]
        },
        {
            "attachments": {},
            "cell_type": "markdown",
            "metadata": {},
            "source": [
                "\u003cdiv class='exercise'\u003e\u003cb\u003e Exercise 2.5: Group By\u003c/b\u003e\n",
                "\n",
                "Use the pandas `cut` function to group the actors by total credits into bins of 50 (i.e. 1-50, 51-100, etc.). Then use the `groupby` function to find the mean number of nominations for each bin and report it in a plot.\n",
                "\n",
                "\u003c/div\u003e"
            ]
        },
        {
            "cell_type": "code",
            "execution_count": 0,
            "metadata": {},
            "outputs": [],
            "source": [
                "# YOUR CODE HERE\n",
                "# END OF YOUR CODE HERE"
            ]
        },
        {
            "attachments": {},
            "cell_type": "markdown",
            "metadata": {},
            "source": [
                "\u003cdiv class='exercise'\u003e\u003cb\u003e Exercise 2.6: Exploring Age vs Salary\u003c/b\u003e\n",
                "\n",
                "One interesting question is looking at age vs salary : Is there a peak age that acquires the highest salary?; Are older actors paid less? In order to answer these questions, we must first extract age from the birthdate. We can do this by converting the birthdate to a datetime object.\n",
                "\n",
                "More info on datetime objects: https://pandas.pydata.org/pandas-docs/stable/reference/api/pandas.to_datetime.html .\n",
                "\n",
                "\u003c/div\u003e"
            ]
        },
        {
            "cell_type": "code",
            "execution_count": 0,
            "metadata": {},
            "outputs": [],
            "source": [
                "# YOUR CODE HERE\n",
                "# END OF YOUR CODE HERE"
            ]
        },
        {
            "attachments": {},
            "cell_type": "markdown",
            "metadata": {},
            "source": [
                "Now we explore the age statistics."
            ]
        },
        {
            "cell_type": "code",
            "execution_count": 0,
            "metadata": {},
            "outputs": [],
            "source": [
                "# YOUR CODE HERE\n",
                "# END OF YOUR CODE HERE"
            ]
        },
        {
            "cell_type": "code",
            "execution_count": 0,
            "metadata": {},
            "outputs": [],
            "source": [
                "# find the actor/actress associated with oldest age\n",
                "# YOUR CODE HERE\n",
                "# END OF YOUR CODE HERE"
            ]
        },
        {
            "attachments": {},
            "cell_type": "markdown",
            "metadata": {},
            "source": [
                "**Observe the results.** What do you notice about the two youngest actors/actresses? What do you notice about the oldest? "
            ]
        },
        {
            "attachments": {},
            "cell_type": "markdown",
            "metadata": {},
            "source": [
                "The youngest are both female, and have significantly less credits than the oldest, who happens to be male. But notice that Jennifer Lawrence does have more wins than Emma Watson and Samuel Jackson. Do you think that it makes sense that more wins/awards correlates with a higher salary?\n",
                "\n",
                "Let's look a little further in depth in the age range by splitting up age by quartiles according to the data. We can do this with pandas' built in .describe() function."
            ]
        },
        {
            "cell_type": "code",
            "execution_count": 0,
            "metadata": {},
            "outputs": [],
            "source": [
                "df[\"age\"].describe()"
            ]
        },
        {
            "attachments": {},
            "cell_type": "markdown",
            "metadata": {},
            "source": [
                "We the bin age groups based on these quartile summary statistics."
            ]
        },
        {
            "cell_type": "code",
            "execution_count": 0,
            "metadata": {},
            "outputs": [],
            "source": [
                "quartile_1 = df[df.age \u003c= 41]\n",
                "quartile_2 = df[(df.age \u003e 41) \u0026 (df.age \u003c=49)]\n",
                "quartile_3 = df[(df.age \u003e49) \u0026 (df.age \u003c=53)]\n",
                "quartile_4 = df[df.age \u003e53]"
            ]
        },
        {
            "cell_type": "code",
            "execution_count": 0,
            "metadata": {},
            "outputs": [],
            "source": [
                "# look at mean salary within each age quartile\n",
                "# YOUR CODE HERE\n",
                "# END OF YOUR CODE HERE"
            ]
        },
        {
            "attachments": {},
            "cell_type": "markdown",
            "metadata": {},
            "source": [
                "We can see that quartile 2 (ages 42 - 49) has higher average salary than quartile 3 (ages 50 - 53), but quartile 4 still has highest average salary (ages 54 - 71). Why might this be?"
            ]
        },
        {
            "attachments": {},
            "cell_type": "markdown",
            "metadata": {},
            "source": [
                "\u003cdiv class='exercise'\u003e\u003cb\u003e Exercise 2.7: Exploring Salary vs sex\u003c/b\u003e\n",
                "\n",
                "Now, lets look at salary vs sex. This could be useful to look into any possible gender bias.\n",
                "\n",
                "\u003c/div\u003e"
            ]
        },
        {
            "cell_type": "code",
            "execution_count": 0,
            "metadata": {},
            "outputs": [],
            "source": [
                "# salary vs sex\n",
                "# look at mean salary among male and females\n",
                "# YOUR CODE HERE\n",
                "# END OF YOUR CODE HERE"
            ]
        },
        {
            "cell_type": "code",
            "execution_count": 0,
            "metadata": {},
            "outputs": [],
            "source": [
                "# look at min and max salary among male and females\n",
                "# YOUR CODE HERE\n",
                "# END OF YOUR CODE HERE"
            ]
        },
        {
            "attachments": {},
            "cell_type": "markdown",
            "metadata": {},
            "source": [
                "What do you notice from these statistics? It looks like females have a lower salary in all three summary statistics. Why do you think this is? Do you think there are other factors that could be affecting this? If so, what else in the data could be indicative?\n",
                "\n",
                "It could also be helpful to additionally look the average total number of credits per gender."
            ]
        },
        {
            "cell_type": "code",
            "execution_count": 0,
            "metadata": {},
            "outputs": [],
            "source": [
                "# look at mean salary among male and females\n",
                "# YOUR CODE HERE\n",
                "# END OF YOUR CODE HERE"
            ]
        },
        {
            "cell_type": "code",
            "execution_count": 0,
            "metadata": {},
            "outputs": [],
            "source": [
                "# look at min and max salary among male and females\n",
                "# YOUR CODE HERE\n",
                "# END OF YOUR CODE HERE"
            ]
        },
        {
            "attachments": {},
            "cell_type": "markdown",
            "metadata": {},
            "source": [
                "Notice that although females have lower average salary than males, they also tend to have fewer credits. Does this tell us something about how the number of credits correlates with salary? How could you explore this further?"
            ]
        },
        {
            "attachments": {},
            "cell_type": "markdown",
            "metadata": {},
            "source": [
                "\u003cdiv class='exercise'\u003e\u003cb\u003e Exercise 2.8: Exploring awards by sex\u003c/b\u003e\n",
                "\n",
                "Which actress has the most wins? How many wins does she have? Which actor has the most wins? How many wins does he have?\n",
                "\n",
                "\u003c/div\u003e"
            ]
        },
        {
            "cell_type": "code",
            "execution_count": 0,
            "metadata": {},
            "outputs": [],
            "source": [
                "# YOUR CODE HERE\n",
                "# END OF YOUR CODE HERE"
            ]
        },
        {
            "attachments": {},
            "cell_type": "markdown",
            "metadata": {},
            "source": [
                "\u003cdiv class='exercise'\u003e\u003cb\u003e Exercise 2.9: Exploring awards by sex, Part II\u003c/b\u003e\n",
                "\n",
                "What is the mean number of wins for an actor/actress with less than 65 actor credits? With greater than or equal to 65 actor credits?\n",
                "\n",
                "\u003c/div\u003e"
            ]
        },
        {
            "cell_type": "code",
            "execution_count": 0,
            "metadata": {},
            "outputs": [],
            "source": [
                "# YOUR CODE HERE\n",
                "# END OF YOUR CODE HERE"
            ]
        },
        {
            "attachments": {},
            "cell_type": "markdown",
            "metadata": {},
            "source": [
                "\u003cdiv class='exercise'\u003e\u003cb\u003e Exercise 2.10: Exploring composer credits\u003c/b\u003e\n",
                "\n",
                "How many actors/actresses have at least 1 composer credit? \n",
                "\n",
                "\u003c/div\u003e"
            ]
        },
        {
            "cell_type": "code",
            "execution_count": 0,
            "metadata": {},
            "outputs": [],
            "source": [
                "# YOUR CODE HERE\n",
                "# END OF YOUR CODE HERE"
            ]
        }
    ]
}
