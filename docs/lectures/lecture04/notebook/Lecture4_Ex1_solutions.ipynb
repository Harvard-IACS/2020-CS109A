{
 "cells": [
  {
   "cell_type": "markdown",
   "metadata": {},
   "source": [
    "# <img style=\"float: left; padding-right: 10px; width: 45px\" src=\"https://raw.githubusercontent.com/Harvard-IACS/2018-CS109A/master/content/styles/iacs.png\"> CS109A Introduction to Data Science \n",
    "\n",
    "## Lecture 4, Exercise 1: EDA with PANDAS\n",
    "\n",
    "\n",
    "**Harvard University**<br/>\n",
    "**Fall 2020**<br/>\n",
    "**Instructors**: Pavlos Protopapas, Kevin Rader, and Chris Tanner\n",
    "\n",
    "---"
   ]
  },
  {
   "cell_type": "markdown",
   "metadata": {},
   "source": [
    "# Title\n",
    "\n",
    "**Exercise 1: EDA**\n",
    "\n",
    "# Description\n",
    "\n",
    "In this exercise, we get hands-on practice with EDA."
   ]
  },
  {
   "cell_type": "code",
   "execution_count": 1,
   "metadata": {},
   "outputs": [],
   "source": [
    "import pandas as pd"
   ]
  },
  {
   "cell_type": "markdown",
   "metadata": {},
   "source": [
    "## **NOTE**: After running every cell, be sure to auto-grade your work by clicking 'Mark' in the lower-right corner. Otherwise, no credit will be given."
   ]
  },
  {
   "cell_type": "markdown",
   "metadata": {},
   "source": [
    "## EDA with PANDAS\n",
    "\n",
    "`top50.csv` is a dataset found online (Kaggle.com) that contains information about the 50 most popular songs on Spotify in 2019.\n",
    "\n",
    "**NOTE:** This music dataset is used purely for illustrative, educational purposes. The data, including song titles, may include explicit language. Harvard, including myself and the rest of the CS109 staff, does not endorse any of the entailed contents or the songs themselves, and we apologize if it is offensive to anyone in anyway.\n",
    "\n",
    "Each row represents a distinct song.\n",
    "The columns (in order) are:\n",
    "```\n",
    "ID: a unique ID (i.e., 1-50)\n",
    "TrackName: Name of the Track\n",
    "ArtistName: Name of the Artist\n",
    "Genre: the genre of the track\n",
    "BeatsPerMinute: The tempo of the song.\n",
    "Energy: The energy of a song - the higher the value, the more energetic. song\n",
    "Danceability: The higher the value, the easier it is to dance to this song.\n",
    "Loudness: The higher the value, the louder the song.\n",
    "Liveness: The higher the value, the more likely the song is a live recording.\n",
    "Valence: The higher the value, the more positive mood for the song.\n",
    "Length: The duration of the song (in seconds).\n",
    "Acousticness: The higher the value, the more acoustic the song is.\n",
    "Speechiness: The higher the value, the more spoken words the song contains.\n",
    "Popularity: The higher the value, the more popular the song is.\n",
    "```"
   ]
  },
  {
   "cell_type": "markdown",
   "metadata": {},
   "source": [
    "Below, fill in the blank to create a new PANDAS DataFrame from the `top50.csv` file."
   ]
  },
  {
   "cell_type": "code",
   "execution_count": 36,
   "metadata": {},
   "outputs": [],
   "source": [
    "### edTest(test_a) ###\n",
    "df = _____"
   ]
  },
  {
   "cell_type": "markdown",
   "metadata": {},
   "source": [
    "Run `.describe()` to display summary statistics."
   ]
  },
  {
   "cell_type": "code",
   "execution_count": 31,
   "metadata": {
    "scrolled": true
   },
   "outputs": [],
   "source": [
    "df.describe()"
   ]
  },
  {
   "cell_type": "markdown",
   "metadata": {},
   "source": [
    "**Q1:** Do you notice any suspicious features (aka columns)? Anything that is worth investigating for correctness? Any features of the data seem unclear or foreign to you?"
   ]
  },
  {
   "cell_type": "markdown",
   "metadata": {},
   "source": [
    "*your answer here*"
   ]
  },
  {
   "cell_type": "markdown",
   "metadata": {},
   "source": [
    "Another broad sanity check is to inspect the data types of each column, to ensure it's as expected.\n",
    "\n",
    "Below, fill in the blank to display the data types of each column. Specifically, when printing `var_types` to the screen, you should see: \n",
    "\n",
    "> Unnamed: 0         int64 \\\n",
    "TrackName         object \\\n",
    "ArtistName        object \\\n",
    "Genre             object \\\n",
    "BeatsPerMinute     int64 \\\n",
    "Energy             int64 \\\n",
    "Danceability       int64 \\\n",
    "Loudness           int64 \\\n",
    "Liveness           int64 \\\n",
    "Valence            int64 \\\n",
    "Length             int64 \\\n",
    "Acousticness       int64 \\\n",
    "Speechiness        int64 \\\n",
    "Popularity         int64\n"
   ]
  },
  {
   "cell_type": "code",
   "execution_count": 32,
   "metadata": {},
   "outputs": [],
   "source": [
    "### edTest(test_b) ###\n",
    "var_types = _____\n",
    "var_types # displays it to the screen"
   ]
  },
  {
   "cell_type": "markdown",
   "metadata": {},
   "source": [
    "Hmm, do we have any missing values, though?\n",
    "\n",
    "Write code that determines if any value within the entire DataFrame is Null. This should be represented by the `has_null` variable. To be clear, `has_null` should have a value of True if there exists a Null value within the DataFrame. Otherwise, `has_null` should be False. "
   ]
  },
  {
   "cell_type": "code",
   "execution_count": 35,
   "metadata": {},
   "outputs": [],
   "source": [
    "### edTest(test_c) ###\n",
    "has_null = False # initializes to False\n",
    "\n",
    "# your code here\n",
    "# (that checks all cells and potentially updates `has_null`)\n",
    "\n",
    "# end of your code"
   ]
  },
  {
   "cell_type": "markdown",
   "metadata": {},
   "source": [
    "After exploring the values within the `TrackName`, `ArtistName`, and `Genre` columns, I noticed something looked peculiar. Specifically, one `TrackName` value isn't like any of the others. This was truly the case; I did not alter the name of this track, it's just how the dataset was created. Identify this strange `TrackName` value, either by manual inspection or writing code to assist you. Regardless of your approach, set the variable `mystery_track` to have that value. For example, if you thought the very first Track, `Senorita` was the unusual value, then `mystery_track` should be equal to the String `Senorita`."
   ]
  },
  {
   "cell_type": "code",
   "execution_count": 54,
   "metadata": {},
   "outputs": [],
   "source": [
    "### edTest(test_d) ###\n",
    "mystery_track = ______ # must be a String data type"
   ]
  },
  {
   "cell_type": "markdown",
   "metadata": {},
   "source": [
    "While TrackNames and ArtistNames can be anything one desires, Genres have pre-defined categories/names, and there is a finite number of them. So, let's inspect the data to ensure that there is no spurious Genre. One indication that there is an invalid Genre is if only one song is of that Genre. Moreover, if there exists some Genre that is too all-encompassing, then we would expect to see a large percentage of the songs have that Genre. To this effect, use [`value_counts()`](https://pandas.pydata.org/pandas-docs/stable/reference/api/pandas.Series.value_counts.html) to return the # of songs that fall within each Genre. Save this to the variable named `genre_counts`. Printing `genre_counts` should yield the following:\n",
    "\n",
    "> dance pop           8 \\\n",
    "pop                 7 \\\n",
    "latin               5 \\\n",
    "edm                 3 \\\n",
    "canadian hip hop    3 \\\n",
    "country rap         2 \\\n",
    "brostep             2 \\\n",
    "reggaeton flow      2 \\\n",
    "reggaeton           2 \\\n",
    "electropop          2 \\\n",
    "dfw rap             2 \\\n",
    "canadian pop        2 \\\n",
    "panamanian pop      2 \\\n",
    "atl hip hop         1 \\\n",
    "australian pop      1 \\\n",
    "escape room         1 \\\n",
    "boy band            1 \\\n",
    "r&b en espanol      1 \\\n",
    "trap music          1 \\\n",
    "pop house           1 \\\n",
    "big room            1 \\\n",
    "Name: Genre, dtype: int64\n",
    "\n"
   ]
  },
  {
   "cell_type": "code",
   "execution_count": 55,
   "metadata": {},
   "outputs": [],
   "source": [
    "### edTest(test_e) ###\n",
    "genre_counts = ______"
   ]
  },
  {
   "cell_type": "markdown",
   "metadata": {},
   "source": [
    "Notice there are several Genres with a count of only 1. Given that our dataset is of only 50 songs, this isn't too surprising. However, I've never heard of some of these Genres. If any of these Genres are also unfamiliar to you, use the Internet to verify that they're actually valid Genres. Below, write what you did to verify such, along with your thoughts on if they are all valid or not."
   ]
  },
  {
   "cell_type": "markdown",
   "metadata": {},
   "source": [
    "*your answer here*"
   ]
  },
  {
   "cell_type": "markdown",
   "metadata": {},
   "source": [
    "**Think of other steps you could take to explore the data,** not only to ensure the data's legitimacy but perhaps elements that you're interested in and what you would do to address such. Discuss this with your group and be prepared to discuss this with the rest of the class in the main Zoom room."
   ]
  }
 ],
 "metadata": {
  "kernelspec": {
   "display_name": "Python 3",
   "language": "python",
   "name": "python3"
  },
  "language_info": {
   "codemirror_mode": {
    "name": "ipython",
    "version": 3
   },
   "file_extension": ".py",
   "mimetype": "text/x-python",
   "name": "python",
   "nbconvert_exporter": "python",
   "pygments_lexer": "ipython3",
   "version": "3.8.5"
  }
 },
 "nbformat": 4,
 "nbformat_minor": 4
}
