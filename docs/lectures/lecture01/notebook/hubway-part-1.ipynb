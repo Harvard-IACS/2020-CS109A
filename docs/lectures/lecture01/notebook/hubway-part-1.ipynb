{
    "metadata": {
        "kernelspec": {
            "name": "python3",
            "display_name": "Python 3"
        }
    },
    "nbformat": 4,
    "nbformat_minor": 4,
    "cells": [
        {
            "attachments": {},
            "cell_type": "markdown",
            "metadata": {},
            "source": [
                "# \u003cimg style=\"float: left; padding-right: 10px; width: 45px\" src=\"https://raw.githubusercontent.com/Harvard-IACS/2018-CS109A/master/content/styles/iacs.png\"\u003e CS109A Introduction to Data Science \n",
                "\n",
                "## Lecture 1: Example\n",
                "\n",
                "\n",
                "**Harvard University**\u003cbr/\u003e\n",
                "**Fall 2020**\u003cbr/\u003e\n",
                "**Instructors**: Pavlos Protopapas, Kevin Rader, and Chris Tanner\n",
                "\n",
                "---"
            ]
        },
        {
            "cell_type": "code",
            "execution_count": 1,
            "metadata": {},
            "outputs": [],
            "source": [
                "import sys\n",
                "import zipfile\n",
                "import datetime\n",
                "import numpy as np\n",
                "import scipy as sp\n",
                "import pandas as pd\n",
                "import seaborn as sns\n",
                "import matplotlib.pyplot as plt\n",
                "\n",
                "from math import radians, cos, sin, asin, sqrt\n",
                "from sklearn.linear_model import LinearRegression\n",
                "\n",
                "sns.set(style=\"ticks\")\n",
                "%matplotlib inline"
            ]
        },
        {
            "attachments": {},
            "cell_type": "markdown",
            "metadata": {},
            "source": [
                "Download the data from \n",
                "\n",
                "https://drive.google.com/open?id=0B28c493CP9GtMzN1emFoMkJNNlU\n",
                ""
            ]
        },
        {
            "cell_type": "code",
            "execution_count": 13,
            "metadata": {},
            "outputs": [],
            "source": [
                "import os\n",
                "\n",
                "DATA_HOME = os.getcwd()\n",
                "if 'ED_USER_NAME' in os.environ:\n",
                "    DATA_HOME = '/course/data'\n",
                "\n",
                "HUBWAY_STATIONS_FILE = os.path.join(DATA_HOME, 'hubway_stations.csv')\n",
                "HUBWAY_TRIPS_FILE = os.path.join(DATA_HOME, 'hubway_trips_sample.csv')"
            ]
        },
        {
            "cell_type": "code",
            "execution_count": 14,
            "metadata": {},
            "outputs": [],
            "source": [
                "hubway_data = pd.read_csv(HUBWAY_TRIPS_FILE, index_col=0, low_memory=False)\n",
                "hubway_data.head()"
            ]
        },
        {
            "attachments": {},
            "cell_type": "markdown",
            "metadata": {},
            "source": [
                "## Basic Summaries"
            ]
        },
        {
            "cell_type": "code",
            "execution_count": 15,
            "metadata": {},
            "outputs": [],
            "source": [
                "hubway_data.describe()"
            ]
        },
        {
            "attachments": {},
            "cell_type": "markdown",
            "metadata": {},
            "source": [
                "## What Type Of "
            ]
        },
        {
            "cell_type": "code",
            "execution_count": 16,
            "metadata": {},
            "outputs": [],
            "source": [
                "hubway_data.dtypes"
            ]
        },
        {
            "attachments": {},
            "cell_type": "markdown",
            "metadata": {},
            "source": [
                "### Go to Part 1 quiz and enter your questions. Once you are done return to the main room. \n",
                ""
            ]
        },
        {
            "cell_type": "code",
            "execution_count": 17,
            "metadata": {},
            "outputs": [],
            "source": [
                ""
            ]
        },
        {
            "cell_type": "code",
            "execution_count": 0,
            "metadata": {},
            "outputs": [],
            "source": [
                ""
            ]
        }
    ]
}
