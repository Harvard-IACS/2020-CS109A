{
    "metadata": {
        "kernelspec": {
            "name": "python3",
            "display_name": "Python 3",
            "language": "python"
        }
    },
    "nbformat": 4,
    "nbformat_minor": 1,
    "cells": [
        {
            "cell_type": "code",
            "execution_count": 1,
            "metadata": {},
            "outputs": [],
            "source": [
                "import pandas as pd\n",
                "import numpy as np\n",
                "import sklearn as sk\n",
                "import matplotlib.pyplot as plt\n",
                "%matplotlib inline\n",
                "\n",
                "from sklearn.linear_model import LogisticRegression\n",
                "from sklearn import metrics\n",
                "from sklearn.preprocessing import PolynomialFeatures\n",
                "\n",
                "from sklearn.model_selection import train_test_split"
            ]
        },
        {
            "cell_type": "code",
            "execution_count": 2,
            "metadata": {},
            "outputs": [],
            "source": [
                "heart = pd.read_csv('Heart.csv')\n",
                "\n",
                "# Force the response into a binary indicator:\n",
                "heart['AHD'] = 1*(heart['AHD'] == \"Yes\")\n",
                "\n",
                "heart_train, heart_test = train_test_split(heart, test_size=0.3, random_state = 109)"
            ]
        },
        {
            "cell_type": "code",
            "execution_count": 3,
            "metadata": {},
            "outputs": [],
            "source": [
                "degree = 3\n",
                "predictors = ['Age','Sex','MaxHR','RestBP','Chol']\n",
                "\n",
                "X_train = PolynomialFeatures(degree=degree,include_bias=False).fit_transform(heart_train[predictors])\n",
                "y_train = heart_train['AHD']\n",
                "\n",
                "X_test = PolynomialFeatures(degree=degree,include_bias=False).fit_transform(heart_test[predictors])\n",
                "y_test = heart_test['AHD']\n",
                "\n",
                "\n",
                "logit = LogisticRegression(penalty='none', max_iter = 10000).fit(X_train, y_train)\n",
                "logit_ridge = LogisticRegression(C=0.001, penalty='l2',solver='lbfgs', max_iter = 10000).fit(X_train, y_train)\n",
                "\n",
                ""
            ]
        },
        {
            "cell_type": "code",
            "execution_count": 4,
            "metadata": {},
            "outputs": [],
            "source": [
                "\n",
                "yhat_logit = logit.predict_proba(X_test)[:,1]\n",
                "yhat_logit_ridge = logit_ridge.predict_proba(X_test)[:,1]\n",
                "\n",
                "threshold = 0.5\n",
                "\n",
                "print('The confusion matrix in test for logit when cut-off is',threshold, ': \\n',\n",
                "      sk.metrics.confusion_matrix(y_test, yhat_logit\u003ethreshold))\n",
                "print('The confusion matrix in test for logit_ridge when cut-off is',threshold, ': \\n',\n",
                "      sk.metrics.confusion_matrix(y_test, yhat_logit_ridge\u003ethreshold))\n",
                ""
            ]
        },
        {
            "cell_type": "code",
            "execution_count": 5,
            "metadata": {},
            "outputs": [],
            "source": [
                "######\n",
                "# your code here\n",
                "######\n",
                "yhat_logit= logit.predict_proba(X_test)[:,1]\n",
                "yhat_logit_ridge= logit_ridge.predict_proba(X_test)[:,1]\n",
                "\n",
                "\n",
                "fpr, tpr, thresholds = metrics.roc_curve(y_test, yhat_logit)\n",
                "fpr_ridge, tpr_ridge, thresholds_ridge = metrics.roc_curve(y_test, yhat_logit_ridge)\n",
                "\n",
                "x=np.arange(0,100)/100\n",
                "plt.plot(x,x,'--',color=\"gray\",alpha=0.3)\n",
                "plt.plot(fpr,tpr,label=\"logit\")\n",
                "plt.plot(fpr_ridge,tpr_ridge,label=\"logit_ridge\")\n",
                "plt.ylabel(\"True Positive Rate\")\n",
                "plt.xlabel(\"False Positive Rate\")\n",
                "plt.title(\"ROC Curve for Predicting AHD in a Logistic Regression Model\")\n",
                "plt.legend()\n",
                "plt.show()"
            ]
        },
        {
            "cell_type": "code",
            "execution_count": 6,
            "metadata": {},
            "outputs": [],
            "source": [
                "print(metrics.auc(fpr,tpr))\n",
                "print(metrics.auc(fpr_ridge,tpr_ridge))"
            ]
        },
        {
            "cell_type": "code",
            "execution_count": 0,
            "metadata": {},
            "outputs": [],
            "source": [
                ""
            ]
        },
        {
            "cell_type": "code",
            "execution_count": 0,
            "metadata": {},
            "outputs": [],
            "source": [
                ""
            ]
        }
    ]
}
