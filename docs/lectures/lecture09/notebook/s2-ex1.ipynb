{
    "metadata": {
        "kernelspec": {
            "name": "python3",
            "display_name": "Python 3",
            "language": "python"
        }
    },
    "nbformat": 4,
    "nbformat_minor": 4,
    "cells": [
        {
            "cell_type": "code",
            "execution_count": 1,
            "metadata": {},
            "outputs": [],
            "source": [
                "import pandas as pd\n",
                "import numpy as np\n",
                "import matplotlib.pyplot as plt\n",
                "from randomuniverse import RandomUniverse\n",
                "%matplotlib inline"
            ]
        },
        {
            "attachments": {},
            "cell_type": "markdown",
            "metadata": {},
            "source": [
                "### Reading the standard Advertising dataset"
            ]
        },
        {
            "cell_type": "code",
            "execution_count": 2,
            "metadata": {},
            "outputs": [],
            "source": [
                "df = pd.read_csv('Advertising_adj.csv')"
            ]
        },
        {
            "cell_type": "code",
            "execution_count": 2,
            "metadata": {},
            "outputs": [],
            "source": [
                "df.head()"
            ]
        },
        {
            "cell_type": "code",
            "execution_count": 1,
            "metadata": {},
            "outputs": [],
            "source": [
                "#Create two empty lists that will store the beta values\n",
                "beta0_list, beta1_list = [],[]\n",
                "\n",
                "\n",
                "#Choose the number of \"parallel\" Universes to generate the new dataset\n",
                "parallelUniverses = 1000\n",
                "\n",
                "for i in range(parallelUniverses):\n",
                "    df_new = RandomUniverse(df)\n",
                "\n",
                "# x is the predictor variable given by 'tv' values \n",
                "# y is the reponse variable given by 'sales' values\n",
                "    x = ___\n",
                "    y = ___\n",
                "\n",
                "#Find the mean of the x values\n",
                "    xmean = x.___\n",
                "\n",
                "#Find the mean of the y values\n",
                "    ymean = y.___\n",
                "\n",
                "# Using Linear Algebra as discussed in lecture for beta0 and beta1\n",
                "\n",
                "    beta1 = ___\n",
                "    beta0 = ___\n",
                "\n",
                "# Append the calculated values of beta1 and beta0\n",
                "    beta0_list.___\n",
                "    beta1_list.___"
            ]
        },
        {
            "cell_type": "code",
            "execution_count": 3,
            "metadata": {},
            "outputs": [],
            "source": [
                "### edTest(test_beta) ###\n",
                "beta0_mean = np.mean(beta0_list)\n",
                "beta1_mean = np.mean(beta1_list)"
            ]
        },
        {
            "attachments": {},
            "cell_type": "markdown",
            "metadata": {},
            "source": [
                "### Now we plot the histograms\n",
                "\n",
                "Returns a plot for a histogram"
            ]
        },
        {
            "cell_type": "code",
            "execution_count": 4,
            "metadata": {},
            "outputs": [],
            "source": [
                "# plot histogram of \n",
                "fig, ax = plt.subplots(1,2, figsize=(18,8))\n",
                "ax[0].___\n",
                "ax[1].___\n",
                "ax[0].set_xlabel('Beta 0')\n",
                "ax[1].set_xlabel('Beta 1')\n",
                "ax[0].set_ylabel('Frequency');"
            ]
        },
        {
            "attachments": {},
            "cell_type": "markdown",
            "metadata": {},
            "source": [
                "## Discussion\n",
                "Change the number of `parallelUniverses` and comment on what you observe. Discuss within the group why you see this behavior. Did you expect the spread to change? Why or why not? "
            ]
        },
        {
            "attachments": {},
            "cell_type": "markdown",
            "metadata": {},
            "source": [
                "# Fin"
            ]
        },
        {
            "attachments": {},
            "cell_type": "markdown",
            "metadata": {},
            "source": [
                "![Fin](https://media.giphy.com/media/jc1dl9ywZPryw/giphy.gif)"
            ]
        }
    ]
}
