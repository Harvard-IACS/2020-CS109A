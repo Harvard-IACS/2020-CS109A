{
 "cells": [
  {
   "cell_type": "markdown",
   "metadata": {},
   "source": [
    "# Title\n",
    "\n",
    "**Exercise: A.1 - Beta values for data from Random Universe**\n",
    "\n",
    "# Description\n",
    "Given a RandomUniverse(dataframe)->dataframe function that gives a new dataset from a \"parallel\" universe, calculate the $\\beta_0$ 's and $\\beta_1$ 's and plot a histogram like the one below. "
   ]
  },
  {
   "cell_type": "markdown",
   "metadata": {},
   "source": [
    "<img src=\"../img/image.png\" style=\"width: 500px;\">"
   ]
  },
  {
   "cell_type": "markdown",
   "metadata": {},
   "source": [
    "# Roadmap\n",
    "- Get a new dataframe using the RandomUniverse function already provided in the exercise\n",
    "- Calculate $\\beta_0$, $\\beta_1$ for that particular dataframe\n",
    "- Add the calculated $\\beta_0$ and $\\beta_1$ values to a python list\n",
    "- Plot a histogram using the lists calculated above\n",
    "\n",
    "Change the number of `parallelUniverses` and comment on what you observe. Discuss within the group why you see this behavior. Did you expect the spread to change? Why or why not? \n",
    "\n",
    "# Hints\n",
    "\n",
    "- To compute the beta values use the following equations:\n",
    "\n",
    "$\\beta_{0}=\\bar{y}-\\left(b_{1} * \\bar{x}\\right)$\n",
    "\n",
    "$\\beta_{1}=\\frac{\\sum(x-\\bar{x}) *(y-\\bar{y})}{\\sum(x-\\bar{x})^{2}}$\n",
    "\n",
    "where $\\bar{x}$ is the mean of $x$ and $\\bar{y}$ is the mean of $y$\n",
    "\n",
    "\n",
    "<a href=\"https://numpy.org/doc/stable/reference/generated/numpy.dot.html\" target=\"_blank\">np.dot()</a> : Computes the dot product of two arrays\n",
    "\n",
    "<a href=\"https://matplotlib.org/3.2.2/api/_as_gen/matplotlib.axes.Axes.hist.html\" target=\"_blank\">ax.hist()</a> : Plots a histogram\n",
    "\n",
    "<a href=\"https://matplotlib.org/3.1.1/api/_as_gen/matplotlib.axes.Axes.set_xlabel.html\" target=\"_blank\">ax.set_xlabel()</a> : Sets label for x-axis\n",
    "\n",
    "<a href=\"https://matplotlib.org/3.1.1/api/_as_gen/matplotlib.axes.Axes.set_ylabel.html\" target=\"_blank\">ax.set_ylabel()</a> : Sets label for the y-axis\n",
    "\n",
    "Note: This exercise is **auto-graded and you can try multiple attempts.**"
   ]
  },
  {
   "cell_type": "code",
   "execution_count": 1,
   "metadata": {},
   "outputs": [],
   "source": [
    "import pandas as pd\n",
    "import numpy as np\n",
    "import matplotlib.pyplot as plt\n",
    "from randomuniverse import RandomUniverse\n",
    "%matplotlib inline"
   ]
  },
  {
   "cell_type": "markdown",
   "metadata": {},
   "source": [
    "### Reading the standard Advertising dataset"
   ]
  },
  {
   "cell_type": "code",
   "execution_count": 2,
   "metadata": {},
   "outputs": [],
   "source": [
    "df = pd.read_csv('Advertising_adj.csv')"
   ]
  },
  {
   "cell_type": "code",
   "execution_count": 2,
   "metadata": {},
   "outputs": [],
   "source": [
    "df.head()"
   ]
  },
  {
   "cell_type": "code",
   "execution_count": 1,
   "metadata": {},
   "outputs": [],
   "source": [
    "#Create two empty lists that will store the beta values\n",
    "beta0_list, beta1_list = [],[]\n",
    "\n",
    "\n",
    "#Choose the number of \"parallel\" Universes to generate the new dataset\n",
    "parallelUniverses = 1000\n",
    "\n",
    "for i in range(parallelUniverses):\n",
    "    df_new = RandomUniverse(df)\n",
    "\n",
    "# x is the predictor variable given by 'tv' values \n",
    "# y is the reponse variable given by 'sales' values\n",
    "    x = ___\n",
    "    y = ___\n",
    "\n",
    "#Find the mean of the x values\n",
    "    xmean = x.___\n",
    "\n",
    "#Find the mean of the y values\n",
    "    ymean = y.___\n",
    "\n",
    "# Using Linear Algebra as discussed in lecture for beta0 and beta1\n",
    "\n",
    "    beta1 = ___\n",
    "    beta0 = ___\n",
    "\n",
    "# Append the calculated values of beta1 and beta0\n",
    "    beta0_list.___\n",
    "    beta1_list.___"
   ]
  },
  {
   "cell_type": "code",
   "execution_count": 3,
   "metadata": {},
   "outputs": [],
   "source": [
    "### edTest(test_beta) ###\n",
    "beta0_mean = np.mean(beta0_list)\n",
    "beta1_mean = np.mean(beta1_list)"
   ]
  },
  {
   "cell_type": "markdown",
   "metadata": {},
   "source": [
    "### Now we plot the histograms\n",
    "\n",
    "Returns a plot for a histogram"
   ]
  },
  {
   "cell_type": "code",
   "execution_count": 4,
   "metadata": {},
   "outputs": [],
   "source": [
    "# plot histogram of \n",
    "fig, ax = plt.subplots(1,2, figsize=(18,8))\n",
    "ax[0].___\n",
    "ax[1].___\n",
    "ax[0].set_xlabel('Beta 0')\n",
    "ax[1].set_xlabel('Beta 1')\n",
    "ax[0].set_ylabel('Frequency');"
   ]
  },
  {
   "cell_type": "markdown",
   "metadata": {},
   "source": [
    "## Discussion\n",
    "Change the number of `parallelUniverses` and comment on what you observe. Discuss within the group why you see this behavior. Did you expect the spread to change? Why or why not? "
   ]
  },
  {
   "cell_type": "markdown",
   "metadata": {},
   "source": [
    "# Fin"
   ]
  },
  {
   "cell_type": "markdown",
   "metadata": {},
   "source": [
    "![Fin](https://media.giphy.com/media/jc1dl9ywZPryw/giphy.gif)"
   ]
  }
 ],
 "metadata": {
  "kernelspec": {
   "display_name": "Python 3",
   "language": "python",
   "name": "python3"
  },
  "language_info": {
   "codemirror_mode": {
    "name": "ipython",
    "version": 3
   },
   "file_extension": ".py",
   "mimetype": "text/x-python",
   "name": "python",
   "nbconvert_exporter": "python",
   "pygments_lexer": "ipython3",
   "version": "3.8.5"
  }
 },
 "nbformat": 4,
 "nbformat_minor": 4
}
