{
    "metadata": {
        "kernelspec": {
            "name": "python3",
            "display_name": "Python 3",
            "language": "python"
        }
    },
    "nbformat": 4,
    "nbformat_minor": 4,
    "cells": [
        {
            "cell_type": "code",
            "execution_count": 1,
            "metadata": {},
            "outputs": [],
            "source": [
                "# import the libraries\n",
                "import pandas as pd\n",
                "import numpy as np\n",
                "import matplotlib.pyplot as plt\n",
                "%matplotlib inline"
            ]
        },
        {
            "attachments": {},
            "cell_type": "markdown",
            "metadata": {},
            "source": [
                "### Reading the standard Advertising dataset"
            ]
        },
        {
            "cell_type": "code",
            "execution_count": 2,
            "metadata": {},
            "outputs": [],
            "source": [
                "# Read the 'Advertising_adj.csv' file\n",
                "df = pd.read_csv('Advertising_adj.csv')"
            ]
        },
        {
            "cell_type": "code",
            "execution_count": 7,
            "metadata": {},
            "outputs": [],
            "source": [
                "# Use your bootstrap function from the previous exercise\n",
                "def bootstrap(df):\n",
                "    selectionIndex = np.random.randint(len(df), size = len(df))\n",
                "    new_df = df.iloc[selectionIndex]\n",
                "    return new_df"
            ]
        },
        {
            "cell_type": "code",
            "execution_count": 8,
            "metadata": {},
            "outputs": [],
            "source": [
                "# Like last time, create a list of beta values using 1000 bootstraps of your original data\n",
                "beta0_list, beta1_list = [],[]\n",
                "\n",
                "numberOfBootstraps = 100\n",
                "\n",
                "for i in range(numberOfBootstraps):\n",
                "    df_new = bootstrap(df)\n",
                "    \n",
                "    xmean = df_new.tv.mean()\n",
                "    ymean = df_new.sales.mean()\n",
                "    \n",
                "    beta1 = np.dot((df_new.tv-xmean) , (df_new.sales-ymean))/((df_new.tv-xmean)**2).sum()\n",
                "    beta0 = ymean - beta1*xmean\n",
                "    \n",
                "    beta0_list.append(beta0)\n",
                "    beta1_list.append(beta1)"
            ]
        },
        {
            "cell_type": "code",
            "execution_count": 9,
            "metadata": {},
            "outputs": [],
            "source": [
                "### edTest(test_sort) ###\n",
                "\n",
                "# Sort the two lists of beta values  from lowest value to highest \n",
                "beta0_list.___;\n",
                "beta1_list.___;"
            ]
        },
        {
            "cell_type": "code",
            "execution_count": 10,
            "metadata": {},
            "outputs": [],
            "source": [
                "### edTest(test_beta) ###\n",
                "\n",
                "# Now we find the confidence interval\n",
                "# Find the 95% percent confidence interval using the percentile function\n",
                "beta0_CI = (np.___,np.___)\n",
                "\n",
                "beta1_CI = (np.___,np.___)"
            ]
        },
        {
            "cell_type": "code",
            "execution_count": 0,
            "metadata": {},
            "outputs": [],
            "source": [
                "#Print the confidence interval of beta0 upto 3 decimal points\n",
                "print(f'The beta0 confidence interval is {___}')"
            ]
        },
        {
            "cell_type": "code",
            "execution_count": 0,
            "metadata": {},
            "outputs": [],
            "source": [
                "#Print the confidence interval of beta1 upto 3 decimal points\n",
                "print(f'The beta1 confidence interval is {___}')"
            ]
        },
        {
            "cell_type": "code",
            "execution_count": 15,
            "metadata": {},
            "outputs": [],
            "source": [
                "# Use this helper function to plot the histogram of beta values along with the 95% confidence interval\n",
                "def plot_simulation(simulation,confidence):\n",
                "    plt.hist(simulation, bins = 30, label = 'beta distribution', align = 'left', density = True)\n",
                "    plt.axvline(confidence[1], 0, 1, color = 'r', label = 'Right Interval')\n",
                "    plt.axvline(confidence[0], 0, 1, color = 'red', label = 'Left Interval')\n",
                "    plt.xlabel('Beta value')\n",
                "    plt.ylabel('Frequency')\n",
                "    plt.title('Confidence Interval')\n",
                "    plt.legend(frameon = False, loc = 'upper right')\n",
                ""
            ]
        },
        {
            "cell_type": "code",
            "execution_count": 0,
            "metadata": {},
            "outputs": [],
            "source": [
                "# Plot for beta 0\n",
                "plot_simulation(_,_)"
            ]
        },
        {
            "cell_type": "code",
            "execution_count": 0,
            "metadata": {},
            "outputs": [],
            "source": [
                "#Plot for beta 1\n",
                "plot_simulation(_, _)"
            ]
        }
    ]
}
