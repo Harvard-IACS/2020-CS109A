{
 "cells": [
  {
   "cell_type": "markdown",
   "metadata": {},
   "source": [
    "# Title\n",
    "\n",
    "**Exercise: B.1 - Beta values for Data from Random Universe using Bootstrap**\n",
    "\n",
    "# Description\n",
    "\n",
    "Solve the previous exercise by building your own bootstrap function.\n",
    "\n",
    "# Instructions\n",
    "\n",
    "Define a function bootstrap that takes a dataframe as the input. Use NumPy's random.randint() function to generate random integers in the range of the length of the dataset. These integers will be used as the indices to access the rows of the dataset.\n",
    "\n",
    "Similar to the previous exercise, compute the $\\beta_0$ and $\\beta_1$ values for each instance of the dataframe.\n",
    "\n",
    "Plot the $\\beta_0$, $\\beta_1$ histograms.\n",
    "\n",
    "# Hints\n",
    "\n",
    "To compute the beta values use the following equations:\n",
    "\n",
    "$\\beta_{0}=\\bar{y}-\\left(b_{1} * \\bar{x}\\right)$\n",
    "\n",
    "$\\beta_{1}=\\frac{\\sum(x-\\bar{x}) *(y-\\bar{y})}{\\sum(x-\\bar{x})^{2}}$\n",
    "\n",
    "where $\\bar{x}$ is the mean of $x$ and $\\bar{y}$ is the mean of $y$\n",
    "\n",
    "\n",
    "<a href=\"https://docs.scipy.org/doc/numpy-1.15.0/reference/generated/numpy.random.randint.html\" target=\"_blank\">np.random.randint()</a> : Returns list of integers as per mentioned size \n",
    "\n",
    "<a href=\"https://numpy.org/doc/stable/reference/generated/numpy.dot.html\" target=\"_blank\">np.dot()</a> : Computes the dot product of two arrays\n",
    "\n",
    "\n",
    "<a href=\"https://pandas.pydata.org/pandas-docs/stable/reference/api/pandas.DataFrame.iloc.html\" target=\"_blank\">df.iloc[]</a> : Purely integer-location based indexing for selection by position\n",
    "\n",
    "\n",
    "<a href=\"https://matplotlib.org/3.2.2/api/_as_gen/matplotlib.axes.Axes.hist.html\" target=\"_blank\">ax.hist()</a> : Plots a histogram\n",
    "\n",
    "\n",
    "<a href=\"https://matplotlib.org/3.1.1/api/_as_gen/matplotlib.axes.Axes.set_xlabel.html\" target=\"_blank\">ax.set_xlabel()</a> : Sets label for x-axthe is\n",
    "\n",
    "\n",
    "<a href=\"https://matplotlib.org/3.1.1/api/_as_gen/matplotlib.axes.Axes.set_ylabel.html\" target=\"_blank\">ax.set_ylabel()</a> : Sets label for the y-axis\n",
    "\n",
    "\n",
    "Note: This exercise is **auto-graded and you can try multiple attempts.**"
   ]
  },
  {
   "cell_type": "code",
   "execution_count": 1,
   "metadata": {},
   "outputs": [],
   "source": [
    "# import libraries\n",
    "import pandas as pd\n",
    "import numpy as np\n",
    "import matplotlib.pyplot as plt\n",
    "from randomuniverse import RandomUniverse\n",
    "%matplotlib inline"
   ]
  },
  {
   "cell_type": "markdown",
   "metadata": {},
   "source": [
    "### Reading the standard Advertising dataset"
   ]
  },
  {
   "cell_type": "code",
   "execution_count": 2,
   "metadata": {},
   "outputs": [],
   "source": [
    "# Read the file \"Advertising_csv\"\n",
    "df = pd.read_csv('Advertising_adj.csv')"
   ]
  },
  {
   "cell_type": "code",
   "execution_count": 3,
   "metadata": {},
   "outputs": [],
   "source": [
    "# Take a quick look at the data\n",
    "df.head()"
   ]
  },
  {
   "cell_type": "code",
   "execution_count": 4,
   "metadata": {},
   "outputs": [],
   "source": [
    "# Define a bootstrap function, which inputs a dataframe & outputs a bootstrapped dataframe\n",
    "def bootstrap(df):\n",
    "    selectionIndex = np.random.randint(___, size = ___)\n",
    "    new_df = df.iloc[___]\n",
    "    return new_df\n"
   ]
  },
  {
   "cell_type": "code",
   "execution_count": 5,
   "metadata": {},
   "outputs": [],
   "source": [
    "# Create two empty lists to store beta values\n",
    "beta0_list, beta1_list = [],[]\n",
    "\n",
    "\n",
    "# For each instance of the for loop, call your bootstrap function, calculate the beta values\n",
    "# Store the beta values in the appropriate list\n",
    "\n",
    "#Choose the number of \"parallel\" Universes to generate the new dataset\n",
    "number_of_bootstraps = 1000\n",
    "\n",
    "for i in range(number_of_bootstraps):\n",
    "    df_new = bootstrap(df)\n",
    "\n",
    "# x is the predictor variable given by 'tv' values \n",
    "# y is the reponse variable given by 'sales' values\n",
    "    x = ___\n",
    "    y = ___\n",
    "\n",
    "#Find the mean of the x values\n",
    "    xmean = x.___\n",
    "\n",
    "#Find the mean of the y values\n",
    "    ymean = y.___\n",
    "    \n",
    "# Using equations given and discussed in lecture compute the beta0 and beta1 values\n",
    "# Hint: use np.dot to perform the mulitplication operation\n",
    "    beta1 = ___\n",
    "    beta0 = ___\n",
    "\n",
    "# Append the calculated values of beta1 and beta0\n",
    "    beta0_list.append(___)\n",
    "    beta1_list.append(___)"
   ]
  },
  {
   "cell_type": "code",
   "execution_count": null,
   "metadata": {},
   "outputs": [],
   "source": [
    "### edTest(test_beta) ###\n",
    "\n",
    "#Compute the mean of the beta0 and beta1 lists\n",
    "beta0_mean = np.mean(___)\n",
    "beta1_mean = np.mean(___)"
   ]
  },
  {
   "cell_type": "code",
   "execution_count": 1,
   "metadata": {},
   "outputs": [],
   "source": [
    "# plot histogram of beta0 and beta1\n",
    "fig, ax = plt.subplots(1,2, figsize=(18,8))\n",
    "ax[0].___\n",
    "ax[1].___\n",
    "ax[0].set_xlabel(___)\n",
    "ax[1].set_xlabel(___)\n",
    "ax[0].set_ylabel('Frequency');"
   ]
  },
  {
   "cell_type": "markdown",
   "metadata": {},
   "source": [
    "### Compare the plots with the results from the RandomUniverse() function"
   ]
  },
  {
   "cell_type": "code",
   "execution_count": 9,
   "metadata": {},
   "outputs": [],
   "source": [
    "# The below helper code will help you visualise the similarity between\n",
    "# the bootstrap function you wrote & the RandomUniverse() function from last exercise\n",
    "beta0_randUni, beta1_randUni = [],[]\n",
    "\n",
    "parallelUniverses = 1000\n",
    "\n",
    "for i in range(parallelUniverses):\n",
    "    df_new = RandomUniverse(df)\n",
    "    \n",
    "    xmean = df_new.tv.mean()\n",
    "    ymean = df_new.sales.mean()\n",
    "\n",
    "# Using Linear Algebra result as discussed in lecture\n",
    "    beta1 = np.dot((x-xmean) , (y-ymean))/((x-xmean)**2).sum()\n",
    "    beta0 = ymean - beta1*xmean\n",
    "\n",
    "    beta0_randUni.append(beta0)\n",
    "    beta1_randUni.append(beta1)"
   ]
  },
  {
   "cell_type": "code",
   "execution_count": 10,
   "metadata": {},
   "outputs": [],
   "source": [
    "# Use this helper code to plot the bootstrapped beta values & the ones from random universe\n",
    "def plotmulti(list1, list2):\n",
    "    fig, axes = plt.subplots(1,2, figsize = (10,4), sharey = 'row')\n",
    "    axes[0].hist(list1);\n",
    "    axes[0].set_xlabel('Beta Distribution')\n",
    "    axes[0].set_ylabel('Frequency')\n",
    "    axes[0].set_title('Bootstrap')\n",
    "    axes[1].hist(list2);\n",
    "    axes[1].set_xlabel('Beta Distribution')\n",
    "    axes[1].set_title('Random Universe')"
   ]
  },
  {
   "cell_type": "code",
   "execution_count": 2,
   "metadata": {},
   "outputs": [],
   "source": [
    "# Just use the 'plotmulti' function above to compare the two histograms for beta0\n",
    "plotmulti(beta0_list, beta0_randUni)"
   ]
  },
  {
   "cell_type": "code",
   "execution_count": 3,
   "metadata": {},
   "outputs": [],
   "source": [
    "#Now compare for beta1\n",
    "plotmulti(beta1_list, beta1_randUni)"
   ]
  },
  {
   "cell_type": "code",
   "execution_count": null,
   "metadata": {},
   "outputs": [],
   "source": []
  }
 ],
 "metadata": {
  "kernelspec": {
   "display_name": "Python 3",
   "language": "python",
   "name": "python3"
  },
  "language_info": {
   "codemirror_mode": {
    "name": "ipython",
    "version": 3
   },
   "file_extension": ".py",
   "mimetype": "text/x-python",
   "name": "python",
   "nbconvert_exporter": "python",
   "pygments_lexer": "ipython3",
   "version": "3.8.5"
  }
 },
 "nbformat": 4,
 "nbformat_minor": 4
}
