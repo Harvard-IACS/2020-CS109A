{
 "cells": [
  {
   "cell_type": "markdown",
   "metadata": {},
   "source": [
    "# Title\n",
    "\n",
    "**Exercise 2 [Not Graded!] - Confusion Matrices & ROC Curves**\n",
    "\n",
    "# Description\n",
    "\n",
    "The aim of this exercise is to evaluate classification models through confusion matrics, ROC curves, and the AUC metric.  You eventually will create a plot that looks like this:"
   ]
  },
  {
   "cell_type": "markdown",
   "metadata": {},
   "source": [
    "<img src=\"../img/image2.png\" style=\"width: 500px;\">"
   ]
  },
  {
   "cell_type": "markdown",
   "metadata": {},
   "source": [
    "# Dataset Description:\n",
    "The dataset used here is called the Heart dataset. This dataset has several predictors such as `Age`, `Sex`, and `MaxHR`, etc.  \n",
    "\n",
    "# Instructions:\n",
    "1. Run the code, play around with thresholds and regularization parameters, and determine what the effect is on the misclassifications, ROC Curve, and AUC.\n",
    "2. Hint: why aren't we plotting like in the last exercise?\n",
    "\n",
    "# Hints:\n",
    "<a href=\"https://scikit-learn.org/stable/modules/generated/sklearn.linear_model.LogisticRegression.html\" target=\"_blank\">sklearn.LogisticRegression()</a> : Generates a Logistic Regression classifier\n",
    "\n",
    "<a href=\"https://scikit-learn.org/stable/modules/generated/sklearn.linear_model.LogisticRegression.html#sklearn.linear_model.LogisticRegression.fit\" target=\"_blank\">sklearn.fit()</a> : Fits the model to the given data\n",
    "\n",
    "<a href=\"https://scikit-learn.org/stable/modules/generated/sklearn.linear_model.LogisticRegression.html#sklearn.linear_model.LogisticRegression.predict\" target=\"_blank\">sklearn.predict()</a> : Predict using the estimated model (Logistic or knn classifiers) to perform pure classification predictions\n",
    "\n",
    "<a href=\"https://scikit-learn.org/stable/modules/generated/sklearn.linear_model.LogisticRegression.html#sklearn.linear_model.LogisticRegression.predict_proba\" target=\"_blank\">sklearn.predict_proba()</a> : Predict using the estimated model (Logistic or knn classifiers) to perform probability predictions of all the classes in the response (they should add up to 1 for each observation)\n",
    "\n",
    "<a href=\"https://scikit-learn.org/stable/modules/generated/sklearn.linear_model.LogisticRegression.html\" target=\"_blank\">sklearn.LogisticRegression.coef_ and .intercept_</a> : Pull off the estimated $\\beta$ coefficients in a Logistic Regression model\n",
    "\n",
    "<a href=\"https://scikit-learn.org/stable/modules/generated/sklearn.metrics.confusion_matrix.html\" target=\"_blank\">sklearn.confusion_matrix()</a> : Calculate the confusion matrix\n",
    "\n",
    "<a href=\"https://scikit-learn.org/stable/modules/generated/sklearn.metrics.confusion_matrix.html\" target=\"_blank\">sklearn.roc_curve()</a> : Calculate the ROC curve\n",
    "\n",
    "<a href=\"https://scikit-learn.org/stable/modules/generated/sklearn.metrics.roc_auc_score.html\" target=\"_blank\">sklearn.roc_auc_score()</a> : Calculate the Area under the curve\n",
    "\n",
    "**Note: This exercise is NOT auto-graded.**"
   ]
  },
  {
   "cell_type": "code",
   "execution_count": 1,
   "metadata": {},
   "outputs": [],
   "source": [
    "import pandas as pd\n",
    "import numpy as np\n",
    "import sklearn as sk\n",
    "import matplotlib.pyplot as plt\n",
    "%matplotlib inline\n",
    "\n",
    "from sklearn.linear_model import LogisticRegression\n",
    "from sklearn import metrics\n",
    "from sklearn.preprocessing import PolynomialFeatures\n",
    "\n",
    "from sklearn.model_selection import train_test_split"
   ]
  },
  {
   "cell_type": "code",
   "execution_count": 2,
   "metadata": {},
   "outputs": [],
   "source": [
    "heart = pd.read_csv('Heart.csv')\n",
    "\n",
    "# Force the response into a binary indicator:\n",
    "heart['AHD'] = 1*(heart['AHD'] == \"Yes\")\n",
    "\n",
    "heart_train, heart_test = train_test_split(heart, test_size=0.3, random_state = 109)"
   ]
  },
  {
   "cell_type": "code",
   "execution_count": 3,
   "metadata": {},
   "outputs": [],
   "source": [
    "degree = 3\n",
    "predictors = ['Age','Sex','MaxHR','RestBP','Chol']\n",
    "\n",
    "X_train = PolynomialFeatures(degree=degree,include_bias=False).fit_transform(heart_train[predictors])\n",
    "y_train = heart_train['AHD']\n",
    "\n",
    "X_test = PolynomialFeatures(degree=degree,include_bias=False).fit_transform(heart_test[predictors])\n",
    "y_test = heart_test['AHD']\n",
    "\n",
    "\n",
    "logit = LogisticRegression(penalty='none', max_iter = 10000).fit(X_train, y_train)\n",
    "logit_ridge = LogisticRegression(C=0.001, penalty='l2',solver='lbfgs', max_iter = 10000).fit(X_train, y_train)\n",
    "\n"
   ]
  },
  {
   "cell_type": "code",
   "execution_count": 4,
   "metadata": {},
   "outputs": [],
   "source": [
    "\n",
    "yhat_logit = logit.predict_proba(X_test)[:,1]\n",
    "yhat_logit_ridge = logit_ridge.predict_proba(X_test)[:,1]\n",
    "\n",
    "threshold = 0.5\n",
    "\n",
    "print('The confusion matrix in test for logit when cut-off is',threshold, ': \\n',\n",
    "      sk.metrics.confusion_matrix(y_test, yhat_logit>threshold))\n",
    "print('The confusion matrix in test for logit_ridge when cut-off is',threshold, ': \\n',\n",
    "      sk.metrics.confusion_matrix(y_test, yhat_logit_ridge>threshold))\n"
   ]
  },
  {
   "cell_type": "code",
   "execution_count": 5,
   "metadata": {},
   "outputs": [],
   "source": [
    "######\n",
    "# your code here\n",
    "######\n",
    "yhat_logit= logit.predict_proba(X_test)[:,1]\n",
    "yhat_logit_ridge= logit_ridge.predict_proba(X_test)[:,1]\n",
    "\n",
    "\n",
    "fpr, tpr, thresholds = metrics.roc_curve(y_test, yhat_logit)\n",
    "fpr_ridge, tpr_ridge, thresholds_ridge = metrics.roc_curve(y_test, yhat_logit_ridge)\n",
    "\n",
    "x=np.arange(0,100)/100\n",
    "plt.plot(x,x,'--',color=\"gray\",alpha=0.3)\n",
    "plt.plot(fpr,tpr,label=\"logit\")\n",
    "plt.plot(fpr_ridge,tpr_ridge,label=\"logit_ridge\")\n",
    "plt.ylabel(\"True Positive Rate\")\n",
    "plt.xlabel(\"False Positive Rate\")\n",
    "plt.title(\"ROC Curve for Predicting AHD in a Logistic Regression Model\")\n",
    "plt.legend()\n",
    "plt.show()"
   ]
  },
  {
   "cell_type": "code",
   "execution_count": 6,
   "metadata": {},
   "outputs": [],
   "source": [
    "print(metrics.auc(fpr,tpr))\n",
    "print(metrics.auc(fpr_ridge,tpr_ridge))"
   ]
  },
  {
   "cell_type": "code",
   "execution_count": null,
   "metadata": {},
   "outputs": [],
   "source": []
  },
  {
   "cell_type": "code",
   "execution_count": null,
   "metadata": {},
   "outputs": [],
   "source": []
  }
 ],
 "metadata": {
  "kernelspec": {
   "display_name": "Python 3",
   "language": "python",
   "name": "python3"
  },
  "language_info": {
   "codemirror_mode": {
    "name": "ipython",
    "version": 3
   },
   "file_extension": ".py",
   "mimetype": "text/x-python",
   "name": "python",
   "nbconvert_exporter": "python",
   "pygments_lexer": "ipython3",
   "version": "3.8.5"
  }
 },
 "nbformat": 4,
 "nbformat_minor": 4
}
