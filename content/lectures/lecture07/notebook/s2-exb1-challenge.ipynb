{
    "metadata": {
        "kernelspec": {
            "name": "python3",
            "display_name": "Python 3",
            "language": "python"
        }
    },
    "nbformat": 4,
    "nbformat_minor": 4,
    "cells": [
        {
            "cell_type": "code",
            "execution_count": 1,
            "metadata": {},
            "outputs": [],
            "source": [
                "#import the required libraries\n",
                "import numpy as np\n",
                "import pandas as pd\n",
                "import matplotlib.pyplot as plt\n",
                "from sklearn.linear_model import LinearRegression\n",
                "from sklearn.preprocessing import PolynomialFeatures\n",
                "%matplotlib inline"
            ]
        },
        {
            "cell_type": "code",
            "execution_count": 2,
            "metadata": {},
            "outputs": [
                {
                    "ename": "AttributeError",
                    "evalue": "'DataFrame' object has no attribute '___'",
                    "output_type": "error",
                    "traceback": [
                        "\u001b[0;31m---------------------------------------------------------------------------\u001b[0m",
                        "\u001b[0;31mAttributeError\u001b[0m                            Traceback (most recent call last)",
                        "\u001b[0;32m\u003cipython-input-1-d947f44fceb0\u003e\u001b[0m in \u001b[0;36m\u003cmodule\u003e\u001b[0;34m\u001b[0m\n\u001b[1;32m      2\u001b[0m \u001b[0mdf\u001b[0m \u001b[0;34m=\u001b[0m \u001b[0mpd\u001b[0m\u001b[0;34m.\u001b[0m\u001b[0mread_csv\u001b[0m\u001b[0;34m(\u001b[0m\u001b[0;34m'poly.csv'\u001b[0m\u001b[0;34m)\u001b[0m\u001b[0;34m\u001b[0m\u001b[0;34m\u001b[0m\u001b[0m\n\u001b[1;32m      3\u001b[0m \u001b[0;31m# Get the column values for x \u0026 y\u001b[0m\u001b[0;34m\u001b[0m\u001b[0;34m\u001b[0m\u001b[0;34m\u001b[0m\u001b[0m\n\u001b[0;32m----\u003e 4\u001b[0;31m \u001b[0mx\u001b[0m \u001b[0;34m=\u001b[0m \u001b[0mdf\u001b[0m\u001b[0;34m[\u001b[0m\u001b[0;34m[\u001b[0m\u001b[0;34m'x'\u001b[0m\u001b[0;34m]\u001b[0m\u001b[0;34m]\u001b[0m\u001b[0;34m.\u001b[0m\u001b[0m___\u001b[0m\u001b[0;34m\u001b[0m\u001b[0;34m\u001b[0m\u001b[0m\n\u001b[0m\u001b[1;32m      5\u001b[0m \u001b[0my\u001b[0m \u001b[0;34m=\u001b[0m \u001b[0mdf\u001b[0m\u001b[0;34m[\u001b[0m\u001b[0;34m'y'\u001b[0m\u001b[0;34m]\u001b[0m\u001b[0;34m.\u001b[0m\u001b[0m___\u001b[0m\u001b[0;34m\u001b[0m\u001b[0;34m\u001b[0m\u001b[0m\n",
                        "\u001b[0;32m/usr/lib/python3.8/site-packages/pandas/core/generic.py\u001b[0m in \u001b[0;36m__getattr__\u001b[0;34m(self, name)\u001b[0m\n\u001b[1;32m   5128\u001b[0m             \u001b[0;32mif\u001b[0m \u001b[0mself\u001b[0m\u001b[0;34m.\u001b[0m\u001b[0m_info_axis\u001b[0m\u001b[0;34m.\u001b[0m\u001b[0m_can_hold_identifiers_and_holds_name\u001b[0m\u001b[0;34m(\u001b[0m\u001b[0mname\u001b[0m\u001b[0;34m)\u001b[0m\u001b[0;34m:\u001b[0m\u001b[0;34m\u001b[0m\u001b[0;34m\u001b[0m\u001b[0m\n\u001b[1;32m   5129\u001b[0m                 \u001b[0;32mreturn\u001b[0m \u001b[0mself\u001b[0m\u001b[0;34m[\u001b[0m\u001b[0mname\u001b[0m\u001b[0;34m]\u001b[0m\u001b[0;34m\u001b[0m\u001b[0;34m\u001b[0m\u001b[0m\n\u001b[0;32m-\u003e 5130\u001b[0;31m             \u001b[0;32mreturn\u001b[0m \u001b[0mobject\u001b[0m\u001b[0;34m.\u001b[0m\u001b[0m__getattribute__\u001b[0m\u001b[0;34m(\u001b[0m\u001b[0mself\u001b[0m\u001b[0;34m,\u001b[0m \u001b[0mname\u001b[0m\u001b[0;34m)\u001b[0m\u001b[0;34m\u001b[0m\u001b[0;34m\u001b[0m\u001b[0m\n\u001b[0m\u001b[1;32m   5131\u001b[0m \u001b[0;34m\u001b[0m\u001b[0m\n\u001b[1;32m   5132\u001b[0m     \u001b[0;32mdef\u001b[0m \u001b[0m__setattr__\u001b[0m\u001b[0;34m(\u001b[0m\u001b[0mself\u001b[0m\u001b[0;34m,\u001b[0m \u001b[0mname\u001b[0m\u001b[0;34m:\u001b[0m \u001b[0mstr\u001b[0m\u001b[0;34m,\u001b[0m \u001b[0mvalue\u001b[0m\u001b[0;34m)\u001b[0m \u001b[0;34m-\u003e\u001b[0m \u001b[0;32mNone\u001b[0m\u001b[0;34m:\u001b[0m\u001b[0;34m\u001b[0m\u001b[0;34m\u001b[0m\u001b[0m\n",
                        "\u001b[0;31mAttributeError\u001b[0m: 'DataFrame' object has no attribute '___'"
                    ]
                }
            ],
            "source": [
                "# Read the data from 'poly.csv' to a dataframe\n",
                "df = pd.read_csv('poly.csv')\n",
                "# Get the column values for x \u0026 y in numpy arrays\n",
                "x = df[['x']].___\n",
                "y = df['y'].___"
            ]
        },
        {
            "cell_type": "code",
            "execution_count": 0,
            "metadata": {},
            "outputs": [],
            "source": [
                "# Take a quick look at the dataframe\n",
                "df.head()"
            ]
        },
        {
            "cell_type": "code",
            "execution_count": 0,
            "metadata": {},
            "outputs": [],
            "source": [
                "# Plot x \u0026 y to visually inspect the data\n",
                "\n",
                "fig, ax = plt.subplots()\n",
                "ax.plot(x,y,'x')\n",
                "ax.set_xlabel('$x$ values')\n",
                "ax.set_ylabel('$y$ values')\n",
                "ax.set_title('$y$ vs $x$');"
            ]
        },
        {
            "cell_type": "code",
            "execution_count": 16,
            "metadata": {},
            "outputs": [],
            "source": [
                "# Fit a linear model on the data\n",
                "model = ____\n",
                "model.___(___)\n",
                "\n",
                "# Get the predictions on the entire data using the .predict() function\n",
                "y_lin_pred = model.predict(___)"
            ]
        },
        {
            "cell_type": "code",
            "execution_count": 18,
            "metadata": {},
            "outputs": [],
            "source": [
                "### edTest(test_deg) ###\n",
                "# Now, we try polynomial regression\n",
                "# GUESS the correct polynomial degree based on the above graph\n",
                "\n",
                "guess_degree = ___\n",
                "\n",
                "# Generate polynomial features on the entire data\n",
                "x_poly= PolynomialFeatures(degree=guess_degree).fit_transform(___)\n",
                ""
            ]
        },
        {
            "cell_type": "code",
            "execution_count": 19,
            "metadata": {},
            "outputs": [],
            "source": [
                "#Fit a polynomial model on the data, using x_poly as features\n",
                "polymodel = LinearRegression()\n",
                "polymodel.fit(_,_)\n",
                "\n",
                "y_poly_pred = polymodel.predict(___)"
            ]
        },
        {
            "cell_type": "code",
            "execution_count": 20,
            "metadata": {},
            "outputs": [],
            "source": [
                "# To visualise the results, sort the x values using the helper code below\n",
                "# Worth examining and understand the code \n",
                "\n",
                "idx = np.argsort(x[:,0])\n",
                "x = x[idx]\n",
                "\n",
                "# Use the above index to get the appropriate predicted values for y\n",
                "# y values corresponding to sorted x\n",
                "y = y[idx]\n",
                "\n",
                "#Linear predicted values  \n",
                "y_lin_pred = y_lin_pred[idx]\n",
                "\n",
                "#Non-linear predicted values\n",
                "y_poly_pred= y_poly_pred[idx]"
            ]
        },
        {
            "cell_type": "code",
            "execution_count": 0,
            "metadata": {},
            "outputs": [],
            "source": [
                "# First plot x \u0026 y values using plt.scatter\n",
                "plt.scatter(_, _, s=10, label=\"Data\")\n",
                "\n",
                "# Now, plot the linear regression fit curve\n",
                "plt.plot(_,_,label=\"Linear fit\")\n",
                "\n",
                "# Also plot the polynomial regression fit curve\n",
                "plt.plot(_, _, label=\"Polynomial fit\")\n",
                "\n",
                "#Assigning labels to the axes\n",
                "plt.xlabel(\"x values\")\n",
                "plt.ylabel(\"y values\")\n",
                "plt.legend()\n",
                "plt.show()"
            ]
        },
        {
            "cell_type": "code",
            "execution_count": 10,
            "metadata": {},
            "outputs": [],
            "source": [
                "### edTest(test_poly_predictions) ###\n",
                "#Calculate the residual values for the polynomial model\n",
                "poly_residuals = ___\n",
                ""
            ]
        },
        {
            "cell_type": "code",
            "execution_count": 0,
            "metadata": {},
            "outputs": [],
            "source": [
                "### edTest(test_linear_predictions) ###\n",
                "#Calculate the residual values for the linear model\n",
                "lin_residuals = ___"
            ]
        },
        {
            "cell_type": "code",
            "execution_count": 0,
            "metadata": {},
            "outputs": [],
            "source": [
                "#Use the below helper code to plot residual values\n",
                "#Plot the histograms of the residuals for the two cases\n",
                "\n",
                "#Distribution of residuals\n",
                "fig, ax = plt.subplots(1,2, figsize = (10,4))\n",
                "bins = np.linspace(-20,20,20)\n",
                "ax[0].set_xlabel('Residuals')\n",
                "ax[0].set_ylabel('Frequency')\n",
                "\n",
                "#Plot the histograms for the polynomial regression\n",
                "ax[0].hist(___, bins,label = ___)\n",
                "\n",
                "#Plot the histograms for the linear regression\n",
                "ax[0].hist(___, bins, label = ___)\n",
                "\n",
                "ax[0].legend(loc = 'upper left')\n",
                "\n",
                "# Distribution of predicted values with the residuals\n",
                "ax[1].scatter(y_poly_pred, poly_residuals, s=10)\n",
                "ax[1].scatter(y_lin_pred, lin_residuals, s = 10 )\n",
                "ax[1].set_xlim(-75,75)\n",
                "ax[1].set_xlabel('Predicted values')\n",
                "ax[1].set_ylabel('Residuals')\n",
                "\n",
                "fig.suptitle('Residual Analysis (Linear vs Polynomial)');"
            ]
        },
        {
            "attachments": {},
            "cell_type": "markdown",
            "metadata": {},
            "source": [
                "## Question: \n",
                "Do you think that polynomial degree is appropriate. Experiment with a degree of polynomial =2 and comment on what you observe for the residuals."
            ]
        }
    ]
}
