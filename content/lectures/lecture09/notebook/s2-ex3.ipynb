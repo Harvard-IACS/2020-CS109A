{
 "cells": [
  {
   "cell_type": "markdown",
   "metadata": {},
   "source": [
    "# Title\n",
    "\n",
    "**Exercise: B.2 - Confidence Interval for Beta value**\n",
    "\n",
    "# Description\n",
    "\n",
    "The goal of this exercise is to create a plot like the one given below for $\\beta_0$ and $\\beta_1$ "
   ]
  },
  {
   "cell_type": "markdown",
   "metadata": {},
   "source": [
    "<img src=\"../img/image2.png\" style=\"width: 500px;\">"
   ]
  },
  {
   "cell_type": "markdown",
   "metadata": {},
   "source": [
    "# Instructions\n",
    "- Follow the steps from the previous exercise to get the lists of beta values.\n",
    "- Sort the list of beta values (from low to high).\n",
    "- To compute the 95% confidence interval, find the 2.5 percentile and the 97.5 percentile using `np.percentile()`\n",
    "- Use the helper code `plot_simulation()` to visualise the $\\beta$ values along with its confidence interval\n",
    "\n",
    "\n",
    "# Hints\n",
    "<a href=\"https://docs.scipy.org/doc/numpy-1.15.0/reference/generated/numpy.random.randint.html\" target=\"_blank\">np.random.randint()</a> : Returns list of integers as per mentioned size \n",
    "\n",
    "<a href=\"https://pandas.pydata.org/pandas-docs/stable/reference/api/pandas.DataFrame.iloc.html\" target=\"_blank\">df.iloc[]</a> : Purely integer-location based indexing for selection by position\n",
    "\n",
    "<a href=\"https://matplotlib.org/3.2.2/api/_as_gen/matplotlib.pyplot.hist.html\" target=\"_blank\">plt.hist()</a> : Plots a histogram\n",
    "\n",
    "<a href=\"https://matplotlib.org/api/_as_gen/matplotlib.pyplot.axvline.html\" target=\"_blank\">plt.axvline()</a> : Adds a vertical line across the axes\n",
    "\n",
    "<a href=\"https://matplotlib.org/api/_as_gen/matplotlib.pyplot.axhline.html\" target=\"_blank\">plt.axhline()</a> : Add a horizontal line across the axes\n",
    "\n",
    "<a href=\"https://matplotlib.org/api/_as_gen/matplotlib.pyplot.xlabel.html\" target=\"_blank\">plt.xlabel()</a> : Sets the label for the x-axis\n",
    "\n",
    "<a href=\"https://matplotlib.org/api/_as_gen/matplotlib.pyplot.xlabel.html\" target=\"_blank\">plt.ylabel()</a> : Sets  the label for the y-axis\n",
    "\n",
    "<a href=\"https://matplotlib.org/api/_as_gen/matplotlib.pyplot.legend.html\" target=\"_blank\">plt.legend()</a> : Place a legend on the axes\n",
    "\n",
    "<a href=\"https://numpy.org/doc/stable/reference/generated/numpy.ndarray.sort.html#numpy.ndarray.sort\" target=\"_blank\">ndarray.sort()</a> :Returns the sorted ndarray.\n",
    "\n",
    "<a href=\"https://numpy.org/doc/stable/reference/generated/numpy.percentile.html\" target=\"_blank\">np.percentile(list, q)</a> : Returns the q-th percentile value based on the provided ascending list of values.\n",
    "\n",
    "Note: This exercise is **auto-graded and you can try multiple attempts.**"
   ]
  },
  {
   "cell_type": "code",
   "execution_count": 1,
   "metadata": {},
   "outputs": [],
   "source": [
    "# import the libraries\n",
    "import pandas as pd\n",
    "import numpy as np\n",
    "import matplotlib.pyplot as plt\n",
    "%matplotlib inline"
   ]
  },
  {
   "cell_type": "markdown",
   "metadata": {},
   "source": [
    "### Reading the standard Advertising dataset"
   ]
  },
  {
   "cell_type": "code",
   "execution_count": 2,
   "metadata": {},
   "outputs": [],
   "source": [
    "# Read the 'Advertising_adj.csv' file\n",
    "df = pd.read_csv('Advertising_adj.csv')"
   ]
  },
  {
   "cell_type": "code",
   "execution_count": 7,
   "metadata": {},
   "outputs": [],
   "source": [
    "# Use your bootstrap function from the previous exercise\n",
    "def bootstrap(df):\n",
    "    selectionIndex = np.random.randint(len(df), size = len(df))\n",
    "    new_df = df.iloc[selectionIndex]\n",
    "    return new_df"
   ]
  },
  {
   "cell_type": "code",
   "execution_count": 8,
   "metadata": {},
   "outputs": [],
   "source": [
    "# Like last time, create a list of beta values using 1000 bootstraps of your original data\n",
    "beta0_list, beta1_list = [],[]\n",
    "\n",
    "numberOfBootstraps = 100\n",
    "\n",
    "for i in range(numberOfBootstraps):\n",
    "    df_new = bootstrap(df)\n",
    "    \n",
    "    xmean = df_new.tv.mean()\n",
    "    ymean = df_new.sales.mean()\n",
    "    \n",
    "    beta1 = np.dot((df_new.tv-xmean) , (df_new.sales-ymean))/((df_new.tv-xmean)**2).sum()\n",
    "    beta0 = ymean - beta1*xmean\n",
    "    \n",
    "    beta0_list.append(beta0)\n",
    "    beta1_list.append(beta1)"
   ]
  },
  {
   "cell_type": "code",
   "execution_count": 9,
   "metadata": {},
   "outputs": [],
   "source": [
    "### edTest(test_sort) ###\n",
    "\n",
    "# Sort the two lists of beta values  from lowest value to highest \n",
    "beta0_list.___;\n",
    "beta1_list.___;"
   ]
  },
  {
   "cell_type": "code",
   "execution_count": 10,
   "metadata": {},
   "outputs": [],
   "source": [
    "### edTest(test_beta) ###\n",
    "\n",
    "# Now we find the confidence interval\n",
    "# Find the 95% percent confidence interval using the percentile function\n",
    "beta0_CI = (np.___,np.___)\n",
    "\n",
    "beta1_CI = (np.___,np.___)"
   ]
  },
  {
   "cell_type": "code",
   "execution_count": null,
   "metadata": {},
   "outputs": [],
   "source": [
    "#Print the confidence interval of beta0 upto 3 decimal points\n",
    "print(f'The beta0 confidence interval is {___}')"
   ]
  },
  {
   "cell_type": "code",
   "execution_count": null,
   "metadata": {},
   "outputs": [],
   "source": [
    "#Print the confidence interval of beta1 upto 3 decimal points\n",
    "print(f'The beta1 confidence interval is {___}')"
   ]
  },
  {
   "cell_type": "code",
   "execution_count": 15,
   "metadata": {},
   "outputs": [],
   "source": [
    "# Use this helper function to plot the histogram of beta values along with the 95% confidence interval\n",
    "def plot_simulation(simulation,confidence):\n",
    "    plt.hist(simulation, bins = 30, label = 'beta distribution', align = 'left', density = True)\n",
    "    plt.axvline(confidence[1], 0, 1, color = 'r', label = 'Right Interval')\n",
    "    plt.axvline(confidence[0], 0, 1, color = 'red', label = 'Left Interval')\n",
    "    plt.xlabel('Beta value')\n",
    "    plt.ylabel('Frequency')\n",
    "    plt.title('Confidence Interval')\n",
    "    plt.legend(frameon = False, loc = 'upper right')\n"
   ]
  },
  {
   "cell_type": "code",
   "execution_count": null,
   "metadata": {},
   "outputs": [],
   "source": [
    "# Plot for beta 0\n",
    "plot_simulation(_,_)"
   ]
  },
  {
   "cell_type": "code",
   "execution_count": null,
   "metadata": {},
   "outputs": [],
   "source": [
    "#Plot for beta 1\n",
    "plot_simulation(_, _)"
   ]
  }
 ],
 "metadata": {
  "kernelspec": {
   "display_name": "Python 3",
   "language": "python",
   "name": "python3"
  },
  "language_info": {
   "codemirror_mode": {
    "name": "ipython",
    "version": 3
   },
   "file_extension": ".py",
   "mimetype": "text/x-python",
   "name": "python",
   "nbconvert_exporter": "python",
   "pygments_lexer": "ipython3",
   "version": "3.8.5"
  }
 },
 "nbformat": 4,
 "nbformat_minor": 4
}
