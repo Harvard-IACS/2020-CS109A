{
    "metadata": {
        "kernelspec": {
            "name": "python3",
            "display_name": "Python 3",
            "language": "python"
        }
    },
    "nbformat": 4,
    "nbformat_minor": 4,
    "cells": [
        {
            "cell_type": "code",
            "execution_count": 1,
            "metadata": {},
            "outputs": [],
            "source": [
                "# import libraries\n",
                "import pandas as pd\n",
                "import numpy as np\n",
                "import matplotlib.pyplot as plt\n",
                "from randomuniverse import RandomUniverse\n",
                "%matplotlib inline"
            ]
        },
        {
            "attachments": {},
            "cell_type": "markdown",
            "metadata": {},
            "source": [
                "### Reading the standard Advertising dataset"
            ]
        },
        {
            "cell_type": "code",
            "execution_count": 2,
            "metadata": {},
            "outputs": [],
            "source": [
                "# Read the file \"Advertising_csv\"\n",
                "df = pd.read_csv('Advertising_adj.csv')"
            ]
        },
        {
            "cell_type": "code",
            "execution_count": 3,
            "metadata": {},
            "outputs": [],
            "source": [
                "# Take a quick look at the data\n",
                "df.head()"
            ]
        },
        {
            "cell_type": "code",
            "execution_count": 4,
            "metadata": {},
            "outputs": [],
            "source": [
                "# Define a bootstrap function, which inputs a dataframe \u0026 outputs a bootstrapped dataframe\n",
                "def bootstrap(df):\n",
                "    selectionIndex = np.random.randint(___, size = ___)\n",
                "    new_df = df.iloc[___]\n",
                "    return new_df\n",
                ""
            ]
        },
        {
            "cell_type": "code",
            "execution_count": 5,
            "metadata": {},
            "outputs": [],
            "source": [
                "# Create two empty lists to store beta values\n",
                "beta0_list, beta1_list = [],[]\n",
                "\n",
                "\n",
                "# For each instance of the for loop, call your bootstrap function, calculate the beta values\n",
                "# Store the beta values in the appropriate list\n",
                "\n",
                "#Choose the number of \"parallel\" Universes to generate the new dataset\n",
                "number_of_bootstraps = 1000\n",
                "\n",
                "for i in range(number_of_bootstraps):\n",
                "    df_new = bootstrap(df)\n",
                "\n",
                "# x is the predictor variable given by 'tv' values \n",
                "# y is the reponse variable given by 'sales' values\n",
                "    x = ___\n",
                "    y = ___\n",
                "\n",
                "#Find the mean of the x values\n",
                "    xmean = x.___\n",
                "\n",
                "#Find the mean of the y values\n",
                "    ymean = y.___\n",
                "    \n",
                "# Using equations given and discussed in lecture compute the beta0 and beta1 values\n",
                "# Hint: use np.dot to perform the mulitplication operation\n",
                "    beta1 = ___\n",
                "    beta0 = ___\n",
                "\n",
                "# Append the calculated values of beta1 and beta0\n",
                "    beta0_list.append(___)\n",
                "    beta1_list.append(___)"
            ]
        },
        {
            "cell_type": "code",
            "execution_count": 0,
            "metadata": {},
            "outputs": [],
            "source": [
                "### edTest(test_beta) ###\n",
                "\n",
                "#Compute the mean of the beta0 and beta1 lists\n",
                "beta0_mean = np.mean(___)\n",
                "beta1_mean = np.mean(___)"
            ]
        },
        {
            "cell_type": "code",
            "execution_count": 1,
            "metadata": {},
            "outputs": [],
            "source": [
                "# plot histogram of beta0 and beta1\n",
                "fig, ax = plt.subplots(1,2, figsize=(18,8))\n",
                "ax[0].___\n",
                "ax[1].___\n",
                "ax[0].set_xlabel(___)\n",
                "ax[1].set_xlabel(___)\n",
                "ax[0].set_ylabel('Frequency');"
            ]
        },
        {
            "attachments": {},
            "cell_type": "markdown",
            "metadata": {},
            "source": [
                "### Compare the plots with the results from the RandomUniverse() function"
            ]
        },
        {
            "cell_type": "code",
            "execution_count": 9,
            "metadata": {},
            "outputs": [],
            "source": [
                "# The below helper code will help you visualise the similarity between\n",
                "# the bootstrap function you wrote \u0026 the RandomUniverse() function from last exercise\n",
                "beta0_randUni, beta1_randUni = [],[]\n",
                "\n",
                "parallelUniverses = 1000\n",
                "\n",
                "for i in range(parallelUniverses):\n",
                "    df_new = RandomUniverse(df)\n",
                "    \n",
                "    xmean = df_new.tv.mean()\n",
                "    ymean = df_new.sales.mean()\n",
                "\n",
                "# Using Linear Algebra result as discussed in lecture\n",
                "    beta1 = np.dot((x-xmean) , (y-ymean))/((x-xmean)**2).sum()\n",
                "    beta0 = ymean - beta1*xmean\n",
                "\n",
                "    beta0_randUni.append(beta0)\n",
                "    beta1_randUni.append(beta1)"
            ]
        },
        {
            "cell_type": "code",
            "execution_count": 10,
            "metadata": {},
            "outputs": [],
            "source": [
                "# Use this helper code to plot the bootstrapped beta values \u0026 the ones from random universe\n",
                "def plotmulti(list1, list2):\n",
                "    fig, axes = plt.subplots(1,2, figsize = (10,4), sharey = 'row')\n",
                "    axes[0].hist(list1);\n",
                "    axes[0].set_xlabel('Beta Distribution')\n",
                "    axes[0].set_ylabel('Frequency')\n",
                "    axes[0].set_title('Bootstrap')\n",
                "    axes[1].hist(list2);\n",
                "    axes[1].set_xlabel('Beta Distribution')\n",
                "    axes[1].set_title('Random Universe')"
            ]
        },
        {
            "cell_type": "code",
            "execution_count": 2,
            "metadata": {},
            "outputs": [],
            "source": [
                "# Just use the 'plotmulti' function above to compare the two histograms for beta0\n",
                "plotmulti(beta0_list, beta0_randUni)"
            ]
        },
        {
            "cell_type": "code",
            "execution_count": 3,
            "metadata": {},
            "outputs": [],
            "source": [
                "#Now compare for beta1\n",
                "plotmulti(beta1_list, beta1_randUni)"
            ]
        },
        {
            "cell_type": "code",
            "execution_count": 0,
            "metadata": {},
            "outputs": [],
            "source": [
                ""
            ]
        }
    ]
}
