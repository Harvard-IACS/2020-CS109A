{
    "metadata": {
        "kernelspec": {
            "name": "python3",
            "display_name": "Python 3",
            "language": "python"
        }
    },
    "nbformat": 4,
    "nbformat_minor": 4,
    "cells": [
        {
            "attachments": {},
            "cell_type": "markdown",
            "metadata": {},
            "source": [
                "# \u003cimg style=\"float: left; padding-right: 10px; width: 45px\" src=\"https://raw.githubusercontent.com/Harvard-IACS/2018-CS109A/master/content/styles/iacs.png\"\u003e CS109A Introduction to Data Science \n",
                "\n",
                "## Lecture 3, Exercise 2: PANDAS Intro\n",
                "\n",
                "\n",
                "**Harvard University**\u003cbr/\u003e\n",
                "**Fall 2020**\u003cbr/\u003e\n",
                "**Instructors**: Pavlos Protopapas, Kevin Rader, and Chris Tanner\n",
                "\n",
                "---\n",
                "## **NOTE**: After running every cell, be sure to auto-grade your work by clicking 'Mark' in the lower-right corner. Otherwise, no credit will be given."
            ]
        },
        {
            "cell_type": "code",
            "execution_count": 1,
            "metadata": {},
            "outputs": [],
            "source": [
                "import pandas as pd"
            ]
        },
        {
            "attachments": {},
            "cell_type": "markdown",
            "metadata": {},
            "source": [
                "\n",
                "For this exercise, we will be working with the CS109 First Day survey results!"
            ]
        },
        {
            "cell_type": "code",
            "execution_count": 2,
            "metadata": {},
            "outputs": [],
            "source": [
                "# import the CSV file\n",
                "df = pd.read_csv(\"cs109a_student_survey.csv\")"
            ]
        },
        {
            "attachments": {},
            "cell_type": "markdown",
            "metadata": {},
            "source": [
                "# PANDAS Basics\n",
                "Let's get started with basic functionality of PANDAS!\n",
                "\n",
                "In the cell below, fill in the blank so that the variable `cols` stores the `df`'s column names. **NOTE:** Please keep the type of the data structure as a `\u003cclass 'pandas.core.indexes.base.Index'\u003e`. Do not have to convert this to a list."
            ]
        },
        {
            "cell_type": "code",
            "execution_count": 31,
            "metadata": {},
            "outputs": [],
            "source": [
                "### edTest(test_a) ###\n",
                "cols = ____"
            ]
        },
        {
            "attachments": {},
            "cell_type": "markdown",
            "metadata": {},
            "source": [
                "In the cell below, fill in the blank so that:\n",
                "- `num_cols` stores the number of columns in `df`"
            ]
        },
        {
            "cell_type": "code",
            "execution_count": 4,
            "metadata": {},
            "outputs": [],
            "source": [
                "### edTest(test_b) ###\n",
                "num_rows = df.shape[0]\n",
                "num_cols = ____"
            ]
        },
        {
            "attachments": {},
            "cell_type": "markdown",
            "metadata": {},
            "source": [
                "In the cell below, fill in the blank so that `sneak_peak` is equal to the first 7 rows. ([HINT](https://pandas.pydata.org/pandas-docs/stable/reference/api/pandas.DataFrame.head.html))"
            ]
        },
        {
            "cell_type": "code",
            "execution_count": 5,
            "metadata": {},
            "outputs": [],
            "source": [
                "### edTest(test_c) ###\n",
                "sneak_peak = ____"
            ]
        },
        {
            "attachments": {},
            "cell_type": "markdown",
            "metadata": {},
            "source": [
                "In the cell below, fill in the blank so that `the_end` is equal to the last 4 rows. ([HINT](https://pandas.pydata.org/pandas-docs/stable/reference/api/pandas.DataFrame.tail.html))"
            ]
        },
        {
            "cell_type": "code",
            "execution_count": 6,
            "metadata": {},
            "outputs": [],
            "source": [
                "### edTest(test_d) ###\n",
                "the_end = ____"
            ]
        },
        {
            "attachments": {},
            "cell_type": "markdown",
            "metadata": {},
            "source": [
                "In the cell below, fill in the blank so that the `python_experiences` variable stores a list of the 5 distinct values found within the `Python experience` column of `df`."
            ]
        },
        {
            "cell_type": "code",
            "execution_count": 27,
            "metadata": {},
            "outputs": [],
            "source": [
                "### edTest(test_e) ###\n",
                "python_experiences = ________"
            ]
        },
        {
            "attachments": {},
            "cell_type": "markdown",
            "metadata": {},
            "source": [
                "In the cell below, fill in the blank so that the `inventor` variable stores the **DataFrame row(s)** that correspond to everyone who is an \"Inventor of Python\". "
            ]
        },
        {
            "cell_type": "code",
            "execution_count": 8,
            "metadata": {},
            "outputs": [],
            "source": [
                "### edTest(test_f) ###\n",
                "inventor = ________"
            ]
        },
        {
            "attachments": {},
            "cell_type": "markdown",
            "metadata": {},
            "source": [
                "In the cell below, fill in the blank so that the `utc1` variable stores the **DataFrame rows** that correspond to everyone who has a Timezone value of `UTC+1 (Most of mainland Europe)`"
            ]
        },
        {
            "cell_type": "code",
            "execution_count": 9,
            "metadata": {},
            "outputs": [],
            "source": [
                "### edTest(test_g) ###\n",
                "utc1 = ____________"
            ]
        },
        {
            "attachments": {},
            "cell_type": "markdown",
            "metadata": {},
            "source": [
                "In the cell below, fill in the blank so that the `row56` variable stores the **56th row** of `df`. To be clear, imagine our DataFrame looked as follows:\n",
                "\n",
                ". Name        Age \\\n",
                "0 Enrique  25 \\\n",
                "1 Sheila   67 \\\n",
                "2 Marcy    21 \\\n",
                "3 Utibe    33 \n",
                "\n",
                "We'd say the 1st row is the one with Enrique, the 2nd row is the one with Sheila, the 3rd row is the one w/ Marcy, etc."
            ]
        },
        {
            "cell_type": "code",
            "execution_count": 10,
            "metadata": {},
            "outputs": [],
            "source": [
                "### edTest(test_h) ###\n",
                "row56 = ________"
            ]
        },
        {
            "attachments": {},
            "cell_type": "markdown",
            "metadata": {},
            "source": [
                "In the cell below, fill in the blank so that `sorted_df` now stores `df` after sorting it by the Name column in ascending order (A -\u003e Z)"
            ]
        },
        {
            "cell_type": "code",
            "execution_count": 11,
            "metadata": {},
            "outputs": [],
            "source": [
                "### edTest(test_i) ###\n",
                "sorted_df = ________"
            ]
        },
        {
            "attachments": {},
            "cell_type": "markdown",
            "metadata": {},
            "source": [
                "In the cell below, fill in the blank so that `sorted_row56` stores the 56th row of `sorted_df`. To be clear, imagine our sorted DataFrame looked as follows:\n",
                "\n",
                ". Name        Age \\\n",
                "0 Enrique  25 \\\n",
                "2 Marcy    21 \\\n",
                "1 Sheila   67 \\\n",
                "3 Utibe    33 \n",
                "\n",
                "We'd say the 1st row is the one with Enrique, the 2nd row is the one with Marcy, the 3rd row is the one w/ Sheila, etc."
            ]
        },
        {
            "cell_type": "code",
            "execution_count": 12,
            "metadata": {},
            "outputs": [],
            "source": [
                "### edTest(test_j) ###\n",
                "sorted_row56 = ________"
            ]
        }
    ]
}
