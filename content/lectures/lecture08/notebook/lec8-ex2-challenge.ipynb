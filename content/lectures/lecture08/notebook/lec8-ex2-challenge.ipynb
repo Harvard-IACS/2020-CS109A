{
 "cells": [
  {
   "cell_type": "markdown",
   "metadata": {},
   "source": [
    "# Title\n",
    "\n",
    "**Exercise: 2 - Linear Regression in Statsmodels**\n",
    "\n",
    "# Description\n",
    "\n",
    "The goal of this exercise is to use `statsmodels` to fit and interpret a regression model.\n",
    "\n",
    "# Roadmap\n",
    "- Read the dataset 'movies.csv' as a dataframe\n",
    "- Look at the scatterplot to predict revenue from budget costs, and investigate the appropriateness of linear regression.\n",
    "- Estimate the linear regression model using both `sklearn` and `statsmodels`, and compare the results.\n",
    "- Compare the coefficients of the multiple regression models (with additive effects and interactive effects) with those of the simple linear regression model.\n",
    "- Investigate the appropriateness of the linear regression assumptions that the probabilisitic model implies.\n",
    "- Bonus Question: calculate the log-likelihood for a linear regression model!\n",
    "\n",
    "# Hints\n",
    "statmodels.OLS()\n",
    "<a href=\"url\" target=\"_blank\">hyperlinked</a> : Fir an ordinary least squares (OLS) regression model using `statsmodels`.\n",
    "\n",
    "statmodels.add_constant()\n",
    "<a href=\"url\" target=\"_blank\">hyperlinked</a> : Adds a column of ones to the design matrix **X**.\n",
    "\n",
    "LinearRegression()\n",
    "<a href=\"url\" target=\"_blank\">hyperlinked</a> : Returns a linear regression object from the sklearn library.\n",
    "\n",
    "LinearRegression().coef_\n",
    "<a href=\"url\" target=\"_blank\">hyperlinked</a> : This attribute returns the coefficient(s) of the linear regression object\n",
    "\n",
    "sklearn.fit() \n",
    "<a href=\"url\" target=\"_blank\">hyperlinked</a> : Fit linear model\n",
    "\n",
    "\n",
    "Note: This exercise is **auto-graded and you can try multiple attempts.**"
   ]
  },
  {
   "cell_type": "code",
   "execution_count": 1,
   "metadata": {},
   "outputs": [],
   "source": [
    "# import libraries\n",
    "import pandas as pd\n",
    "import numpy as np\n",
    "import matplotlib.pyplot as plt\n",
    "%matplotlib inline"
   ]
  },
  {
   "cell_type": "code",
   "execution_count": 2,
   "metadata": {},
   "outputs": [],
   "source": [
    "# Read the data from 'movies.csv' to a dataframe\n",
    "movies = pd.read_csv('movies.csv')"
   ]
  },
  {
   "cell_type": "code",
   "execution_count": 3,
   "metadata": {},
   "outputs": [
    {
     "data": {
      "text/html": [
       "<div>\n",
       "<style scoped>\n",
       "    .dataframe tbody tr th:only-of-type {\n",
       "        vertical-align: middle;\n",
       "    }\n",
       "\n",
       "    .dataframe tbody tr th {\n",
       "        vertical-align: top;\n",
       "    }\n",
       "\n",
       "    .dataframe thead th {\n",
       "        text-align: right;\n",
       "    }\n",
       "</style>\n",
       "<table border=\"1\" class=\"dataframe\">\n",
       "  <thead>\n",
       "    <tr style=\"text-align: right;\">\n",
       "      <th></th>\n",
       "      <th>month</th>\n",
       "      <th>day</th>\n",
       "      <th>year</th>\n",
       "      <th>budget</th>\n",
       "      <th>domestic</th>\n",
       "      <th>worldwide</th>\n",
       "    </tr>\n",
       "  </thead>\n",
       "  <tbody>\n",
       "    <tr>\n",
       "      <td>0</td>\n",
       "      <td>Dec</td>\n",
       "      <td>18</td>\n",
       "      <td>2009</td>\n",
       "      <td>425.0</td>\n",
       "      <td>760.507625</td>\n",
       "      <td>2783.918982</td>\n",
       "    </tr>\n",
       "    <tr>\n",
       "      <td>1</td>\n",
       "      <td>Dec</td>\n",
       "      <td>19</td>\n",
       "      <td>1997</td>\n",
       "      <td>200.0</td>\n",
       "      <td>659.363944</td>\n",
       "      <td>2208.208395</td>\n",
       "    </tr>\n",
       "    <tr>\n",
       "      <td>2</td>\n",
       "      <td>Dec</td>\n",
       "      <td>18</td>\n",
       "      <td>2015</td>\n",
       "      <td>306.0</td>\n",
       "      <td>936.662225</td>\n",
       "      <td>2058.662225</td>\n",
       "    </tr>\n",
       "    <tr>\n",
       "      <td>3</td>\n",
       "      <td>Jun</td>\n",
       "      <td>12</td>\n",
       "      <td>2015</td>\n",
       "      <td>215.0</td>\n",
       "      <td>652.270625</td>\n",
       "      <td>1671.713208</td>\n",
       "    </tr>\n",
       "    <tr>\n",
       "      <td>4</td>\n",
       "      <td>May</td>\n",
       "      <td>4</td>\n",
       "      <td>2012</td>\n",
       "      <td>225.0</td>\n",
       "      <td>623.279547</td>\n",
       "      <td>1519.479547</td>\n",
       "    </tr>\n",
       "  </tbody>\n",
       "</table>\n",
       "</div>"
      ],
      "text/plain": [
       "  month  day  year  budget    domestic    worldwide\n",
       "0   Dec   18  2009   425.0  760.507625  2783.918982\n",
       "1   Dec   19  1997   200.0  659.363944  2208.208395\n",
       "2   Dec   18  2015   306.0  936.662225  2058.662225\n",
       "3   Jun   12  2015   215.0  652.270625  1671.713208\n",
       "4   May    4  2012   225.0  623.279547  1519.479547"
      ]
     },
     "execution_count": 3,
     "metadata": {},
     "output_type": "execute_result"
    }
   ],
   "source": [
    "#Take a peak at the dataset\n",
    "movies.head()"
   ]
  },
  {
   "cell_type": "markdown",
   "metadata": {},
   "source": [
    "(a) Plot the scatterplot to predict 'domestic' revenue from the 'budget' cost of the movie."
   ]
  },
  {
   "cell_type": "code",
   "execution_count": 6,
   "metadata": {},
   "outputs": [
    {
     "data": {
      "image/png": "[encoded data removed]",
      "text/plain": [
       "<Figure size 432x288 with 1 Axes>"
      ]
     },
     "metadata": {
      "needs_background": "light"
     },
     "output_type": "display_data"
    }
   ],
   "source": [
    "# create the scatterplot to predict 'domestic'\n",
    "# from 'budget'\n",
    "budget = movies[['budget']].values\n",
    "domestic = movies['domestic'].values\n",
    "\n",
    "plt.scatter(budget,domestic,marker='.')\n",
    "plt.xlabel('Budget (millions $)')\n",
    "plt.ylabel('Domestic Gross (millions $)')\n",
    "plt.title('Revenue vs. Budget for Major Domestic Movies since 1980')\n",
    "plt.show()"
   ]
  },
  {
   "cell_type": "markdown",
   "metadata": {},
   "source": [
    "There are"
   ]
  },
  {
   "cell_type": "markdown",
   "metadata": {},
   "source": [
    "**Question:** What stands out in the plots above?Does linear regression seems appropriate based on this scatterplot?  \n",
    "\n",
    "(b) Use sklearn to get linear regression estimates."
   ]
  },
  {
   "cell_type": "code",
   "execution_count": 7,
   "metadata": {},
   "outputs": [
    {
     "name": "stdout",
     "output_type": "stream",
     "text": [
      "[1.11222637] 7.282264927408114\n"
     ]
    }
   ],
   "source": [
    "### edTest(test_sklearn_regress) ###\n",
    "\n",
    "from sklearn.linear_model import LinearRegression\n",
    "regress = LinearRegression().fit(\n",
    "    budget,domestic)\n",
    "print(regress.coef_,regress.intercept_)"
   ]
  },
  {
   "cell_type": "markdown",
   "metadata": {},
   "source": [
    "(c) Fit a linear regression model using `OLS` from `statsmodels` instead, and compare."
   ]
  },
  {
   "cell_type": "code",
   "execution_count": 26,
   "metadata": {},
   "outputs": [
    {
     "data": {
      "text/html": [
       "<table class=\"simpletable\">\n",
       "<caption>OLS Regression Results</caption>\n",
       "<tr>\n",
       "  <th>Dep. Variable:</th>        <td>domestic</td>     <th>  R-squared:         </th> <td>   0.463</td> \n",
       "</tr>\n",
       "<tr>\n",
       "  <th>Model:</th>                   <td>OLS</td>       <th>  Adj. R-squared:    </th> <td>   0.463</td> \n",
       "</tr>\n",
       "<tr>\n",
       "  <th>Method:</th>             <td>Least Squares</td>  <th>  F-statistic:       </th> <td>   4505.</td> \n",
       "</tr>\n",
       "<tr>\n",
       "  <th>Date:</th>             <td>Sun, 13 Mar 2022</td> <th>  Prob (F-statistic):</th>  <td>  0.00</td>  \n",
       "</tr>\n",
       "<tr>\n",
       "  <th>Time:</th>                 <td>14:59:59</td>     <th>  Log-Likelihood:    </th> <td> -27815.</td> \n",
       "</tr>\n",
       "<tr>\n",
       "  <th>No. Observations:</th>      <td>  5222</td>      <th>  AIC:               </th> <td>5.563e+04</td>\n",
       "</tr>\n",
       "<tr>\n",
       "  <th>Df Residuals:</th>          <td>  5220</td>      <th>  BIC:               </th> <td>5.565e+04</td>\n",
       "</tr>\n",
       "<tr>\n",
       "  <th>Df Model:</th>              <td>     1</td>      <th>                     </th>     <td> </td>    \n",
       "</tr>\n",
       "<tr>\n",
       "  <th>Covariance Type:</th>      <td>nonrobust</td>    <th>                     </th>     <td> </td>    \n",
       "</tr>\n",
       "</table>\n",
       "<table class=\"simpletable\">\n",
       "<tr>\n",
       "     <td></td>       <th>coef</th>     <th>std err</th>      <th>t</th>      <th>P>|t|</th>  <th>[0.025</th>    <th>0.975]</th>  \n",
       "</tr>\n",
       "<tr>\n",
       "  <th>const</th>  <td>    7.2823</td> <td>    0.875</td> <td>    8.322</td> <td> 0.000</td> <td>    5.567</td> <td>    8.998</td>\n",
       "</tr>\n",
       "<tr>\n",
       "  <th>budget</th> <td>    1.1122</td> <td>    0.017</td> <td>   67.117</td> <td> 0.000</td> <td>    1.080</td> <td>    1.145</td>\n",
       "</tr>\n",
       "</table>\n",
       "<table class=\"simpletable\">\n",
       "<tr>\n",
       "  <th>Omnibus:</th>       <td>3349.953</td> <th>  Durbin-Watson:     </th> <td>   1.321</td> \n",
       "</tr>\n",
       "<tr>\n",
       "  <th>Prob(Omnibus):</th>  <td> 0.000</td>  <th>  Jarque-Bera (JB):  </th> <td>69300.215</td>\n",
       "</tr>\n",
       "<tr>\n",
       "  <th>Skew:</th>           <td> 2.727</td>  <th>  Prob(JB):          </th> <td>    0.00</td> \n",
       "</tr>\n",
       "<tr>\n",
       "  <th>Kurtosis:</th>       <td>19.993</td>  <th>  Cond. No.          </th> <td>    67.1</td> \n",
       "</tr>\n",
       "</table><br/><br/>Warnings:<br/>[1] Standard Errors assume that the covariance matrix of the errors is correctly specified."
      ],
      "text/plain": [
       "<class 'statsmodels.iolib.summary.Summary'>\n",
       "\"\"\"\n",
       "                            OLS Regression Results                            \n",
       "==============================================================================\n",
       "Dep. Variable:               domestic   R-squared:                       0.463\n",
       "Model:                            OLS   Adj. R-squared:                  0.463\n",
       "Method:                 Least Squares   F-statistic:                     4505.\n",
       "Date:                Sun, 13 Mar 2022   Prob (F-statistic):               0.00\n",
       "Time:                        14:59:59   Log-Likelihood:                -27815.\n",
       "No. Observations:                5222   AIC:                         5.563e+04\n",
       "Df Residuals:                    5220   BIC:                         5.565e+04\n",
       "Df Model:                           1                                         \n",
       "Covariance Type:            nonrobust                                         \n",
       "==============================================================================\n",
       "                 coef    std err          t      P>|t|      [0.025      0.975]\n",
       "------------------------------------------------------------------------------\n",
       "const          7.2823      0.875      8.322      0.000       5.567       8.998\n",
       "budget         1.1122      0.017     67.117      0.000       1.080       1.145\n",
       "==============================================================================\n",
       "Omnibus:                     3349.953   Durbin-Watson:                   1.321\n",
       "Prob(Omnibus):                  0.000   Jarque-Bera (JB):            69300.215\n",
       "Skew:                           2.727   Prob(JB):                         0.00\n",
       "Kurtosis:                      19.993   Cond. No.                         67.1\n",
       "==============================================================================\n",
       "\n",
       "Warnings:\n",
       "[1] Standard Errors assume that the covariance matrix of the errors is correctly specified.\n",
       "\"\"\""
      ]
     },
     "execution_count": 26,
     "metadata": {},
     "output_type": "execute_result"
    }
   ],
   "source": [
    "import statsmodels.api as sm\n",
    "\n",
    "# you have to first create the X matrix with the \n",
    "# intercept included, then fit the model\n",
    "X = sm.add_constant(movies['budget'])\n",
    "ols1 = sm.OLS(movies['domestic'],X).fit()\n",
    "\n",
    "ols1.summary()"
   ]
  },
  {
   "cell_type": "code",
   "execution_count": 9,
   "metadata": {},
   "outputs": [
    {
     "data": {
      "text/html": [
       "<table class=\"simpletable\">\n",
       "<caption>OLS Regression Results</caption>\n",
       "<tr>\n",
       "  <th>Dep. Variable:</th>        <td>domestic</td>     <th>  R-squared (uncentered):</th>      <td>   0.614</td> \n",
       "</tr>\n",
       "<tr>\n",
       "  <th>Model:</th>                   <td>OLS</td>       <th>  Adj. R-squared (uncentered):</th> <td>   0.614</td> \n",
       "</tr>\n",
       "<tr>\n",
       "  <th>Method:</th>             <td>Least Squares</td>  <th>  F-statistic:       </th>          <td>   8313.</td> \n",
       "</tr>\n",
       "<tr>\n",
       "  <th>Date:</th>             <td>Sun, 13 Mar 2022</td> <th>  Prob (F-statistic):</th>           <td>  0.00</td>  \n",
       "</tr>\n",
       "<tr>\n",
       "  <th>Time:</th>                 <td>12:49:16</td>     <th>  Log-Likelihood:    </th>          <td> -27849.</td> \n",
       "</tr>\n",
       "<tr>\n",
       "  <th>No. Observations:</th>      <td>  5222</td>      <th>  AIC:               </th>          <td>5.570e+04</td>\n",
       "</tr>\n",
       "<tr>\n",
       "  <th>Df Residuals:</th>          <td>  5221</td>      <th>  BIC:               </th>          <td>5.571e+04</td>\n",
       "</tr>\n",
       "<tr>\n",
       "  <th>Df Model:</th>              <td>     1</td>      <th>                     </th>              <td> </td>    \n",
       "</tr>\n",
       "<tr>\n",
       "  <th>Covariance Type:</th>      <td>nonrobust</td>    <th>                     </th>              <td> </td>    \n",
       "</tr>\n",
       "</table>\n",
       "<table class=\"simpletable\">\n",
       "<tr>\n",
       "     <td></td>       <th>coef</th>     <th>std err</th>      <th>t</th>      <th>P>|t|</th>  <th>[0.025</th>    <th>0.975]</th>  \n",
       "</tr>\n",
       "<tr>\n",
       "  <th>budget</th> <td>    1.1973</td> <td>    0.013</td> <td>   91.175</td> <td> 0.000</td> <td>    1.172</td> <td>    1.223</td>\n",
       "</tr>\n",
       "</table>\n",
       "<table class=\"simpletable\">\n",
       "<tr>\n",
       "  <th>Omnibus:</th>       <td>3037.759</td> <th>  Durbin-Watson:     </th> <td>   1.430</td> \n",
       "</tr>\n",
       "<tr>\n",
       "  <th>Prob(Omnibus):</th>  <td> 0.000</td>  <th>  Jarque-Bera (JB):  </th> <td>57408.069</td>\n",
       "</tr>\n",
       "<tr>\n",
       "  <th>Skew:</th>           <td> 2.400</td>  <th>  Prob(JB):          </th> <td>    0.00</td> \n",
       "</tr>\n",
       "<tr>\n",
       "  <th>Kurtosis:</th>       <td>18.518</td>  <th>  Cond. No.          </th> <td>    1.00</td> \n",
       "</tr>\n",
       "</table><br/><br/>Warnings:<br/>[1] Standard Errors assume that the covariance matrix of the errors is correctly specified."
      ],
      "text/plain": [
       "<class 'statsmodels.iolib.summary.Summary'>\n",
       "\"\"\"\n",
       "                                 OLS Regression Results                                \n",
       "=======================================================================================\n",
       "Dep. Variable:               domestic   R-squared (uncentered):                   0.614\n",
       "Model:                            OLS   Adj. R-squared (uncentered):              0.614\n",
       "Method:                 Least Squares   F-statistic:                              8313.\n",
       "Date:                Sun, 13 Mar 2022   Prob (F-statistic):                        0.00\n",
       "Time:                        12:49:16   Log-Likelihood:                         -27849.\n",
       "No. Observations:                5222   AIC:                                  5.570e+04\n",
       "Df Residuals:                    5221   BIC:                                  5.571e+04\n",
       "Df Model:                           1                                                  \n",
       "Covariance Type:            nonrobust                                                  \n",
       "==============================================================================\n",
       "                 coef    std err          t      P>|t|      [0.025      0.975]\n",
       "------------------------------------------------------------------------------\n",
       "budget         1.1973      0.013     91.175      0.000       1.172       1.223\n",
       "==============================================================================\n",
       "Omnibus:                     3037.759   Durbin-Watson:                   1.430\n",
       "Prob(Omnibus):                  0.000   Jarque-Bera (JB):            57408.069\n",
       "Skew:                           2.400   Prob(JB):                         0.00\n",
       "Kurtosis:                      18.518   Cond. No.                         1.00\n",
       "==============================================================================\n",
       "\n",
       "Warnings:\n",
       "[1] Standard Errors assume that the covariance matrix of the errors is correctly specified.\n",
       "\"\"\""
      ]
     },
     "execution_count": 9,
     "metadata": {},
     "output_type": "execute_result"
    }
   ],
   "source": [
    "X = movies['budget']\n",
    "ols1 = sm.OLS(movies['domestic'],X).fit()\n",
    "\n",
    "ols1.summary()"
   ]
  },
  {
   "cell_type": "markdown",
   "metadata": {},
   "source": [
    "**Question:** When would it be prefered to fit a regression model without an intercept?\n",
    "\n",
    "(d) Fit a second OLS model (`OLS2`) with 'budget' and 'year' as predictors and compare to `OLS1`."
   ]
  },
  {
   "cell_type": "code",
   "execution_count": 11,
   "metadata": {},
   "outputs": [
    {
     "data": {
      "text/html": [
       "<table class=\"simpletable\">\n",
       "<caption>OLS Regression Results</caption>\n",
       "<tr>\n",
       "  <th>Dep. Variable:</th>        <td>domestic</td>     <th>  R-squared:         </th> <td>   0.471</td> \n",
       "</tr>\n",
       "<tr>\n",
       "  <th>Model:</th>                   <td>OLS</td>       <th>  Adj. R-squared:    </th> <td>   0.471</td> \n",
       "</tr>\n",
       "<tr>\n",
       "  <th>Method:</th>             <td>Least Squares</td>  <th>  F-statistic:       </th> <td>   2328.</td> \n",
       "</tr>\n",
       "<tr>\n",
       "  <th>Date:</th>             <td>Sun, 13 Mar 2022</td> <th>  Prob (F-statistic):</th>  <td>  0.00</td>  \n",
       "</tr>\n",
       "<tr>\n",
       "  <th>Time:</th>                 <td>14:28:01</td>     <th>  Log-Likelihood:    </th> <td> -27774.</td> \n",
       "</tr>\n",
       "<tr>\n",
       "  <th>No. Observations:</th>      <td>  5222</td>      <th>  AIC:               </th> <td>5.555e+04</td>\n",
       "</tr>\n",
       "<tr>\n",
       "  <th>Df Residuals:</th>          <td>  5219</td>      <th>  BIC:               </th> <td>5.557e+04</td>\n",
       "</tr>\n",
       "<tr>\n",
       "  <th>Df Model:</th>              <td>     2</td>      <th>                     </th>     <td> </td>    \n",
       "</tr>\n",
       "<tr>\n",
       "  <th>Covariance Type:</th>      <td>nonrobust</td>    <th>                     </th>     <td> </td>    \n",
       "</tr>\n",
       "</table>\n",
       "<table class=\"simpletable\">\n",
       "<tr>\n",
       "     <td></td>       <th>coef</th>     <th>std err</th>      <th>t</th>      <th>P>|t|</th>  <th>[0.025</th>    <th>0.975]</th>  \n",
       "</tr>\n",
       "<tr>\n",
       "  <th>const</th>  <td> 1016.2111</td> <td>  111.905</td> <td>    9.081</td> <td> 0.000</td> <td>  796.830</td> <td> 1235.592</td>\n",
       "</tr>\n",
       "<tr>\n",
       "  <th>year</th>   <td>   -0.5042</td> <td>    0.056</td> <td>   -9.016</td> <td> 0.000</td> <td>   -0.614</td> <td>   -0.395</td>\n",
       "</tr>\n",
       "<tr>\n",
       "  <th>budget</th> <td>    1.1418</td> <td>    0.017</td> <td>   68.087</td> <td> 0.000</td> <td>    1.109</td> <td>    1.175</td>\n",
       "</tr>\n",
       "</table>\n",
       "<table class=\"simpletable\">\n",
       "<tr>\n",
       "  <th>Omnibus:</th>       <td>3333.347</td> <th>  Durbin-Watson:     </th> <td>   1.314</td> \n",
       "</tr>\n",
       "<tr>\n",
       "  <th>Prob(Omnibus):</th>  <td> 0.000</td>  <th>  Jarque-Bera (JB):  </th> <td>69688.767</td>\n",
       "</tr>\n",
       "<tr>\n",
       "  <th>Skew:</th>           <td> 2.703</td>  <th>  Prob(JB):          </th> <td>    0.00</td> \n",
       "</tr>\n",
       "<tr>\n",
       "  <th>Kurtosis:</th>       <td>20.060</td>  <th>  Cond. No.          </th> <td>3.28e+05</td> \n",
       "</tr>\n",
       "</table><br/><br/>Warnings:<br/>[1] Standard Errors assume that the covariance matrix of the errors is correctly specified.<br/>[2] The condition number is large, 3.28e+05. This might indicate that there are<br/>strong multicollinearity or other numerical problems."
      ],
      "text/plain": [
       "<class 'statsmodels.iolib.summary.Summary'>\n",
       "\"\"\"\n",
       "                            OLS Regression Results                            \n",
       "==============================================================================\n",
       "Dep. Variable:               domestic   R-squared:                       0.471\n",
       "Model:                            OLS   Adj. R-squared:                  0.471\n",
       "Method:                 Least Squares   F-statistic:                     2328.\n",
       "Date:                Sun, 13 Mar 2022   Prob (F-statistic):               0.00\n",
       "Time:                        14:28:01   Log-Likelihood:                -27774.\n",
       "No. Observations:                5222   AIC:                         5.555e+04\n",
       "Df Residuals:                    5219   BIC:                         5.557e+04\n",
       "Df Model:                           2                                         \n",
       "Covariance Type:            nonrobust                                         \n",
       "==============================================================================\n",
       "                 coef    std err          t      P>|t|      [0.025      0.975]\n",
       "------------------------------------------------------------------------------\n",
       "const       1016.2111    111.905      9.081      0.000     796.830    1235.592\n",
       "year          -0.5042      0.056     -9.016      0.000      -0.614      -0.395\n",
       "budget         1.1418      0.017     68.087      0.000       1.109       1.175\n",
       "==============================================================================\n",
       "Omnibus:                     3333.347   Durbin-Watson:                   1.314\n",
       "Prob(Omnibus):                  0.000   Jarque-Bera (JB):            69688.767\n",
       "Skew:                           2.703   Prob(JB):                         0.00\n",
       "Kurtosis:                      20.060   Cond. No.                     3.28e+05\n",
       "==============================================================================\n",
       "\n",
       "Warnings:\n",
       "[1] Standard Errors assume that the covariance matrix of the errors is correctly specified.\n",
       "[2] The condition number is large, 3.28e+05. This might indicate that there are\n",
       "strong multicollinearity or other numerical problems.\n",
       "\"\"\""
      ]
     },
     "execution_count": 11,
     "metadata": {},
     "output_type": "execute_result"
    }
   ],
   "source": [
    "### edTest(test_ols2) ###\n",
    "\n",
    "\n",
    "X = sm.add_constant(movies[['year', 'budget']])\n",
    "ols2 = sm.OLS(movies['domestic'],X).fit()\n",
    "\n",
    "ols2.summary()"
   ]
  },
  {
   "cell_type": "markdown",
   "metadata": {},
   "source": [
    "**Question:** How does the coefficient estimate for budget compare in this multiple regression to the corresponding estimate in the simple regression model?  Why is that the case? \n",
    "\n",
    "(e) Fit a model with the interaction term between budget and year (first need to define it) and the 'main effects' of the 2 predictors, and interpret the results."
   ]
  },
  {
   "cell_type": "code",
   "execution_count": 13,
   "metadata": {},
   "outputs": [
    {
     "data": {
      "text/html": [
       "<table class=\"simpletable\">\n",
       "<caption>OLS Regression Results</caption>\n",
       "<tr>\n",
       "  <th>Dep. Variable:</th>        <td>domestic</td>     <th>  R-squared:         </th> <td>   0.471</td> \n",
       "</tr>\n",
       "<tr>\n",
       "  <th>Model:</th>                   <td>OLS</td>       <th>  Adj. R-squared:    </th> <td>   0.471</td> \n",
       "</tr>\n",
       "<tr>\n",
       "  <th>Method:</th>             <td>Least Squares</td>  <th>  F-statistic:       </th> <td>   1551.</td> \n",
       "</tr>\n",
       "<tr>\n",
       "  <th>Date:</th>             <td>Sun, 13 Mar 2022</td> <th>  Prob (F-statistic):</th>  <td>  0.00</td>  \n",
       "</tr>\n",
       "<tr>\n",
       "  <th>Time:</th>                 <td>14:30:09</td>     <th>  Log-Likelihood:    </th> <td> -27774.</td> \n",
       "</tr>\n",
       "<tr>\n",
       "  <th>No. Observations:</th>      <td>  5222</td>      <th>  AIC:               </th> <td>5.556e+04</td>\n",
       "</tr>\n",
       "<tr>\n",
       "  <th>Df Residuals:</th>          <td>  5218</td>      <th>  BIC:               </th> <td>5.558e+04</td>\n",
       "</tr>\n",
       "<tr>\n",
       "  <th>Df Model:</th>              <td>     3</td>      <th>                     </th>     <td> </td>    \n",
       "</tr>\n",
       "<tr>\n",
       "  <th>Covariance Type:</th>      <td>nonrobust</td>    <th>                     </th>     <td> </td>    \n",
       "</tr>\n",
       "</table>\n",
       "<table class=\"simpletable\">\n",
       "<tr>\n",
       "       <td></td>          <th>coef</th>     <th>std err</th>      <th>t</th>      <th>P>|t|</th>  <th>[0.025</th>    <th>0.975]</th>  \n",
       "</tr>\n",
       "<tr>\n",
       "  <th>const</th>       <td> 1023.4502</td> <td>  125.314</td> <td>    8.167</td> <td> 0.000</td> <td>  777.783</td> <td> 1269.117</td>\n",
       "</tr>\n",
       "<tr>\n",
       "  <th>budget</th>      <td>    0.5594</td> <td>    4.536</td> <td>    0.123</td> <td> 0.902</td> <td>   -8.333</td> <td>    9.452</td>\n",
       "</tr>\n",
       "<tr>\n",
       "  <th>year</th>        <td>   -0.5078</td> <td>    0.063</td> <td>   -8.117</td> <td> 0.000</td> <td>   -0.630</td> <td>   -0.385</td>\n",
       "</tr>\n",
       "<tr>\n",
       "  <th>interaction</th> <td>    0.0003</td> <td>    0.002</td> <td>    0.128</td> <td> 0.898</td> <td>   -0.004</td> <td>    0.005</td>\n",
       "</tr>\n",
       "</table>\n",
       "<table class=\"simpletable\">\n",
       "<tr>\n",
       "  <th>Omnibus:</th>       <td>3331.783</td> <th>  Durbin-Watson:     </th> <td>   1.314</td> \n",
       "</tr>\n",
       "<tr>\n",
       "  <th>Prob(Omnibus):</th>  <td> 0.000</td>  <th>  Jarque-Bera (JB):  </th> <td>69581.788</td>\n",
       "</tr>\n",
       "<tr>\n",
       "  <th>Skew:</th>           <td> 2.702</td>  <th>  Prob(JB):          </th> <td>    0.00</td> \n",
       "</tr>\n",
       "<tr>\n",
       "  <th>Kurtosis:</th>       <td>20.047</td>  <th>  Cond. No.          </th> <td>1.94e+07</td> \n",
       "</tr>\n",
       "</table><br/><br/>Warnings:<br/>[1] Standard Errors assume that the covariance matrix of the errors is correctly specified.<br/>[2] The condition number is large, 1.94e+07. This might indicate that there are<br/>strong multicollinearity or other numerical problems."
      ],
      "text/plain": [
       "<class 'statsmodels.iolib.summary.Summary'>\n",
       "\"\"\"\n",
       "                            OLS Regression Results                            \n",
       "==============================================================================\n",
       "Dep. Variable:               domestic   R-squared:                       0.471\n",
       "Model:                            OLS   Adj. R-squared:                  0.471\n",
       "Method:                 Least Squares   F-statistic:                     1551.\n",
       "Date:                Sun, 13 Mar 2022   Prob (F-statistic):               0.00\n",
       "Time:                        14:30:09   Log-Likelihood:                -27774.\n",
       "No. Observations:                5222   AIC:                         5.556e+04\n",
       "Df Residuals:                    5218   BIC:                         5.558e+04\n",
       "Df Model:                           3                                         \n",
       "Covariance Type:            nonrobust                                         \n",
       "===============================================================================\n",
       "                  coef    std err          t      P>|t|      [0.025      0.975]\n",
       "-------------------------------------------------------------------------------\n",
       "const        1023.4502    125.314      8.167      0.000     777.783    1269.117\n",
       "budget          0.5594      4.536      0.123      0.902      -8.333       9.452\n",
       "year           -0.5078      0.063     -8.117      0.000      -0.630      -0.385\n",
       "interaction     0.0003      0.002      0.128      0.898      -0.004       0.005\n",
       "==============================================================================\n",
       "Omnibus:                     3331.783   Durbin-Watson:                   1.314\n",
       "Prob(Omnibus):                  0.000   Jarque-Bera (JB):            69581.788\n",
       "Skew:                           2.702   Prob(JB):                         0.00\n",
       "Kurtosis:                      20.047   Cond. No.                     1.94e+07\n",
       "==============================================================================\n",
       "\n",
       "Warnings:\n",
       "[1] Standard Errors assume that the covariance matrix of the errors is correctly specified.\n",
       "[2] The condition number is large, 1.94e+07. This might indicate that there are\n",
       "strong multicollinearity or other numerical problems.\n",
       "\"\"\""
      ]
     },
     "execution_count": 13,
     "metadata": {},
     "output_type": "execute_result"
    }
   ],
   "source": [
    "### edTest(test_interaction) ###\n",
    "\n",
    "#create the interaction term\n",
    "interaction = movies['budget'] * movies['year']\n",
    "movies['interaction'] = interaction\n",
    "\n",
    "# define the X matrix\n",
    "X = sm.add_constant(movies[['budget', 'year', 'interaction']])\n",
    "\n",
    "#fit the model \n",
    "ols3 = sm.OLS(movies['domestic'], X).fit()\n",
    "\n",
    "ols3.summary()"
   ]
  },
  {
   "cell_type": "markdown",
   "metadata": {},
   "source": [
    "**Question:** How have the estimates changed in this model compared to the earlier ones (especially for budget)?  Why is this the case?\n",
    "\n",
    "(e) Investigate the assumptions to this linear regression model (`OLS3`) using the plots below."
   ]
  },
  {
   "cell_type": "code",
   "execution_count": 15,
   "metadata": {},
   "outputs": [
    {
     "data": {
      "image/png": "[encoded data removed]",
      "text/plain": [
       "<Figure size 432x288 with 1 Axes>"
      ]
     },
     "metadata": {
      "needs_background": "light"
     },
     "output_type": "display_data"
    }
   ],
   "source": [
    "# define predicted values (yhat) and residuals\n",
    "yhat = ols3.predict()\n",
    "resid = yhat - movies['domestic']\n",
    "\n",
    "#plot the histogram of the residuals\n",
    "plt.hist(resid,bins=20)\n",
    "plt.show()"
   ]
  },
  {
   "cell_type": "code",
   "execution_count": 16,
   "metadata": {},
   "outputs": [
    {
     "data": {
      "image/png": "[encoded data removed]",
      "text/plain": [
       "<Figure size 432x288 with 1 Axes>"
      ]
     },
     "metadata": {
      "needs_background": "light"
     },
     "output_type": "display_data"
    }
   ],
   "source": [
    "# residual scatterplot \n",
    "plt.scatter(yhat,resid,marker='.')\n",
    "plt.hlines(0,xmin=0,xmax=500,color='red')\n",
    "plt.show()"
   ]
  },
  {
   "cell_type": "markdown",
   "metadata": {},
   "source": [
    "**Question:** What stands out in the plots above?"
   ]
  },
  {
   "cell_type": "markdown",
   "metadata": {},
   "source": [
    "**Bonus Question:** Confirm the log-likelihood evaluation for `OLS1` (just plug in your estimates)."
   ]
  },
  {
   "cell_type": "code",
   "execution_count": 42,
   "metadata": {},
   "outputs": [
    {
     "data": {
      "text/plain": [
       "-27814.79344349679"
      ]
     },
     "execution_count": 42,
     "metadata": {},
     "output_type": "execute_result"
    }
   ],
   "source": [
    "### use ols1.params,ols1.mse_resid, and norm.logpdf as your basis\n",
    "from scipy.stats import norm\n",
    "\n",
    "params = ols1.params\n",
    "std_dev = np.std(ols1.resid)\n",
    "y_pred = params[0] + params[1] * movies['budget']\n",
    "\n",
    "prob = np.sum(norm.logpdf(movies['domestic'], y_pred, std_dev))\n",
    "prob"
   ]
  }
 ],
 "metadata": {
  "kernelspec": {
   "display_name": "Python 3",
   "language": "python",
   "name": "python3"
  },
  "language_info": {
   "codemirror_mode": {
    "name": "ipython",
    "version": 3
   },
   "file_extension": ".py",
   "mimetype": "text/x-python",
   "name": "python",
   "nbconvert_exporter": "python",
   "pygments_lexer": "ipython3",
   "version": "3.7.4"
  }
 },
 "nbformat": 4,
 "nbformat_minor": 4
}
