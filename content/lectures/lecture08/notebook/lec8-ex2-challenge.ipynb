{
 "cells": [
  {
   "cell_type": "markdown",
   "metadata": {},
   "source": [
    "# Title\n",
    "\n",
    "**Exercise: 2 - Linear Regression in Statsmodels**\n",
    "\n",
    "# Description\n",
    "\n",
    "The goal of this exercise is to use `statsmodels` to fit and interpret a regression model.\n",
    "\n",
    "# Roadmap\n",
    "- Read the dataset 'movies.csv' as a dataframe\n",
    "- Look at the scatterplot to predict revenue from budget costs, and investigate the appropriateness of linear regression.\n",
    "- Estimate the linear regression model using both `sklearn` and `statsmodels`, and compare the results.\n",
    "- Compare the coefficients of the multiple regression models (with additive effects and interactive effects) with those of the simple linear regression model.\n",
    "- Investigate the appropriateness of the linear regression assumptions that the probabilisitic model implies.\n",
    "- Bonus Question: calculate the log-likelihood for a linear regression model!\n",
    "\n",
    "# Hints\n",
    "statmodels.OLS()\n",
    "<a href=\"url\" target=\"_blank\">hyperlinked</a> : Fir an ordinary least squares (OLS) regression model using `statsmodels`.\n",
    "\n",
    "statmodels.add_constant()\n",
    "<a href=\"url\" target=\"_blank\">hyperlinked</a> : Adds a column of ones to the design matrix **X**.\n",
    "\n",
    "LinearRegression()\n",
    "<a href=\"url\" target=\"_blank\">hyperlinked</a> : Returns a linear regression object from the sklearn library.\n",
    "\n",
    "LinearRegression().coef_\n",
    "<a href=\"url\" target=\"_blank\">hyperlinked</a> : This attribute returns the coefficient(s) of the linear regression object\n",
    "\n",
    "sklearn.fit() \n",
    "<a href=\"url\" target=\"_blank\">hyperlinked</a> : Fit linear model\n",
    "\n",
    "\n",
    "Note: This exercise is **auto-graded and you can try multiple attempts.**"
   ]
  },
  {
   "cell_type": "code",
   "execution_count": null,
   "metadata": {},
   "outputs": [],
   "source": [
    "# import libraries\n",
    "import pandas as pd\n",
    "import numpy as np\n",
    "import matplotlib.pyplot as plt\n",
    "%matplotlib inline"
   ]
  },
  {
   "cell_type": "code",
   "execution_count": null,
   "metadata": {},
   "outputs": [],
   "source": [
    "# Read the data from 'movies.csv' to a dataframe\n",
    "movies = pd.read_csv('movies.csv')"
   ]
  },
  {
   "cell_type": "code",
   "execution_count": null,
   "metadata": {},
   "outputs": [],
   "source": [
    "#Take a peak at the dataset\n",
    "movies.head()"
   ]
  },
  {
   "cell_type": "markdown",
   "metadata": {},
   "source": [
    "(a) Plot the scatterplot to predict 'domestic' revenue from the 'budget' cost of the movie."
   ]
  },
  {
   "cell_type": "code",
   "execution_count": null,
   "metadata": {},
   "outputs": [],
   "source": [
    "# create the scatterplot to predict 'domestic'\n",
    "# from 'budget'\n",
    "plt.scatter(___,___,marker='.')\n",
    "plt.xlabel('Budget (millions $)')\n",
    "plt.ylabel('Domestic Gross (millions $)')\n",
    "plt.title('Revenue vs. Budget for Major Domestic Movies since 1980')\n",
    "plt.show()"
   ]
  },
  {
   "cell_type": "markdown",
   "metadata": {},
   "source": [
    "**Question:** What stands out in the plots above?Does linear regression seems appropriate based on this scatterplot?  \n",
    "\n",
    "(b) Use sklearn to get linear regression estimates."
   ]
  },
  {
   "cell_type": "code",
   "execution_count": null,
   "metadata": {},
   "outputs": [],
   "source": [
    "### edTest(test_sklearn_regress) ###\n",
    "\n",
    "from sklearn.linear_model import LinearRegression\n",
    "regress = LinearRegression().fit(\n",
    "    ___,___)\n",
    "print(regress.coef_,regress.intercept_)"
   ]
  },
  {
   "cell_type": "markdown",
   "metadata": {},
   "source": [
    "(c) Fit a linear regression model using `OLS` from `statsmodels` instead, and compare."
   ]
  },
  {
   "cell_type": "code",
   "execution_count": null,
   "metadata": {},
   "outputs": [],
   "source": [
    "import statsmodels.api as sm\n",
    "\n",
    "# you have to first create the X matrix with the \n",
    "# intercept included, then fit the model\n",
    "X = sm.add_constant(movies['budget'])\n",
    "ols1 = sm.OLS(movies['domestic'],X).fit()\n",
    "\n",
    "ols1.summary()"
   ]
  },
  {
   "cell_type": "markdown",
   "metadata": {},
   "source": [
    "**Question:** When would it be prefered to fit a regression model without an intercept?\n",
    "\n",
    "(d) Fit a second OLS model (`OLS2`) with 'budget' and 'year' as predictors and compare to `OLS1`."
   ]
  },
  {
   "cell_type": "code",
   "execution_count": null,
   "metadata": {},
   "outputs": [],
   "source": [
    "### edTest(test_ols2) ###\n",
    "\n",
    "\n",
    "X = sm.add_constant(___)\n",
    "ols2 = sm.OLS(movies['domestic'],X).fit()\n",
    "\n",
    "ols2.summary()"
   ]
  },
  {
   "cell_type": "markdown",
   "metadata": {},
   "source": [
    "**Question:** How does the coefficient estimate for budget compare in this multiple regression to the corresponding estimate in the simple regression model?  Why is that the case? \n",
    "\n",
    "(e) Fit a model with the interaction term between budget and year (first need to define it) and the 'main effects' of the 2 predictors, and interpret the results."
   ]
  },
  {
   "cell_type": "code",
   "execution_count": null,
   "metadata": {},
   "outputs": [],
   "source": [
    "### edTest(test_interaction) ###\n",
    "\n",
    "#create the interaction term\n",
    "interaction =___*___\n",
    "movies['interaction'] = interaction\n",
    "\n",
    "# define the X matrix\n",
    "X = ___\n",
    "\n",
    "#fit the model \n",
    "ols3 = sm.OLS(___,___).fit()\n",
    "\n",
    "ols3.summary()"
   ]
  },
  {
   "cell_type": "markdown",
   "metadata": {},
   "source": [
    "**Question:** How have the estimates changed in this model compared to the earlier ones (especially for budget)?  Why is this the case?\n",
    "\n",
    "(e) Investigate the assumptions to this linear regression model (`OLS3`) using the plots below."
   ]
  },
  {
   "cell_type": "code",
   "execution_count": null,
   "metadata": {},
   "outputs": [],
   "source": [
    "# define predicted values (yhat) and residuals\n",
    "yhat = ols3.predict()\n",
    "resid = ___ - ___\n",
    "\n",
    "#plot the histogram of the residuals\n",
    "plt.___(resid,bins=20)\n",
    "plt.show()"
   ]
  },
  {
   "cell_type": "code",
   "execution_count": null,
   "metadata": {},
   "outputs": [],
   "source": [
    "# residual scatterplot \n",
    "plt.scatter(___,___,marker='.')\n",
    "plt.hlines(0,xmin=0,xmax=500,color='red')\n",
    "plt.show()"
   ]
  },
  {
   "cell_type": "markdown",
   "metadata": {},
   "source": [
    "**Question:** What stands out in the plots above?"
   ]
  },
  {
   "cell_type": "markdown",
   "metadata": {},
   "source": [
    "**Bonus Question:** Confirm the log-likelihood evaluation for `OLS1` (just plug in your estimates)."
   ]
  },
  {
   "cell_type": "code",
   "execution_count": null,
   "metadata": {},
   "outputs": [],
   "source": [
    "### use ols1.params,ols1.mse_resid, and norm.logpdf as your basis\n",
    "from scipy.stats import norm"
   ]
  }
 ],
 "metadata": {
  "kernelspec": {
   "display_name": "Python 3",
   "language": "python",
   "name": "python3"
  },
  "language_info": {
   "codemirror_mode": {
    "name": "ipython",
    "version": 3
   },
   "file_extension": ".py",
   "mimetype": "text/x-python",
   "name": "python",
   "nbconvert_exporter": "python",
   "pygments_lexer": "ipython3",
   "version": "3.8.5"
  }
 },
 "nbformat": 4,
 "nbformat_minor": 4
}
