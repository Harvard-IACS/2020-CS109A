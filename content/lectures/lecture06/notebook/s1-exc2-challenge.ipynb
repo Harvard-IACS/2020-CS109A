{
 "cells": [
  {
   "cell_type": "markdown",
   "metadata": {},
   "source": [
    "# Title\n",
    "\n",
    "**Exercise: A.2 - MSE for varying β1 values**\n",
    "\n",
    "# Description\n",
    "\n",
    "The goal here is to produce a plot like the one given below."
   ]
  },
  {
   "cell_type": "markdown",
   "metadata": {},
   "source": [
    "<img src=\"../img/image2.png\" style=\"width: 500px;\">"
   ]
  },
  {
   "cell_type": "markdown",
   "metadata": {},
   "source": [
    "# Instructions:\n",
    "We want to find the model that fit best the data. To do so we are going to \n",
    "\n",
    "1) Fix $\\beta_0 = 2.2$, \n",
    "\n",
    "2) Change $\\beta_1$ in a range $[-2, 3]$, and \n",
    "\n",
    "3) Estimate the fit of the model. \n",
    "\n",
    "Create empty lists;\n",
    "\n",
    "Set a range of values for $\\beta_1$ and compute MSE for each one;\n",
    "\n",
    "Compute MSE for varying $\\beta_1$\n",
    "\n",
    "\n",
    "# Hints:\n",
    "\n",
    "<a href=\"https://numpy.org/doc/stable/reference/generated/numpy.linspace.html\" target=\"_blank\">np.linspace(start, stop, num)</a> : Return evenly spaced numbers over a specified interval.\n",
    "\n",
    "<a href=\"https://numpy.org/doc/stable/reference/generated/numpy.arange.html\" target=\"_blank\">np.arange(start, stop, increment)</a> : Return evenly spaced values within a given interval\n",
    "\n",
    "<a href=\"https://docs.python.org/3/tutorial/datastructures.html\" target=\"_blank\">list_name.append(item)</a> : Add an item to the end of the list\n",
    "\n",
    "<a href=\"https://matplotlib.org/3.2.2/api/_as_gen/matplotlib.pyplot.xlabel.html\" target=\"_blank\">plt.xlabel()</a> : This is used to specify the text to be displayed as the label for the x-axis\n",
    "\n",
    "<a href=\"https://matplotlib.org/3.2.2/api/_as_gen/matplotlib.pyplot.ylabel.html\" target=\"_blank\">plt.ylabel()</a> : This is used to specify the text to be displayed as the label for the y-axis\n",
    "\n",
    "**Note: This exercise is auto-graded and you can try multiple attempts**"
   ]
  },
  {
   "cell_type": "code",
   "execution_count": 1,
   "metadata": {},
   "outputs": [],
   "source": [
    "import numpy as np\n",
    "import pandas as pd\n",
    "import matplotlib.pyplot as plt\n",
    "%matplotlib inline"
   ]
  },
  {
   "cell_type": "markdown",
   "metadata": {},
   "source": [
    "### Reading the dataset"
   ]
  },
  {
   "cell_type": "code",
   "execution_count": 2,
   "metadata": {},
   "outputs": [],
   "source": [
    "# Data set used in this exercise \n",
    "data_filename = 'Advertising.csv'\n",
    "\n",
    "# Read data file using pandas libraries\n",
    "df = pd.read_csv(data_filename)"
   ]
  },
  {
   "cell_type": "code",
   "execution_count": 3,
   "metadata": {},
   "outputs": [
    {
     "data": {
      "text/html": [
       "<div>\n",
       "<style scoped>\n",
       "    .dataframe tbody tr th:only-of-type {\n",
       "        vertical-align: middle;\n",
       "    }\n",
       "\n",
       "    .dataframe tbody tr th {\n",
       "        vertical-align: top;\n",
       "    }\n",
       "\n",
       "    .dataframe thead th {\n",
       "        text-align: right;\n",
       "    }\n",
       "</style>\n",
       "<table border=\"1\" class=\"dataframe\">\n",
       "  <thead>\n",
       "    <tr style=\"text-align: right;\">\n",
       "      <th></th>\n",
       "      <th>TV</th>\n",
       "      <th>Radio</th>\n",
       "      <th>Newspaper</th>\n",
       "      <th>Sales</th>\n",
       "    </tr>\n",
       "  </thead>\n",
       "  <tbody>\n",
       "    <tr>\n",
       "      <td>0</td>\n",
       "      <td>230.1</td>\n",
       "      <td>37.8</td>\n",
       "      <td>69.2</td>\n",
       "      <td>22.1</td>\n",
       "    </tr>\n",
       "    <tr>\n",
       "      <td>1</td>\n",
       "      <td>44.5</td>\n",
       "      <td>39.3</td>\n",
       "      <td>45.1</td>\n",
       "      <td>10.4</td>\n",
       "    </tr>\n",
       "    <tr>\n",
       "      <td>2</td>\n",
       "      <td>17.2</td>\n",
       "      <td>45.9</td>\n",
       "      <td>69.3</td>\n",
       "      <td>9.3</td>\n",
       "    </tr>\n",
       "    <tr>\n",
       "      <td>3</td>\n",
       "      <td>151.5</td>\n",
       "      <td>41.3</td>\n",
       "      <td>58.5</td>\n",
       "      <td>18.5</td>\n",
       "    </tr>\n",
       "    <tr>\n",
       "      <td>4</td>\n",
       "      <td>180.8</td>\n",
       "      <td>10.8</td>\n",
       "      <td>58.4</td>\n",
       "      <td>12.9</td>\n",
       "    </tr>\n",
       "  </tbody>\n",
       "</table>\n",
       "</div>"
      ],
      "text/plain": [
       "      TV  Radio  Newspaper  Sales\n",
       "0  230.1   37.8       69.2   22.1\n",
       "1   44.5   39.3       45.1   10.4\n",
       "2   17.2   45.9       69.3    9.3\n",
       "3  151.5   41.3       58.5   18.5\n",
       "4  180.8   10.8       58.4   12.9"
      ]
     },
     "execution_count": 3,
     "metadata": {},
     "output_type": "execute_result"
    }
   ],
   "source": [
    "# Take a quick look at the data\n",
    "df.head()"
   ]
  },
  {
   "cell_type": "code",
   "execution_count": 5,
   "metadata": {},
   "outputs": [],
   "source": [
    "# Create a new dataframe called `df_new`. witch the columns ['TV' and 'sales'].\n",
    "df_new = df[['TV', 'Sales']]"
   ]
  },
  {
   "cell_type": "markdown",
   "metadata": {},
   "source": [
    "### Beta and MSE Computation"
   ]
  },
  {
   "cell_type": "code",
   "execution_count": 6,
   "metadata": {},
   "outputs": [],
   "source": [
    "# Set beta0 \n",
    "beta0 = 2.2"
   ]
  },
  {
   "cell_type": "code",
   "execution_count": 8,
   "metadata": {},
   "outputs": [],
   "source": [
    "# Create lists to store the MSE and beta1\n",
    "mse_list = []\n",
    "beta1_list = []"
   ]
  },
  {
   "cell_type": "code",
   "execution_count": 9,
   "metadata": {},
   "outputs": [],
   "source": [
    "### edTest(test_beta) ###\n",
    "\n",
    "# This loops runs from -2 to 3.0 with an increment of 0.1 i.e a total of 51 steps\n",
    "for beta1 in np.arange(-2, 3, 0.1):\n",
    "    \n",
    "    # Calculate prediction of x using beta0 and beta1\n",
    "    y_predict = beta0 + df_new['TV'] * beta1 \n",
    "    \n",
    "    # Calculate Mean Squared Error\n",
    "    mean_squared_error = np.mean((y_predict - df_new['Sales']) ** 2)\n",
    "\n",
    "    # Append the new MSE in the list that you created above\n",
    "    mse_list.append(mean_squared_error)\n",
    "    \n",
    "    # Also append beta1 values in the list\n",
    "    beta1_list.append(beta1)"
   ]
  },
  {
   "cell_type": "markdown",
   "metadata": {},
   "source": [
    "### Plotting the graph"
   ]
  },
  {
   "cell_type": "code",
   "execution_count": 10,
   "metadata": {},
   "outputs": [
    {
     "data": {
      "text/plain": [
       "Text(0, 0.5, 'MSE')"
      ]
     },
     "execution_count": 10,
     "metadata": {},
     "output_type": "execute_result"
    },
    {
     "data": {
      "image/png": "[encoded data removed]",
      "text/plain": [
       "<Figure size 432x288 with 1 Axes>"
      ]
     },
     "metadata": {
      "needs_background": "light"
     },
     "output_type": "display_data"
    }
   ],
   "source": [
    "### edTest(test_mse) ###\n",
    "# Plot MSE as a function of beta1\n",
    "plt.plot(beta1_list, mse_list)\n",
    "plt.xlabel('Beta1')\n",
    "plt.ylabel('MSE')"
   ]
  },
  {
   "cell_type": "markdown",
   "metadata": {},
   "source": [
    "### Go back and change your $\\beta_0$ value and report your new optimal $\\beta_1$ value and new lowest $MSE$\n",
    "\n",
    "Is the MSE lower than before, or more?"
   ]
  },
  {
   "cell_type": "code",
   "execution_count": 16,
   "metadata": {},
   "outputs": [
    {
     "name": "stdout",
     "output_type": "stream",
     "text": [
      "39.00352950000301\n",
      "0.10000000000000187\n"
     ]
    }
   ],
   "source": [
    "print(min(mse_list))  # It's higher\n",
    "print(beta1_list[mse_list.index(min(mse_list))])"
   ]
  }
 ],
 "metadata": {
  "kernelspec": {
   "display_name": "Python 3",
   "language": "python",
   "name": "python3"
  },
  "language_info": {
   "codemirror_mode": {
    "name": "ipython",
    "version": 3
   },
   "file_extension": ".py",
   "mimetype": "text/x-python",
   "name": "python",
   "nbconvert_exporter": "python",
   "pygments_lexer": "ipython3",
   "version": "3.7.4"
  }
 },
 "nbformat": 4,
 "nbformat_minor": 4
}
