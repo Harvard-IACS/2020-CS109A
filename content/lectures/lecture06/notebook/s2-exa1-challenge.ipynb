{
    "metadata": {
        "kernelspec": {
            "name": "python3",
            "display_name": "Python 3",
            "language": "python"
        }
    },
    "nbformat": 4,
    "nbformat_minor": 2,
    "cells": [
        {
            "cell_type": "code",
            "execution_count": 3,
            "metadata": {},
            "outputs": [],
            "source": [
                "#import necessary libraries\n",
                "import pandas as pd\n",
                "import matplotlib.pyplot as plt\n",
                "import numpy as np\n",
                "from sklearn.linear_model import LinearRegression\n",
                "from sklearn.metrics import mean_squared_error\n",
                "from sklearn.model_selection import train_test_split\n",
                "from sklearn import preprocessing\n",
                "from sklearn.metrics import mean_squared_error\n",
                "from prettytable import PrettyTable"
            ]
        },
        {
            "attachments": {},
            "cell_type": "markdown",
            "metadata": {},
            "source": [
                "### Reading the dataset"
            ]
        },
        {
            "cell_type": "code",
            "execution_count": 5,
            "metadata": {},
            "outputs": [],
            "source": [
                "#Read the file \"Advertising.csv\"\n",
                "df = pd.read_csv(\"Advertising.csv\")"
            ]
        },
        {
            "cell_type": "code",
            "execution_count": 6,
            "metadata": {},
            "outputs": [
                {
                    "data": {
                        "text/html": "\u003cdiv\u003e\n\u003cstyle scoped\u003e\n    .dataframe tbody tr th:only-of-type {\n        vertical-align: middle;\n    }\n\n    .dataframe tbody tr th {\n        vertical-align: top;\n    }\n\n    .dataframe thead th {\n        text-align: right;\n    }\n\u003c/style\u003e\n\u003ctable border=\"1\" class=\"dataframe\"\u003e\n  \u003cthead\u003e\n    \u003ctr style=\"text-align: right;\"\u003e\n      \u003cth\u003e\u003c/th\u003e\n      \u003cth\u003eTV\u003c/th\u003e\n      \u003cth\u003eRadio\u003c/th\u003e\n      \u003cth\u003eNewspaper\u003c/th\u003e\n      \u003cth\u003eSales\u003c/th\u003e\n    \u003c/tr\u003e\n  \u003c/thead\u003e\n  \u003ctbody\u003e\n    \u003ctr\u003e\n      \u003cth\u003e0\u003c/th\u003e\n      \u003ctd\u003e230.1\u003c/td\u003e\n      \u003ctd\u003e37.8\u003c/td\u003e\n      \u003ctd\u003e69.2\u003c/td\u003e\n      \u003ctd\u003e22.1\u003c/td\u003e\n    \u003c/tr\u003e\n    \u003ctr\u003e\n      \u003cth\u003e1\u003c/th\u003e\n      \u003ctd\u003e44.5\u003c/td\u003e\n      \u003ctd\u003e39.3\u003c/td\u003e\n      \u003ctd\u003e45.1\u003c/td\u003e\n      \u003ctd\u003e10.4\u003c/td\u003e\n    \u003c/tr\u003e\n    \u003ctr\u003e\n      \u003cth\u003e2\u003c/th\u003e\n      \u003ctd\u003e17.2\u003c/td\u003e\n      \u003ctd\u003e45.9\u003c/td\u003e\n      \u003ctd\u003e69.3\u003c/td\u003e\n      \u003ctd\u003e9.3\u003c/td\u003e\n    \u003c/tr\u003e\n    \u003ctr\u003e\n      \u003cth\u003e3\u003c/th\u003e\n      \u003ctd\u003e151.5\u003c/td\u003e\n      \u003ctd\u003e41.3\u003c/td\u003e\n      \u003ctd\u003e58.5\u003c/td\u003e\n      \u003ctd\u003e18.5\u003c/td\u003e\n    \u003c/tr\u003e\n    \u003ctr\u003e\n      \u003cth\u003e4\u003c/th\u003e\n      \u003ctd\u003e180.8\u003c/td\u003e\n      \u003ctd\u003e10.8\u003c/td\u003e\n      \u003ctd\u003e58.4\u003c/td\u003e\n      \u003ctd\u003e12.9\u003c/td\u003e\n    \u003c/tr\u003e\n  \u003c/tbody\u003e\n\u003c/table\u003e\n\u003c/div\u003e",
                        "text/plain": "      TV  Radio  Newspaper  Sales\n0  230.1   37.8       69.2   22.1\n1   44.5   39.3       45.1   10.4\n2   17.2   45.9       69.3    9.3\n3  151.5   41.3       58.5   18.5\n4  180.8   10.8       58.4   12.9"
                    },
                    "execution_count": 6,
                    "metadata": {},
                    "output_type": "execute_result"
                }
            ],
            "source": [
                "#Take a quick look at the data to list all the predictors\n",
                "df.head()"
            ]
        },
        {
            "attachments": {},
            "cell_type": "markdown",
            "metadata": {},
            "source": [
                "### Create different multi predictor models "
            ]
        },
        {
            "cell_type": "code",
            "execution_count": 18,
            "metadata": {},
            "outputs": [],
            "source": [
                "### edTest(test_mse) ###\n",
                "#List to store the MSE values\n",
                "mse_list = []\n",
                "\n",
                "#List of all predictor combinations to fit the curve\n",
                "cols = [['TV'],['Radio'],['Newspaper'],['TV','Radio'],['TV','Newspaper'],['Radio','Newspaper'],['TV','Radio','Newspaper']]\n",
                "\n",
                "for i in cols:\n",
                "    #Set each of the predictors from the previous list as x\n",
                "    x = df[___]\n",
                "    \n",
                "    \n",
                "    #\"Sales\" column is the reponse variable\n",
                "    y = df[___]\n",
                "    \n",
                "   \n",
                "    #Splitting the data into train-test sets with 80% training data and 20% testing data. \n",
                "    #Set random_state as 0\n",
                "    xtrain, xtest, ytrain, ytest = train_test_split(___)\n",
                "\n",
                "    #Create a LinearRegression object and fit the model\n",
                "    lreg = LinearRegression()\n",
                "    lreg.fit(___)\n",
                "    \n",
                "    #Predict the response variable for the test set\n",
                "    y_pred= lreg.predict(___)\n",
                "    \n",
                "    #Compute the MSE\n",
                "    MSE = mean_squared_error(___)\n",
                "    \n",
                "    #Append the MSE to the list\n",
                "    mse_list.append(___)\n",
                ""
            ]
        },
        {
            "attachments": {},
            "cell_type": "markdown",
            "metadata": {},
            "source": [
                "### Display the MSE with predictor combinations"
            ]
        },
        {
            "cell_type": "code",
            "execution_count": 20,
            "metadata": {},
            "outputs": [],
            "source": [
                "t = PrettyTable(['Predictors', 'MSE'])\n",
                "\n",
                "#Loop to display the predictor combinations along with the MSE value of the corresponding model\n",
                "for i in range(len(mse_list)):\n",
                "    t.add_row([cols[i],mse_list[i]])\n",
                "\n",
                "print(t)"
            ]
        },
        {
            "attachments": {},
            "cell_type": "markdown",
            "metadata": {},
            "source": [
                "### Comment on the trend of MSE values with changing predictor(s) combinations. "
            ]
        },
        {
            "attachments": {},
            "cell_type": "markdown",
            "metadata": {},
            "source": [
                "#### Your answer here"
            ]
        }
    ]
}
