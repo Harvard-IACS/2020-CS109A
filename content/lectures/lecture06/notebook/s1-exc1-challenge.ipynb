{
 "cells": [
  {
   "cell_type": "markdown",
   "metadata": {},
   "source": [
    "# Title\n",
    "\n",
    "**Exercise: A.1 - Guesstimate the β values**\n",
    "\n",
    "# Description\n",
    "\n",
    "The goal of this exercise is to **guess a model** based on the plot below and also calculate the MSE for your guess model.\n",
    "\n",
    "<img src=\"../img/image.png\" style=\"width: 500px;\">\n",
    "\n",
    "# Instructions:\n",
    "\n",
    "We are trying to predict sales as a function of the advertising budget for TV using the data.\n",
    "To do so we need 1) a model and 2) a method to estimate how good the model is.\n",
    "\n",
    "- Guess the values of the  coefficients $\\beta_0$ and $\\beta_1$ by visually inspecting the graph above;\n",
    "- Plot your model's prediction (use the formula of a simple linear regression, no package allowed) ;\n",
    "- Change the values of the coefficients $\\beta_0$ and $\\beta_1$ to improve the fit;\n",
    "- Calculate the **Mean Squared Error (MSE)** for the model.\n",
    "\n",
    "\n",
    "# Hints:\n",
    "\n",
    "- Recall the formula for the linear regression model $\\hat{y}= \\beta_0 + \\beta_1*x$\n",
    "- Recall the formula for Mean Squared Error $MSE =\\frac{1}{n}\\sum_{i=1}^{n}(y_i-\\hat{y})^2$\n",
    "- Guess $\\beta_0$ by observing the intercept of your model and $\\beta_1$ looking at the slope\n",
    "\n",
    "<a href=\"https://numpy.org/doc/stable/reference/generated/numpy.mean.html\" target=\"_blank\">np.mean()</a> : Computes the arithmetic mean along the specified axis\n",
    "\n",
    "<a href=\"https://matplotlib.org/3.2.2/api/_as_gen/matplotlib.pyplot.plot.html\" target=\"_blank\">plt.plot()</a> : Plots x versus y as lines and/or markers\n",
    "\n",
    "<a href=\"https://matplotlib.org/3.1.1/api/_as_gen/matplotlib.pyplot.xlabel.html\" target=\"_blank\">plt.xlabel()</a> : Sets the label for the x-axis.\n",
    "\n",
    "<a href=\"https://matplotlib.org/3.1.1/api/_as_gen/matplotlib.pyplot.ylabel.html\" target=\"_blank\">plt.ylabel()</a> : Sets the label for the y-axis.\n",
    "\n",
    "<a href=\"https://matplotlib.org/3.1.1/api/_as_gen/matplotlib.pyplot.legend.html\" target=\"_blank\">plt.legend()</a> : Places a legend on the axes\n",
    "\n",
    "Note: This exercise is auto-graded and you can try multiple attempts. "
   ]
  },
  {
   "cell_type": "code",
   "execution_count": 10,
   "metadata": {},
   "outputs": [],
   "source": [
    "import numpy as np\n",
    "import pandas as pd\n",
    "import matplotlib.pyplot as plt\n",
    "%matplotlib inline"
   ]
  },
  {
   "cell_type": "markdown",
   "metadata": {},
   "source": [
    "### Reading the dataset"
   ]
  },
  {
   "cell_type": "code",
   "execution_count": 11,
   "metadata": {},
   "outputs": [],
   "source": [
    "# Data set used in this exercise :Advertising.csv\n",
    "data_filename = 'Advertising.csv'\n",
    "\n",
    "# Read the data using pandas libraries\n",
    "df = pd.read_csv(data_filename)"
   ]
  },
  {
   "cell_type": "code",
   "execution_count": 3,
   "metadata": {},
   "outputs": [],
   "source": [
    "# Create a new dataframe called `df_new` witch the columns 'TV' and 'sales'\n",
    "df_new = df[['TV', 'sales']]"
   ]
  },
  {
   "cell_type": "code",
   "execution_count": 4,
   "metadata": {},
   "outputs": [
    {
     "data": {
      "text/plain": [
       "<matplotlib.legend.Legend at 0x7f1f66980b80>"
      ]
     },
     "execution_count": 4,
     "metadata": {},
     "output_type": "execute_result"
    },
    {
     "data": {
      "image/png": "[encoded data removed]",
      "text/plain": [
       "<Figure size 432x288 with 1 Axes>"
      ]
     },
     "metadata": {
      "needs_background": "light"
     },
     "output_type": "display_data"
    }
   ],
   "source": [
    "# Plot the data\n",
    "\n",
    "plt.plot(df_new.TV, df_new.sales, '*', label='data')\n",
    "plt.xlabel('TV')\n",
    "plt.ylabel('Sales')\n",
    "plt.legend()"
   ]
  },
  {
   "cell_type": "markdown",
   "metadata": {},
   "source": [
    "### Beta Estimation"
   ]
  },
  {
   "cell_type": "code",
   "execution_count": null,
   "metadata": {},
   "outputs": [],
   "source": [
    "### edTest(test_betas) ###\n",
    "# Estimate beta0 by observing the value of y when x = 0\n",
    "beta0 = ___\n",
    "\n",
    "# Estimate beta1 - Check the slope for guidance\n",
    "beta1 = ___"
   ]
  },
  {
   "cell_type": "code",
   "execution_count": null,
   "metadata": {},
   "outputs": [],
   "source": [
    "# Calculate prediction of x using beta0 and beta1\n",
    "y_predict = ___"
   ]
  },
  {
   "cell_type": "markdown",
   "metadata": {},
   "source": [
    "### Plotting the graph"
   ]
  },
  {
   "cell_type": "code",
   "execution_count": null,
   "metadata": {},
   "outputs": [],
   "source": [
    "# Plot the predicted values as well as the data\n",
    "plt.plot(df_new.TV, df_new.sales, '*', label='data')\n",
    "plt.plot(df_new.TV, y_predict, label='model')\n",
    "plt.xlabel('TV')\n",
    "plt.ylabel('Sales')\n",
    "plt.legend()"
   ]
  },
  {
   "cell_type": "markdown",
   "metadata": {},
   "source": [
    "### MSE Computation"
   ]
  },
  {
   "cell_type": "code",
   "execution_count": null,
   "metadata": {},
   "outputs": [],
   "source": [
    "### edTest(test_mse) ###\n",
    "# Calculate the MSE\n",
    "MSE = ___\n",
    "\n",
    "# Print the results\n",
    "print(\"My MSE is: {0}\".format(MSE))"
   ]
  }
 ],
 "metadata": {
  "kernelspec": {
   "display_name": "Python 3",
   "language": "python",
   "name": "python3"
  },
  "language_info": {
   "codemirror_mode": {
    "name": "ipython",
    "version": 3
   },
   "file_extension": ".py",
   "mimetype": "text/x-python",
   "name": "python",
   "nbconvert_exporter": "python",
   "pygments_lexer": "ipython3",
   "version": "3.8.5"
  }
 },
 "nbformat": 4,
 "nbformat_minor": 4
}
