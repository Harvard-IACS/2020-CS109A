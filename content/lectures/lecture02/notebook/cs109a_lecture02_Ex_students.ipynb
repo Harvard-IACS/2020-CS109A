{
 "cells": [
  {
   "cell_type": "markdown",
   "metadata": {},
   "source": [
    "# <img style=\"float: left; padding-right: 10px; width: 45px\" src=\"https://raw.githubusercontent.com/Harvard-IACS/2018-CS109A/master/content/styles/iacs.png\"> CS109A Introduction to Data Science \n",
    "\n",
    "## Lecture 2, Exercise 1: RegEx\n",
    "\n",
    "\n",
    "**Harvard University**<br/>\n",
    "**Fall 2020**<br/>\n",
    "**Instructors**: Pavlos Protopapas, Kevin Rader, and Chris Tanner\n",
    "\n",
    "---"
   ]
  },
  {
   "cell_type": "markdown",
   "metadata": {},
   "source": [
    "# Title\n",
    "\n",
    "**Exercise 1**\n",
    "\n",
    "# Description\n",
    "\n",
    "**Introduction**\n",
    "\n",
    "Regular Expressions (RegEx) are a mechanism that allows one to define a pattern to be searched for. That is, Regular Expressions aren't just a Python concept or library; they extend beyond the scope of any one programming language. Fortunately, many programming languages support them, though. This makes string processing (namely, parsing) incredibly convenient, as it's vastly easier than writing our own search query (e.g., via a series of if-statements)\n",
    "\n",
    "Many programming languages slightly differ in their syntax for creating RegEx. RegEx's can quickly get tedious at times, and it is **not** expected for any student to memorize all of the possible character sequences or to become a master at them. We **do** expect you to know what they are and to have basic exposure to them, so that you are aware of their incredible utility and can use them in the future when you want to parse through text. It is perfectly permissible -- and expected -- for students to reference the syntax guide while creating RegEx. You will quickly learn that there are a few main, powerful character sequences that tend to get used over and over, and it's these that you will likely find useful for committing to memory:\n",
    "\n",
    "- any whitespace\n",
    "- non-whitespace\n",
    "- any character\n",
    "- non-character\n",
    "- digit\n",
    "- non-digit\n",
    "- occurs 0 or more times\n",
    "- occurs 1 or more times\n",
    "- start of a string\n",
    "- end of a string\n",
    "- the difference between greedy and non-greedy (aka reluctant) searching\n",
    "\n",
    "**Resources**\n",
    "\n",
    "1. You may find <a href=\"https://www.debuggex.com/cheatsheet/regex/python\" target=\"_blank\">this</a> \"cheatsheet\" useful.\n",
    "\n",
    "2. As part of your post-class assignment, you should look through <a href=\"https://docs.python.org/3/howto/regex.html\" target=\"_blank\">the official Python documentation</a>. It's okay to skim most sections (skip `.split()` and `.sub()`), but you should pay particular attention to:\n",
    "\n",
    "the Performing Matches section (`.match()`)\n",
    "\n",
    "Grouping section (`.group()`)\n",
    "\n",
    "Greedy vs Non-Greedy\n",
    "\n",
    "3. For immediate, visual feedback as to if your regular expression is matching the way you want, I highly recommend visiting websites that provide Online Regular Expression testing, e.g.:\n",
    "\n",
    "- <a href=\"https://pythex.org/\" target=\"_blank\">Pythex</a> <-- my favorite (it includes a cheatsheet button)\n",
    "- <a href=\"https://regex101.com/\" target=\"_blank\">Regex101</a> \n",
    "\n",
    "**Exercise**\n",
    "\n",
    "In this exercise, we want you to practice using RegularExpression. If you have used them many times in the past, this will likely be a breeze for you. If this is your first time, please do not be intimidated by the unusual-looking syntax. After a few correct RegEx, you will be a pro in no time.\n"
   ]
  },
  {
   "cell_type": "code",
   "execution_count": null,
   "metadata": {},
   "outputs": [],
   "source": [
    "import re\n",
    "import requests"
   ]
  },
  {
   "cell_type": "markdown",
   "metadata": {},
   "source": [
    "For the three parts to this Exercise, you will be extracting contents from the `sample_string` provided below."
   ]
  },
  {
   "cell_type": "code",
   "execution_count": null,
   "metadata": {},
   "outputs": [],
   "source": [
    "# she was elected as State Representative of my district (Somerville) this week\n",
    "# (I am not blasting contact information of random people)\n",
    "sample_string = \"Hello, my name is Erika Uyterhoeven, and my email is erika@electerika.com!!\""
   ]
  },
  {
   "cell_type": "markdown",
   "metadata": {},
   "source": [
    "## Part A: Your first RegEx (or at least in CS109A)"
   ]
  },
  {
   "cell_type": "markdown",
   "metadata": {},
   "source": [
    "Write code (fill in the blank) that returns a list of all \"words\" in `sample_string`. **NOTE:** here, we consider a \"word\" to be any contiguous group of characters that are separated by whitespace. Thus, words **include** any attached punctuation. For example, the very first \"word\" is `Hello,`, and the very last word is `erika@electerika.com!!`"
   ]
  },
  {
   "cell_type": "code",
   "execution_count": null,
   "metadata": {},
   "outputs": [],
   "source": [
    "### edTest(test_a) ###\n",
    "words = re.findall('___',sample_string)\n",
    "words"
   ]
  },
  {
   "cell_type": "markdown",
   "metadata": {},
   "source": [
    "## Part B: No punctuation\n",
    "In the cell below, write a very similar RegEx, but now return all words **excluding** any attached punctuation marks, even if it's more than 1 punctuation mark. For example, the first word is now `Hello` (without the `,`) and the last word is `erika@electerika.com` (without `!!`). **NOTE:** For this part, let's assume there are only 2 types of punctuations in the world, `!` and `,`. Thus, do not worry about properly treating others (e.g., `.;[]`)"
   ]
  },
  {
   "cell_type": "code",
   "execution_count": null,
   "metadata": {},
   "outputs": [],
   "source": [
    "### edTest(test_b) ###\n",
    "words = re.findall('___',sample_string)\n",
    "words"
   ]
  },
  {
   "cell_type": "markdown",
   "metadata": {},
   "source": [
    "## Part C: E-mail only\n",
    "In the cell below, write a RegEx to extract just her e-mail address, **excluding** the exclamation points. Thus, you should return `erika@electerika.com`. To be clear, you do not need to write a robust RegEx that properly matches all patterns of `____@___.__`. It is fine to target just this one e-mail by assuming the template is `____@____` (without attached `!`)"
   ]
  },
  {
   "cell_type": "code",
   "execution_count": null,
   "metadata": {},
   "outputs": [],
   "source": [
    "### edTest(test_c) ###\n",
    "words = re.findall('___',sample_string)\n",
    "words"
   ]
  }
 ],
 "metadata": {
  "kernelspec": {
   "display_name": "Python 3",
   "language": "python",
   "name": "python3"
  },
  "language_info": {
   "codemirror_mode": {
    "name": "ipython",
    "version": 3
   },
   "file_extension": ".py",
   "mimetype": "text/x-python",
   "name": "python",
   "nbconvert_exporter": "python",
   "pygments_lexer": "ipython3",
   "version": "3.8.5"
  }
 },
 "nbformat": 4,
 "nbformat_minor": 4
}
