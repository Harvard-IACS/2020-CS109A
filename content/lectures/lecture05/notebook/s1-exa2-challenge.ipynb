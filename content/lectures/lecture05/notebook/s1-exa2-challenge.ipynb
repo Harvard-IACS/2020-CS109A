{
 "cells": [
  {
   "cell_type": "markdown",
   "metadata": {},
   "source": [
    "# Title\n",
    "\n",
    "**Exercise: A.2 - Simple kNN regression**\n",
    "\n",
    "# Description\n",
    "\n",
    "The goal of this exercise is to **re-create the plots** below from the lecture.\n"
   ]
  },
  {
   "cell_type": "markdown",
   "metadata": {
    "jupyter": {
     "outputs_hidden": false
    },
    "pycharm": {
     "name": "#%% md\n"
    }
   },
   "source": [
    "\n",
    "<img src=\"../img/plot2.png\" style=\"width: 500px;\">\n",
    "<img src=\"../img/plot3.png\" style=\"width: 500px;\">"
   ]
  },
  {
   "cell_type": "code",
   "execution_count": 24,
   "metadata": {},
   "outputs": [],
   "source": [
    "# Instructions:\n",
    "Part 1 **KNN by hand for k=1**\n",
    "\n",
    "- Read the Advertisement data \n",
    "- Get a subset of the data from row 5 to row 13\n",
    "- Apply the kNN algorithm by hand and plot the first graph as given above.\n",
    "\n",
    "Part 2 **Using sklearn package**\n",
    "- Read the entire Advertisement dataset\n",
    "- Split the data into train and test sets using `train_test_split()` function\n",
    "- Select `k_list` as possible k values ranging from 1 to 70.\n",
    "- For each value of k in `k_list`:\n",
    "    - Use sklearn `KNearestNeighbors()` to fit train data\n",
    "    - Predict on the test data\n",
    "    - Use the helper code to get the second plot above for k=1,10,70\n",
    "\n",
    "# Hints:\n",
    "<a href=\"https://numpy.org/doc/stable/reference/generated/numpy.argsort.html\" target=\"_blank\">np.argsort()</a> : Returns the indices that would sort an array. \n",
    "\n",
    "<a href=\"https://pandas.pydata.org/pandas-docs/stable/reference/api/pandas.DataFrame.iloc.html\" target=\"_blank\">df.iloc[]</a> : Returns a subset of the dataframe that is contained in the column range passed as the argument\n",
    "\n",
    "<a href=\"https://pandas.pydata.org/pandas-docs/stable/reference/api/pandas.DataFrame.values.html\" target=\"_blank\">df.values</a> : Returns a Numpy representation of the DataFrame.\n",
    "\n",
    "<a href=\"https://pandas.pydata.org/pandas-docs/stable/reference/api/pandas.DataFrame.idxmin.html\" target=\"_blank\">pd.idxmin()</a> : Returns index of the first occurrence of minimum over requested axis.\n",
    "\n",
    "<a href=\"http://pageperso.lif.univ-mrs.fr/~francois.denis/IAAM1/numpy-html-1.14.0/reference/generated/numpy.ndarray.min.html\" target=\"_blank\">np.min()</a> : Returns the minimum along a given axis.\n",
    "\n",
    "<a href=\"https://numpy.org/doc/stable/reference/generated/numpy.ndarray.max.html\" target=\"_blank\">np.max()</a> : Returns the maximum along a given axis.\n",
    "\n",
    "<a href=\"https://numpy.org/devdocs/reference/generated/numpy.zeros.html\" target=\"_blank\">np.zeros()</a> : Returns a new array of given shape and type, filled with zeros.\n",
    "\n",
    "<a href=\"http://scikit-learn.org/stable/modules/generated/sklearn.model_selection.train_test_split.html\" target=\"_blank\">train_test_split(X,y)</a> : Split arrays or matrices into random train and test subsets.\n",
    "\n",
    "<a href=\"https://numpy.org/doc/stable/reference/generated/numpy.linspace.html\" target=\"_blank\">np.linspace()</a> : Returns evenly spaced numbers over a specified interval.\n",
    "\n",
    "<a href=\"https://scikit-learn.org/stable/modules/generated/sklearn.neighbors.KNeighborsRegressor.html\" target=\"_blank\">KNeighborsRegressor(n_neighbors=k_value)</a> : Regression-based on k-nearest neighbors.\n",
    "\n",
    "Note: This exercise is **auto-graded and you can try multiple attempts.**"
   ]
  },
  {
   "cell_type": "code",
   "execution_count": 25,
   "metadata": {},
   "outputs": [
    {
     "data": {
      "text/html": [
       "<div>\n",
       "<style scoped>\n",
       "    .dataframe tbody tr th:only-of-type {\n",
       "        vertical-align: middle;\n",
       "    }\n",
       "\n",
       "    .dataframe tbody tr th {\n",
       "        vertical-align: top;\n",
       "    }\n",
       "\n",
       "    .dataframe thead th {\n",
       "        text-align: right;\n",
       "    }\n",
       "</style>\n",
       "<table border=\"1\" class=\"dataframe\">\n",
       "  <thead>\n",
       "    <tr style=\"text-align: right;\">\n",
       "      <th></th>\n",
       "      <th>TV</th>\n",
       "      <th>Radio</th>\n",
       "      <th>Newspaper</th>\n",
       "      <th>Sales</th>\n",
       "    </tr>\n",
       "  </thead>\n",
       "  <tbody>\n",
       "    <tr>\n",
       "      <th>0</th>\n",
       "      <td>230.1</td>\n",
       "      <td>37.8</td>\n",
       "      <td>69.2</td>\n",
       "      <td>22.1</td>\n",
       "    </tr>\n",
       "    <tr>\n",
       "      <th>1</th>\n",
       "      <td>44.5</td>\n",
       "      <td>39.3</td>\n",
       "      <td>45.1</td>\n",
       "      <td>10.4</td>\n",
       "    </tr>\n",
       "    <tr>\n",
       "      <th>2</th>\n",
       "      <td>17.2</td>\n",
       "      <td>45.9</td>\n",
       "      <td>69.3</td>\n",
       "      <td>9.3</td>\n",
       "    </tr>\n",
       "    <tr>\n",
       "      <th>3</th>\n",
       "      <td>151.5</td>\n",
       "      <td>41.3</td>\n",
       "      <td>58.5</td>\n",
       "      <td>18.5</td>\n",
       "    </tr>\n",
       "    <tr>\n",
       "      <th>4</th>\n",
       "      <td>180.8</td>\n",
       "      <td>10.8</td>\n",
       "      <td>58.4</td>\n",
       "      <td>12.9</td>\n",
       "    </tr>\n",
       "    <tr>\n",
       "      <th>5</th>\n",
       "      <td>8.7</td>\n",
       "      <td>48.9</td>\n",
       "      <td>75.0</td>\n",
       "      <td>7.2</td>\n",
       "    </tr>\n",
       "  </tbody>\n",
       "</table>\n",
       "</div>"
      ],
      "text/plain": [
       "      TV  Radio  Newspaper  Sales\n",
       "0  230.1   37.8       69.2   22.1\n",
       "1   44.5   39.3       45.1   10.4\n",
       "2   17.2   45.9       69.3    9.3\n",
       "3  151.5   41.3       58.5   18.5\n",
       "4  180.8   10.8       58.4   12.9\n",
       "5    8.7   48.9       75.0    7.2"
      ]
     },
     "execution_count": 25,
     "metadata": {},
     "output_type": "execute_result"
    }
   ],
   "source": [
    "# take a quick look of the dataset\n",
    "\n",
    "df_adv.head(6)"
   ]
  },
  {
   "cell_type": "markdown",
   "metadata": {},
   "source": [
    "## Part 1: KNN by hand for $k=1$"
   ]
  },
  {
   "cell_type": "code",
   "execution_count": 27,
   "metadata": {},
   "outputs": [
    {
     "ename": "SyntaxError",
     "evalue": "invalid syntax (<ipython-input-1-dd43880ddbb3>, line 4)",
     "output_type": "error",
     "traceback": [
      "\u001b[0;36m  File \u001b[0;32m\"<ipython-input-1-dd43880ddbb3>\"\u001b[0;36m, line \u001b[0;32m4\u001b[0m\n\u001b[0;31m    data_y = df_adv.Sales.iloc[]\u001b[0m\n\u001b[0m                               ^\u001b[0m\n\u001b[0;31mSyntaxError\u001b[0m\u001b[0;31m:\u001b[0m invalid syntax\n"
     ]
    }
   ],
   "source": [
    "# Get a subset of the data rows 6 to 13 and only TV advertisement. \n",
    "# The first row in the dataframe is the first row and not the zeroth row. \n",
    "data_x = df_adv.TV.iloc[5:13]\n",
    "data_y = df_adv.Sales.iloc[5:13]\n",
    "\n",
    "# Sort the data\n",
    "\n",
    "idx = np.argsort(___).values # Get indices ordered from lowest to highest values\n",
    "\n",
    "# Get the actual data in the order from above and turn them into numpy arrays. \n",
    "\n",
    "data_x  = data_x.iloc[___].___\n",
    "data_y  = data_y.iloc[___].___"
   ]
  },
  {
   "cell_type": "code",
   "execution_count": 26,
   "metadata": {},
   "outputs": [],
   "source": [
    "### edTest(test_findnearest) ###\n",
    "# Define a function that finds the index of the nearest neighbor \n",
    "# and returns the value of the nearest neighbor.  Note that this \n",
    "# is just for k = 1 and the distance function is simply the \n",
    "# absolute value.\n",
    "\n",
    "def find_nearest(array,value):\n",
    "    idx = pd.Series(___).___ # hint: use pd.idxmin()\n",
    "    return idx, array[idx]"
   ]
  },
  {
   "cell_type": "code",
   "execution_count": 27,
   "metadata": {},
   "outputs": [],
   "source": [
    "# Create some artificial x-values (might not be in the actual dataset)\n",
    "\n",
    "x = np.linspace(np.min(data_x), np.max(data_x))\n",
    "\n",
    "# Initialize the y-values to zero\n",
    "\n",
    "y = np.zeros( (len(x)))"
   ]
  },
  {
   "cell_type": "code",
   "execution_count": 28,
   "metadata": {},
   "outputs": [],
   "source": [
    "# Apply the KNN algorithm.  Try to predict the y-value at a given x-value\n",
    "# Note:  You may have tried to use the `range' method in your code.  Enumerate \n",
    "# is far better in this case.  \n",
    "\n",
    "# Try to understand why.\n",
    "\n",
    "for i, xi in enumerate(x):\n",
    "    y[i] = data_y[find_nearest( data_x, xi )[0]]"
   ]
  },
  {
   "cell_type": "markdown",
   "metadata": {},
   "source": [
    "### Plotting the data"
   ]
  },
  {
   "cell_type": "code",
   "execution_count": 29,
   "metadata": {},
   "outputs": [
    {
     "data": {
      "image/png": "[encoded data removed]",
      "text/plain": [
       "<Figure size 432x288 with 1 Axes>"
      ]
     },
     "metadata": {
      "needs_background": "light"
     },
     "output_type": "display_data"
    }
   ],
   "source": [
    "# Plot your solution    \n",
    "plt.plot(x,y, '-.')\n",
    "# Plot the original data using black x's.\n",
    "plt.plot(___, ___, 'kx')\n",
    "plt.title('')\n",
    "plt.xlabel('TV budget in $1000')\n",
    "plt.ylabel('Sales in $1000')\n"
   ]
  },
  {
   "cell_type": "markdown",
   "metadata": {},
   "source": [
    "## Part 2: KNN for $k\\ge1$ using sklearn"
   ]
  },
  {
   "cell_type": "code",
   "execution_count": 2,
   "metadata": {},
   "outputs": [],
   "source": [
    "# import train_test_split and KNeighborsRegressor from sklearn\n",
    "\n",
    "from sklearn.model_selection import train_test_split\n",
    "from sklearn.neighbors import KNeighborsRegressor"
   ]
  },
  {
   "cell_type": "code",
   "execution_count": 34,
   "metadata": {},
   "outputs": [],
   "source": [
    "### Reading the complete Advertising dataset\n",
    "\n",
    "# This time you are expected to read the entire dataset\n",
    "\n",
    "data_filename = 'Advertising.csv'\n",
    "\n",
    "# Read advertising.csv file using the pandas library (using pandas.read_csv)\n",
    "\n",
    "df = pd.read_csv(data_filename)\n",
    "\n",
    "# Choose sales as your response variable 'y' and 'TV' as your 'predictor variable'   \n",
    "\n",
    "x = df[[___]]\n",
    "y = df[___]"
   ]
  },
  {
   "cell_type": "code",
   "execution_count": 35,
   "metadata": {},
   "outputs": [],
   "source": [
    "### edTest(test_shape) ###\n",
    "\n",
    "# Split the dataset in training and testing with 60% training set and 40% testing set \n",
    "# with random state = 42\n",
    "\n",
    "x_train, x_test, y_train, y_test = train_test_split(___, ___, train_size=___)"
   ]
  },
  {
   "cell_type": "code",
   "execution_count": 36,
   "metadata": {},
   "outputs": [],
   "source": [
    "### edTest(test_nums) ###\n",
    "# Choosing \n",
    "k_value_min = ___\n",
    "k_value_max = ___\n",
    "\n",
    "# creating list of integer k values betwwen k_value_min and k_value_max using linspace\n",
    "\n",
    "k_list = np.linspace(k_value_min, k_value_max, 70)"
   ]
  },
  {
   "cell_type": "code",
   "execution_count": 28,
   "metadata": {},
   "outputs": [
    {
     "data": {
      "image/png": "[encoded data removed]",
      "text/plain": [
       "<Figure size 720x432 with 1 Axes>"
      ]
     },
     "metadata": {
      "needs_background": "light"
     },
     "output_type": "display_data"
    },
    {
     "ename": "NameError",
     "evalue": "name 'k_list' is not defined",
     "output_type": "error",
     "traceback": [
      "\u001b[0;31m---------------------------------------------------------------------------\u001b[0m",
      "\u001b[0;31mNameError\u001b[0m                                 Traceback (most recent call last)",
      "\u001b[0;32m<ipython-input-1-d0ffacc8a748>\u001b[0m in \u001b[0;36m<module>\u001b[0;34m\u001b[0m\n\u001b[1;32m      2\u001b[0m \u001b[0mj\u001b[0m\u001b[0;34m=\u001b[0m\u001b[0;36m0\u001b[0m\u001b[0;34m\u001b[0m\u001b[0;34m\u001b[0m\u001b[0m\n\u001b[1;32m      3\u001b[0m \u001b[0;31m# Looping over k values\u001b[0m\u001b[0;34m\u001b[0m\u001b[0;34m\u001b[0m\u001b[0;34m\u001b[0m\u001b[0m\n\u001b[0;32m----> 4\u001b[0;31m \u001b[0;32mfor\u001b[0m \u001b[0mk_value\u001b[0m \u001b[0;32min\u001b[0m \u001b[0mk_list\u001b[0m\u001b[0;34m:\u001b[0m\u001b[0;34m\u001b[0m\u001b[0;34m\u001b[0m\u001b[0m\n\u001b[0m\u001b[1;32m      5\u001b[0m \u001b[0;34m\u001b[0m\u001b[0m\n\u001b[1;32m      6\u001b[0m     \u001b[0;31m# creating KNN Regression model\u001b[0m\u001b[0;34m\u001b[0m\u001b[0;34m\u001b[0m\u001b[0;34m\u001b[0m\u001b[0m\n",
      "\u001b[0;31mNameError\u001b[0m: name 'k_list' is not defined"
     ]
    }
   ],
   "source": [
    "fig, ax = plt.subplots(figsize=(10,6))\n",
    "j=0\n",
    "# Looping over k values\n",
    "for k_value in k_list:   \n",
    "    \n",
    "    # creating KNN Regression model \n",
    "    model = KNeighborsRegressor(n_neighbors=int(___))\n",
    "    \n",
    "    # fitting model \n",
    "    model.fit(___,___)\n",
    "    \n",
    "    # test predictions  \n",
    "    y_pred = model.predict(___)\n",
    "    \n",
    "    ## Plotting\n",
    "    colors = ['grey','r','b']\n",
    "    if k_value in [1,10,70]:\n",
    "        xvals = np.linspace(x.min(),x.max(),100)\n",
    "        ypreds = model.predict(xvals)\n",
    "        ax.plot(xvals, ypreds,'-',label = f'k = {int(k_value)}',linewidth=j+2,color = colors[j])\n",
    "        j+=1\n",
    "        \n",
    "ax.legend(loc='lower right',fontsize=20)\n",
    "ax.plot(x_train, y_train,'x',label='test',color='k')\n",
    "ax.set_xlabel('TV budget in $1000',fontsize=20)\n",
    "ax.set_ylabel('Sales in $1000',fontsize=20)\n",
    "plt.tight_layout()"
   ]
  },
  {
   "cell_type": "markdown",
   "metadata": {},
   "source": [
    "In the plotting code above, re-run `ax.plot(x_train, y_train,'x',label='test',color='k')` but this time with `x_test` and `y_test`. \n",
    "\n",
    "According to you works , which k value is the best. Why?"
   ]
  },
  {
   "cell_type": "markdown",
   "metadata": {},
   "source": [
    "*Your answer here*"
   ]
  },
  {
   "cell_type": "code",
   "execution_count": null,
   "metadata": {},
   "outputs": [],
   "source": []
  }
 ],
 "metadata": {
  "kernelspec": {
   "display_name": "Python 3",
   "language": "python",
   "name": "python3"
  },
  "language_info": {
   "codemirror_mode": {
    "name": "ipython",
    "version": 3
   },
   "file_extension": ".py",
   "mimetype": "text/x-python",
   "name": "python",
   "nbconvert_exporter": "python",
   "pygments_lexer": "ipython3",
   "version": "3.8.5"
  }
 },
 "nbformat": 4,
 "nbformat_minor": 4
}
