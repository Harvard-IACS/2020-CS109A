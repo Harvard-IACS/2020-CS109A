{
 "cells": [
  {
   "cell_type": "markdown",
   "metadata": {},
   "source": [
    "# Title\n",
    "\n",
    "**Exercise: 1 - Debugging**\n",
    "\n",
    "# Description\n",
    "\n",
    "For this exercise, we will be using the <a href=\"https://scikit-learn.org/stable/datasets/index.html#boston-dataset\" target=\"_blank\">Boston house prices dataset</a> Boston house prices dataset that comes with `sklearn`. Specifically, we only care about 1 feature (aka predictor), the `CRIM` (crime) column, which is the very 1st column in the dataset and represents the crime per capital in each town. More info about the dataset and its columns are available <a href=\"https://scikit-learn.org/stable/datasets/index.html#boston-dataset\" target=\"_blank\">here</a>.\n",
    "\n",
    "First, run every cell. Try to find the errors and fix them. To be clear, bugs may exist in lines of code that are commented or not commented. Bugs may require you to add new lines of code or delete some lines of code. Also, our comments represent what we (the hypothetical student) wish for our code to do, so ensure that the code agrees with our comments. In other words, the bugs aren't in the comments, but are in the code.\n",
    "\n",
    "**NOTE:** The funky comment lines like ### `edTest(test_a)` ### allow us to unit test and evaluate your code. Ignore those lines; do not edit them. Upon 'marking' your code, if you see a particular unit test doesn't pass, you can pinpoint the erroneous cell by its funky name (e.g., `test_a`)"
   ]
  },
  {
   "cell_type": "markdown",
   "metadata": {},
   "source": [
    "# <img style=\"float: left; padding-right: 10px; width: 45px\" src=\"https://raw.githubusercontent.com/Harvard-IACS/2018-CS109A/master/content/styles/iacs.png\"> CS109A Introduction to Data Science \n",
    "\n",
    "## Lecture 13, Exercise 1: Debugging\n",
    "\n",
    "\n",
    "**Harvard University**<br/>\n",
    "**Fall 2020**<br/>\n",
    "**Instructors**: Pavlos Protopapas, Kevin Rader, and Chris Tanner\n",
    "\n",
    "---"
   ]
  },
  {
   "cell_type": "code",
   "execution_count": null,
   "metadata": {},
   "outputs": [],
   "source": [
    "###########################################\n",
    "##   DO NOT EDIT ANYTHING IN THIS CELL   ##\n",
    "###########################################\n",
    "import matplotlib.pyplot as plt\n",
    "import math\n",
    "import numpy as np\n",
    "from sklearn.datasets import load_boston\n",
    "from sklearn.linear_model import LinearRegression\n",
    "from sklearn.metrics import mean_squared_error\n",
    "from sklearn.model_selection import train_test_split\n",
    "from sklearn.preprocessing import PolynomialFeatures\n",
    "\n",
    "# ensures consistency between everyone's runs\n",
    "np.random.seed(100)\n",
    "###########################################\n",
    "##   DO NOT EDIT ANYTHING IN THIS CELL   ##\n",
    "###########################################"
   ]
  },
  {
   "cell_type": "markdown",
   "metadata": {},
   "source": [
    "#### **REMINDER**: After running every cell, be sure to auto-grade your work by clicking 'Mark' in the lower-right corner. Otherwise, no credit will be given."
   ]
  },
  {
   "cell_type": "code",
   "execution_count": null,
   "metadata": {},
   "outputs": [],
   "source": [
    "# function to plot data with model predictions\n",
    "def plot_model(x, y_true, y_pred):\n",
    "    plt.figure()\n",
    "    ax = plt.gca()\n",
    "    ax.scatter(x, y_true)\n",
    "\n",
    "    # sort both x and y_pred for plot\n",
    "    y_pred_sorted = [y for _,y in sorted(zip(x, y_pred))]\n",
    "    x_sorted = sorted(x)\n",
    "    ax.plot(x_sorted, y_pred_sorted, \"C1\", linewidth=4)\n",
    "\n",
    "    # label the x-axis \"Crime\" and the y-axis \"Median Value\"\n",
    "    ax.xlabel(\"Crime\")\n",
    "    ax.xlabel(\"Median Value\")\n",
    "    plt.show()\n",
    "    \n",
    "    return ax ### DO NOT EDIT THIS LINE"
   ]
  },
  {
   "cell_type": "code",
   "execution_count": null,
   "metadata": {},
   "outputs": [],
   "source": [
    "### edTest(test_a) ###\n",
    "x, y = load_boston(return_X_y=True)\n",
    "\n",
    "# let's use just the 1st column (crime statistics)\n",
    "x = x[:,0]\n",
    "\n",
    "# create a random train/test split with the test size being 0.2 and a random_state of 2\n",
    "x_train, x_test = train_test_split(x, test_size=0.2, random_state=2)\n",
    "y_train, y_test = train_test_split(y, test_size=0.2, random_state=2)"
   ]
  },
  {
   "cell_type": "code",
   "execution_count": null,
   "metadata": {},
   "outputs": [],
   "source": [
    "### edTest(test_b) ###\n",
    "\n",
    "# create polynomial (cubic) features \n",
    "poly = PolynomialFeatures(3)\n",
    "x_poly_train = poly.fit_transform(x_train)\n",
    "x_poly_test = poly.transform(x_test)\n",
    "\n",
    "# fit the model\n",
    "lr = LinearRegression()\n",
    "lr.fit(x_poly_train, y_train)"
   ]
  },
  {
   "cell_type": "code",
   "execution_count": null,
   "metadata": {},
   "outputs": [],
   "source": [
    "### edTest(test_c) ###\n",
    "\n",
    "# make predictions\n",
    "y_pred = lr.predict(x_poly_train)\n",
    "\n",
    "# plot the model\n",
    "# NOTE: WHATEVER CODE YOU CHOOSE TO WRITE, MAKE SURE YOU ASSIGN\n",
    "# `ax` to equal the return value of plot_model()\n",
    "# otherwise, our unit test will be unable to auto-grade your work\n",
    "ax = plot_model(x_poly_train, y_train, y_pred)"
   ]
  },
  {
   "cell_type": "markdown",
   "metadata": {},
   "source": [
    "NOTE: The above cell checks to see if your predictions are good, but we cannot auto-check to see if your plot values are correct. Your plot's values should look as follows:\n",
    "\n",
    "<img src=\"https://raw.githubusercontent.com/Harvard-IACS/2020-CS109A/master/content/lectures/lecture13/img/Ex2_plot.png\" width=350>"
   ]
  },
  {
   "cell_type": "code",
   "execution_count": null,
   "metadata": {},
   "outputs": [],
   "source": [
    "# inputs: a polynomial linear regression model\n",
    "# purpose: prints the intercept and coefficients of model\n",
    "# returns: the MSE of the polynomial model\n",
    "def get_metrics(linreg):\n",
    "\n",
    "    # view coefficients\n",
    "    print(\"Intersects:\", lr.intercept)\n",
    "    print(\"Coefficients:\", lr.coef)\n",
    "    \n",
    "    # calculate test MSE\n",
    "    mse = mean_squared_error(y_test, y_pred)\n",
    "\n",
    "    return mse ## DO NOT EDIT THIS LINE"
   ]
  },
  {
   "cell_type": "code",
   "execution_count": null,
   "metadata": {},
   "outputs": [],
   "source": [
    "### edTest(test_d) ###\n",
    "mse = get_metrics(lr) ## DO NOT EDIT THIS LINE"
   ]
  }
 ],
 "metadata": {
  "kernelspec": {
   "display_name": "Python 3",
   "language": "python",
   "name": "python3"
  },
  "language_info": {
   "codemirror_mode": {
    "name": "ipython",
    "version": 3
   },
   "file_extension": ".py",
   "mimetype": "text/x-python",
   "name": "python",
   "nbconvert_exporter": "python",
   "pygments_lexer": "ipython3",
   "version": "3.8.5"
  }
 },
 "nbformat": 4,
 "nbformat_minor": 4
}
