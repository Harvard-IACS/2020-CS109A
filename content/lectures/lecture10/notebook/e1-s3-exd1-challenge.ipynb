{
    "metadata": {
        "kernelspec": {
            "name": "python3",
            "display_name": "Python 3",
            "language": "python"
        }
    },
    "nbformat": 4,
    "nbformat_minor": 4,
    "cells": [
        {
            "cell_type": "code",
            "execution_count": 27,
            "metadata": {},
            "outputs": [],
            "source": [
                "# Import libraries\n",
                "%matplotlib inline\n",
                "import pandas as pd\n",
                "import numpy as np\n",
                "import matplotlib.pyplot as plt\n",
                "from sklearn import preprocessing\n",
                "from sklearn.linear_model import Lasso\n",
                "from sklearn.linear_model import Ridge\n",
                "from sklearn.metrics import mean_squared_error\n",
                "from sklearn.linear_model import LinearRegression\n",
                "from sklearn.model_selection import train_test_split\n",
                "from sklearn.preprocessing import PolynomialFeatures\n",
                "from scipy import stats"
            ]
        },
        {
            "cell_type": "code",
            "execution_count": 20,
            "metadata": {},
            "outputs": [],
            "source": [
                "# Read the file \"Advertising.csv\" as a dataframe\n",
                "\n",
                "df = pd.read_csv(\"Advertising.csv\")\n",
                "df.head()"
            ]
        },
        {
            "cell_type": "code",
            "execution_count": 21,
            "metadata": {},
            "outputs": [],
            "source": [
                "# Select a subdataframe of predictors\n",
                "\n",
                "X = df.drop(['Sales'],axis=1)\n",
                "\n",
                "# Select the response variable\n",
                "\n",
                "y = df['Sales']"
            ]
        },
        {
            "cell_type": "code",
            "execution_count": 22,
            "metadata": {},
            "outputs": [],
            "source": [
                "#Fit a linear regression model, make sure to set normalize=True\n",
                "\n",
                "lreg = LinearRegression(normalize=True)\n",
                "\n",
                "lreg.fit(X, y)"
            ]
        },
        {
            "cell_type": "code",
            "execution_count": 23,
            "metadata": {},
            "outputs": [],
            "source": [
                "coef_dict = dict(zip(df.columns[:-1], np.transpose(lreg.coef_)))\n",
                "predictors,coefficients = list(zip(*sorted(coef_dict.items(),key=lambda x: x[1])))"
            ]
        },
        {
            "cell_type": "code",
            "execution_count": 24,
            "metadata": {},
            "outputs": [],
            "source": [
                "# Use the helper code below to visualise your coefficients\n",
                "\n",
                "fig, ax = plt.subplots()\n",
                "ax.barh(predictors,coefficients, align='center',color=\"#336600\",alpha=0.7)\n",
                "ax.grid(linewidth=0.2)\n",
                "ax.set_xlabel(\"Coefficient\")\n",
                "ax.set_ylabel(\"Predictors\")\n",
                "plt.show()"
            ]
        },
        {
            "cell_type": "code",
            "execution_count": 25,
            "metadata": {},
            "outputs": [],
            "source": [
                "# Helper function\n",
                "# t statistic calculator\n",
                "def get_t(arr):\n",
                "    means = np.abs(arr.mean(axis=0))\n",
                "    stds = arr.std(axis=0)\n",
                "    return np.divide(means,stds)#,where=stds!=0)"
            ]
        },
        {
            "cell_type": "code",
            "execution_count": 26,
            "metadata": {},
            "outputs": [],
            "source": [
                "# We now bootstrap for numboot times to find the distribution for the coefficients\n",
                "coef_dist = []\n",
                "numboot = 1000\n",
                "for i in range(___):\n",
                "    # This is another way of making a bootstrap using df.sample method. \n",
                "    # Take frac=1 and replace=True to get a bootstrap.\n",
                "    df_new = df.sample(frac=1,replace=True)\n",
                "    \n",
                "    X = df_new.drop(___,axis=1)\n",
                "    y = df_new[___]\n",
                "    \n",
                "    # Don't forget to normalize\n",
                "    lreg = LinearRegression(normalize=___)\n",
                "    lreg.fit(___, ___)\n",
                "    coef_dist.append(lreg.coef_)\n",
                "\n",
                "coef_dist = np.array(coef_dist)"
            ]
        },
        {
            "cell_type": "code",
            "execution_count": 339,
            "metadata": {},
            "outputs": [],
            "source": [
                "# We use the helper function from above to find the T-test values\n",
                "\n",
                "tt = get_t(___)\n",
                "n = df.shape[0]"
            ]
        },
        {
            "cell_type": "code",
            "execution_count": 340,
            "metadata": {},
            "outputs": [],
            "source": [
                "tt_dict = dict(zip(df.columns[:-1], tt))\n",
                "predictors, tvalues = list(zip(*sorted(tt_dict.items(),key=lambda x:x[1])))"
            ]
        },
        {
            "cell_type": "code",
            "execution_count": 0,
            "metadata": {},
            "outputs": [],
            "source": [
                "# Use the helper code below to visualise your coefficients\n",
                "fig, ax = plt.subplots()\n",
                "ax.barh(predictors,tvalues, align='center',color=\"#336600\",alpha=0.7)\n",
                "ax.grid(linewidth=0.2)\n",
                "ax.set_xlabel(\"T-test values\")\n",
                "ax.set_ylabel(\"Predictors\")\n",
                "plt.show()"
            ]
        },
        {
            "cell_type": "code",
            "execution_count": 342,
            "metadata": {},
            "outputs": [],
            "source": [
                "### edTest(test_conf) ###\n",
                "# We now go from t-test values to p values using scipy.stats T-distribution function\n",
                "\n",
                "pval = stats.t.sf(tt, n-1)*2\n",
                "\n",
                "# here we use sf i.e 'Survival function' which is 1 - CDF of the t distribution.\n",
                "# We also multiply by two because its a two tailed test.\n",
                "# Please refer to lecture notes for more information\n",
                "\n",
                "# Since p values are in reversed order, we find the 'confidence' which is 1-p\n",
                "\n",
                "conf = ___"
            ]
        },
        {
            "cell_type": "code",
            "execution_count": 343,
            "metadata": {},
            "outputs": [],
            "source": [
                "conf_dict = dict(zip(df.columns[:-1], conf))\n",
                "predictors, confs = list(zip(*sorted(conf_dict.items(),key=lambda x:x[1])))"
            ]
        },
        {
            "cell_type": "code",
            "execution_count": 0,
            "metadata": {},
            "outputs": [],
            "source": [
                "# Use the helper code below to visualise your coefficients\n",
                "fig, ax = plt.subplots()\n",
                "\n",
                "ax.barh(predictors,confs, align='center',color=\"#336600\",alpha=0.7)\n",
                "ax.grid(linewidth=0.2)\n",
                "ax.axvline(x=0.95,linewidth=3,linestyle='--', color = 'black',alpha=0.8,label = '0.95')\n",
                "ax.set_xlabel(\"$1-p$ value\")\n",
                "ax.set_ylabel(\"Predictors\")\n",
                "ax.legend()\n",
                "plt.show()"
            ]
        },
        {
            "attachments": {},
            "cell_type": "markdown",
            "metadata": {},
            "source": [
                "## Relevance of predictors\n",
                "\n",
                "You may have observed above that `TV` and `radio` are significant but `newspaper` advertising is not.\n",
                "Re-run the entire exercise but drop `radio` from the analysis by using the following snippet.\n",
                "\n",
                "```\n",
                "df = df.drop(['radio'],axis=1)\n",
                "```\n",
                "\n",
                "Is `newspaper` still irrelevant by your analysis? Why? or why not?"
            ]
        },
        {
            "cell_type": "code",
            "execution_count": 0,
            "metadata": {},
            "outputs": [],
            "source": [
                ""
            ]
        }
    ]
}
