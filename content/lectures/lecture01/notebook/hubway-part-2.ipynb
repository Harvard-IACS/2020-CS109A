{
    "metadata": {
        "kernelspec": {
            "name": "python3",
            "display_name": "Python 3",
            "language": "python"
        }
    },
    "nbformat": 4,
    "nbformat_minor": 4,
    "cells": [
        {
            "attachments": {},
            "cell_type": "markdown",
            "metadata": {},
            "source": [
                "# \u003cimg style=\"float: left; padding-right: 10px; width: 45px\" src=\"https://raw.githubusercontent.com/Harvard-IACS/2018-CS109A/master/content/styles/iacs.png\"\u003e CS109A Introduction to Data Science \n",
                "\n",
                "## Lecture 1: Example part 2\n",
                "\n",
                "**Harvard University**\u003cbr/\u003e\n",
                "**Fall 2020**\u003cbr/\u003e\n",
                "**Instructors**: Pavlos Protopapas, Kevin Rader, and Chris Tanner\n",
                ""
            ]
        },
        {
            "cell_type": "code",
            "execution_count": 1,
            "metadata": {},
            "outputs": [],
            "source": [
                "import sys\n",
                "import datetime\n",
                "import numpy as np\n",
                "import scipy as sp\n",
                "import pandas as pd\n",
                "import seaborn as sns\n",
                "import matplotlib.pyplot as plt\n",
                "\n",
                "from math import radians, cos, sin, asin, sqrt\n",
                "from sklearn.linear_model import LinearRegression\n",
                "\n",
                "sns.set(style=\"ticks\")\n",
                "%matplotlib inline"
            ]
        },
        {
            "cell_type": "code",
            "execution_count": 2,
            "metadata": {},
            "outputs": [],
            "source": [
                "import os\n",
                "\n",
                "DATA_HOME = os.getcwd()\n",
                "if 'ED_USER_NAME' in os.environ:\n",
                "    DATA_HOME = '/course/data'\n",
                "\n",
                "HUBWAY_STATIONS_FILE = os.path.join(DATA_HOME, 'hubway_stations.csv')\n",
                "HUBWAY_TRIPS_FILE = os.path.join(DATA_HOME, 'hubway_trips_sample.csv')"
            ]
        },
        {
            "cell_type": "code",
            "execution_count": 3,
            "metadata": {},
            "outputs": [
                {
                    "data": {
                        "text/html": "\u003cdiv\u003e\n\u003cstyle scoped\u003e\n    .dataframe tbody tr th:only-of-type {\n        vertical-align: middle;\n    }\n\n    .dataframe tbody tr th {\n        vertical-align: top;\n    }\n\n    .dataframe thead th {\n        text-align: right;\n    }\n\u003c/style\u003e\n\u003ctable border=\"1\" class=\"dataframe\"\u003e\n  \u003cthead\u003e\n    \u003ctr style=\"text-align: right;\"\u003e\n      \u003cth\u003e\u003c/th\u003e\n      \u003cth\u003eseq_id\u003c/th\u003e\n      \u003cth\u003ehubway_id\u003c/th\u003e\n      \u003cth\u003estatus\u003c/th\u003e\n      \u003cth\u003eduration\u003c/th\u003e\n      \u003cth\u003estart_date\u003c/th\u003e\n      \u003cth\u003estrt_statn\u003c/th\u003e\n      \u003cth\u003eend_date\u003c/th\u003e\n      \u003cth\u003eend_statn\u003c/th\u003e\n      \u003cth\u003ebike_nr\u003c/th\u003e\n      \u003cth\u003esubsc_type\u003c/th\u003e\n      \u003cth\u003ezip_code\u003c/th\u003e\n      \u003cth\u003ebirth_date\u003c/th\u003e\n      \u003cth\u003egender\u003c/th\u003e\n    \u003c/tr\u003e\n  \u003c/thead\u003e\n  \u003ctbody\u003e\n    \u003ctr\u003e\n      \u003cth\u003e336967\u003c/th\u003e\n      \u003ctd\u003e336968\u003c/td\u003e\n      \u003ctd\u003e382289\u003c/td\u003e\n      \u003ctd\u003eClosed\u003c/td\u003e\n      \u003ctd\u003e1133\u003c/td\u003e\n      \u003ctd\u003e7/12/2012 16:59:00\u003c/td\u003e\n      \u003ctd\u003e64.0\u003c/td\u003e\n      \u003ctd\u003e7/12/2012 17:18:00\u003c/td\u003e\n      \u003ctd\u003e40.0\u003c/td\u003e\n      \u003ctd\u003eB00177\u003c/td\u003e\n      \u003ctd\u003eRegistered\u003c/td\u003e\n      \u003ctd\u003e'02339\u003c/td\u003e\n      \u003ctd\u003e1959.0\u003c/td\u003e\n      \u003ctd\u003eMale\u003c/td\u003e\n    \u003c/tr\u003e\n    \u003ctr\u003e\n      \u003cth\u003e1228655\u003c/th\u003e\n      \u003ctd\u003e1228656\u003c/td\u003e\n      \u003ctd\u003e1375284\u003c/td\u003e\n      \u003ctd\u003eClosed\u003c/td\u003e\n      \u003ctd\u003e720\u003c/td\u003e\n      \u003ctd\u003e9/1/2013 18:31:00\u003c/td\u003e\n      \u003ctd\u003e36.0\u003c/td\u003e\n      \u003ctd\u003e9/1/2013 18:43:00\u003c/td\u003e\n      \u003ctd\u003e54.0\u003c/td\u003e\n      \u003ctd\u003eB00130\u003c/td\u003e\n      \u003ctd\u003eCasual\u003c/td\u003e\n      \u003ctd\u003eNaN\u003c/td\u003e\n      \u003ctd\u003eNaN\u003c/td\u003e\n      \u003ctd\u003eNaN\u003c/td\u003e\n    \u003c/tr\u003e\n    \u003ctr\u003e\n      \u003cth\u003e1018544\u003c/th\u003e\n      \u003ctd\u003e1018545\u003c/td\u003e\n      \u003ctd\u003e1149209\u003c/td\u003e\n      \u003ctd\u003eClosed\u003c/td\u003e\n      \u003ctd\u003e780\u003c/td\u003e\n      \u003ctd\u003e7/17/2013 19:44:00\u003c/td\u003e\n      \u003ctd\u003e81.0\u003c/td\u003e\n      \u003ctd\u003e7/17/2013 19:57:00\u003c/td\u003e\n      \u003ctd\u003e53.0\u003c/td\u003e\n      \u003ctd\u003eT01324\u003c/td\u003e\n      \u003ctd\u003eRegistered\u003c/td\u003e\n      \u003ctd\u003e'02115\u003c/td\u003e\n      \u003ctd\u003eNaN\u003c/td\u003e\n      \u003ctd\u003eMale\u003c/td\u003e\n    \u003c/tr\u003e\n    \u003ctr\u003e\n      \u003cth\u003e139915\u003c/th\u003e\n      \u003ctd\u003e139916\u003c/td\u003e\n      \u003ctd\u003e157009\u003c/td\u003e\n      \u003ctd\u003eClosed\u003c/td\u003e\n      \u003ctd\u003e926\u003c/td\u003e\n      \u003ctd\u003e11/29/2011 14:17:00\u003c/td\u003e\n      \u003ctd\u003e57.0\u003c/td\u003e\n      \u003ctd\u003e11/29/2011 14:32:00\u003c/td\u003e\n      \u003ctd\u003e22.0\u003c/td\u003e\n      \u003ctd\u003eB00499\u003c/td\u003e\n      \u003ctd\u003eCasual\u003c/td\u003e\n      \u003ctd\u003eNaN\u003c/td\u003e\n      \u003ctd\u003eNaN\u003c/td\u003e\n      \u003ctd\u003eNaN\u003c/td\u003e\n    \u003c/tr\u003e\n    \u003ctr\u003e\n      \u003cth\u003e1263342\u003c/th\u003e\n      \u003ctd\u003e1263343\u003c/td\u003e\n      \u003ctd\u003e1412424\u003c/td\u003e\n      \u003ctd\u003eClosed\u003c/td\u003e\n      \u003ctd\u003e900\u003c/td\u003e\n      \u003ctd\u003e9/9/2013 14:00:00\u003c/td\u003e\n      \u003ctd\u003e42.0\u003c/td\u003e\n      \u003ctd\u003e9/9/2013 14:15:00\u003c/td\u003e\n      \u003ctd\u003e55.0\u003c/td\u003e\n      \u003ctd\u003eB00076\u003c/td\u003e\n      \u003ctd\u003eCasual\u003c/td\u003e\n      \u003ctd\u003eNaN\u003c/td\u003e\n      \u003ctd\u003eNaN\u003c/td\u003e\n      \u003ctd\u003eNaN\u003c/td\u003e\n    \u003c/tr\u003e\n  \u003c/tbody\u003e\n\u003c/table\u003e\n\u003c/div\u003e",
                        "text/plain": "          seq_id  hubway_id  status  duration           start_date  \\\n336967    336968     382289  Closed      1133   7/12/2012 16:59:00   \n1228655  1228656    1375284  Closed       720    9/1/2013 18:31:00   \n1018544  1018545    1149209  Closed       780   7/17/2013 19:44:00   \n139915    139916     157009  Closed       926  11/29/2011 14:17:00   \n1263342  1263343    1412424  Closed       900    9/9/2013 14:00:00   \n\n         strt_statn             end_date  end_statn bike_nr  subsc_type  \\\n336967         64.0   7/12/2012 17:18:00       40.0  B00177  Registered   \n1228655        36.0    9/1/2013 18:43:00       54.0  B00130      Casual   \n1018544        81.0   7/17/2013 19:57:00       53.0  T01324  Registered   \n139915         57.0  11/29/2011 14:32:00       22.0  B00499      Casual   \n1263342        42.0    9/9/2013 14:15:00       55.0  B00076      Casual   \n\n        zip_code  birth_date gender  \n336967    '02339      1959.0   Male  \n1228655      NaN         NaN    NaN  \n1018544   '02115         NaN   Male  \n139915       NaN         NaN    NaN  \n1263342      NaN         NaN    NaN  "
                    },
                    "execution_count": 3,
                    "metadata": {},
                    "output_type": "execute_result"
                }
            ],
            "source": [
                "hubway_data = pd.read_csv(HUBWAY_TRIPS_FILE, index_col=0, low_memory=False)\n",
                "hubway_data.head()"
            ]
        },
        {
            "attachments": {},
            "cell_type": "markdown",
            "metadata": {},
            "source": [
                "# Who? Who's using the bikes?\n",
                "Refine into specific hypotheses:\n",
                "\n",
                "- More men or more women?\n",
                "- Older or younger people?\n",
                "- Subscribers or one time users?\n",
                ""
            ]
        },
        {
            "cell_type": "code",
            "execution_count": 4,
            "metadata": {},
            "outputs": [],
            "source": [
                "# Let's do some cleaning first by removing empty cells or replacing them with NaN.\n",
                "# Pandas can do this. \n",
                "# we will learn a lot about pandas \n",
                "hubway_data['gender'] = hubway_data['gender'].replace(np.nan, 'NaN', regex=True).values\n",
                "\n",
                "\n",
                "# we drop \n",
                "hubway_data['birth_date'].dropna()\n",
                "age_col = 2020.0 - hubway_data['birth_date'].values\n",
                ""
            ]
        },
        {
            "cell_type": "code",
            "execution_count": 5,
            "metadata": {},
            "outputs": [
                {
                    "data": {
                        "image/png": "[encoded data removed]",
                        "text/plain": "\u003cFigure size 1080x432 with 2 Axes\u003e"
                    },
                    "metadata": {
                        "needs_background": "light"
                    },
                    "output_type": "display_data"
                }
            ],
            "source": [
                "# matplotlib can create a plot with two sub-plots. \n",
                "# we will learn a lot about matplotlib \n",
                "fig, ax = plt.subplots(1, 2, figsize=(15, 6))\n",
                "\n",
                "\n",
                "# find all the unique value of the column gender \n",
                "# numpy can do this\n",
                "# we will learn a lot about numpy \n",
                "gender_counts = np.unique(hubway_data['gender'].values, return_counts=True)\n",
                "\n",
                "ax[0].bar(range(3), gender_counts[1], align='center', color=['black', 'green', 'teal'], alpha=0.5)\n",
                "ax[0].set_xticks([0, 1, 2])\n",
                "ax[0].set_xticklabels(['none', 'male', 'female'])\n",
                "ax[0].set_title('Users by Gender')\n",
                "\n",
                "\n",
                "\n",
                "age_col = 2020.0 - hubway_data['birth_date'].dropna().values\n",
                "age_counts = np.unique(age_col, return_counts=True)\n",
                "ax[1].bar(age_counts[0], age_counts[1], align='center', width=0.4, alpha=0.6)\n",
                "ax[1].axvline(x=np.mean(age_col), color='red', label='average age')\n",
                "ax[1].axvline(x=np.percentile(age_col, 25), color='red', linestyle='--', label='lower quartile')\n",
                "ax[1].axvline(x=np.percentile(age_col, 75), color='red', linestyle='--', label='upper quartile')\n",
                "ax[1].set_xlim([1, 90])\n",
                "ax[1].set_xlabel('Age')\n",
                "ax[1].set_ylabel('Number of Checkouts')\n",
                "ax[1].legend()\n",
                "ax[1].set_title('Users by Age')\n",
                "\n",
                "plt.tight_layout()\n",
                "plt.savefig('who.png', dpi=300)"
            ]
        },
        {
            "attachments": {},
            "cell_type": "markdown",
            "metadata": {},
            "source": [
                "### Challenge\n",
                "There is actually a mistake in the code above. Can you find it? "
            ]
        },
        {
            "attachments": {},
            "cell_type": "markdown",
            "metadata": {},
            "source": [
                "Soon you will be skillful enough to answers many \"who\" questions"
            ]
        },
        {
            "attachments": {},
            "cell_type": "markdown",
            "metadata": {},
            "source": [
                "# Where? Where are bikes being checked out?\n",
                "Refine into specific hypotheses:\n",
                "1. More in Boston than Cambridge?\n",
                "2. More in commercial or residential?\n",
                "3. More around tourist attractions?\n",
                "\n",
                ""
            ]
        },
        {
            "cell_type": "code",
            "execution_count": 6,
            "metadata": {},
            "outputs": [
                {
                    "data": {
                        "text/html": "\u003cdiv\u003e\n\u003cstyle scoped\u003e\n    .dataframe tbody tr th:only-of-type {\n        vertical-align: middle;\n    }\n\n    .dataframe tbody tr th {\n        vertical-align: top;\n    }\n\n    .dataframe thead th {\n        text-align: right;\n    }\n\u003c/style\u003e\n\u003ctable border=\"1\" class=\"dataframe\"\u003e\n  \u003cthead\u003e\n    \u003ctr style=\"text-align: right;\"\u003e\n      \u003cth\u003e\u003c/th\u003e\n      \u003cth\u003eid\u003c/th\u003e\n      \u003cth\u003elat\u003c/th\u003e\n      \u003cth\u003elng\u003c/th\u003e\n    \u003c/tr\u003e\n  \u003c/thead\u003e\n  \u003ctbody\u003e\n    \u003ctr\u003e\n      \u003cth\u003e0\u003c/th\u003e\n      \u003ctd\u003e3\u003c/td\u003e\n      \u003ctd\u003e42.340021\u003c/td\u003e\n      \u003ctd\u003e-71.100812\u003c/td\u003e\n    \u003c/tr\u003e\n    \u003ctr\u003e\n      \u003cth\u003e1\u003c/th\u003e\n      \u003ctd\u003e4\u003c/td\u003e\n      \u003ctd\u003e42.345392\u003c/td\u003e\n      \u003ctd\u003e-71.069616\u003c/td\u003e\n    \u003c/tr\u003e\n    \u003ctr\u003e\n      \u003cth\u003e2\u003c/th\u003e\n      \u003ctd\u003e5\u003c/td\u003e\n      \u003ctd\u003e42.341814\u003c/td\u003e\n      \u003ctd\u003e-71.090179\u003c/td\u003e\n    \u003c/tr\u003e\n    \u003ctr\u003e\n      \u003cth\u003e3\u003c/th\u003e\n      \u003ctd\u003e6\u003c/td\u003e\n      \u003ctd\u003e42.361285\u003c/td\u003e\n      \u003ctd\u003e-71.065140\u003c/td\u003e\n    \u003c/tr\u003e\n    \u003ctr\u003e\n      \u003cth\u003e4\u003c/th\u003e\n      \u003ctd\u003e7\u003c/td\u003e\n      \u003ctd\u003e42.353412\u003c/td\u003e\n      \u003ctd\u003e-71.044624\u003c/td\u003e\n    \u003c/tr\u003e\n  \u003c/tbody\u003e\n\u003c/table\u003e\n\u003c/div\u003e",
                        "text/plain": "   id        lat        lng\n0   3  42.340021 -71.100812\n1   4  42.345392 -71.069616\n2   5  42.341814 -71.090179\n3   6  42.361285 -71.065140\n4   7  42.353412 -71.044624"
                    },
                    "execution_count": 6,
                    "metadata": {},
                    "output_type": "execute_result"
                }
            ],
            "source": [
                "# using pandas again to read the station locations \n",
                "station_data = pd.read_csv(HUBWAY_STATIONS_FILE, low_memory=False)[['id', 'lat', 'lng']]\n",
                "station_data.head()"
            ]
        },
        {
            "cell_type": "code",
            "execution_count": 7,
            "metadata": {},
            "outputs": [
                {
                    "data": {
                        "text/html": "\u003cdiv\u003e\n\u003cstyle scoped\u003e\n    .dataframe tbody tr th:only-of-type {\n        vertical-align: middle;\n    }\n\n    .dataframe tbody tr th {\n        vertical-align: top;\n    }\n\n    .dataframe thead th {\n        text-align: right;\n    }\n\u003c/style\u003e\n\u003ctable border=\"1\" class=\"dataframe\"\u003e\n  \u003cthead\u003e\n    \u003ctr style=\"text-align: right;\"\u003e\n      \u003cth\u003e\u003c/th\u003e\n      \u003cth\u003eseq_id\u003c/th\u003e\n      \u003cth\u003ehubway_id\u003c/th\u003e\n      \u003cth\u003estatus\u003c/th\u003e\n      \u003cth\u003eduration\u003c/th\u003e\n      \u003cth\u003estart_date\u003c/th\u003e\n      \u003cth\u003estrt_statn\u003c/th\u003e\n      \u003cth\u003eend_date\u003c/th\u003e\n      \u003cth\u003eend_statn\u003c/th\u003e\n      \u003cth\u003ebike_nr\u003c/th\u003e\n      \u003cth\u003esubsc_type\u003c/th\u003e\n      \u003cth\u003ezip_code\u003c/th\u003e\n      \u003cth\u003ebirth_date\u003c/th\u003e\n      \u003cth\u003egender\u003c/th\u003e\n      \u003cth\u003elat\u003c/th\u003e\n      \u003cth\u003elng\u003c/th\u003e\n    \u003c/tr\u003e\n  \u003c/thead\u003e\n  \u003ctbody\u003e\n    \u003ctr\u003e\n      \u003cth\u003e336967\u003c/th\u003e\n      \u003ctd\u003e336968\u003c/td\u003e\n      \u003ctd\u003e382289\u003c/td\u003e\n      \u003ctd\u003eClosed\u003c/td\u003e\n      \u003ctd\u003e1133\u003c/td\u003e\n      \u003ctd\u003e7/12/2012 16:59:00\u003c/td\u003e\n      \u003ctd\u003e64.0\u003c/td\u003e\n      \u003ctd\u003e7/12/2012 17:18:00\u003c/td\u003e\n      \u003ctd\u003e40.0\u003c/td\u003e\n      \u003ctd\u003eB00177\u003c/td\u003e\n      \u003ctd\u003eRegistered\u003c/td\u003e\n      \u003ctd\u003e'02339\u003c/td\u003e\n      \u003ctd\u003e1959.0\u003c/td\u003e\n      \u003ctd\u003eMale\u003c/td\u003e\n      \u003ctd\u003e42.351100\u003c/td\u003e\n      \u003ctd\u003e-71.049600\u003c/td\u003e\n    \u003c/tr\u003e\n    \u003ctr\u003e\n      \u003cth\u003e1228655\u003c/th\u003e\n      \u003ctd\u003e1228656\u003c/td\u003e\n      \u003ctd\u003e1375284\u003c/td\u003e\n      \u003ctd\u003eClosed\u003c/td\u003e\n      \u003ctd\u003e720\u003c/td\u003e\n      \u003ctd\u003e9/1/2013 18:31:00\u003c/td\u003e\n      \u003ctd\u003e36.0\u003c/td\u003e\n      \u003ctd\u003e9/1/2013 18:43:00\u003c/td\u003e\n      \u003ctd\u003e54.0\u003c/td\u003e\n      \u003ctd\u003eB00130\u003c/td\u003e\n      \u003ctd\u003eCasual\u003c/td\u003e\n      \u003ctd\u003eNaN\u003c/td\u003e\n      \u003ctd\u003eNaN\u003c/td\u003e\n      \u003ctd\u003eNaN\u003c/td\u003e\n      \u003ctd\u003e42.349673\u003c/td\u003e\n      \u003ctd\u003e-71.077303\u003c/td\u003e\n    \u003c/tr\u003e\n    \u003ctr\u003e\n      \u003cth\u003e1018544\u003c/th\u003e\n      \u003ctd\u003e1018545\u003c/td\u003e\n      \u003ctd\u003e1149209\u003c/td\u003e\n      \u003ctd\u003eClosed\u003c/td\u003e\n      \u003ctd\u003e780\u003c/td\u003e\n      \u003ctd\u003e7/17/2013 19:44:00\u003c/td\u003e\n      \u003ctd\u003e81.0\u003c/td\u003e\n      \u003ctd\u003e7/17/2013 19:57:00\u003c/td\u003e\n      \u003ctd\u003e53.0\u003c/td\u003e\n      \u003ctd\u003eT01324\u003c/td\u003e\n      \u003ctd\u003eRegistered\u003c/td\u003e\n      \u003ctd\u003e'02115\u003c/td\u003e\n      \u003ctd\u003eNaN\u003c/td\u003e\n      \u003ctd\u003eMale\u003c/td\u003e\n      \u003ctd\u003e42.352409\u003c/td\u003e\n      \u003ctd\u003e-71.062679\u003c/td\u003e\n    \u003c/tr\u003e\n    \u003ctr\u003e\n      \u003cth\u003e139915\u003c/th\u003e\n      \u003ctd\u003e139916\u003c/td\u003e\n      \u003ctd\u003e157009\u003c/td\u003e\n      \u003ctd\u003eClosed\u003c/td\u003e\n      \u003ctd\u003e926\u003c/td\u003e\n      \u003ctd\u003e11/29/2011 14:17:00\u003c/td\u003e\n      \u003ctd\u003e57.0\u003c/td\u003e\n      \u003ctd\u003e11/29/2011 14:32:00\u003c/td\u003e\n      \u003ctd\u003e22.0\u003c/td\u003e\n      \u003ctd\u003eB00499\u003c/td\u003e\n      \u003ctd\u003eCasual\u003c/td\u003e\n      \u003ctd\u003eNaN\u003c/td\u003e\n      \u003ctd\u003eNaN\u003c/td\u003e\n      \u003ctd\u003eNaN\u003c/td\u003e\n      \u003ctd\u003e42.340799\u003c/td\u003e\n      \u003ctd\u003e-71.081572\u003c/td\u003e\n    \u003c/tr\u003e\n    \u003ctr\u003e\n      \u003cth\u003e1263342\u003c/th\u003e\n      \u003ctd\u003e1263343\u003c/td\u003e\n      \u003ctd\u003e1412424\u003c/td\u003e\n      \u003ctd\u003eClosed\u003c/td\u003e\n      \u003ctd\u003e900\u003c/td\u003e\n      \u003ctd\u003e9/9/2013 14:00:00\u003c/td\u003e\n      \u003ctd\u003e42.0\u003c/td\u003e\n      \u003ctd\u003e9/9/2013 14:15:00\u003c/td\u003e\n      \u003ctd\u003e55.0\u003c/td\u003e\n      \u003ctd\u003eB00076\u003c/td\u003e\n      \u003ctd\u003eCasual\u003c/td\u003e\n      \u003ctd\u003eNaN\u003c/td\u003e\n      \u003ctd\u003eNaN\u003c/td\u003e\n      \u003ctd\u003eNaN\u003c/td\u003e\n      \u003ctd\u003e42.352096\u003c/td\u003e\n      \u003ctd\u003e-71.070378\u003c/td\u003e\n    \u003c/tr\u003e\n  \u003c/tbody\u003e\n\u003c/table\u003e\n\u003c/div\u003e",
                        "text/plain": "          seq_id  hubway_id  status  duration           start_date  \\\n336967    336968     382289  Closed      1133   7/12/2012 16:59:00   \n1228655  1228656    1375284  Closed       720    9/1/2013 18:31:00   \n1018544  1018545    1149209  Closed       780   7/17/2013 19:44:00   \n139915    139916     157009  Closed       926  11/29/2011 14:17:00   \n1263342  1263343    1412424  Closed       900    9/9/2013 14:00:00   \n\n         strt_statn             end_date  end_statn bike_nr  subsc_type  \\\n336967         64.0   7/12/2012 17:18:00       40.0  B00177  Registered   \n1228655        36.0    9/1/2013 18:43:00       54.0  B00130      Casual   \n1018544        81.0   7/17/2013 19:57:00       53.0  T01324  Registered   \n139915         57.0  11/29/2011 14:32:00       22.0  B00499      Casual   \n1263342        42.0    9/9/2013 14:15:00       55.0  B00076      Casual   \n\n        zip_code  birth_date gender        lat        lng  \n336967    '02339      1959.0   Male  42.351100 -71.049600  \n1228655      NaN         NaN    NaN  42.349673 -71.077303  \n1018544   '02115         NaN   Male  42.352409 -71.062679  \n139915       NaN         NaN    NaN  42.340799 -71.081572  \n1263342      NaN         NaN    NaN  42.352096 -71.070378  "
                    },
                    "execution_count": 7,
                    "metadata": {},
                    "output_type": "execute_result"
                }
            ],
            "source": [
                "# Sometimes the data is given to you in pieces and must be merged!\n",
                "# we want to combine the trips data with the station locations. pandas to the rescue... \n",
                "\n",
                "hubway_data_with_gps = hubway_data.join(station_data.set_index('id'), on='strt_statn')\n",
                "hubway_data_with_gps.head()"
            ]
        },
        {
            "attachments": {},
            "cell_type": "markdown",
            "metadata": {},
            "source": [
                "# \u003cimg style=\"width: 100%\" alt=\"Heatmap\" src=\"https://static.us.edusercontent.com/files/mRGDd7ddzN03xvXp4FZyKEc2\"\u003e"
            ]
        },
        {
            "attachments": {},
            "cell_type": "markdown",
            "metadata": {},
            "source": [
                "OK - we cheated above and we skip some of the code which generated this plot. "
            ]
        },
        {
            "attachments": {},
            "cell_type": "markdown",
            "metadata": {},
            "source": [
                "# When? When are the bikes being checked out?\n",
                "\n",
                "Refine into specific hypotheses:\n",
                "1. More during the weekend than on the weekdays?\n",
                "2. More during rush hour?\n",
                "3. More during the summer than the fall?\n",
                "\n",
                ""
            ]
        },
        {
            "cell_type": "code",
            "execution_count": 24,
            "metadata": {},
            "outputs": [],
            "source": [
                "# Sometimes the feature you want to explore doesn’t exist in the data, and must be engineered!\n",
                "\n",
                "\n",
                "# to find the time of the day we will use the start_date column and extrat the hours. \n",
                "# we use list comprehension\n",
                "# we will be doing a lot of those\n",
                "check_out_hours = hubway_data['start_date'].apply(lambda s: int(s[-8:-6]))"
            ]
        },
        {
            "cell_type": "code",
            "execution_count": 25,
            "metadata": {},
            "outputs": [],
            "source": [
                "fig, ax = plt.subplots(1, 1, figsize=(10, 5))\n",
                "\n",
                "check_out_counts = np.unique(check_out_hours, return_counts=True)\n",
                "ax.bar(check_out_counts[0], check_out_counts[1], align='center', width=0.4, alpha=0.6)\n",
                "ax.set_xlim([-1, 24])\n",
                "ax.set_xticks(range(24))\n",
                "ax.set_xlabel('Hour of Day')\n",
                "ax.set_ylabel('Number of Checkouts')\n",
                "ax.set_title('Time of Day vs Checkouts')\n",
                "\n",
                "plt.show()"
            ]
        },
        {
            "attachments": {},
            "cell_type": "markdown",
            "metadata": {},
            "source": [
                "# Why? For what reasons/activities are people checking out bikes?\n",
                "\n",
                "Refine into specific hypotheses:\n",
                "\n",
                "1. More bikes are used for recreation than commute?\n",
                "2. More bikes are used for touristic purposes?\n",
                "3. Bikes are use to bypass traffic?\n",
                "\n",
                "Do we have the data to answer these questions with reasonable certainty?\n",
                "What data do we need to collect in order to answer these questions?\n",
                ""
            ]
        },
        {
            "attachments": {},
            "cell_type": "markdown",
            "metadata": {},
            "source": [
                "# How? Questions that combine variables.\n",
                "\n",
                "1. How does user demographics impact the duration the bikes are being used? Or where they are being checked out?\n",
                "2. How does weather or traffic conditions impact bike usage?\n",
                "3. How do the characteristics of the station location affect the number of bikes being checked out?\n",
                "\n",
                "How questions are about modeling relationships between different variables.\n",
                ""
            ]
        },
        {
            "cell_type": "code",
            "execution_count": 1,
            "metadata": {},
            "outputs": [],
            "source": [
                "# Here we define the distance from a point as a python function. \n",
                "# We set Boston city center long and lat to be the default value.\n",
                "# you will become experts in building functions and using functions just like this \n",
                "\n",
                "def haversine(pt, lat2=42.355589, lon2=-71.060175):\n",
                "    \"\"\"\n",
                "    Calculate the great circle distance between two points \n",
                "    on the earth (specified in decimal degrees)\n",
                "    \"\"\"\n",
                "    lon1 = pt[0]\n",
                "    lat1 = pt[1]\n",
                "    \n",
                "    # convert decimal degrees to radians \n",
                "    lon1, lat1, lon2, lat2 = map(radians, [lon1, lat1, lon2, lat2])\n",
                "\n",
                "    # haversine formula \n",
                "    dlon = lon2 - lon1 \n",
                "    dlat = lat2 - lat1 \n",
                "    a = sin(dlat/2)**2 + cos(lat1) * cos(lat2) * sin(dlon/2)**2\n",
                "    c = 2 * asin(sqrt(a)) \n",
                "    r = 3956 # Radius of earth in miles\n",
                "    return c * r"
            ]
        },
        {
            "cell_type": "code",
            "execution_count": 27,
            "metadata": {},
            "outputs": [],
            "source": [
                "# use only the checkouts that we have gps location \n",
                "station_counts = np.unique(hubway_data_with_gps['strt_statn'].dropna(), return_counts=True)\n",
                "counts_df = pd.DataFrame({'id':station_counts[0], 'checkouts':station_counts[1]})\n",
                "counts_df = counts_df.join(station_data.set_index('id'), on='id')\n",
                "counts_df.head()"
            ]
        },
        {
            "cell_type": "code",
            "execution_count": 28,
            "metadata": {},
            "outputs": [],
            "source": [
                "# add to the pandas dataframe the distance using the function we defined above and using map \n",
                "counts_df.loc[:, 'dist_to_center'] = list(map(haversine, counts_df[['lng', 'lat']].values))\n",
                "counts_df.head()"
            ]
        },
        {
            "cell_type": "code",
            "execution_count": 29,
            "metadata": {},
            "outputs": [],
            "source": [
                "# we will use sklearn to fit a linear regression model \n",
                "# we will learn a lot about modeling and using sklearn\n",
                "reg_line = LinearRegression()\n",
                "reg_line.fit(counts_df['dist_to_center'].values.reshape((len(counts_df['dist_to_center']), 1)), counts_df['checkouts'].values)\n",
                "\n",
                "# use the fitted model to predict \n",
                "distances = np.linspace(counts_df['dist_to_center'].min(), counts_df['dist_to_center'].max(), 50)\n",
                ""
            ]
        },
        {
            "cell_type": "code",
            "execution_count": 30,
            "metadata": {},
            "outputs": [],
            "source": [
                "fig, ax = plt.subplots(1, 1, figsize=(10, 5))\n",
                "\n",
                "ax.scatter(counts_df['dist_to_center'].values, counts_df['checkouts'].values, label='data')\n",
                "\n",
                "ax.plot(distances, reg_line.predict(distances.reshape((len(distances), 1))), color='red', label='Regression Line')\n",
                "\n",
                "ax.set_xlabel('Distance to City Center (Miles)')\n",
                "ax.set_ylabel('Number of Checkouts')\n",
                "ax.set_title('Distance to City Center vs Checkouts')\n",
                "ax.legend()\n",
                "\n",
                ""
            ]
        },
        {
            "attachments": {},
            "cell_type": "markdown",
            "metadata": {},
            "source": [
                "# \u003cfont color='blue'\u003e Notice all axis are labeled, we used legends and titles when necessary. Also notice we commented our code. \u003c/font\u003e"
            ]
        },
        {
            "cell_type": "code",
            "execution_count": 31,
            "metadata": {},
            "outputs": [],
            "source": [
                ""
            ]
        },
        {
            "cell_type": "code",
            "execution_count": 32,
            "metadata": {},
            "outputs": [],
            "source": [
                ""
            ]
        }
    ]
}
